{
  "nbformat": 4,
  "nbformat_minor": 0,
  "metadata": {
    "colab": {
      "name": "Ejercicio5.ipynb",
      "provenance": [],
      "collapsed_sections": []
    },
    "kernelspec": {
      "name": "python3",
      "display_name": "Python 3"
    }
  },
  "cells": [
    {
      "cell_type": "markdown",
      "metadata": {
        "id": "T8FMpX5Qs_Tr"
      },
      "source": [
        "5- La Agencia Nacional de Estadísticas de Buenos Aires recolecta información de nacimientos cuando los padres registran a sus hijos en el registro civil a partir de una encuesta. Esa información se encuentra disponible para su análisis en un csv con el siguiente formato (dia_nacimiento, mes_nacimiento, anio_nacimiento, peso_al_nacer, longitud_al_nacer, id_hospital, tipo_parto), donde el tipo de parto 1 es natural y 2 es cesárea. \n",
        "Por otro lado la agencia cuenta con información histórica de los hospitales en otro csv con siguiente formato (id_hospital, dirección, promedio_nacimientos_mensual). Se pide usar Pandas para: \n",
        "\n",
        "* Calcular la cantidad de nacimientos para cada uno de los hospitales para el mes de Octubre de 2017 e indicar aquellos hospitales que superan el promedio de nacimientos mensuales. \n",
        "* Comparando el mes de Octubre de 2017 indicar programáticamente si se incremento el % de cesáreas con respecto a ese mes del año 2016.  \n"
      ]
    },
    {
      "cell_type": "code",
      "metadata": {
        "id": "iBPcurjGtV-C"
      },
      "source": [
        "import pandas as pd\n",
        "import numpy as np"
      ],
      "execution_count": null,
      "outputs": []
    },
    {
      "cell_type": "code",
      "metadata": {
        "id": "2D_-KS7FxFJg",
        "outputId": "bf1f9ec9-b726-4dd2-9e6a-b069fb19abad",
        "colab": {
          "base_uri": "https://localhost:8080/",
          "height": 770
        }
      },
      "source": [
        "df_nacimientos = pd.read_csv(\"/DataSets/nacimientos.csv\")\n",
        "df_nacimientos.dropna(inplace = True)\n",
        "display(df_nacimientos)\n",
        "\n",
        "df_hospitales = pd.read_csv(\"/DataSets/hospitales.csv\")\n",
        "df_hospitales.dropna(inplace = True)\n",
        "display(df_hospitales)"
      ],
      "execution_count": null,
      "outputs": [
        {
          "output_type": "display_data",
          "data": {
            "text/html": [
              "<div>\n",
              "<style scoped>\n",
              "    .dataframe tbody tr th:only-of-type {\n",
              "        vertical-align: middle;\n",
              "    }\n",
              "\n",
              "    .dataframe tbody tr th {\n",
              "        vertical-align: top;\n",
              "    }\n",
              "\n",
              "    .dataframe thead th {\n",
              "        text-align: right;\n",
              "    }\n",
              "</style>\n",
              "<table border=\"1\" class=\"dataframe\">\n",
              "  <thead>\n",
              "    <tr style=\"text-align: right;\">\n",
              "      <th></th>\n",
              "      <th>dia_nacimiento</th>\n",
              "      <th>mes_nacimiento</th>\n",
              "      <th>anio_nacimiento</th>\n",
              "      <th>peso_al_nacer</th>\n",
              "      <th>longitud_al_nacer</th>\n",
              "      <th>id_hospital</th>\n",
              "      <th>tipo_parto</th>\n",
              "    </tr>\n",
              "  </thead>\n",
              "  <tbody>\n",
              "    <tr>\n",
              "      <th>0</th>\n",
              "      <td>4</td>\n",
              "      <td>12</td>\n",
              "      <td>2017</td>\n",
              "      <td>4.0</td>\n",
              "      <td>72</td>\n",
              "      <td>9</td>\n",
              "      <td>2</td>\n",
              "    </tr>\n",
              "    <tr>\n",
              "      <th>1</th>\n",
              "      <td>13</td>\n",
              "      <td>11</td>\n",
              "      <td>2018</td>\n",
              "      <td>4.3</td>\n",
              "      <td>42</td>\n",
              "      <td>4</td>\n",
              "      <td>2</td>\n",
              "    </tr>\n",
              "    <tr>\n",
              "      <th>2</th>\n",
              "      <td>30</td>\n",
              "      <td>9</td>\n",
              "      <td>2016</td>\n",
              "      <td>3.3</td>\n",
              "      <td>65</td>\n",
              "      <td>10</td>\n",
              "      <td>2</td>\n",
              "    </tr>\n",
              "    <tr>\n",
              "      <th>3</th>\n",
              "      <td>13</td>\n",
              "      <td>9</td>\n",
              "      <td>2017</td>\n",
              "      <td>4.1</td>\n",
              "      <td>59</td>\n",
              "      <td>2</td>\n",
              "      <td>1</td>\n",
              "    </tr>\n",
              "    <tr>\n",
              "      <th>4</th>\n",
              "      <td>25</td>\n",
              "      <td>11</td>\n",
              "      <td>2017</td>\n",
              "      <td>4.3</td>\n",
              "      <td>43</td>\n",
              "      <td>8</td>\n",
              "      <td>1</td>\n",
              "    </tr>\n",
              "    <tr>\n",
              "      <th>...</th>\n",
              "      <td>...</td>\n",
              "      <td>...</td>\n",
              "      <td>...</td>\n",
              "      <td>...</td>\n",
              "      <td>...</td>\n",
              "      <td>...</td>\n",
              "      <td>...</td>\n",
              "    </tr>\n",
              "    <tr>\n",
              "      <th>95</th>\n",
              "      <td>14</td>\n",
              "      <td>9</td>\n",
              "      <td>2018</td>\n",
              "      <td>3.9</td>\n",
              "      <td>54</td>\n",
              "      <td>7</td>\n",
              "      <td>2</td>\n",
              "    </tr>\n",
              "    <tr>\n",
              "      <th>96</th>\n",
              "      <td>13</td>\n",
              "      <td>9</td>\n",
              "      <td>2016</td>\n",
              "      <td>4.0</td>\n",
              "      <td>64</td>\n",
              "      <td>4</td>\n",
              "      <td>2</td>\n",
              "    </tr>\n",
              "    <tr>\n",
              "      <th>97</th>\n",
              "      <td>26</td>\n",
              "      <td>11</td>\n",
              "      <td>2016</td>\n",
              "      <td>3.7</td>\n",
              "      <td>52</td>\n",
              "      <td>4</td>\n",
              "      <td>2</td>\n",
              "    </tr>\n",
              "    <tr>\n",
              "      <th>98</th>\n",
              "      <td>28</td>\n",
              "      <td>8</td>\n",
              "      <td>2018</td>\n",
              "      <td>4.0</td>\n",
              "      <td>70</td>\n",
              "      <td>2</td>\n",
              "      <td>2</td>\n",
              "    </tr>\n",
              "    <tr>\n",
              "      <th>99</th>\n",
              "      <td>18</td>\n",
              "      <td>9</td>\n",
              "      <td>2016</td>\n",
              "      <td>4.0</td>\n",
              "      <td>61</td>\n",
              "      <td>5</td>\n",
              "      <td>1</td>\n",
              "    </tr>\n",
              "  </tbody>\n",
              "</table>\n",
              "<p>100 rows × 7 columns</p>\n",
              "</div>"
            ],
            "text/plain": [
              "    dia_nacimiento  mes_nacimiento  ...  id_hospital  tipo_parto\n",
              "0                4              12  ...            9           2\n",
              "1               13              11  ...            4           2\n",
              "2               30               9  ...           10           2\n",
              "3               13               9  ...            2           1\n",
              "4               25              11  ...            8           1\n",
              "..             ...             ...  ...          ...         ...\n",
              "95              14               9  ...            7           2\n",
              "96              13               9  ...            4           2\n",
              "97              26              11  ...            4           2\n",
              "98              28               8  ...            2           2\n",
              "99              18               9  ...            5           1\n",
              "\n",
              "[100 rows x 7 columns]"
            ]
          },
          "metadata": {
            "tags": []
          }
        },
        {
          "output_type": "display_data",
          "data": {
            "text/html": [
              "<div>\n",
              "<style scoped>\n",
              "    .dataframe tbody tr th:only-of-type {\n",
              "        vertical-align: middle;\n",
              "    }\n",
              "\n",
              "    .dataframe tbody tr th {\n",
              "        vertical-align: top;\n",
              "    }\n",
              "\n",
              "    .dataframe thead th {\n",
              "        text-align: right;\n",
              "    }\n",
              "</style>\n",
              "<table border=\"1\" class=\"dataframe\">\n",
              "  <thead>\n",
              "    <tr style=\"text-align: right;\">\n",
              "      <th></th>\n",
              "      <th>id_hospital</th>\n",
              "      <th>direccion</th>\n",
              "      <th>promedio_nacimientos_mensual</th>\n",
              "    </tr>\n",
              "  </thead>\n",
              "  <tbody>\n",
              "    <tr>\n",
              "      <th>0</th>\n",
              "      <td>1</td>\n",
              "      <td>Apartado núm.: 864, 4888 Risus Avenida</td>\n",
              "      <td>62</td>\n",
              "    </tr>\n",
              "    <tr>\n",
              "      <th>1</th>\n",
              "      <td>2</td>\n",
              "      <td>912 Primis Avenida</td>\n",
              "      <td>70</td>\n",
              "    </tr>\n",
              "    <tr>\n",
              "      <th>2</th>\n",
              "      <td>3</td>\n",
              "      <td>9816 Amet Ctra.</td>\n",
              "      <td>82</td>\n",
              "    </tr>\n",
              "    <tr>\n",
              "      <th>3</th>\n",
              "      <td>4</td>\n",
              "      <td>Apartado núm.: 181, 355 Luctus Carretera</td>\n",
              "      <td>91</td>\n",
              "    </tr>\n",
              "    <tr>\n",
              "      <th>4</th>\n",
              "      <td>5</td>\n",
              "      <td>247-5917 Justo Avenida</td>\n",
              "      <td>24</td>\n",
              "    </tr>\n",
              "    <tr>\n",
              "      <th>5</th>\n",
              "      <td>6</td>\n",
              "      <td>Apartado núm.: 146, 3313 Augue Carretera</td>\n",
              "      <td>1</td>\n",
              "    </tr>\n",
              "    <tr>\n",
              "      <th>6</th>\n",
              "      <td>7</td>\n",
              "      <td>Apartado núm.: 698, 820 Accumsan Ctra.</td>\n",
              "      <td>93</td>\n",
              "    </tr>\n",
              "    <tr>\n",
              "      <th>7</th>\n",
              "      <td>8</td>\n",
              "      <td>9224 Pede, Av.</td>\n",
              "      <td>20</td>\n",
              "    </tr>\n",
              "    <tr>\n",
              "      <th>8</th>\n",
              "      <td>9</td>\n",
              "      <td>Apartado núm.: 541, 1389 Magnis Carretera</td>\n",
              "      <td>11</td>\n",
              "    </tr>\n",
              "    <tr>\n",
              "      <th>9</th>\n",
              "      <td>10</td>\n",
              "      <td>3136 Aenean Carretera</td>\n",
              "      <td>75</td>\n",
              "    </tr>\n",
              "  </tbody>\n",
              "</table>\n",
              "</div>"
            ],
            "text/plain": [
              "   id_hospital  ... promedio_nacimientos_mensual\n",
              "0            1  ...                           62\n",
              "1            2  ...                           70\n",
              "2            3  ...                           82\n",
              "3            4  ...                           91\n",
              "4            5  ...                           24\n",
              "5            6  ...                            1\n",
              "6            7  ...                           93\n",
              "7            8  ...                           20\n",
              "8            9  ...                           11\n",
              "9           10  ...                           75\n",
              "\n",
              "[10 rows x 3 columns]"
            ]
          },
          "metadata": {
            "tags": []
          }
        }
      ]
    },
    {
      "cell_type": "markdown",
      "metadata": {
        "id": "xFChnZNKxxhI"
      },
      "source": [
        "* Calcular la cantidad de nacimientos para cada uno de los hospitales para el mes de Octubre de 2017 e indicar aquellos hospitales que superan el promedio de nacimientos mensuales. \n",
        "\n",
        "Primero nos quedaremos solo con los nacimietos de la fecha que propone el enunciado."
      ]
    },
    {
      "cell_type": "code",
      "metadata": {
        "id": "EgoFFMwtyU4C",
        "outputId": "d6a5b30d-bb79-4989-ff96-9b450924281d",
        "colab": {
          "base_uri": "https://localhost:8080/",
          "height": 206
        }
      },
      "source": [
        "nacimietnosMesOctubre2017 = (df_nacimientos['mes_nacimiento'] == 10) & (df_nacimientos['anio_nacimiento'] == 2017)\n",
        "df_nacimientos_MesOctubre2017 = df_nacimientos[nacimietnosMesOctubre2017]\n",
        "df_nacimientos_MesOctubre2017"
      ],
      "execution_count": null,
      "outputs": [
        {
          "output_type": "execute_result",
          "data": {
            "text/html": [
              "<div>\n",
              "<style scoped>\n",
              "    .dataframe tbody tr th:only-of-type {\n",
              "        vertical-align: middle;\n",
              "    }\n",
              "\n",
              "    .dataframe tbody tr th {\n",
              "        vertical-align: top;\n",
              "    }\n",
              "\n",
              "    .dataframe thead th {\n",
              "        text-align: right;\n",
              "    }\n",
              "</style>\n",
              "<table border=\"1\" class=\"dataframe\">\n",
              "  <thead>\n",
              "    <tr style=\"text-align: right;\">\n",
              "      <th></th>\n",
              "      <th>dia_nacimiento</th>\n",
              "      <th>mes_nacimiento</th>\n",
              "      <th>anio_nacimiento</th>\n",
              "      <th>peso_al_nacer</th>\n",
              "      <th>longitud_al_nacer</th>\n",
              "      <th>id_hospital</th>\n",
              "      <th>tipo_parto</th>\n",
              "    </tr>\n",
              "  </thead>\n",
              "  <tbody>\n",
              "    <tr>\n",
              "      <th>10</th>\n",
              "      <td>24</td>\n",
              "      <td>10</td>\n",
              "      <td>2017</td>\n",
              "      <td>4.2</td>\n",
              "      <td>67</td>\n",
              "      <td>10</td>\n",
              "      <td>2</td>\n",
              "    </tr>\n",
              "    <tr>\n",
              "      <th>29</th>\n",
              "      <td>27</td>\n",
              "      <td>10</td>\n",
              "      <td>2017</td>\n",
              "      <td>4.0</td>\n",
              "      <td>62</td>\n",
              "      <td>8</td>\n",
              "      <td>1</td>\n",
              "    </tr>\n",
              "    <tr>\n",
              "      <th>41</th>\n",
              "      <td>1</td>\n",
              "      <td>10</td>\n",
              "      <td>2017</td>\n",
              "      <td>4.0</td>\n",
              "      <td>45</td>\n",
              "      <td>5</td>\n",
              "      <td>1</td>\n",
              "    </tr>\n",
              "    <tr>\n",
              "      <th>57</th>\n",
              "      <td>20</td>\n",
              "      <td>10</td>\n",
              "      <td>2017</td>\n",
              "      <td>3.5</td>\n",
              "      <td>56</td>\n",
              "      <td>1</td>\n",
              "      <td>2</td>\n",
              "    </tr>\n",
              "    <tr>\n",
              "      <th>64</th>\n",
              "      <td>20</td>\n",
              "      <td>10</td>\n",
              "      <td>2017</td>\n",
              "      <td>3.7</td>\n",
              "      <td>78</td>\n",
              "      <td>2</td>\n",
              "      <td>2</td>\n",
              "    </tr>\n",
              "  </tbody>\n",
              "</table>\n",
              "</div>"
            ],
            "text/plain": [
              "    dia_nacimiento  mes_nacimiento  ...  id_hospital  tipo_parto\n",
              "10              24              10  ...           10           2\n",
              "29              27              10  ...            8           1\n",
              "41               1              10  ...            5           1\n",
              "57              20              10  ...            1           2\n",
              "64              20              10  ...            2           2\n",
              "\n",
              "[5 rows x 7 columns]"
            ]
          },
          "metadata": {
            "tags": []
          },
          "execution_count": 110
        }
      ]
    },
    {
      "cell_type": "markdown",
      "metadata": {
        "id": "DIKtTcQWRuyH"
      },
      "source": [
        "Luego contaremos las cantidades de nacimientos para cada hospital."
      ]
    },
    {
      "cell_type": "code",
      "metadata": {
        "id": "bSeWi5jbRq1e",
        "outputId": "755bd109-5f4d-4310-a324-8a59fde26774",
        "colab": {
          "base_uri": "https://localhost:8080/",
          "height": 146
        }
      },
      "source": [
        "#Es necesario el compando rename ya que luego debemos hacer operaciones con esta lista\n",
        "cantidad_nacimientos = df_nacimientos_MesOctubre2017.groupby('id_hospital').size().rename('cantidad_nacimientos')\n",
        "cantidad_nacimientos"
      ],
      "execution_count": null,
      "outputs": [
        {
          "output_type": "execute_result",
          "data": {
            "text/plain": [
              "id_hospital\n",
              "1     1\n",
              "2     1\n",
              "5     1\n",
              "8     1\n",
              "10    1\n",
              "Name: cantidad_nacimientos, dtype: int64"
            ]
          },
          "metadata": {
            "tags": []
          },
          "execution_count": 111
        }
      ]
    },
    {
      "cell_type": "code",
      "metadata": {
        "id": "IhgFp1Ah4qBC",
        "outputId": "0b5ec211-0626-4a94-f2f8-dbfda0c0888d",
        "colab": {
          "base_uri": "https://localhost:8080/",
          "height": 206
        }
      },
      "source": [
        "df_merge = df_hospitales.merge(cantidad_nacimientos,on='id_hospital')\n",
        "df_merge"
      ],
      "execution_count": null,
      "outputs": [
        {
          "output_type": "execute_result",
          "data": {
            "text/html": [
              "<div>\n",
              "<style scoped>\n",
              "    .dataframe tbody tr th:only-of-type {\n",
              "        vertical-align: middle;\n",
              "    }\n",
              "\n",
              "    .dataframe tbody tr th {\n",
              "        vertical-align: top;\n",
              "    }\n",
              "\n",
              "    .dataframe thead th {\n",
              "        text-align: right;\n",
              "    }\n",
              "</style>\n",
              "<table border=\"1\" class=\"dataframe\">\n",
              "  <thead>\n",
              "    <tr style=\"text-align: right;\">\n",
              "      <th></th>\n",
              "      <th>id_hospital</th>\n",
              "      <th>direccion</th>\n",
              "      <th>promedio_nacimientos_mensual</th>\n",
              "      <th>cantidad_nacimientos</th>\n",
              "    </tr>\n",
              "  </thead>\n",
              "  <tbody>\n",
              "    <tr>\n",
              "      <th>0</th>\n",
              "      <td>1</td>\n",
              "      <td>Apartado núm.: 864, 4888 Risus Avenida</td>\n",
              "      <td>62</td>\n",
              "      <td>1</td>\n",
              "    </tr>\n",
              "    <tr>\n",
              "      <th>1</th>\n",
              "      <td>2</td>\n",
              "      <td>912 Primis Avenida</td>\n",
              "      <td>70</td>\n",
              "      <td>1</td>\n",
              "    </tr>\n",
              "    <tr>\n",
              "      <th>2</th>\n",
              "      <td>5</td>\n",
              "      <td>247-5917 Justo Avenida</td>\n",
              "      <td>24</td>\n",
              "      <td>1</td>\n",
              "    </tr>\n",
              "    <tr>\n",
              "      <th>3</th>\n",
              "      <td>8</td>\n",
              "      <td>9224 Pede, Av.</td>\n",
              "      <td>20</td>\n",
              "      <td>1</td>\n",
              "    </tr>\n",
              "    <tr>\n",
              "      <th>4</th>\n",
              "      <td>10</td>\n",
              "      <td>3136 Aenean Carretera</td>\n",
              "      <td>75</td>\n",
              "      <td>1</td>\n",
              "    </tr>\n",
              "  </tbody>\n",
              "</table>\n",
              "</div>"
            ],
            "text/plain": [
              "   id_hospital  ... cantidad_nacimientos\n",
              "0            1  ...                    1\n",
              "1            2  ...                    1\n",
              "2            5  ...                    1\n",
              "3            8  ...                    1\n",
              "4           10  ...                    1\n",
              "\n",
              "[5 rows x 4 columns]"
            ]
          },
          "metadata": {
            "tags": []
          },
          "execution_count": 112
        }
      ]
    },
    {
      "cell_type": "markdown",
      "metadata": {
        "id": "DPsSWznCSaM-"
      },
      "source": [
        "Vemos aqullos hospitales que cumplan con la condicion, luego nos quedaremos solo con las columnas importantes de estos. (*Se observa que ninguno cumple la condicion*) "
      ]
    },
    {
      "cell_type": "code",
      "metadata": {
        "id": "B6bp44Hj5rwB",
        "outputId": "7ac5a80d-d245-4467-b99a-f3439bbc5ceb",
        "colab": {
          "base_uri": "https://localhost:8080/",
          "height": 49
        }
      },
      "source": [
        "superan_promedio = df_merge['promedio_nacimientos_mensual'] < df_merge['cantidad_nacimientos']\n",
        "df_merge[superan_promedio][['id_hospital','direccion']]"
      ],
      "execution_count": null,
      "outputs": [
        {
          "output_type": "execute_result",
          "data": {
            "text/html": [
              "<div>\n",
              "<style scoped>\n",
              "    .dataframe tbody tr th:only-of-type {\n",
              "        vertical-align: middle;\n",
              "    }\n",
              "\n",
              "    .dataframe tbody tr th {\n",
              "        vertical-align: top;\n",
              "    }\n",
              "\n",
              "    .dataframe thead th {\n",
              "        text-align: right;\n",
              "    }\n",
              "</style>\n",
              "<table border=\"1\" class=\"dataframe\">\n",
              "  <thead>\n",
              "    <tr style=\"text-align: right;\">\n",
              "      <th></th>\n",
              "      <th>id_hospital</th>\n",
              "      <th>direccion</th>\n",
              "    </tr>\n",
              "  </thead>\n",
              "  <tbody>\n",
              "  </tbody>\n",
              "</table>\n",
              "</div>"
            ],
            "text/plain": [
              "Empty DataFrame\n",
              "Columns: [id_hospital, direccion]\n",
              "Index: []"
            ]
          },
          "metadata": {
            "tags": []
          },
          "execution_count": 113
        }
      ]
    },
    {
      "cell_type": "markdown",
      "metadata": {
        "id": "AJGHp0s3SeEZ"
      },
      "source": [
        "* Comparando el mes de Octubre de 2017 indicar programáticamente si se incremento el % de cesáreas con respecto a ese mes del año 2016.  "
      ]
    },
    {
      "cell_type": "markdown",
      "metadata": {
        "id": "621E3834Sm5S"
      },
      "source": [
        "Teniendo ya los nacimientos del mes de octubre de 2017 es facil obtener solo los que fueron por cesarea."
      ]
    },
    {
      "cell_type": "code",
      "metadata": {
        "id": "Tsb7lsiyStcz",
        "outputId": "146eeb5e-76a4-4caa-85ee-b75a143326d6",
        "colab": {
          "base_uri": "https://localhost:8080/",
          "height": 35
        }
      },
      "source": [
        "cesareas = df_nacimientos_MesOctubre2017['tipo_parto'] == 2\n",
        "df_nacimientos_MesOctubre2017_cesarea = df_nacimientos_MesOctubre2017[cesareas]\n",
        "cantidad2017 = len(df_nacimientos_MesOctubre2017_cesarea)\n",
        "cantidad2017"
      ],
      "execution_count": null,
      "outputs": [
        {
          "output_type": "execute_result",
          "data": {
            "text/plain": [
              "3"
            ]
          },
          "metadata": {
            "tags": []
          },
          "execution_count": 114
        }
      ]
    },
    {
      "cell_type": "markdown",
      "metadata": {
        "id": "puXql64rTnhU"
      },
      "source": [
        "Y hacemos lo mismo para el año 2016 del mismo año."
      ]
    },
    {
      "cell_type": "code",
      "metadata": {
        "id": "eu5DPF4LTrWY",
        "outputId": "6efd3d25-426c-4ac0-ed93-c87b7c01727f",
        "colab": {
          "base_uri": "https://localhost:8080/",
          "height": 394
        }
      },
      "source": [
        "nacimietnosMesOctubre2016 = (df_nacimientos['mes_nacimiento'] == 10) & (df_nacimientos['anio_nacimiento'] == 2016)\n",
        "df_nacimientos_MesOctubre2016 = df_nacimientos[nacimietnosMesOctubre2016]\n",
        "df_nacimientos_MesOctubre2016"
      ],
      "execution_count": null,
      "outputs": [
        {
          "output_type": "execute_result",
          "data": {
            "text/html": [
              "<div>\n",
              "<style scoped>\n",
              "    .dataframe tbody tr th:only-of-type {\n",
              "        vertical-align: middle;\n",
              "    }\n",
              "\n",
              "    .dataframe tbody tr th {\n",
              "        vertical-align: top;\n",
              "    }\n",
              "\n",
              "    .dataframe thead th {\n",
              "        text-align: right;\n",
              "    }\n",
              "</style>\n",
              "<table border=\"1\" class=\"dataframe\">\n",
              "  <thead>\n",
              "    <tr style=\"text-align: right;\">\n",
              "      <th></th>\n",
              "      <th>dia_nacimiento</th>\n",
              "      <th>mes_nacimiento</th>\n",
              "      <th>anio_nacimiento</th>\n",
              "      <th>peso_al_nacer</th>\n",
              "      <th>longitud_al_nacer</th>\n",
              "      <th>id_hospital</th>\n",
              "      <th>tipo_parto</th>\n",
              "    </tr>\n",
              "  </thead>\n",
              "  <tbody>\n",
              "    <tr>\n",
              "      <th>14</th>\n",
              "      <td>23</td>\n",
              "      <td>10</td>\n",
              "      <td>2016</td>\n",
              "      <td>3.8</td>\n",
              "      <td>56</td>\n",
              "      <td>4</td>\n",
              "      <td>2</td>\n",
              "    </tr>\n",
              "    <tr>\n",
              "      <th>21</th>\n",
              "      <td>11</td>\n",
              "      <td>10</td>\n",
              "      <td>2016</td>\n",
              "      <td>4.1</td>\n",
              "      <td>68</td>\n",
              "      <td>1</td>\n",
              "      <td>2</td>\n",
              "    </tr>\n",
              "    <tr>\n",
              "      <th>26</th>\n",
              "      <td>22</td>\n",
              "      <td>10</td>\n",
              "      <td>2016</td>\n",
              "      <td>4.1</td>\n",
              "      <td>61</td>\n",
              "      <td>10</td>\n",
              "      <td>1</td>\n",
              "    </tr>\n",
              "    <tr>\n",
              "      <th>31</th>\n",
              "      <td>2</td>\n",
              "      <td>10</td>\n",
              "      <td>2016</td>\n",
              "      <td>4.2</td>\n",
              "      <td>71</td>\n",
              "      <td>9</td>\n",
              "      <td>2</td>\n",
              "    </tr>\n",
              "    <tr>\n",
              "      <th>39</th>\n",
              "      <td>14</td>\n",
              "      <td>10</td>\n",
              "      <td>2016</td>\n",
              "      <td>4.2</td>\n",
              "      <td>69</td>\n",
              "      <td>1</td>\n",
              "      <td>2</td>\n",
              "    </tr>\n",
              "    <tr>\n",
              "      <th>44</th>\n",
              "      <td>20</td>\n",
              "      <td>10</td>\n",
              "      <td>2016</td>\n",
              "      <td>3.6</td>\n",
              "      <td>80</td>\n",
              "      <td>8</td>\n",
              "      <td>1</td>\n",
              "    </tr>\n",
              "    <tr>\n",
              "      <th>59</th>\n",
              "      <td>2</td>\n",
              "      <td>10</td>\n",
              "      <td>2016</td>\n",
              "      <td>3.6</td>\n",
              "      <td>70</td>\n",
              "      <td>8</td>\n",
              "      <td>1</td>\n",
              "    </tr>\n",
              "    <tr>\n",
              "      <th>62</th>\n",
              "      <td>27</td>\n",
              "      <td>10</td>\n",
              "      <td>2016</td>\n",
              "      <td>3.6</td>\n",
              "      <td>54</td>\n",
              "      <td>2</td>\n",
              "      <td>1</td>\n",
              "    </tr>\n",
              "    <tr>\n",
              "      <th>83</th>\n",
              "      <td>2</td>\n",
              "      <td>10</td>\n",
              "      <td>2016</td>\n",
              "      <td>3.8</td>\n",
              "      <td>45</td>\n",
              "      <td>7</td>\n",
              "      <td>2</td>\n",
              "    </tr>\n",
              "    <tr>\n",
              "      <th>88</th>\n",
              "      <td>22</td>\n",
              "      <td>10</td>\n",
              "      <td>2016</td>\n",
              "      <td>4.4</td>\n",
              "      <td>52</td>\n",
              "      <td>1</td>\n",
              "      <td>1</td>\n",
              "    </tr>\n",
              "    <tr>\n",
              "      <th>94</th>\n",
              "      <td>2</td>\n",
              "      <td>10</td>\n",
              "      <td>2016</td>\n",
              "      <td>3.6</td>\n",
              "      <td>61</td>\n",
              "      <td>7</td>\n",
              "      <td>1</td>\n",
              "    </tr>\n",
              "  </tbody>\n",
              "</table>\n",
              "</div>"
            ],
            "text/plain": [
              "    dia_nacimiento  mes_nacimiento  ...  id_hospital  tipo_parto\n",
              "14              23              10  ...            4           2\n",
              "21              11              10  ...            1           2\n",
              "26              22              10  ...           10           1\n",
              "31               2              10  ...            9           2\n",
              "39              14              10  ...            1           2\n",
              "44              20              10  ...            8           1\n",
              "59               2              10  ...            8           1\n",
              "62              27              10  ...            2           1\n",
              "83               2              10  ...            7           2\n",
              "88              22              10  ...            1           1\n",
              "94               2              10  ...            7           1\n",
              "\n",
              "[11 rows x 7 columns]"
            ]
          },
          "metadata": {
            "tags": []
          },
          "execution_count": 115
        }
      ]
    },
    {
      "cell_type": "code",
      "metadata": {
        "id": "NK0T_wfuT3mD",
        "outputId": "8d7d2336-619f-4944-a0a6-2112e2805bf1",
        "colab": {
          "base_uri": "https://localhost:8080/",
          "height": 35
        }
      },
      "source": [
        "df_nacimientos_MesOctubre2016_cesarea = df_nacimientos_MesOctubre2016[df_nacimientos_MesOctubre2016['tipo_parto'] == 2]\n",
        "cantidad2016 = len(df_nacimientos_MesOctubre2016_cesarea)\n",
        "cantidad2016"
      ],
      "execution_count": null,
      "outputs": [
        {
          "output_type": "execute_result",
          "data": {
            "text/plain": [
              "5"
            ]
          },
          "metadata": {
            "tags": []
          },
          "execution_count": 116
        }
      ]
    },
    {
      "cell_type": "code",
      "metadata": {
        "id": "mSzQ8xBSUGHq",
        "outputId": "143d6c22-b004-4840-b77e-f2a04723adbc",
        "colab": {
          "base_uri": "https://localhost:8080/",
          "height": 35
        }
      },
      "source": [
        "print(\"Se incremento el porcentaje de nacimientos por cesarea del año 2016 al 2017: \",cantidad2017>cantidad2016)"
      ],
      "execution_count": null,
      "outputs": [
        {
          "output_type": "stream",
          "text": [
            "Se incremento el porcentaje de nacimientos por cesarea del año 2016 al 2017:  False\n"
          ],
          "name": "stdout"
        }
      ]
    }
  ]
}