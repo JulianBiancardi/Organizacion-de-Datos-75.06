{
  "nbformat": 4,
  "nbformat_minor": 0,
  "metadata": {
    "colab": {
      "name": "Ejercicio6.ipynb",
      "provenance": [],
      "collapsed_sections": []
    },
    "kernelspec": {
      "name": "python3",
      "display_name": "Python 3"
    }
  },
  "cells": [
    {
      "cell_type": "markdown",
      "metadata": {
        "id": "1DDNIPToWwQv"
      },
      "source": [
        "\n",
        "6- El GCPD (Gotham City Police Dept) recolecta la información de casos policiales que acontecen en Ciudad Gótica. Esta información se encuentra guardada en un dataframe con el siguiente formato: (fecha, id_caso, descripcion, estado_caso, categoria, latitud, longitud). Los posibles estados que puede tener un caso son 1: caso abierto, 2: caso resuelto, 3: cerrado sin resolución. Las fechas se encuentran en el formato YYYY-MM-DD. Por otro lado el comisionado Gordon guarda un registro detallado sobre en cuáles casos fue activada la batiseñal para pedir ayuda del vigilante, Batman. Esta información se encuentra en un Dataframe con el siguiente formato (id_caso, respuesta), siendo campo respuesta si la señal tuvo una respuesta positiva (1) o negativa (0) de parte de él El sector encargado de las estadísticas oficiales del GCPD quiere con esta información analizar las siguientes situaciones: \n",
        "\n",
        "* Tasa de resolución de casos de la fuerza policial por categoría de caso (considerando aquellos casos en los que no participó Batman).\n",
        "* Tasa de resolución de casos con la ayuda de Batman (considerando que aquellos casos en los que fue llamado con la batiseñal, participó en la resolución). \n",
        "* Indicar el mes del año pasado en el que Batman tuvo mayor participación en la investigación de casos. \n"
      ]
    },
    {
      "cell_type": "code",
      "metadata": {
        "id": "jVwWs6AzW5pN"
      },
      "source": [
        "import pandas as pd\n",
        "import numpy as np\n",
        "\n",
        "#------------Constantes--------#\n",
        "BATMAN_NO_PARTICIPO = 0\n",
        "BATMAN_PARTICIPO = 1\n",
        "CASO_RESUELTO = 3"
      ],
      "execution_count": null,
      "outputs": []
    },
    {
      "cell_type": "code",
      "metadata": {
        "id": "uKNO01F4ZKAP",
        "outputId": "eb836d40-85a3-41aa-86f6-6f82a7ccb4ae",
        "colab": {
          "base_uri": "https://localhost:8080/",
          "height": 831
        }
      },
      "source": [
        "df_casos = pd.read_csv(\"/DataSets/casos.csv\")\n",
        "df_casos.dropna(inplace=True)\n",
        "display(df_casos)\n",
        "\n",
        "df_respuestas = pd.read_csv(\"/DataSets/respuestaBatman.csv\")\n",
        "df_respuestas.dropna(inplace=True)\n",
        "display(df_respuestas)\n"
      ],
      "execution_count": null,
      "outputs": [
        {
          "output_type": "display_data",
          "data": {
            "text/html": [
              "<div>\n",
              "<style scoped>\n",
              "    .dataframe tbody tr th:only-of-type {\n",
              "        vertical-align: middle;\n",
              "    }\n",
              "\n",
              "    .dataframe tbody tr th {\n",
              "        vertical-align: top;\n",
              "    }\n",
              "\n",
              "    .dataframe thead th {\n",
              "        text-align: right;\n",
              "    }\n",
              "</style>\n",
              "<table border=\"1\" class=\"dataframe\">\n",
              "  <thead>\n",
              "    <tr style=\"text-align: right;\">\n",
              "      <th></th>\n",
              "      <th>fecha</th>\n",
              "      <th>id_caso</th>\n",
              "      <th>descripcion</th>\n",
              "      <th>estado_caso</th>\n",
              "      <th>categoria</th>\n",
              "      <th>latitud</th>\n",
              "      <th>longitud</th>\n",
              "    </tr>\n",
              "  </thead>\n",
              "  <tbody>\n",
              "    <tr>\n",
              "      <th>0</th>\n",
              "      <td>2020/05/03/</td>\n",
              "      <td>100</td>\n",
              "      <td>vestibulum lorem, sit</td>\n",
              "      <td>2</td>\n",
              "      <td>asesinato</td>\n",
              "      <td>68</td>\n",
              "      <td>16</td>\n",
              "    </tr>\n",
              "    <tr>\n",
              "      <th>2</th>\n",
              "      <td>2020/02/02/</td>\n",
              "      <td>102</td>\n",
              "      <td>aliquet magna a neque. Nullam</td>\n",
              "      <td>2</td>\n",
              "      <td>secuestro</td>\n",
              "      <td>29</td>\n",
              "      <td>27</td>\n",
              "    </tr>\n",
              "    <tr>\n",
              "      <th>3</th>\n",
              "      <td>2020/05/13/</td>\n",
              "      <td>103</td>\n",
              "      <td>Sed</td>\n",
              "      <td>2</td>\n",
              "      <td>secuestro</td>\n",
              "      <td>58</td>\n",
              "      <td>48</td>\n",
              "    </tr>\n",
              "    <tr>\n",
              "      <th>5</th>\n",
              "      <td>2019/10/29/</td>\n",
              "      <td>105</td>\n",
              "      <td>ipsum. Donec sollicitudin adipiscing</td>\n",
              "      <td>3</td>\n",
              "      <td>secuestro</td>\n",
              "      <td>65</td>\n",
              "      <td>90</td>\n",
              "    </tr>\n",
              "    <tr>\n",
              "      <th>7</th>\n",
              "      <td>2020/04/08/</td>\n",
              "      <td>107</td>\n",
              "      <td>lobortis quam</td>\n",
              "      <td>2</td>\n",
              "      <td>secuestro</td>\n",
              "      <td>60</td>\n",
              "      <td>32</td>\n",
              "    </tr>\n",
              "    <tr>\n",
              "      <th>...</th>\n",
              "      <td>...</td>\n",
              "      <td>...</td>\n",
              "      <td>...</td>\n",
              "      <td>...</td>\n",
              "      <td>...</td>\n",
              "      <td>...</td>\n",
              "      <td>...</td>\n",
              "    </tr>\n",
              "    <tr>\n",
              "      <th>93</th>\n",
              "      <td>2019/11/10/</td>\n",
              "      <td>193</td>\n",
              "      <td>per inceptos hymenaeos. Mauris ut</td>\n",
              "      <td>2</td>\n",
              "      <td>asesinato</td>\n",
              "      <td>77</td>\n",
              "      <td>19</td>\n",
              "    </tr>\n",
              "    <tr>\n",
              "      <th>94</th>\n",
              "      <td>2020/02/04/</td>\n",
              "      <td>194</td>\n",
              "      <td>Suspendisse non leo. Vivamus</td>\n",
              "      <td>2</td>\n",
              "      <td>asesinato</td>\n",
              "      <td>51</td>\n",
              "      <td>74</td>\n",
              "    </tr>\n",
              "    <tr>\n",
              "      <th>96</th>\n",
              "      <td>2020/07/02/</td>\n",
              "      <td>196</td>\n",
              "      <td>leo, in</td>\n",
              "      <td>3</td>\n",
              "      <td>secuestro</td>\n",
              "      <td>75</td>\n",
              "      <td>30</td>\n",
              "    </tr>\n",
              "    <tr>\n",
              "      <th>98</th>\n",
              "      <td>2020/03/20/</td>\n",
              "      <td>198</td>\n",
              "      <td>velit justo nec ante.</td>\n",
              "      <td>2</td>\n",
              "      <td>robo</td>\n",
              "      <td>85</td>\n",
              "      <td>87</td>\n",
              "    </tr>\n",
              "    <tr>\n",
              "      <th>99</th>\n",
              "      <td>2020/06/03/</td>\n",
              "      <td>199</td>\n",
              "      <td>in,</td>\n",
              "      <td>2</td>\n",
              "      <td>robo</td>\n",
              "      <td>35</td>\n",
              "      <td>78</td>\n",
              "    </tr>\n",
              "  </tbody>\n",
              "</table>\n",
              "<p>76 rows × 7 columns</p>\n",
              "</div>"
            ],
            "text/plain": [
              "          fecha  id_caso  ... latitud  longitud\n",
              "0   2020/05/03/      100  ...      68        16\n",
              "2   2020/02/02/      102  ...      29        27\n",
              "3   2020/05/13/      103  ...      58        48\n",
              "5   2019/10/29/      105  ...      65        90\n",
              "7   2020/04/08/      107  ...      60        32\n",
              "..          ...      ...  ...     ...       ...\n",
              "93  2019/11/10/      193  ...      77        19\n",
              "94  2020/02/04/      194  ...      51        74\n",
              "96  2020/07/02/      196  ...      75        30\n",
              "98  2020/03/20/      198  ...      85        87\n",
              "99  2020/06/03/      199  ...      35        78\n",
              "\n",
              "[76 rows x 7 columns]"
            ]
          },
          "metadata": {
            "tags": []
          }
        },
        {
          "output_type": "display_data",
          "data": {
            "text/html": [
              "<div>\n",
              "<style scoped>\n",
              "    .dataframe tbody tr th:only-of-type {\n",
              "        vertical-align: middle;\n",
              "    }\n",
              "\n",
              "    .dataframe tbody tr th {\n",
              "        vertical-align: top;\n",
              "    }\n",
              "\n",
              "    .dataframe thead th {\n",
              "        text-align: right;\n",
              "    }\n",
              "</style>\n",
              "<table border=\"1\" class=\"dataframe\">\n",
              "  <thead>\n",
              "    <tr style=\"text-align: right;\">\n",
              "      <th></th>\n",
              "      <th>id_caso</th>\n",
              "      <th>respuesta</th>\n",
              "    </tr>\n",
              "  </thead>\n",
              "  <tbody>\n",
              "    <tr>\n",
              "      <th>0</th>\n",
              "      <td>100</td>\n",
              "      <td>0</td>\n",
              "    </tr>\n",
              "    <tr>\n",
              "      <th>1</th>\n",
              "      <td>101</td>\n",
              "      <td>0</td>\n",
              "    </tr>\n",
              "    <tr>\n",
              "      <th>2</th>\n",
              "      <td>102</td>\n",
              "      <td>0</td>\n",
              "    </tr>\n",
              "    <tr>\n",
              "      <th>3</th>\n",
              "      <td>103</td>\n",
              "      <td>0</td>\n",
              "    </tr>\n",
              "    <tr>\n",
              "      <th>4</th>\n",
              "      <td>104</td>\n",
              "      <td>1</td>\n",
              "    </tr>\n",
              "    <tr>\n",
              "      <th>...</th>\n",
              "      <td>...</td>\n",
              "      <td>...</td>\n",
              "    </tr>\n",
              "    <tr>\n",
              "      <th>95</th>\n",
              "      <td>195</td>\n",
              "      <td>1</td>\n",
              "    </tr>\n",
              "    <tr>\n",
              "      <th>96</th>\n",
              "      <td>196</td>\n",
              "      <td>0</td>\n",
              "    </tr>\n",
              "    <tr>\n",
              "      <th>97</th>\n",
              "      <td>197</td>\n",
              "      <td>1</td>\n",
              "    </tr>\n",
              "    <tr>\n",
              "      <th>98</th>\n",
              "      <td>198</td>\n",
              "      <td>0</td>\n",
              "    </tr>\n",
              "    <tr>\n",
              "      <th>99</th>\n",
              "      <td>199</td>\n",
              "      <td>1</td>\n",
              "    </tr>\n",
              "  </tbody>\n",
              "</table>\n",
              "<p>100 rows × 2 columns</p>\n",
              "</div>"
            ],
            "text/plain": [
              "    id_caso  respuesta\n",
              "0       100          0\n",
              "1       101          0\n",
              "2       102          0\n",
              "3       103          0\n",
              "4       104          1\n",
              "..      ...        ...\n",
              "95      195          1\n",
              "96      196          0\n",
              "97      197          1\n",
              "98      198          0\n",
              "99      199          1\n",
              "\n",
              "[100 rows x 2 columns]"
            ]
          },
          "metadata": {
            "tags": []
          }
        }
      ]
    },
    {
      "cell_type": "markdown",
      "metadata": {
        "id": "bW4gblgQZiov"
      },
      "source": [
        "* Tasa de resolución de casos de la fuerza policial por categoría de caso (considerando aquellos casos en los que no participó Batman)."
      ]
    },
    {
      "cell_type": "markdown",
      "metadata": {
        "id": "KDmgDeKpeSAd"
      },
      "source": [
        "Primero debemos quedarnos con aquellos casos en ls que Bataman no participo. Para esto veremos en el df_respuestas aquellas filas que tengan como respuesta 0 de batman.\n",
        "Luego de haber hecho esto, uniremos ambos df y nos quedaremos solo con los que cumplan la condicion de que batman no haya respondido el caso."
      ]
    },
    {
      "cell_type": "code",
      "metadata": {
        "id": "sHQrjvXkehc8",
        "outputId": "b05fbb9c-d03b-47e3-a7eb-bc97c383fb99",
        "colab": {
          "base_uri": "https://localhost:8080/",
          "height": 206
        }
      },
      "source": [
        "df_batman_no_participa = df_respuestas[df_respuestas['respuesta'] == BATMAN_NO_PARTICIPO]\n",
        "df_merge = df_casos.merge(df_batman_no_participa,how='left',on='id_caso').dropna()\n",
        "df_merge.head()"
      ],
      "execution_count": null,
      "outputs": [
        {
          "output_type": "execute_result",
          "data": {
            "text/html": [
              "<div>\n",
              "<style scoped>\n",
              "    .dataframe tbody tr th:only-of-type {\n",
              "        vertical-align: middle;\n",
              "    }\n",
              "\n",
              "    .dataframe tbody tr th {\n",
              "        vertical-align: top;\n",
              "    }\n",
              "\n",
              "    .dataframe thead th {\n",
              "        text-align: right;\n",
              "    }\n",
              "</style>\n",
              "<table border=\"1\" class=\"dataframe\">\n",
              "  <thead>\n",
              "    <tr style=\"text-align: right;\">\n",
              "      <th></th>\n",
              "      <th>fecha</th>\n",
              "      <th>id_caso</th>\n",
              "      <th>descripcion</th>\n",
              "      <th>estado_caso</th>\n",
              "      <th>categoria</th>\n",
              "      <th>latitud</th>\n",
              "      <th>longitud</th>\n",
              "      <th>respuesta</th>\n",
              "    </tr>\n",
              "  </thead>\n",
              "  <tbody>\n",
              "    <tr>\n",
              "      <th>0</th>\n",
              "      <td>2020/05/03/</td>\n",
              "      <td>100</td>\n",
              "      <td>vestibulum lorem, sit</td>\n",
              "      <td>2</td>\n",
              "      <td>asesinato</td>\n",
              "      <td>68</td>\n",
              "      <td>16</td>\n",
              "      <td>0.0</td>\n",
              "    </tr>\n",
              "    <tr>\n",
              "      <th>1</th>\n",
              "      <td>2020/02/02/</td>\n",
              "      <td>102</td>\n",
              "      <td>aliquet magna a neque. Nullam</td>\n",
              "      <td>2</td>\n",
              "      <td>secuestro</td>\n",
              "      <td>29</td>\n",
              "      <td>27</td>\n",
              "      <td>0.0</td>\n",
              "    </tr>\n",
              "    <tr>\n",
              "      <th>2</th>\n",
              "      <td>2020/05/13/</td>\n",
              "      <td>103</td>\n",
              "      <td>Sed</td>\n",
              "      <td>2</td>\n",
              "      <td>secuestro</td>\n",
              "      <td>58</td>\n",
              "      <td>48</td>\n",
              "      <td>0.0</td>\n",
              "    </tr>\n",
              "    <tr>\n",
              "      <th>4</th>\n",
              "      <td>2020/04/08/</td>\n",
              "      <td>107</td>\n",
              "      <td>lobortis quam</td>\n",
              "      <td>2</td>\n",
              "      <td>secuestro</td>\n",
              "      <td>60</td>\n",
              "      <td>32</td>\n",
              "      <td>0.0</td>\n",
              "    </tr>\n",
              "    <tr>\n",
              "      <th>6</th>\n",
              "      <td>2020/05/06/</td>\n",
              "      <td>110</td>\n",
              "      <td>mauris ut mi.</td>\n",
              "      <td>2</td>\n",
              "      <td>robo</td>\n",
              "      <td>77</td>\n",
              "      <td>98</td>\n",
              "      <td>0.0</td>\n",
              "    </tr>\n",
              "  </tbody>\n",
              "</table>\n",
              "</div>"
            ],
            "text/plain": [
              "         fecha  id_caso  ... longitud  respuesta\n",
              "0  2020/05/03/      100  ...       16        0.0\n",
              "1  2020/02/02/      102  ...       27        0.0\n",
              "2  2020/05/13/      103  ...       48        0.0\n",
              "4  2020/04/08/      107  ...       32        0.0\n",
              "6  2020/05/06/      110  ...       98        0.0\n",
              "\n",
              "[5 rows x 8 columns]"
            ]
          },
          "metadata": {
            "tags": []
          },
          "execution_count": 19
        }
      ]
    },
    {
      "cell_type": "markdown",
      "metadata": {
        "id": "6STJFkI8ZreF"
      },
      "source": [
        "Siguiendo debemos separar por las diferentes categorias de casos que tiene el df."
      ]
    },
    {
      "cell_type": "code",
      "metadata": {
        "id": "8EK1gdNdbCjD",
        "outputId": "c15c0598-4a98-4d0c-efe2-35f23b3c3ca6",
        "colab": {
          "base_uri": "https://localhost:8080/",
          "height": 109
        }
      },
      "source": [
        "df_merge.groupby('categoria')['estado_caso'].agg(lambda x: (x == CASO_RESUELTO).mean()).rename('tasa de resolución')"
      ],
      "execution_count": null,
      "outputs": [
        {
          "output_type": "execute_result",
          "data": {
            "text/plain": [
              "categoria\n",
              "asesinato    0.111111\n",
              "robo         0.500000\n",
              "secuestro    0.235294\n",
              "Name: tasa de resolución, dtype: float64"
            ]
          },
          "metadata": {
            "tags": []
          },
          "execution_count": 20
        }
      ]
    },
    {
      "cell_type": "markdown",
      "metadata": {
        "id": "yw8be5AJgIOM"
      },
      "source": [
        "* Tasa de resolución de casos con la ayuda de Batman (considerando que aquellos casos en los que fue llamado con la batiseñal, participó en la resolución). "
      ]
    },
    {
      "cell_type": "markdown",
      "metadata": {
        "id": "orNIL58MgKfe"
      },
      "source": [
        "Similar a lo que hicimos anteriormente, salvo que no debemos agrupar por las distintas categorias."
      ]
    },
    {
      "cell_type": "code",
      "metadata": {
        "id": "ClskR-MpgOi-",
        "outputId": "592ad81f-8bb0-474b-b644-05dea16a4490",
        "colab": {
          "base_uri": "https://localhost:8080/",
          "height": 206
        }
      },
      "source": [
        "df_participa_batman = df_respuestas[df_respuestas['respuesta'] == BATMAN_PARTICIPO]\n",
        "df_merge2 = df_casos.merge(df_participa_batman,how='left',on='id_caso').dropna()\n",
        "df_merge2.head()"
      ],
      "execution_count": null,
      "outputs": [
        {
          "output_type": "execute_result",
          "data": {
            "text/html": [
              "<div>\n",
              "<style scoped>\n",
              "    .dataframe tbody tr th:only-of-type {\n",
              "        vertical-align: middle;\n",
              "    }\n",
              "\n",
              "    .dataframe tbody tr th {\n",
              "        vertical-align: top;\n",
              "    }\n",
              "\n",
              "    .dataframe thead th {\n",
              "        text-align: right;\n",
              "    }\n",
              "</style>\n",
              "<table border=\"1\" class=\"dataframe\">\n",
              "  <thead>\n",
              "    <tr style=\"text-align: right;\">\n",
              "      <th></th>\n",
              "      <th>fecha</th>\n",
              "      <th>id_caso</th>\n",
              "      <th>descripcion</th>\n",
              "      <th>estado_caso</th>\n",
              "      <th>categoria</th>\n",
              "      <th>latitud</th>\n",
              "      <th>longitud</th>\n",
              "      <th>respuesta</th>\n",
              "    </tr>\n",
              "  </thead>\n",
              "  <tbody>\n",
              "    <tr>\n",
              "      <th>3</th>\n",
              "      <td>2019/10/29/</td>\n",
              "      <td>105</td>\n",
              "      <td>ipsum. Donec sollicitudin adipiscing</td>\n",
              "      <td>3</td>\n",
              "      <td>secuestro</td>\n",
              "      <td>65</td>\n",
              "      <td>90</td>\n",
              "      <td>1.0</td>\n",
              "    </tr>\n",
              "    <tr>\n",
              "      <th>5</th>\n",
              "      <td>2020/06/11/</td>\n",
              "      <td>108</td>\n",
              "      <td>ante bibendum ullamcorper. Duis</td>\n",
              "      <td>1</td>\n",
              "      <td>secuestro</td>\n",
              "      <td>92</td>\n",
              "      <td>84</td>\n",
              "      <td>1.0</td>\n",
              "    </tr>\n",
              "    <tr>\n",
              "      <th>7</th>\n",
              "      <td>2020/07/10/</td>\n",
              "      <td>111</td>\n",
              "      <td>ipsum leo elementum</td>\n",
              "      <td>1</td>\n",
              "      <td>secuestro</td>\n",
              "      <td>29</td>\n",
              "      <td>77</td>\n",
              "      <td>1.0</td>\n",
              "    </tr>\n",
              "    <tr>\n",
              "      <th>11</th>\n",
              "      <td>2019/11/19/</td>\n",
              "      <td>118</td>\n",
              "      <td>dignissim tempor</td>\n",
              "      <td>3</td>\n",
              "      <td>asesinato</td>\n",
              "      <td>49</td>\n",
              "      <td>79</td>\n",
              "      <td>1.0</td>\n",
              "    </tr>\n",
              "    <tr>\n",
              "      <th>14</th>\n",
              "      <td>2020/05/28/</td>\n",
              "      <td>121</td>\n",
              "      <td>vitae,</td>\n",
              "      <td>2</td>\n",
              "      <td>secuestro</td>\n",
              "      <td>83</td>\n",
              "      <td>99</td>\n",
              "      <td>1.0</td>\n",
              "    </tr>\n",
              "  </tbody>\n",
              "</table>\n",
              "</div>"
            ],
            "text/plain": [
              "          fecha  id_caso  ... longitud  respuesta\n",
              "3   2019/10/29/      105  ...       90        1.0\n",
              "5   2020/06/11/      108  ...       84        1.0\n",
              "7   2020/07/10/      111  ...       77        1.0\n",
              "11  2019/11/19/      118  ...       79        1.0\n",
              "14  2020/05/28/      121  ...       99        1.0\n",
              "\n",
              "[5 rows x 8 columns]"
            ]
          },
          "metadata": {
            "tags": []
          },
          "execution_count": 21
        }
      ]
    },
    {
      "cell_type": "code",
      "metadata": {
        "id": "kHq15g7-Lar2",
        "outputId": "dd81969a-38f0-48b3-a598-bf84bcae9b43",
        "colab": {
          "base_uri": "https://localhost:8080/",
          "height": 35
        }
      },
      "source": [
        "cantidad_casos_totales = len(df_merge2['estado_caso'])\n",
        "casos_resueltos = len(df_merge2[df_merge2['estado_caso'] == CASO_RESUELTO])\n",
        "print(\"La tasa de casos resueltos es de : \",round(casos_resueltos / cantidad_casos_totales,2),\"%\")"
      ],
      "execution_count": null,
      "outputs": [
        {
          "output_type": "stream",
          "text": [
            "La tasa de casos resueltos es de :  0.42 %\n"
          ],
          "name": "stdout"
        }
      ]
    },
    {
      "cell_type": "markdown",
      "metadata": {
        "id": "hIuFNDTJMf7k"
      },
      "source": [
        "Otra forma de resolverlo"
      ]
    },
    {
      "cell_type": "code",
      "metadata": {
        "id": "szz_MZxOhQN5",
        "outputId": "b4a59788-147d-40ca-e4e9-ba18cd396849",
        "colab": {
          "base_uri": "https://localhost:8080/",
          "height": 35
        }
      },
      "source": [
        "df_merge2['estado_caso'].apply(lambda x: x==CASO_RESUELTO).mean()"
      ],
      "execution_count": null,
      "outputs": [
        {
          "output_type": "execute_result",
          "data": {
            "text/plain": [
              "0.4166666666666667"
            ]
          },
          "metadata": {
            "tags": []
          },
          "execution_count": 23
        }
      ]
    },
    {
      "cell_type": "markdown",
      "metadata": {
        "id": "eqyLFMzpiqNH"
      },
      "source": [
        "* Indicar el mes del año pasado en el que Batman tuvo mayor participación en la investigación de casos. "
      ]
    }
  ]
}