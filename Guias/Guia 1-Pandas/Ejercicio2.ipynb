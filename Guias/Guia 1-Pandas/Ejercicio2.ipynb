{
  "nbformat": 4,
  "nbformat_minor": 0,
  "metadata": {
    "colab": {
      "name": "Ejercicio2.ipynb",
      "provenance": [],
      "collapsed_sections": []
    },
    "kernelspec": {
      "name": "python3",
      "display_name": "Python 3"
    }
  },
  "cells": [
    {
      "cell_type": "markdown",
      "metadata": {
        "id": "GD6JO0aDvBXO"
      },
      "source": [
        "\n",
        "2- Se tiene un registro de transacciones bancarias, de la forma (nro de transacción, tipo de transacción, cuenta origen, cuenta destino, fecha, hora, monto). Se pide resolver en Pandas:\n",
        "\n",
        "* Validar que todas las transacciones cuenten con un tipo de transacción.\n",
        "* Validar que para las transacciones del tipo transferencia, exista siempre tanto cuenta origen como cuenta destino.\n",
        "* Verificar que todas las transacciones del tipo transferencia, depósito y extracción cuenten con montos distintos de cero.\n",
        "* Indicar cuáles fueron las 10 transacciones de mayor monto.\n",
        "* Indicar cuál es el tipo de transacción que registra mayor monto promedio.\n",
        "* Indicar cuáles son las 5 cuentas con mayor cantidad de transacciones.\n",
        "* Indicar cuáles son las 5 cuentas con mayor monto involucrado.\n",
        "* Para el tipo de transacción con mayor cantidad de monto promedio, indicar cuales son las 5 cuentas con más transacciones.\n"
      ]
    },
    {
      "cell_type": "code",
      "metadata": {
        "id": "dW8jl4iDIb3l"
      },
      "source": [
        "import pandas as pd\n",
        "import numpy as np"
      ],
      "execution_count": null,
      "outputs": []
    },
    {
      "cell_type": "code",
      "metadata": {
        "id": "V9g6VlNIvNd9",
        "outputId": "7825b83d-8fc0-4720-d5d1-231b1b566149",
        "colab": {
          "base_uri": "https://localhost:8080/",
          "height": 424
        }
      },
      "source": [
        "df_transacciones = pd.read_csv(\"/DataSets/transacciones.csv\")\n",
        "df_transacciones"
      ],
      "execution_count": null,
      "outputs": [
        {
          "output_type": "execute_result",
          "data": {
            "text/html": [
              "<div>\n",
              "<style scoped>\n",
              "    .dataframe tbody tr th:only-of-type {\n",
              "        vertical-align: middle;\n",
              "    }\n",
              "\n",
              "    .dataframe tbody tr th {\n",
              "        vertical-align: top;\n",
              "    }\n",
              "\n",
              "    .dataframe thead th {\n",
              "        text-align: right;\n",
              "    }\n",
              "</style>\n",
              "<table border=\"1\" class=\"dataframe\">\n",
              "  <thead>\n",
              "    <tr style=\"text-align: right;\">\n",
              "      <th></th>\n",
              "      <th>numero</th>\n",
              "      <th>tipo</th>\n",
              "      <th>cuenta_origen</th>\n",
              "      <th>cuenta_destino</th>\n",
              "      <th>fecha</th>\n",
              "      <th>monto</th>\n",
              "    </tr>\n",
              "  </thead>\n",
              "  <tbody>\n",
              "    <tr>\n",
              "      <th>0</th>\n",
              "      <td>991</td>\n",
              "      <td>deposito</td>\n",
              "      <td>18975</td>\n",
              "      <td>15998</td>\n",
              "      <td>18/09/2002</td>\n",
              "      <td>801947</td>\n",
              "    </tr>\n",
              "    <tr>\n",
              "      <th>1</th>\n",
              "      <td>1033</td>\n",
              "      <td>transferencia</td>\n",
              "      <td>19109</td>\n",
              "      <td>12682</td>\n",
              "      <td>05/06/2014</td>\n",
              "      <td>563267</td>\n",
              "    </tr>\n",
              "    <tr>\n",
              "      <th>2</th>\n",
              "      <td>1001</td>\n",
              "      <td>deposito</td>\n",
              "      <td>12754</td>\n",
              "      <td>12288</td>\n",
              "      <td>25/01/2018</td>\n",
              "      <td>379980</td>\n",
              "    </tr>\n",
              "    <tr>\n",
              "      <th>3</th>\n",
              "      <td>1023</td>\n",
              "      <td>NaN</td>\n",
              "      <td>18075</td>\n",
              "      <td>13369</td>\n",
              "      <td>24/10/2008</td>\n",
              "      <td>832748</td>\n",
              "    </tr>\n",
              "    <tr>\n",
              "      <th>4</th>\n",
              "      <td>1002</td>\n",
              "      <td>transferencia</td>\n",
              "      <td>17053</td>\n",
              "      <td>18601</td>\n",
              "      <td>24/07/2014</td>\n",
              "      <td>781484</td>\n",
              "    </tr>\n",
              "    <tr>\n",
              "      <th>...</th>\n",
              "      <td>...</td>\n",
              "      <td>...</td>\n",
              "      <td>...</td>\n",
              "      <td>...</td>\n",
              "      <td>...</td>\n",
              "      <td>...</td>\n",
              "    </tr>\n",
              "    <tr>\n",
              "      <th>95</th>\n",
              "      <td>1024</td>\n",
              "      <td>deposito</td>\n",
              "      <td>17343</td>\n",
              "      <td>12064</td>\n",
              "      <td>27/08/2017</td>\n",
              "      <td>15959</td>\n",
              "    </tr>\n",
              "    <tr>\n",
              "      <th>96</th>\n",
              "      <td>1006</td>\n",
              "      <td>extracion</td>\n",
              "      <td>19012</td>\n",
              "      <td>15519</td>\n",
              "      <td>13/02/2016</td>\n",
              "      <td>592950</td>\n",
              "    </tr>\n",
              "    <tr>\n",
              "      <th>97</th>\n",
              "      <td>1027</td>\n",
              "      <td>extracion</td>\n",
              "      <td>12133</td>\n",
              "      <td>14223</td>\n",
              "      <td>28/01/2011</td>\n",
              "      <td>68706</td>\n",
              "    </tr>\n",
              "    <tr>\n",
              "      <th>98</th>\n",
              "      <td>1010</td>\n",
              "      <td>deposito</td>\n",
              "      <td>11427</td>\n",
              "      <td>12147</td>\n",
              "      <td>04/07/2020</td>\n",
              "      <td>135403</td>\n",
              "    </tr>\n",
              "    <tr>\n",
              "      <th>99</th>\n",
              "      <td>1018</td>\n",
              "      <td>extracion</td>\n",
              "      <td>13743</td>\n",
              "      <td>19769</td>\n",
              "      <td>15/04/2009</td>\n",
              "      <td>173771</td>\n",
              "    </tr>\n",
              "  </tbody>\n",
              "</table>\n",
              "<p>100 rows × 6 columns</p>\n",
              "</div>"
            ],
            "text/plain": [
              "    numero           tipo  cuenta_origen  cuenta_destino       fecha   monto\n",
              "0      991       deposito          18975           15998  18/09/2002  801947\n",
              "1     1033  transferencia          19109           12682  05/06/2014  563267\n",
              "2     1001       deposito          12754           12288  25/01/2018  379980\n",
              "3     1023            NaN          18075           13369  24/10/2008  832748\n",
              "4     1002  transferencia          17053           18601  24/07/2014  781484\n",
              "..     ...            ...            ...             ...         ...     ...\n",
              "95    1024       deposito          17343           12064  27/08/2017   15959\n",
              "96    1006      extracion          19012           15519  13/02/2016  592950\n",
              "97    1027      extracion          12133           14223  28/01/2011   68706\n",
              "98    1010       deposito          11427           12147  04/07/2020  135403\n",
              "99    1018      extracion          13743           19769  15/04/2009  173771\n",
              "\n",
              "[100 rows x 6 columns]"
            ]
          },
          "metadata": {
            "tags": []
          },
          "execution_count": 38
        }
      ]
    },
    {
      "cell_type": "markdown",
      "metadata": {
        "id": "AP2Rb0U_HDz8"
      },
      "source": [
        "* Validar que todas las transacciones cuenten con un tipo de transacción.\n",
        "\n",
        "Eliminaremos aquellas filas que no tengan tipo de transaccion. Vemos que realizando la operacion **hasnans** tenemos algunas filas que no tienen tipo de transaccion."
      ]
    },
    {
      "cell_type": "code",
      "metadata": {
        "id": "3HGAOP85HLEG",
        "outputId": "016670ff-220c-4e69-dfe2-173336517845",
        "colab": {
          "base_uri": "https://localhost:8080/",
          "height": 35
        }
      },
      "source": [
        "df_transacciones[\"tipo\"].hasnans"
      ],
      "execution_count": null,
      "outputs": [
        {
          "output_type": "execute_result",
          "data": {
            "text/plain": [
              "True"
            ]
          },
          "metadata": {
            "tags": []
          },
          "execution_count": 39
        }
      ]
    },
    {
      "cell_type": "code",
      "metadata": {
        "id": "cEcaJ-42RXtX",
        "outputId": "dc7e3571-34f4-4bc5-98f9-25a4df2653a8",
        "colab": {
          "base_uri": "https://localhost:8080/",
          "height": 72
        }
      },
      "source": [
        "df_transacciones[\"tipo\"].isnull().value_counts()"
      ],
      "execution_count": null,
      "outputs": [
        {
          "output_type": "execute_result",
          "data": {
            "text/plain": [
              "False    77\n",
              "True     23\n",
              "Name: tipo, dtype: int64"
            ]
          },
          "metadata": {
            "tags": []
          },
          "execution_count": 40
        }
      ]
    },
    {
      "cell_type": "code",
      "metadata": {
        "id": "WL1P8xYpIBNc",
        "outputId": "3922f72d-2945-4479-9110-c6f0d7f16b14",
        "colab": {
          "base_uri": "https://localhost:8080/",
          "height": 424
        }
      },
      "source": [
        "#Con el comando inplace=True modificamos el df original. Entonces nos queda un df sin Nans\n",
        "df_transacciones.dropna(inplace=True)\n",
        "df_transacciones.reset_index()"
      ],
      "execution_count": null,
      "outputs": [
        {
          "output_type": "execute_result",
          "data": {
            "text/html": [
              "<div>\n",
              "<style scoped>\n",
              "    .dataframe tbody tr th:only-of-type {\n",
              "        vertical-align: middle;\n",
              "    }\n",
              "\n",
              "    .dataframe tbody tr th {\n",
              "        vertical-align: top;\n",
              "    }\n",
              "\n",
              "    .dataframe thead th {\n",
              "        text-align: right;\n",
              "    }\n",
              "</style>\n",
              "<table border=\"1\" class=\"dataframe\">\n",
              "  <thead>\n",
              "    <tr style=\"text-align: right;\">\n",
              "      <th></th>\n",
              "      <th>index</th>\n",
              "      <th>numero</th>\n",
              "      <th>tipo</th>\n",
              "      <th>cuenta_origen</th>\n",
              "      <th>cuenta_destino</th>\n",
              "      <th>fecha</th>\n",
              "      <th>monto</th>\n",
              "    </tr>\n",
              "  </thead>\n",
              "  <tbody>\n",
              "    <tr>\n",
              "      <th>0</th>\n",
              "      <td>0</td>\n",
              "      <td>991</td>\n",
              "      <td>deposito</td>\n",
              "      <td>18975</td>\n",
              "      <td>15998</td>\n",
              "      <td>18/09/2002</td>\n",
              "      <td>801947</td>\n",
              "    </tr>\n",
              "    <tr>\n",
              "      <th>1</th>\n",
              "      <td>1</td>\n",
              "      <td>1033</td>\n",
              "      <td>transferencia</td>\n",
              "      <td>19109</td>\n",
              "      <td>12682</td>\n",
              "      <td>05/06/2014</td>\n",
              "      <td>563267</td>\n",
              "    </tr>\n",
              "    <tr>\n",
              "      <th>2</th>\n",
              "      <td>2</td>\n",
              "      <td>1001</td>\n",
              "      <td>deposito</td>\n",
              "      <td>12754</td>\n",
              "      <td>12288</td>\n",
              "      <td>25/01/2018</td>\n",
              "      <td>379980</td>\n",
              "    </tr>\n",
              "    <tr>\n",
              "      <th>3</th>\n",
              "      <td>4</td>\n",
              "      <td>1002</td>\n",
              "      <td>transferencia</td>\n",
              "      <td>17053</td>\n",
              "      <td>18601</td>\n",
              "      <td>24/07/2014</td>\n",
              "      <td>781484</td>\n",
              "    </tr>\n",
              "    <tr>\n",
              "      <th>4</th>\n",
              "      <td>6</td>\n",
              "      <td>1057</td>\n",
              "      <td>transferencia</td>\n",
              "      <td>18829</td>\n",
              "      <td>10213</td>\n",
              "      <td>03/04/2010</td>\n",
              "      <td>246701</td>\n",
              "    </tr>\n",
              "    <tr>\n",
              "      <th>...</th>\n",
              "      <td>...</td>\n",
              "      <td>...</td>\n",
              "      <td>...</td>\n",
              "      <td>...</td>\n",
              "      <td>...</td>\n",
              "      <td>...</td>\n",
              "      <td>...</td>\n",
              "    </tr>\n",
              "    <tr>\n",
              "      <th>72</th>\n",
              "      <td>95</td>\n",
              "      <td>1024</td>\n",
              "      <td>deposito</td>\n",
              "      <td>17343</td>\n",
              "      <td>12064</td>\n",
              "      <td>27/08/2017</td>\n",
              "      <td>15959</td>\n",
              "    </tr>\n",
              "    <tr>\n",
              "      <th>73</th>\n",
              "      <td>96</td>\n",
              "      <td>1006</td>\n",
              "      <td>extracion</td>\n",
              "      <td>19012</td>\n",
              "      <td>15519</td>\n",
              "      <td>13/02/2016</td>\n",
              "      <td>592950</td>\n",
              "    </tr>\n",
              "    <tr>\n",
              "      <th>74</th>\n",
              "      <td>97</td>\n",
              "      <td>1027</td>\n",
              "      <td>extracion</td>\n",
              "      <td>12133</td>\n",
              "      <td>14223</td>\n",
              "      <td>28/01/2011</td>\n",
              "      <td>68706</td>\n",
              "    </tr>\n",
              "    <tr>\n",
              "      <th>75</th>\n",
              "      <td>98</td>\n",
              "      <td>1010</td>\n",
              "      <td>deposito</td>\n",
              "      <td>11427</td>\n",
              "      <td>12147</td>\n",
              "      <td>04/07/2020</td>\n",
              "      <td>135403</td>\n",
              "    </tr>\n",
              "    <tr>\n",
              "      <th>76</th>\n",
              "      <td>99</td>\n",
              "      <td>1018</td>\n",
              "      <td>extracion</td>\n",
              "      <td>13743</td>\n",
              "      <td>19769</td>\n",
              "      <td>15/04/2009</td>\n",
              "      <td>173771</td>\n",
              "    </tr>\n",
              "  </tbody>\n",
              "</table>\n",
              "<p>77 rows × 7 columns</p>\n",
              "</div>"
            ],
            "text/plain": [
              "    index  numero           tipo  ...  cuenta_destino       fecha   monto\n",
              "0       0     991       deposito  ...           15998  18/09/2002  801947\n",
              "1       1    1033  transferencia  ...           12682  05/06/2014  563267\n",
              "2       2    1001       deposito  ...           12288  25/01/2018  379980\n",
              "3       4    1002  transferencia  ...           18601  24/07/2014  781484\n",
              "4       6    1057  transferencia  ...           10213  03/04/2010  246701\n",
              "..    ...     ...            ...  ...             ...         ...     ...\n",
              "72     95    1024       deposito  ...           12064  27/08/2017   15959\n",
              "73     96    1006      extracion  ...           15519  13/02/2016  592950\n",
              "74     97    1027      extracion  ...           14223  28/01/2011   68706\n",
              "75     98    1010       deposito  ...           12147  04/07/2020  135403\n",
              "76     99    1018      extracion  ...           19769  15/04/2009  173771\n",
              "\n",
              "[77 rows x 7 columns]"
            ]
          },
          "metadata": {
            "tags": []
          },
          "execution_count": 41
        }
      ]
    },
    {
      "cell_type": "markdown",
      "metadata": {
        "id": "AF7VjO-TJmXS"
      },
      "source": [
        "* Validar que para las transacciones del tipo transferencia, exista siempre tanto cuenta origen como cuenta destino.\n",
        "\n",
        "Nos quedamos solo con las filas que tienen como tipo *transferencia*"
      ]
    },
    {
      "cell_type": "code",
      "metadata": {
        "id": "LnkcJSubKWDS",
        "outputId": "ef92f4c8-2567-4411-ab0a-8ca8ef44b048",
        "colab": {
          "base_uri": "https://localhost:8080/",
          "height": 206
        }
      },
      "source": [
        "transferencias = df_transacciones.loc[df_transacciones[\"tipo\"] == \"transferencia\"]\n",
        "transferencias.head()"
      ],
      "execution_count": null,
      "outputs": [
        {
          "output_type": "execute_result",
          "data": {
            "text/html": [
              "<div>\n",
              "<style scoped>\n",
              "    .dataframe tbody tr th:only-of-type {\n",
              "        vertical-align: middle;\n",
              "    }\n",
              "\n",
              "    .dataframe tbody tr th {\n",
              "        vertical-align: top;\n",
              "    }\n",
              "\n",
              "    .dataframe thead th {\n",
              "        text-align: right;\n",
              "    }\n",
              "</style>\n",
              "<table border=\"1\" class=\"dataframe\">\n",
              "  <thead>\n",
              "    <tr style=\"text-align: right;\">\n",
              "      <th></th>\n",
              "      <th>numero</th>\n",
              "      <th>tipo</th>\n",
              "      <th>cuenta_origen</th>\n",
              "      <th>cuenta_destino</th>\n",
              "      <th>fecha</th>\n",
              "      <th>monto</th>\n",
              "    </tr>\n",
              "  </thead>\n",
              "  <tbody>\n",
              "    <tr>\n",
              "      <th>1</th>\n",
              "      <td>1033</td>\n",
              "      <td>transferencia</td>\n",
              "      <td>19109</td>\n",
              "      <td>12682</td>\n",
              "      <td>05/06/2014</td>\n",
              "      <td>563267</td>\n",
              "    </tr>\n",
              "    <tr>\n",
              "      <th>4</th>\n",
              "      <td>1002</td>\n",
              "      <td>transferencia</td>\n",
              "      <td>17053</td>\n",
              "      <td>18601</td>\n",
              "      <td>24/07/2014</td>\n",
              "      <td>781484</td>\n",
              "    </tr>\n",
              "    <tr>\n",
              "      <th>6</th>\n",
              "      <td>1057</td>\n",
              "      <td>transferencia</td>\n",
              "      <td>18829</td>\n",
              "      <td>10213</td>\n",
              "      <td>03/04/2010</td>\n",
              "      <td>246701</td>\n",
              "    </tr>\n",
              "    <tr>\n",
              "      <th>7</th>\n",
              "      <td>1018</td>\n",
              "      <td>transferencia</td>\n",
              "      <td>18750</td>\n",
              "      <td>19918</td>\n",
              "      <td>02/04/2005</td>\n",
              "      <td>141567</td>\n",
              "    </tr>\n",
              "    <tr>\n",
              "      <th>14</th>\n",
              "      <td>986</td>\n",
              "      <td>transferencia</td>\n",
              "      <td>15282</td>\n",
              "      <td>12876</td>\n",
              "      <td>29/08/2004</td>\n",
              "      <td>197332</td>\n",
              "    </tr>\n",
              "  </tbody>\n",
              "</table>\n",
              "</div>"
            ],
            "text/plain": [
              "    numero           tipo  cuenta_origen  cuenta_destino       fecha   monto\n",
              "1     1033  transferencia          19109           12682  05/06/2014  563267\n",
              "4     1002  transferencia          17053           18601  24/07/2014  781484\n",
              "6     1057  transferencia          18829           10213  03/04/2010  246701\n",
              "7     1018  transferencia          18750           19918  02/04/2005  141567\n",
              "14     986  transferencia          15282           12876  29/08/2004  197332"
            ]
          },
          "metadata": {
            "tags": []
          },
          "execution_count": 42
        }
      ]
    },
    {
      "cell_type": "markdown",
      "metadata": {
        "id": "OA3puIbYSVnn"
      },
      "source": [
        "Vemos que aplicando nuevamente la funcion **isnull** tenemos todas las transferencia con cuentas origen y destino"
      ]
    },
    {
      "cell_type": "code",
      "metadata": {
        "id": "9W_mdLyWK6TM",
        "outputId": "a44a8804-2b93-4dc9-f2df-74e78328cf63",
        "colab": {
          "base_uri": "https://localhost:8080/",
          "height": 72
        }
      },
      "source": [
        "transferencias[[\"cuenta_origen\",\"cuenta_destino\"]].isnull().any()"
      ],
      "execution_count": null,
      "outputs": [
        {
          "output_type": "execute_result",
          "data": {
            "text/plain": [
              "cuenta_origen     False\n",
              "cuenta_destino    False\n",
              "dtype: bool"
            ]
          },
          "metadata": {
            "tags": []
          },
          "execution_count": 43
        }
      ]
    },
    {
      "cell_type": "markdown",
      "metadata": {
        "id": "WysgLdvaLk32"
      },
      "source": [
        "* Verificar que todas las transacciones del tipo transferencia, depósito y extracción cuenten con montos distintos de cero.\n",
        "\n",
        "Comprobamos que ninguna transaccion tenga un monto invalido."
      ]
    },
    {
      "cell_type": "code",
      "metadata": {
        "id": "RzRQwXuPLkoD",
        "outputId": "ec3b3197-4880-486d-997c-8f119736f599",
        "colab": {
          "base_uri": "https://localhost:8080/",
          "height": 54
        }
      },
      "source": [
        "montos_invalidos = df_transacciones[\"monto\"] < 0\n",
        "montos_invalidos.value_counts()\n"
      ],
      "execution_count": null,
      "outputs": [
        {
          "output_type": "execute_result",
          "data": {
            "text/plain": [
              "False    77\n",
              "Name: monto, dtype: int64"
            ]
          },
          "metadata": {
            "tags": []
          },
          "execution_count": 44
        }
      ]
    },
    {
      "cell_type": "markdown",
      "metadata": {
        "id": "C83hdslsMhdc"
      },
      "source": [
        "* Indicar cuáles fueron las 10 transacciones de mayor monto."
      ]
    },
    {
      "cell_type": "code",
      "metadata": {
        "id": "tcbJyuozMjOW",
        "outputId": "c206bc02-fb0e-4274-85be-b773e831956d",
        "colab": {
          "base_uri": "https://localhost:8080/",
          "height": 363
        }
      },
      "source": [
        "#Con el parametro keep='all' nos quedamos con las filas repetidas ya que para este caso nos importan.\n",
        "df_transacciones.nlargest(10,\"monto\",keep='all').reset_index()"
      ],
      "execution_count": null,
      "outputs": [
        {
          "output_type": "execute_result",
          "data": {
            "text/html": [
              "<div>\n",
              "<style scoped>\n",
              "    .dataframe tbody tr th:only-of-type {\n",
              "        vertical-align: middle;\n",
              "    }\n",
              "\n",
              "    .dataframe tbody tr th {\n",
              "        vertical-align: top;\n",
              "    }\n",
              "\n",
              "    .dataframe thead th {\n",
              "        text-align: right;\n",
              "    }\n",
              "</style>\n",
              "<table border=\"1\" class=\"dataframe\">\n",
              "  <thead>\n",
              "    <tr style=\"text-align: right;\">\n",
              "      <th></th>\n",
              "      <th>index</th>\n",
              "      <th>numero</th>\n",
              "      <th>tipo</th>\n",
              "      <th>cuenta_origen</th>\n",
              "      <th>cuenta_destino</th>\n",
              "      <th>fecha</th>\n",
              "      <th>monto</th>\n",
              "    </tr>\n",
              "  </thead>\n",
              "  <tbody>\n",
              "    <tr>\n",
              "      <th>0</th>\n",
              "      <td>36</td>\n",
              "      <td>1005</td>\n",
              "      <td>extracion</td>\n",
              "      <td>13849</td>\n",
              "      <td>16480</td>\n",
              "      <td>01/11/2010</td>\n",
              "      <td>970073</td>\n",
              "    </tr>\n",
              "    <tr>\n",
              "      <th>1</th>\n",
              "      <td>45</td>\n",
              "      <td>1001</td>\n",
              "      <td>deposito</td>\n",
              "      <td>15016</td>\n",
              "      <td>17727</td>\n",
              "      <td>18/11/2018</td>\n",
              "      <td>937448</td>\n",
              "    </tr>\n",
              "    <tr>\n",
              "      <th>2</th>\n",
              "      <td>61</td>\n",
              "      <td>926</td>\n",
              "      <td>transferencia</td>\n",
              "      <td>11337</td>\n",
              "      <td>14355</td>\n",
              "      <td>19/07/2010</td>\n",
              "      <td>930339</td>\n",
              "    </tr>\n",
              "    <tr>\n",
              "      <th>3</th>\n",
              "      <td>28</td>\n",
              "      <td>988</td>\n",
              "      <td>deposito</td>\n",
              "      <td>17997</td>\n",
              "      <td>11899</td>\n",
              "      <td>23/11/2008</td>\n",
              "      <td>919017</td>\n",
              "    </tr>\n",
              "    <tr>\n",
              "      <th>4</th>\n",
              "      <td>81</td>\n",
              "      <td>990</td>\n",
              "      <td>transferencia</td>\n",
              "      <td>17401</td>\n",
              "      <td>15212</td>\n",
              "      <td>22/11/2011</td>\n",
              "      <td>903401</td>\n",
              "    </tr>\n",
              "    <tr>\n",
              "      <th>5</th>\n",
              "      <td>44</td>\n",
              "      <td>1032</td>\n",
              "      <td>deposito</td>\n",
              "      <td>15934</td>\n",
              "      <td>18294</td>\n",
              "      <td>23/03/2017</td>\n",
              "      <td>898985</td>\n",
              "    </tr>\n",
              "    <tr>\n",
              "      <th>6</th>\n",
              "      <td>15</td>\n",
              "      <td>1010</td>\n",
              "      <td>extracion</td>\n",
              "      <td>16450</td>\n",
              "      <td>11859</td>\n",
              "      <td>25/12/2007</td>\n",
              "      <td>893868</td>\n",
              "    </tr>\n",
              "    <tr>\n",
              "      <th>7</th>\n",
              "      <td>33</td>\n",
              "      <td>994</td>\n",
              "      <td>transferencia</td>\n",
              "      <td>19101</td>\n",
              "      <td>10711</td>\n",
              "      <td>05/03/2016</td>\n",
              "      <td>886957</td>\n",
              "    </tr>\n",
              "    <tr>\n",
              "      <th>8</th>\n",
              "      <td>70</td>\n",
              "      <td>982</td>\n",
              "      <td>deposito</td>\n",
              "      <td>14511</td>\n",
              "      <td>18190</td>\n",
              "      <td>02/07/2009</td>\n",
              "      <td>884881</td>\n",
              "    </tr>\n",
              "    <tr>\n",
              "      <th>9</th>\n",
              "      <td>21</td>\n",
              "      <td>992</td>\n",
              "      <td>transferencia</td>\n",
              "      <td>14007</td>\n",
              "      <td>13398</td>\n",
              "      <td>26/01/2008</td>\n",
              "      <td>875873</td>\n",
              "    </tr>\n",
              "  </tbody>\n",
              "</table>\n",
              "</div>"
            ],
            "text/plain": [
              "   index  numero           tipo  ...  cuenta_destino       fecha   monto\n",
              "0     36    1005      extracion  ...           16480  01/11/2010  970073\n",
              "1     45    1001       deposito  ...           17727  18/11/2018  937448\n",
              "2     61     926  transferencia  ...           14355  19/07/2010  930339\n",
              "3     28     988       deposito  ...           11899  23/11/2008  919017\n",
              "4     81     990  transferencia  ...           15212  22/11/2011  903401\n",
              "5     44    1032       deposito  ...           18294  23/03/2017  898985\n",
              "6     15    1010      extracion  ...           11859  25/12/2007  893868\n",
              "7     33     994  transferencia  ...           10711  05/03/2016  886957\n",
              "8     70     982       deposito  ...           18190  02/07/2009  884881\n",
              "9     21     992  transferencia  ...           13398  26/01/2008  875873\n",
              "\n",
              "[10 rows x 7 columns]"
            ]
          },
          "metadata": {
            "tags": []
          },
          "execution_count": 45
        }
      ]
    },
    {
      "cell_type": "markdown",
      "metadata": {
        "id": "ODdKhXk_Nyif"
      },
      "source": [
        "* Indicar cuál es el tipo de transacción que registra mayor monto promedio."
      ]
    },
    {
      "cell_type": "code",
      "metadata": {
        "id": "P6KY4DLWN2Io",
        "outputId": "9e730c76-7332-4149-b797-d2b515795ef1",
        "colab": {
          "base_uri": "https://localhost:8080/",
          "height": 112
        }
      },
      "source": [
        "col_rename = {'monto' : 'monto_promedio'} \n",
        "transacciones_agrupadas = df_transacciones.groupby('tipo').agg({'monto' : 'mean'}).rename(columns=col_rename)\n",
        "transacciones_agrupadas.nlargest(1,'monto_promedio')"
      ],
      "execution_count": null,
      "outputs": [
        {
          "output_type": "execute_result",
          "data": {
            "text/html": [
              "<div>\n",
              "<style scoped>\n",
              "    .dataframe tbody tr th:only-of-type {\n",
              "        vertical-align: middle;\n",
              "    }\n",
              "\n",
              "    .dataframe tbody tr th {\n",
              "        vertical-align: top;\n",
              "    }\n",
              "\n",
              "    .dataframe thead th {\n",
              "        text-align: right;\n",
              "    }\n",
              "</style>\n",
              "<table border=\"1\" class=\"dataframe\">\n",
              "  <thead>\n",
              "    <tr style=\"text-align: right;\">\n",
              "      <th></th>\n",
              "      <th>monto_promedio</th>\n",
              "    </tr>\n",
              "    <tr>\n",
              "      <th>tipo</th>\n",
              "      <th></th>\n",
              "    </tr>\n",
              "  </thead>\n",
              "  <tbody>\n",
              "    <tr>\n",
              "      <th>deposito</th>\n",
              "      <td>575641.607143</td>\n",
              "    </tr>\n",
              "  </tbody>\n",
              "</table>\n",
              "</div>"
            ],
            "text/plain": [
              "          monto_promedio\n",
              "tipo                    \n",
              "deposito   575641.607143"
            ]
          },
          "metadata": {
            "tags": []
          },
          "execution_count": 51
        }
      ]
    },
    {
      "cell_type": "markdown",
      "metadata": {
        "id": "na4WmyVSGaxB"
      },
      "source": [
        "* Indicar cuáles son las 5 cuentas con mayor cantidad de transacciones.\n",
        "\n",
        "En este caso nos interesan las cuentas origen que tengan mayor cantidad de transacciones. Entonces buscamos la cuenta que tenga mayor concurrencia en el df (para nuestro caso vemos que son todas cuentas distintas por lo que nos daria las primeras encontradas)"
      ]
    },
    {
      "cell_type": "code",
      "metadata": {
        "id": "7uYAJ7y6GfLo",
        "outputId": "e2728b9e-b545-4703-9643-e55637879f3c",
        "colab": {
          "base_uri": "https://localhost:8080/",
          "height": 127
        }
      },
      "source": [
        "df_transacciones['cuenta_origen'].value_counts().nlargest(5)"
      ],
      "execution_count": null,
      "outputs": [
        {
          "output_type": "execute_result",
          "data": {
            "text/plain": [
              "17492    1\n",
              "14003    1\n",
              "16732    1\n",
              "14109    1\n",
              "12133    1\n",
              "Name: cuenta_origen, dtype: int64"
            ]
          },
          "metadata": {
            "tags": []
          },
          "execution_count": 47
        }
      ]
    },
    {
      "cell_type": "markdown",
      "metadata": {
        "id": "ljrepMBQGcr2"
      },
      "source": [
        "* Indicar cuáles son las 5 cuentas con mayor monto involucrado.\n"
      ]
    },
    {
      "cell_type": "code",
      "metadata": {
        "id": "b5Y3zkJkH17N",
        "outputId": "f0058dcb-a795-4083-b6f1-935809354d0b",
        "colab": {
          "base_uri": "https://localhost:8080/",
          "height": 206
        }
      },
      "source": [
        "mayores_monto = df_transacciones.nlargest(5,'monto').reset_index()\n",
        "mayores_monto[['cuenta_origen','cuenta_destino','monto']]"
      ],
      "execution_count": null,
      "outputs": [
        {
          "output_type": "execute_result",
          "data": {
            "text/html": [
              "<div>\n",
              "<style scoped>\n",
              "    .dataframe tbody tr th:only-of-type {\n",
              "        vertical-align: middle;\n",
              "    }\n",
              "\n",
              "    .dataframe tbody tr th {\n",
              "        vertical-align: top;\n",
              "    }\n",
              "\n",
              "    .dataframe thead th {\n",
              "        text-align: right;\n",
              "    }\n",
              "</style>\n",
              "<table border=\"1\" class=\"dataframe\">\n",
              "  <thead>\n",
              "    <tr style=\"text-align: right;\">\n",
              "      <th></th>\n",
              "      <th>cuenta_origen</th>\n",
              "      <th>cuenta_destino</th>\n",
              "      <th>monto</th>\n",
              "    </tr>\n",
              "  </thead>\n",
              "  <tbody>\n",
              "    <tr>\n",
              "      <th>0</th>\n",
              "      <td>13849</td>\n",
              "      <td>16480</td>\n",
              "      <td>970073</td>\n",
              "    </tr>\n",
              "    <tr>\n",
              "      <th>1</th>\n",
              "      <td>15016</td>\n",
              "      <td>17727</td>\n",
              "      <td>937448</td>\n",
              "    </tr>\n",
              "    <tr>\n",
              "      <th>2</th>\n",
              "      <td>11337</td>\n",
              "      <td>14355</td>\n",
              "      <td>930339</td>\n",
              "    </tr>\n",
              "    <tr>\n",
              "      <th>3</th>\n",
              "      <td>17997</td>\n",
              "      <td>11899</td>\n",
              "      <td>919017</td>\n",
              "    </tr>\n",
              "    <tr>\n",
              "      <th>4</th>\n",
              "      <td>17401</td>\n",
              "      <td>15212</td>\n",
              "      <td>903401</td>\n",
              "    </tr>\n",
              "  </tbody>\n",
              "</table>\n",
              "</div>"
            ],
            "text/plain": [
              "   cuenta_origen  cuenta_destino   monto\n",
              "0          13849           16480  970073\n",
              "1          15016           17727  937448\n",
              "2          11337           14355  930339\n",
              "3          17997           11899  919017\n",
              "4          17401           15212  903401"
            ]
          },
          "metadata": {
            "tags": []
          },
          "execution_count": 48
        }
      ]
    },
    {
      "cell_type": "markdown",
      "metadata": {
        "id": "ks9hXNCJGeR2"
      },
      "source": [
        "* Para el tipo de transacción con mayor cantidad de monto promedio, indicar cuales son las 5 cuentas con más transacciones."
      ]
    }
  ]
}