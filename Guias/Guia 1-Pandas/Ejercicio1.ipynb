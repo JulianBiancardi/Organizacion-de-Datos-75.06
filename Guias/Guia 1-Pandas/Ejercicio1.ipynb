{
  "nbformat": 4,
  "nbformat_minor": 0,
  "metadata": {
    "colab": {
      "name": "Untitled0.ipynb",
      "provenance": [],
      "collapsed_sections": []
    },
    "kernelspec": {
      "name": "python3",
      "display_name": "Python 3"
    }
  },
  "cells": [
    {
      "cell_type": "markdown",
      "metadata": {
        "id": "9hFJofe_RX3N"
      },
      "source": [
        "1- Dado el registro de notas de los alumnos de la forma (padrón, materia, nota, fecha). Se pide resolver utilizando Pandas:\n",
        "*   Cuál es el promedio general de notas.\n",
        "*   Cuál es la nota más alta y la nota más baja registrada durante el año 2019.\n",
        "* Cuál es el padrón con mayor cantidad de materias aprobadas durante el último cuatrimestre.\n",
        "* Cuál es la nota promedio por materia.\n",
        "* Cuál es la nota promedio por padrón.\n"
      ]
    },
    {
      "cell_type": "code",
      "metadata": {
        "id": "vyvpOFM5RVuC"
      },
      "source": [
        "import numpy as np\n",
        "import pandas as pd\n",
        "import datetime as dt"
      ],
      "execution_count": 1,
      "outputs": []
    },
    {
      "cell_type": "code",
      "metadata": {
        "id": "meh8a-ydSC_1",
        "outputId": "048b967d-b7fb-4fd3-f946-717c51314bbf",
        "colab": {
          "base_uri": "https://localhost:8080/",
          "height": 424
        }
      },
      "source": [
        "#Cargo el dataframe\n",
        "df_notas_alumnos = pd.read_csv(\"/DataSets/notas_alumnos.csv\")\n",
        "df_notas_alumnos"
      ],
      "execution_count": 2,
      "outputs": [
        {
          "output_type": "execute_result",
          "data": {
            "text/html": [
              "<div>\n",
              "<style scoped>\n",
              "    .dataframe tbody tr th:only-of-type {\n",
              "        vertical-align: middle;\n",
              "    }\n",
              "\n",
              "    .dataframe tbody tr th {\n",
              "        vertical-align: top;\n",
              "    }\n",
              "\n",
              "    .dataframe thead th {\n",
              "        text-align: right;\n",
              "    }\n",
              "</style>\n",
              "<table border=\"1\" class=\"dataframe\">\n",
              "  <thead>\n",
              "    <tr style=\"text-align: right;\">\n",
              "      <th></th>\n",
              "      <th>padron</th>\n",
              "      <th>materia</th>\n",
              "      <th>nota</th>\n",
              "      <th>fecha</th>\n",
              "    </tr>\n",
              "  </thead>\n",
              "  <tbody>\n",
              "    <tr>\n",
              "      <th>0</th>\n",
              "      <td>101108</td>\n",
              "      <td>fisica</td>\n",
              "      <td>1</td>\n",
              "      <td>13/05/2020</td>\n",
              "    </tr>\n",
              "    <tr>\n",
              "      <th>1</th>\n",
              "      <td>100280</td>\n",
              "      <td>numerico</td>\n",
              "      <td>3</td>\n",
              "      <td>09/08/2020</td>\n",
              "    </tr>\n",
              "    <tr>\n",
              "      <th>2</th>\n",
              "      <td>100905</td>\n",
              "      <td>algebra</td>\n",
              "      <td>8</td>\n",
              "      <td>16/10/2019</td>\n",
              "    </tr>\n",
              "    <tr>\n",
              "      <th>3</th>\n",
              "      <td>97337</td>\n",
              "      <td>numerico</td>\n",
              "      <td>10</td>\n",
              "      <td>17/12/2019</td>\n",
              "    </tr>\n",
              "    <tr>\n",
              "      <th>4</th>\n",
              "      <td>96327</td>\n",
              "      <td>fisica</td>\n",
              "      <td>10</td>\n",
              "      <td>03/08/2020</td>\n",
              "    </tr>\n",
              "    <tr>\n",
              "      <th>...</th>\n",
              "      <td>...</td>\n",
              "      <td>...</td>\n",
              "      <td>...</td>\n",
              "      <td>...</td>\n",
              "    </tr>\n",
              "    <tr>\n",
              "      <th>95</th>\n",
              "      <td>103248</td>\n",
              "      <td>numerico</td>\n",
              "      <td>6</td>\n",
              "      <td>06/11/2019</td>\n",
              "    </tr>\n",
              "    <tr>\n",
              "      <th>96</th>\n",
              "      <td>99982</td>\n",
              "      <td>laboratorio</td>\n",
              "      <td>3</td>\n",
              "      <td>17/11/2019</td>\n",
              "    </tr>\n",
              "    <tr>\n",
              "      <th>97</th>\n",
              "      <td>103089</td>\n",
              "      <td>analisis</td>\n",
              "      <td>8</td>\n",
              "      <td>31/07/2020</td>\n",
              "    </tr>\n",
              "    <tr>\n",
              "      <th>98</th>\n",
              "      <td>101686</td>\n",
              "      <td>fisica</td>\n",
              "      <td>7</td>\n",
              "      <td>04/07/2020</td>\n",
              "    </tr>\n",
              "    <tr>\n",
              "      <th>99</th>\n",
              "      <td>102088</td>\n",
              "      <td>fisica</td>\n",
              "      <td>5</td>\n",
              "      <td>14/02/2020</td>\n",
              "    </tr>\n",
              "  </tbody>\n",
              "</table>\n",
              "<p>100 rows × 4 columns</p>\n",
              "</div>"
            ],
            "text/plain": [
              "    padron      materia  nota       fecha\n",
              "0   101108       fisica     1  13/05/2020\n",
              "1   100280     numerico     3  09/08/2020\n",
              "2   100905      algebra     8  16/10/2019\n",
              "3    97337     numerico    10  17/12/2019\n",
              "4    96327       fisica    10  03/08/2020\n",
              "..     ...          ...   ...         ...\n",
              "95  103248     numerico     6  06/11/2019\n",
              "96   99982  laboratorio     3  17/11/2019\n",
              "97  103089     analisis     8  31/07/2020\n",
              "98  101686       fisica     7  04/07/2020\n",
              "99  102088       fisica     5  14/02/2020\n",
              "\n",
              "[100 rows x 4 columns]"
            ]
          },
          "metadata": {
            "tags": []
          },
          "execution_count": 2
        }
      ]
    },
    {
      "cell_type": "markdown",
      "metadata": {
        "id": "EMLC6yXZjTKF"
      },
      "source": [
        "Antes de realizar cualquier inciso, cambiaremos el tipo de la columna fecha a datetime para mayor comodidad."
      ]
    },
    {
      "cell_type": "code",
      "metadata": {
        "id": "PwpO-A0VjfRZ"
      },
      "source": [
        "df_notas_alumnos[\"fecha\"] = pd.to_datetime(df_notas_alumnos[\"fecha\"])"
      ],
      "execution_count": 3,
      "outputs": []
    },
    {
      "cell_type": "markdown",
      "metadata": {
        "id": "7_av-_XwdVpj"
      },
      "source": [
        "*   Cuál es el promedio general de notas.\n",
        "\n",
        "Para poder realizar este paso nos enfocaremos solo en la columna llamada *nota*. Pra esta columna haremos uso de la funcion **mean**."
      ]
    },
    {
      "cell_type": "code",
      "metadata": {
        "id": "g1ItT-fJdPmk",
        "outputId": "f4e34655-f82b-4ca2-a437-fad249430100",
        "colab": {
          "base_uri": "https://localhost:8080/",
          "height": 35
        }
      },
      "source": [
        "promedio = df_notas_alumnos['nota'].mean()\n",
        "print(\"El promedio general es de :\",promedio)"
      ],
      "execution_count": 4,
      "outputs": [
        {
          "output_type": "stream",
          "text": [
            "El promedio general es de : 5.25\n"
          ],
          "name": "stdout"
        }
      ]
    },
    {
      "cell_type": "markdown",
      "metadata": {
        "id": "mMJ8q08-eNct"
      },
      "source": [
        "*   Cuál es la nota más alta y la nota más baja registrada durante el año 2019.\n",
        "\n",
        "Para este paso debemos quedarnos solo con los datos que nos hacen falta, es decir, aquellas notas registradas en el año 2019."
      ]
    },
    {
      "cell_type": "code",
      "metadata": {
        "id": "h_APM5V_eQtb",
        "outputId": "d6a2edbe-f1ca-4c1e-f28c-e0fce270a9f9",
        "colab": {
          "base_uri": "https://localhost:8080/",
          "height": 127
        }
      },
      "source": [
        "notas_alumnos_2019 = df_notas_alumnos.loc[df_notas_alumnos[\"fecha\"].dt.year == 2019,\"nota\"]\n",
        "notas_alumnos_2019.head()"
      ],
      "execution_count": 5,
      "outputs": [
        {
          "output_type": "execute_result",
          "data": {
            "text/plain": [
              "2      8\n",
              "3     10\n",
              "8      2\n",
              "21     7\n",
              "26     2\n",
              "Name: nota, dtype: int64"
            ]
          },
          "metadata": {
            "tags": []
          },
          "execution_count": 5
        }
      ]
    },
    {
      "cell_type": "markdown",
      "metadata": {
        "id": "-RVfYIJOhHLS"
      },
      "source": [
        "Ahora teniendo aquellos datos que necesitamos, heremos uso de las funciones **max** y **min** para calcular lo pedido:"
      ]
    },
    {
      "cell_type": "code",
      "metadata": {
        "id": "0VQTPof-fwmH",
        "outputId": "ee4ede0e-3f32-4bf8-f6fb-69b2186d47bb",
        "colab": {
          "base_uri": "https://localhost:8080/",
          "height": 35
        }
      },
      "source": [
        "nota = notas_alumnos_2019.max()\n",
        "print(\"La nota mas alta es \",nota)"
      ],
      "execution_count": 6,
      "outputs": [
        {
          "output_type": "stream",
          "text": [
            "La nota mas alta es  10\n"
          ],
          "name": "stdout"
        }
      ]
    },
    {
      "cell_type": "code",
      "metadata": {
        "id": "myPqIBiog0rC",
        "outputId": "5d443ead-cf36-40c7-8b45-aefda439e6c3",
        "colab": {
          "base_uri": "https://localhost:8080/",
          "height": 35
        }
      },
      "source": [
        "nota = notas_alumnos_2019.min()\n",
        "print(\"La nota mas alta es \",nota)"
      ],
      "execution_count": 7,
      "outputs": [
        {
          "output_type": "stream",
          "text": [
            "La nota mas alta es  1\n"
          ],
          "name": "stdout"
        }
      ]
    },
    {
      "cell_type": "markdown",
      "metadata": {
        "id": "uXE1cssghUli"
      },
      "source": [
        "* Cuál es el padrón con mayor cantidad de materias aprobadas durante el último cuatrimestre."
      ]
    },
    {
      "cell_type": "markdown",
      "metadata": {
        "id": "Stdkof6LhaJL"
      },
      "source": [
        "Consideramos a el ultimo cuatrimetre como el intervalor entre 1/3/2020 hasta 1/9/2020. Luego para aprobar se requiere una nota de 4 o mayor. Nos quedaremos entonces solo con los datos que cumplan estas condiciones"
      ]
    },
    {
      "cell_type": "code",
      "metadata": {
        "id": "YyanGmfSiYDK",
        "outputId": "76bc20e4-793c-4d32-b56e-8d631adaa235",
        "colab": {
          "base_uri": "https://localhost:8080/",
          "height": 206
        }
      },
      "source": [
        "condicion_aprobacion = 4\n",
        "notas_aprobadas = df_notas_alumnos[\"nota\"] >= condicion_aprobacion\n",
        "ultimo_cuatrimestre = (df_notas_alumnos[\"fecha\"] >= '01-03-2018') & (df_notas_alumnos[\"fecha\"] <= '01-09-2020')\n",
        "notas_aprobadas_ultimocuatri = df_notas_alumnos.loc[notas_aprobadas & ultimo_cuatrimestre]\n",
        "notas_aprobadas_ultimocuatri.head()"
      ],
      "execution_count": 8,
      "outputs": [
        {
          "output_type": "execute_result",
          "data": {
            "text/html": [
              "<div>\n",
              "<style scoped>\n",
              "    .dataframe tbody tr th:only-of-type {\n",
              "        vertical-align: middle;\n",
              "    }\n",
              "\n",
              "    .dataframe tbody tr th {\n",
              "        vertical-align: top;\n",
              "    }\n",
              "\n",
              "    .dataframe thead th {\n",
              "        text-align: right;\n",
              "    }\n",
              "</style>\n",
              "<table border=\"1\" class=\"dataframe\">\n",
              "  <thead>\n",
              "    <tr style=\"text-align: right;\">\n",
              "      <th></th>\n",
              "      <th>padron</th>\n",
              "      <th>materia</th>\n",
              "      <th>nota</th>\n",
              "      <th>fecha</th>\n",
              "    </tr>\n",
              "  </thead>\n",
              "  <tbody>\n",
              "    <tr>\n",
              "      <th>2</th>\n",
              "      <td>100905</td>\n",
              "      <td>algebra</td>\n",
              "      <td>8</td>\n",
              "      <td>2019-10-16</td>\n",
              "    </tr>\n",
              "    <tr>\n",
              "      <th>3</th>\n",
              "      <td>97337</td>\n",
              "      <td>numerico</td>\n",
              "      <td>10</td>\n",
              "      <td>2019-12-17</td>\n",
              "    </tr>\n",
              "    <tr>\n",
              "      <th>21</th>\n",
              "      <td>102149</td>\n",
              "      <td>analisis</td>\n",
              "      <td>7</td>\n",
              "      <td>2019-10-15</td>\n",
              "    </tr>\n",
              "    <tr>\n",
              "      <th>28</th>\n",
              "      <td>92778</td>\n",
              "      <td>laboratorio</td>\n",
              "      <td>10</td>\n",
              "      <td>2019-08-12</td>\n",
              "    </tr>\n",
              "    <tr>\n",
              "      <th>29</th>\n",
              "      <td>100648</td>\n",
              "      <td>fisica</td>\n",
              "      <td>10</td>\n",
              "      <td>2019-12-13</td>\n",
              "    </tr>\n",
              "  </tbody>\n",
              "</table>\n",
              "</div>"
            ],
            "text/plain": [
              "    padron      materia  nota      fecha\n",
              "2   100905      algebra     8 2019-10-16\n",
              "3    97337     numerico    10 2019-12-17\n",
              "21  102149     analisis     7 2019-10-15\n",
              "28   92778  laboratorio    10 2019-08-12\n",
              "29  100648       fisica    10 2019-12-13"
            ]
          },
          "metadata": {
            "tags": []
          },
          "execution_count": 8
        }
      ]
    },
    {
      "cell_type": "markdown",
      "metadata": {
        "id": "IGl7PpxAofD3"
      },
      "source": [
        "Ahora solo debemos quedarnos con los padrones que mas veces aparecen:"
      ]
    },
    {
      "cell_type": "code",
      "metadata": {
        "id": "gr-QMPf5oJy_",
        "outputId": "e864d82c-924c-4645-869a-ca95361cd3e2",
        "colab": {
          "base_uri": "https://localhost:8080/",
          "height": 54
        }
      },
      "source": [
        "notas_aprobadas_ultimocuatri[\"padron\"].value_counts().nlargest(1)"
      ],
      "execution_count": 9,
      "outputs": [
        {
          "output_type": "execute_result",
          "data": {
            "text/plain": [
              "96156    1\n",
              "Name: padron, dtype: int64"
            ]
          },
          "metadata": {
            "tags": []
          },
          "execution_count": 9
        }
      ]
    },
    {
      "cell_type": "markdown",
      "metadata": {
        "id": "0RernVV2pup6"
      },
      "source": [
        "* Cuál es la nota promedio por materia."
      ]
    },
    {
      "cell_type": "code",
      "metadata": {
        "id": "imIhb8YNp0aU",
        "outputId": "67304a1c-f028-4bc6-defe-a51b4ca8d494",
        "colab": {
          "base_uri": "https://localhost:8080/",
          "height": 164
        }
      },
      "source": [
        "materias = df_notas_alumnos.groupby(by=\"materia\")\n",
        "materias[\"nota\"].mean()"
      ],
      "execution_count": 14,
      "outputs": [
        {
          "output_type": "execute_result",
          "data": {
            "text/plain": [
              "materia\n",
              "algebra        6.500000\n",
              "algoritmos     6.000000\n",
              "analisis       5.095238\n",
              "fisica         5.166667\n",
              "laboratorio    5.000000\n",
              "numerico       3.937500\n",
              "Name: nota, dtype: float64"
            ]
          },
          "metadata": {
            "tags": []
          },
          "execution_count": 14
        }
      ]
    },
    {
      "cell_type": "markdown",
      "metadata": {
        "id": "Uzxcj7p-rYDD"
      },
      "source": [
        "* Cuál es la nota promedio por padrón."
      ]
    },
    {
      "cell_type": "code",
      "metadata": {
        "id": "3K0vM88urZcG",
        "outputId": "a108ff07-ae12-4f2c-a089-7819adcc0633",
        "colab": {
          "base_uri": "https://localhost:8080/",
          "height": 256
        }
      },
      "source": [
        "padrones = df_notas_alumnos.groupby(by=\"padron\")\n",
        "padrones[\"nota\"].mean()"
      ],
      "execution_count": 15,
      "outputs": [
        {
          "output_type": "execute_result",
          "data": {
            "text/plain": [
              "padron\n",
              "92778     10\n",
              "94222     10\n",
              "95249      5\n",
              "95869      3\n",
              "96008      8\n",
              "          ..\n",
              "103778     2\n",
              "103845     5\n",
              "104729     4\n",
              "105060     6\n",
              "105126    10\n",
              "Name: nota, Length: 100, dtype: int64"
            ]
          },
          "metadata": {
            "tags": []
          },
          "execution_count": 15
        }
      ]
    }
  ]
}