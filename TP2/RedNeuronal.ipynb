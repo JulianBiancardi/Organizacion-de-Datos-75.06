{
 "cells": [
  {
   "cell_type": "code",
   "execution_count": 1,
   "id": "00cbfc3c-579b-4388-bb2e-2d250b618114",
   "metadata": {},
   "outputs": [],
   "source": [
    "from preprocessing import apply_OHE, init_OHE, init_dataset, standarize, eliminar_features, reduce_by_frequency\n",
    "\n",
    "import matplotlib.pyplot as plt\n",
    "\n",
    "import numpy as np\n",
    "import pandas as pd\n",
    "import auxiliar as aux\n",
    "\n",
    "from sklearn.neural_network import MLPClassifier\n",
    "from sklearn.model_selection import GridSearchCV, train_test_split, RandomizedSearchCV\n",
    "from sklearn.metrics import classification_report, plot_roc_curve"
   ]
  },
  {
   "cell_type": "markdown",
   "id": "b840a3b5-b1ff-4b02-aba5-21dd7ca09e34",
   "metadata": {},
   "source": [
    "<h1>Red Neuronal</h1>"
   ]
  },
  {
   "cell_type": "markdown",
   "id": "25b16c31-aba7-412d-b4c2-b53652be04fa",
   "metadata": {},
   "source": [
    "Los hiperpárametros que consideramos relevantes para un modelo como la Red Neuronal son:\n",
    "   - activation: la función de activación\n",
    "   - solver: función de optimización de pesos\n",
    "   - hidden_layers_sizes: cantidad y tamaño de las capas escondidas de la red\n",
    "   - learning_rate: tasa de aprendizaje inicial.\n",
    "   - alpha: penalización del regularizador L2\n",
    "   - tol: mejora mínima a realizarse en ciertas cantidad de iteraciones antes de detener el entrenamiento"
   ]
  },
  {
   "cell_type": "markdown",
   "id": "9b16538b-14f5-4e19-8a05-7f8cb2d540eb",
   "metadata": {},
   "source": [
    "<h3> Preprocesamiento 1: OHE + Estandarización  </h3>"
   ]
  },
  {
   "cell_type": "markdown",
   "id": "cc157bc7-25ef-42ef-a9f7-46631332bbda",
   "metadata": {},
   "source": [
    "Aplicaremos OHE a las columnas categoricas. Finalmente estandarizamos los datos."
   ]
  },
  {
   "cell_type": "code",
   "execution_count": 2,
   "id": "e37c6427-01f5-4052-b875-18c9f9ba9c2f",
   "metadata": {},
   "outputs": [],
   "source": [
    "X, y = aux.get_train_set()\n",
    "X = init_dataset(X)"
   ]
  },
  {
   "cell_type": "code",
   "execution_count": 3,
   "id": "6dfd42ea-d920-45ee-8927-f9336867172c",
   "metadata": {},
   "outputs": [],
   "source": [
    "init_OHE(X)\n",
    "X_p1 = apply_OHE(X)\n",
    "X_p1 = standarize(X_p1)"
   ]
  },
  {
   "cell_type": "code",
   "execution_count": 4,
   "id": "bd70b936-2406-42d5-a11b-318e2c898f3c",
   "metadata": {},
   "outputs": [],
   "source": [
    "X_train, X_validation, y_train, y_validation = train_test_split(\n",
    "    X_p1, y, random_state=0, test_size=0.2, stratify=y\n",
    ")"
   ]
  },
  {
   "cell_type": "markdown",
   "id": "eb7252d5-1a9f-4f35-8182-49a73a76952a",
   "metadata": {},
   "source": [
    "Buscamos los mejores hiperparametros para la Red Neuronal con GridSearchCV:\n",
    "\n",
    "    - La métrica que se utiliza para comparar los modelos obtenidos en cada iteracion es roc_auc_score.\n",
    "    - La mejor función de optimización de pesos obtenida en diferentes corridas con diferentes hiperparametros es Adam.\n",
    "    - Las funciones de activación que mejor resultados tuvieron son tanh y logistic(sigmoidea), por lo que se limitaron las opciones a esos valores\n",
    "    - Las hidden_layer_sizes con las que mejores resultados se obtuvieron fueron (30, 30) y (50, 50), por lo que se limitan las opciones a esos valores.\n",
    "    - Los learning rates óptimos para las metricas que se calculan siempre se mantuvo entre 0.001 y 0.01, por lo se limitan las opciones a esos valores, además de mantenerse constante. \n",
    "    - Los alphas óptimos para las métricas que se calculan siempre se mantuvo entre 0.01 y 0.1, por lo se limitan las opciones a esos valores.\n",
    "    - Las tolerancias óptimas para las métricas que se calculan siempre se mantuvo entre 0.00001 y 0.0001, por lo se limitan las opciones a esos valores."
   ]
  },
  {
   "cell_type": "code",
   "execution_count": 5,
   "id": "f603135e-9e92-44ec-95dc-bf48d3ead020",
   "metadata": {},
   "outputs": [],
   "source": [
    "parameters = {'activation': ['tanh', 'logistic'], 'solver':['adam'], 'hidden_layer_sizes': [(30,30), (50, 50)],\n",
    "              'learning_rate_init': [0.001, 0.01], 'alpha':[0.01, 0.1], 'tol':[0.00001, 0.0001]}\n",
    "\n",
    "clf = MLPClassifier(random_state=0)\n",
    "\n",
    "gscv = GridSearchCV(\n",
    "    clf,  parameters, scoring='roc_auc', n_jobs=-1, cv=5, return_train_score=True,\n",
    ").fit(X_train, y_train)"
   ]
  },
  {
   "cell_type": "code",
   "execution_count": 6,
   "id": "b7b3fb33-8164-40cd-b7b7-c05d2fa9ba44",
   "metadata": {},
   "outputs": [
    {
     "name": "stdout",
     "output_type": "stream",
     "text": [
      "Mejor score ROC-AUC en Entrenamiento: 0.9089172151515159\n",
      "Mejores Parametros {'activation': 'logistic', 'alpha': 0.1, 'hidden_layer_sizes': (50, 50), 'learning_rate_init': 0.01, 'solver': 'adam', 'tol': 1e-05}\n",
      "\n",
      "Mejor score ROC-AUC en Validación: 0.8982583933472276\n"
     ]
    }
   ],
   "source": [
    "print(f\"Mejor score ROC-AUC en Entrenamiento: {gscv.best_score_}\")\n",
    "print(f\"Mejores Parametros {gscv.best_params_}\")\n",
    "\n",
    "print(f\"\\nMejor score ROC-AUC en Validación: {gscv.score(X_validation, y_validation)}\")"
   ]
  },
  {
   "cell_type": "code",
   "execution_count": 7,
   "id": "46ca11c9-9839-4289-bc51-e835275baecc",
   "metadata": {},
   "outputs": [
    {
     "data": {
      "text/plain": [
       "MLPClassifier(activation='logistic', alpha=0.1, hidden_layer_sizes=(50, 50),\n",
       "              learning_rate_init=0.01, random_state=0, tol=1e-05)"
      ]
     },
     "execution_count": 7,
     "metadata": {},
     "output_type": "execute_result"
    }
   ],
   "source": [
    "red_neuronal_p1 = gscv.best_estimator_\n",
    "red_neuronal_p1"
   ]
  },
  {
   "cell_type": "markdown",
   "id": "80819e7d-1aba-4c48-8100-6e980bc7c331",
   "metadata": {},
   "source": [
    "Predecimos con el validation set:"
   ]
  },
  {
   "cell_type": "code",
   "execution_count": 8,
   "id": "21834b12-bccb-4f1e-b05d-345270abf9bd",
   "metadata": {},
   "outputs": [],
   "source": [
    "y_pred_p1 = red_neuronal_p1.predict(X_validation)"
   ]
  },
  {
   "cell_type": "markdown",
   "id": "aeb81c04-1403-40b2-bfe2-4e41e9048655",
   "metadata": {},
   "source": [
    "### Métricas"
   ]
  },
  {
   "cell_type": "code",
   "execution_count": 9,
   "id": "a01071ce-b7c8-4fd4-8517-5b619afaff05",
   "metadata": {},
   "outputs": [
    {
     "name": "stdout",
     "output_type": "stream",
     "text": [
      "              precision    recall  f1-score   support\n",
      "\n",
      "           0       0.88      0.93      0.90      4945\n",
      "           1       0.72      0.59      0.65      1568\n",
      "\n",
      "    accuracy                           0.85      6513\n",
      "   macro avg       0.80      0.76      0.77      6513\n",
      "weighted avg       0.84      0.85      0.84      6513\n",
      "\n"
     ]
    }
   ],
   "source": [
    "print(classification_report(y_validation, y_pred_p1))"
   ]
  },
  {
   "cell_type": "markdown",
   "id": "6a5ba805-d775-4574-9179-a905982564de",
   "metadata": {},
   "source": [
    "Mostramos la matriz de confusión:"
   ]
  },
  {
   "cell_type": "code",
   "execution_count": 10,
   "id": "3764c902-1b6e-47cf-9e0a-faabc5b257d6",
   "metadata": {},
   "outputs": [
    {
     "data": {
      "image/png": "[encoded data removed]",
      "text/plain": [
       "<Figure size 1080x504 with 2 Axes>"
      ]
     },
     "metadata": {
      "needs_background": "light"
     },
     "output_type": "display_data"
    }
   ],
   "source": [
    "aux.plot_cm(red_neuronal_p1, X_validation, y_validation)"
   ]
  },
  {
   "cell_type": "markdown",
   "id": "0e455884-03a3-4f82-94fa-f1bdf8e27616",
   "metadata": {},
   "source": [
    "Mostramos la curva roc:"
   ]
  },
  {
   "cell_type": "code",
   "execution_count": 11,
   "id": "b8bdf7a2-8f19-4a3d-8ce2-004396929ca6",
   "metadata": {},
   "outputs": [
    {
     "data": {
      "image/png": "[encoded data removed]",
      "text/plain": [
       "<Figure size 432x288 with 1 Axes>"
      ]
     },
     "metadata": {
      "needs_background": "light"
     },
     "output_type": "display_data"
    }
   ],
   "source": [
    "plot_roc_curve(red_neuronal_p1, X_validation, y_validation, response_method=\"predict_proba\")\n",
    "plt.show()"
   ]
  },
  {
   "cell_type": "markdown",
   "id": "cb5f05de-443b-44fb-b86a-20f0adc1812d",
   "metadata": {},
   "source": [
    "<h3> Preprocesamiento 2: Reducción por Frecuencia + OHE + Estandarización  </h3>"
   ]
  },
  {
   "cell_type": "markdown",
   "id": "efdca443-89d8-4ac1-a26b-545cd218fc5d",
   "metadata": {},
   "source": [
    "Similar al preprocesado anterior: reducimos por frecuencia de aparición algunas columnas, luego aplicaremos OHE a las columnas categoricas. Finalmente estandarizamos los datos."
   ]
  },
  {
   "cell_type": "code",
   "execution_count": 12,
   "id": "e3f857b9-16fb-46da-beee-b8e089dfd0f6",
   "metadata": {},
   "outputs": [],
   "source": [
    "X_p2 = reduce_by_frequency(X, ['barrio', 'religion', 'categoria_de_trabajo', 'estado_marital'], 0.15)\n",
    "init_OHE(X_p2)\n",
    "X_p2 = apply_OHE(X_p2)\n",
    "X_p2 = standarize(X_p2)"
   ]
  },
  {
   "cell_type": "code",
   "execution_count": 13,
   "id": "ae8cd659-71d1-4eb6-b1d9-cc932f59b0db",
   "metadata": {},
   "outputs": [],
   "source": [
    "X_train, X_validation, y_train, y_validation = train_test_split(\n",
    "    X_p2, y, random_state=0, test_size=0.2, stratify=y\n",
    ")"
   ]
  },
  {
   "cell_type": "markdown",
   "id": "8e0c0d2f-ffc7-49f3-b167-84da1889d2e9",
   "metadata": {},
   "source": [
    "Buscamos los mejores hiperparametros para la Red Neuronal con GridSearchCV:\n",
    "\n",
    "    - La métrica que se utiliza para comparar los modelos obtenidos en cada iteracion es roc_auc_score.\n",
    "    - La mejor función de optimización de pesos obtenida en diferentes corridas con diferentes hiperparametros es Adam.\n",
    "    - Las funciones de activación que mejor resultados tuvieron son tanh y logistic(sigmoidea), por lo que se limitaron las opciones a esos valores\n",
    "    - Las hidden_layer_sizes con las que mejores resultados se obtuvieron fueron (30, 30) y (50, 50), por lo que se limitan las opciones a esos valores.\n",
    "    - Los learning rates óptimos para las metricas que se calculan siempre se mantuvo entre 0.001 y 0.01, por lo se limitan las opciones a esos valores, además de mantenerse constante. \n",
    "    - Los alphas óptimos para las métricas que se calculan siempre se mantuvo entre 0.01 y 0.1, por lo se limitan las opciones a esos valores.\n",
    "    - Las tolerancias óptimas para las métricas que se calculan siempre se mantuvo entre 0.00001 y 0.0001, por lo se limitan las opciones a esos valores."
   ]
  },
  {
   "cell_type": "code",
   "execution_count": 14,
   "id": "ea7c1512-b2d0-4811-8d48-d9966486b921",
   "metadata": {},
   "outputs": [],
   "source": [
    "parameters = {'activation': ['tanh', 'logistic'], 'solver':['adam'], 'hidden_layer_sizes': [(30,30), (50, 50)],\n",
    "              'learning_rate_init': [0.001, 0.01], 'alpha':[0.01, 0.1], 'tol':[0.00001, 0.0001]}\n",
    "\n",
    "clf = MLPClassifier(random_state=0)\n",
    "\n",
    "gscv = GridSearchCV(\n",
    "    clf,  parameters, scoring='roc_auc', n_jobs=-1, cv=5, return_train_score=True,\n",
    ").fit(X_train, y_train)"
   ]
  },
  {
   "cell_type": "code",
   "execution_count": 15,
   "id": "b8c389f0-1679-4e49-917e-96d43fcffb61",
   "metadata": {},
   "outputs": [
    {
     "name": "stdout",
     "output_type": "stream",
     "text": [
      "Mejor score ROC-AUC en Entrenamiento: 0.9130894200304457\n",
      "Mejores Parametros {'activation': 'tanh', 'alpha': 0.1, 'hidden_layer_sizes': (50, 50), 'learning_rate_init': 0.001, 'solver': 'adam', 'tol': 1e-05}\n",
      "\n",
      "Mejor score ROC-AUC en Validación: 0.9066509022719301\n"
     ]
    }
   ],
   "source": [
    "print(f\"Mejor score ROC-AUC en Entrenamiento: {gscv.best_score_}\")\n",
    "print(f\"Mejores Parametros {gscv.best_params_}\")\n",
    "\n",
    "print(f\"\\nMejor score ROC-AUC en Validación: {gscv.score(X_validation, y_validation)}\")"
   ]
  },
  {
   "cell_type": "code",
   "execution_count": 16,
   "id": "826f4119-bc5c-4ecc-8ba9-a979e7ae4705",
   "metadata": {},
   "outputs": [
    {
     "data": {
      "text/plain": [
       "MLPClassifier(activation='tanh', alpha=0.1, hidden_layer_sizes=(50, 50),\n",
       "              random_state=0, tol=1e-05)"
      ]
     },
     "execution_count": 16,
     "metadata": {},
     "output_type": "execute_result"
    }
   ],
   "source": [
    "red_neuronal_p2 = gscv.best_estimator_\n",
    "red_neuronal_p2"
   ]
  },
  {
   "cell_type": "markdown",
   "id": "12a5fdde-334c-466a-8409-72dd575c2af5",
   "metadata": {},
   "source": [
    "Predecimos con el validation set:"
   ]
  },
  {
   "cell_type": "code",
   "execution_count": 17,
   "id": "2e21a534-7163-4485-bc33-ce0e6e058fb8",
   "metadata": {},
   "outputs": [],
   "source": [
    "y_pred_p2 = red_neuronal_p2.predict(X_validation)"
   ]
  },
  {
   "cell_type": "markdown",
   "id": "895b02fd-c14b-4bee-8106-daeeb71af09e",
   "metadata": {},
   "source": [
    "### Métricas"
   ]
  },
  {
   "cell_type": "code",
   "execution_count": 18,
   "id": "75e476b4-3d6a-47e5-afab-df28c49af735",
   "metadata": {},
   "outputs": [
    {
     "name": "stdout",
     "output_type": "stream",
     "text": [
      "              precision    recall  f1-score   support\n",
      "\n",
      "           0       0.90      0.90      0.90      4945\n",
      "           1       0.68      0.69      0.69      1568\n",
      "\n",
      "    accuracy                           0.85      6513\n",
      "   macro avg       0.79      0.79      0.79      6513\n",
      "weighted avg       0.85      0.85      0.85      6513\n",
      "\n"
     ]
    }
   ],
   "source": [
    "print(classification_report(y_validation, y_pred_p2))"
   ]
  },
  {
   "cell_type": "markdown",
   "id": "a51754c6-f24e-4f70-b6f5-eb9b2243d2f7",
   "metadata": {},
   "source": [
    "Mostramos la matriz de confusión:"
   ]
  },
  {
   "cell_type": "code",
   "execution_count": 19,
   "id": "8d0ae2a7-686e-4360-adae-22947c879687",
   "metadata": {},
   "outputs": [
    {
     "data": {
      "image/png": "[encoded data removed]",
      "text/plain": [
       "<Figure size 1080x504 with 2 Axes>"
      ]
     },
     "metadata": {
      "needs_background": "light"
     },
     "output_type": "display_data"
    }
   ],
   "source": [
    "aux.plot_cm(red_neuronal_p2, X_validation, y_validation)"
   ]
  },
  {
   "cell_type": "markdown",
   "id": "59bb57db-3f61-42b5-9e3a-1758bbcda4cd",
   "metadata": {},
   "source": [
    "Mostramos la curva roc:"
   ]
  },
  {
   "cell_type": "code",
   "execution_count": 20,
   "id": "7d7c335c-2447-48a8-af39-d41dfaaf011e",
   "metadata": {},
   "outputs": [
    {
     "data": {
      "image/png": "[encoded data removed]",
      "text/plain": [
       "<Figure size 432x288 with 1 Axes>"
      ]
     },
     "metadata": {
      "needs_background": "light"
     },
     "output_type": "display_data"
    }
   ],
   "source": [
    "plot_roc_curve(red_neuronal_p2, X_validation, y_validation, response_method=\"predict_proba\")\n",
    "plt.show()"
   ]
  },
  {
   "cell_type": "markdown",
   "id": "cc448403-583d-43cf-9966-d63586344bcb",
   "metadata": {},
   "source": [
    "<h3> Preprocesamiento 3: Elimino Columnas + Reducción por Frecuencia + OHE +  Estandarización</h3>"
   ]
  },
  {
   "cell_type": "markdown",
   "id": "9b0144e9-5c5f-4bb5-b19d-89d81106ff71",
   "metadata": {},
   "source": [
    "En este preprocesamiento eliminamos las columnas 'religion', 'barrio' y 'categoria de trabajo' ya que en el análisis del TP1 concluimos que no aportaban demasiada información. Además agrupamos las categorias que contienen menos del 5% de los datos. Tambien se aplica One Hot Encoding y Estandarización a los datos."
   ]
  },
  {
   "cell_type": "code",
   "execution_count": 21,
   "id": "887ccdab-fff3-4ee5-8491-2bfe3b2de0d0",
   "metadata": {},
   "outputs": [],
   "source": [
    "X_p3 = eliminar_features(X, ['religion', 'barrio', 'categoria_de_trabajo'])\n",
    "X_p3 = reduce_by_frequency(X_p3, ['estado_marital', 'trabajo'], 0.05)"
   ]
  },
  {
   "cell_type": "code",
   "execution_count": 22,
   "id": "ae0a4c83-536a-467a-af31-422e2a526113",
   "metadata": {},
   "outputs": [],
   "source": [
    "init_OHE(X_p3)\n",
    "X_p3 = apply_OHE(X_p3)\n",
    "X_p3 = standarize(X_p3)"
   ]
  },
  {
   "cell_type": "code",
   "execution_count": 23,
   "id": "b1014984-86ed-4fab-bb0a-2de17a9ea513",
   "metadata": {},
   "outputs": [],
   "source": [
    "X_train, X_validation, y_train, y_validation = train_test_split(\n",
    "    X_p3, y, random_state=0, test_size=0.2, stratify=y\n",
    ")"
   ]
  },
  {
   "cell_type": "markdown",
   "id": "8ec8c47c-f893-439f-8727-fa6ee0693879",
   "metadata": {},
   "source": [
    "Buscamos los mejores hiperparametros para la Red Neuronal con GridSearchCV:\n",
    "\n",
    "    - La métrica que se utiliza para comparar los modelos obtenidos en cada iteracion es roc_auc_score.\n",
    "    - La mejor función de optimización de pesos obtenida en diferentes corridas con diferentes hiperparametros es Adam.\n",
    "    - Las funciones de activación que mejor resultados tuvieron son tanh y logistic(sigmoidea), por lo que se limitaron las opciones a esos valores\n",
    "    - Las hidden_layer_sizes con las que mejores resultados se obtuvieron fueron (30, 30) y (50, 50), por lo que se limitan las opciones a esos valores.\n",
    "    - Los learning rates óptimos para las metricas que se calculan siempre se mantuvo entre 0.001 y 0.01, por lo se limitan las opciones a esos valores, además de mantenerse constante. \n",
    "    - Los alphas óptimos para las métricas que se calculan siempre se mantuvo entre 0.01 y 0.1, por lo se limitan las opciones a esos valores.\n",
    "    - Las tolerancias óptimas para las métricas que se calculan siempre se mantuvo entre 0.00001 y 0.0001, por lo se limitan las opciones a esos valores."
   ]
  },
  {
   "cell_type": "code",
   "execution_count": 24,
   "id": "d085f555-793a-4050-9dfc-3a544aca623c",
   "metadata": {},
   "outputs": [],
   "source": [
    "parameters = {'activation': ['tanh', 'logistic'], 'solver':['adam'], 'hidden_layer_sizes': [(20,20), (30, 30)],\n",
    "              'learning_rate_init': [0.001, 0.01], 'alpha':[0.01, 0.1], 'tol':[0.00001, 0.0001]}\n",
    "\n",
    "clf = MLPClassifier(random_state=0)\n",
    "\n",
    "gscv = GridSearchCV(\n",
    "    clf,  parameters, scoring='roc_auc', n_jobs=-1, cv=5, return_train_score=True,\n",
    ").fit(X_train, y_train)"
   ]
  },
  {
   "cell_type": "code",
   "execution_count": 25,
   "id": "c85618ae-967f-4770-90c3-af1023ebda47",
   "metadata": {},
   "outputs": [
    {
     "name": "stdout",
     "output_type": "stream",
     "text": [
      "Mejor score ROC-AUC en Entrenamiento: 0.9116446834522274\n",
      "Mejores Parametros {'activation': 'tanh', 'alpha': 0.1, 'hidden_layer_sizes': (20, 20), 'learning_rate_init': 0.001, 'solver': 'adam', 'tol': 1e-05}\n",
      "\n",
      "Mejor score ROC-AUC en Validación: 0.9082240745135264\n"
     ]
    }
   ],
   "source": [
    "print(f\"Mejor score ROC-AUC en Entrenamiento: {gscv.best_score_}\")\n",
    "print(f\"Mejores Parametros {gscv.best_params_}\")\n",
    "\n",
    "print(f\"\\nMejor score ROC-AUC en Validación: {gscv.score(X_validation, y_validation)}\")"
   ]
  },
  {
   "cell_type": "code",
   "execution_count": 26,
   "id": "cb57c7fe-a50f-4e67-af65-7493d3b64d17",
   "metadata": {},
   "outputs": [
    {
     "data": {
      "text/plain": [
       "MLPClassifier(activation='tanh', alpha=0.1, hidden_layer_sizes=(20, 20),\n",
       "              random_state=0, tol=1e-05)"
      ]
     },
     "execution_count": 26,
     "metadata": {},
     "output_type": "execute_result"
    }
   ],
   "source": [
    "red_neuronal_p3 = gscv.best_estimator_\n",
    "red_neuronal_p3"
   ]
  },
  {
   "cell_type": "markdown",
   "id": "d5549f53-3187-422a-96f9-b78fb26fd1dd",
   "metadata": {},
   "source": [
    "Predecimos con el validation set:"
   ]
  },
  {
   "cell_type": "code",
   "execution_count": 27,
   "id": "dc51c506-d520-4a37-8147-e5a2b1f6ce6d",
   "metadata": {},
   "outputs": [],
   "source": [
    "y_pred_p3 = red_neuronal_p3.predict(X_validation)"
   ]
  },
  {
   "cell_type": "markdown",
   "id": "1c86491e-2970-460c-8883-eef2a48595e2",
   "metadata": {},
   "source": [
    "### Métricas"
   ]
  },
  {
   "cell_type": "code",
   "execution_count": 28,
   "id": "8b6a9c72-3869-448e-93af-2eb25dfdcdfe",
   "metadata": {},
   "outputs": [
    {
     "name": "stdout",
     "output_type": "stream",
     "text": [
      "              precision    recall  f1-score   support\n",
      "\n",
      "           0       0.87      0.94      0.90      4945\n",
      "           1       0.75      0.57      0.65      1568\n",
      "\n",
      "    accuracy                           0.85      6513\n",
      "   macro avg       0.81      0.76      0.78      6513\n",
      "weighted avg       0.84      0.85      0.84      6513\n",
      "\n"
     ]
    }
   ],
   "source": [
    "print(classification_report(y_validation, y_pred_p3))"
   ]
  },
  {
   "cell_type": "markdown",
   "id": "f49c733a-3487-4279-a150-b37b07576ce7",
   "metadata": {},
   "source": [
    "Mostramos la matriz de confusión:"
   ]
  },
  {
   "cell_type": "code",
   "execution_count": 29,
   "id": "5a65ede5-f8e4-4f12-acff-9eb786ed50a5",
   "metadata": {},
   "outputs": [
    {
     "data": {
      "image/png": "[encoded data removed]",
      "text/plain": [
       "<Figure size 1080x504 with 2 Axes>"
      ]
     },
     "metadata": {
      "needs_background": "light"
     },
     "output_type": "display_data"
    }
   ],
   "source": [
    "aux.plot_cm(red_neuronal_p3, X_validation, y_validation)"
   ]
  },
  {
   "cell_type": "markdown",
   "id": "66c93289-683a-418c-8fbb-60e161a2cb4b",
   "metadata": {},
   "source": [
    "Mostramos la curva roc:"
   ]
  },
  {
   "cell_type": "code",
   "execution_count": 30,
   "id": "2113b388-45d5-48a4-b8b8-151e17bc945e",
   "metadata": {},
   "outputs": [
    {
     "data": {
      "image/png": "[encoded data removed]",
      "text/plain": [
       "<Figure size 432x288 with 1 Axes>"
      ]
     },
     "metadata": {
      "needs_background": "light"
     },
     "output_type": "display_data"
    }
   ],
   "source": [
    "plot_roc_curve(red_neuronal_p3, X_validation, y_validation, response_method=\"predict_proba\")\n",
    "plt.show()"
   ]
  },
  {
   "cell_type": "markdown",
   "id": "86048e2c-548f-4238-a98c-57af6d376513",
   "metadata": {},
   "source": [
    "<h1>Conclusión</h1>"
   ]
  },
  {
   "cell_type": "markdown",
   "id": "cf84108b-16ec-41cb-a561-08588db27601",
   "metadata": {},
   "source": [
    "La red con el tercer preprocesamiento obtiene el mejor de los tres resultados. Predice mejor los casos sin alto valor adquisitivo, y peor los casos con alto valor adquisitivo."
   ]
  },
  {
   "cell_type": "markdown",
   "id": "c542f230-c049-4585-b24d-a639a7d65300",
   "metadata": {},
   "source": [
    "<h1>Predicción</h1>"
   ]
  },
  {
   "cell_type": "code",
   "execution_count": 31,
   "id": "15e5012e-dbc5-4a20-9dd3-4c7ae94e587f",
   "metadata": {},
   "outputs": [],
   "source": [
    "ids, X_holdout = aux.get_holdout_set()"
   ]
  },
  {
   "cell_type": "code",
   "execution_count": 32,
   "id": "5335bf32-7efc-4332-a98d-8c1850b9238a",
   "metadata": {},
   "outputs": [],
   "source": [
    "X_holdout = init_dataset(X_holdout)"
   ]
  },
  {
   "cell_type": "code",
   "execution_count": 33,
   "id": "4b07372c-e3e6-45d5-a8c3-d261fb7ec707",
   "metadata": {},
   "outputs": [],
   "source": [
    "X_holdout_p3 = eliminar_features(X_holdout, ['religion', 'barrio', 'categoria_de_trabajo'])\n",
    "X_holdout_p3 = reduce_by_frequency(X_holdout_p3, ['estado_marital', 'trabajo'], 0.05)\n",
    "X_holdout_p3 = apply_OHE(X_holdout_p3)\n",
    "X_holdout_p3 = standarize(X_holdout_p3)"
   ]
  },
  {
   "cell_type": "code",
   "execution_count": 34,
   "id": "d97400d1-883b-43bc-97c8-123d3d65cbe0",
   "metadata": {},
   "outputs": [],
   "source": [
    "red_neuronal_pred = red_neuronal_p3.predict(X_holdout_p3)"
   ]
  },
  {
   "cell_type": "code",
   "execution_count": 35,
   "id": "72a9e8de-6b8c-4c71-9f7f-a1d523be6785",
   "metadata": {},
   "outputs": [],
   "source": [
    "aux.create_prediction(ids, red_neuronal_pred, file_name='red_neuronal')"
   ]
  }
 ],
 "metadata": {
  "kernelspec": {
   "display_name": "Python 3",
   "language": "python",
   "name": "python3"
  },
  "language_info": {
   "codemirror_mode": {
    "name": "ipython",
    "version": 3
   },
   "file_extension": ".py",
   "mimetype": "text/x-python",
   "name": "python",
   "nbconvert_exporter": "python",
   "pygments_lexer": "ipython3",
   "version": "3.9.1"
  }
 },
 "nbformat": 4,
 "nbformat_minor": 5
}
