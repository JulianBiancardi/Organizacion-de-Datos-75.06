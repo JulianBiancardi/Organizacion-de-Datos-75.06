{
 "cells": [
  {
   "cell_type": "code",
   "execution_count": 5,
   "id": "08b54e04-d9d1-4470-89d0-e40a954051a4",
   "metadata": {},
   "outputs": [],
   "source": [
    "#Includes necesarios\n",
    "from sklearn.ensemble import VotingClassifier\n",
    "\n",
    "from sklearn.tree import DecisionTreeClassifier\n",
    "from sklearn.ensemble import GradientBoostingClassifier\n",
    "\n",
    "import pandas as pd\n",
    "import numpy as np\n",
    "import matplotlib.pyplot as plt \n",
    "from sklearn.model_selection import RandomizedSearchCV,GridSearchCV\n",
    "from sklearn.model_selection import train_test_split\n",
    "\n",
    "from auxiliar import get_train_set,get_holdout_set,create_prediction\n",
    "import preprocessing as pr\n",
    "\n",
    "from auxiliar import plot_cm,plot_tree\n",
    "from sklearn.metrics import classification_report,plot_roc_curve"
   ]
  },
  {
   "cell_type": "markdown",
   "id": "d1a604e9-cd6e-412e-a9ce-b2e20306a0fd",
   "metadata": {
    "tags": []
   },
   "source": [
    "# **Voting**"
   ]
  },
  {
   "cell_type": "markdown",
   "id": "8e0ebc96-29b9-44ba-85b0-a7b58f6e1e6a",
   "metadata": {},
   "source": [
    "Para este tipo de ensamble elejiremos aquellos mejores modelos que tuvieron un buen resultado de la metrica *roc_auc*. Esto son:\n",
    "\n",
    "      - Arbol de Decision: Best params {'criterion': 'gini', 'max_depth': 11, 'min_samples_leaf': 41}\n",
    "      - Boosting: Best params {'n_estimators': 300, 'min_samples_leaf': 100, 'max_features': 'sqrt', 'max_depth': 10, 'loss': 'deviance', 'learning_rate': 0.1}\n",
    "      - Red Neuronal"
   ]
  },
  {
   "cell_type": "markdown",
   "id": "62d86d93-d514-45a9-8c29-d0733c2a950e",
   "metadata": {
    "tags": []
   },
   "source": [
    "Obtenemos el dataset con el cual entrenaremos nuestro modelo. Para este modelo se opto unicamente tratar los missings como categoricos:"
   ]
  },
  {
   "cell_type": "code",
   "execution_count": 3,
   "id": "54f2b961-dd8a-426d-965a-7a7d65106c05",
   "metadata": {
    "tags": []
   },
   "outputs": [],
   "source": [
    "X,y = get_train_set()\n",
    "X = pr.init_dataset(X)"
   ]
  },
  {
   "cell_type": "markdown",
   "id": "c8e24022-eb20-4ce3-9815-4f21f107f0ee",
   "metadata": {},
   "source": [
    "Aplicamos OHE a nuestras columnas categoricas debido a que todos nuestros modelos entienden valores numericos:"
   ]
  },
  {
   "cell_type": "code",
   "execution_count": 10,
   "id": "ec947269-8573-4663-9178-6f1e100a217a",
   "metadata": {},
   "outputs": [],
   "source": [
    "pr.init_OHE(X)\n",
    "X_ohe = pr.apply_OHE(X)"
   ]
  },
  {
   "cell_type": "markdown",
   "id": "39aa71ab-c503-4d71-8e38-5b739ccfdb30",
   "metadata": {},
   "source": [
    "Creamos los modelos mencionados con los mejores hiperparametros encontrados en su respectivo archivo."
   ]
  },
  {
   "cell_type": "code",
   "execution_count": 11,
   "id": "fbdde4a6-7e9e-453f-ad8b-54f7e628ea89",
   "metadata": {},
   "outputs": [],
   "source": [
    "model_tree = DecisionTreeClassifier(max_depth=11, min_samples_leaf=41)\n",
    "model_boosting = GradientBoostingClassifier(max_depth=10, max_features='sqrt',min_samples_leaf=100, n_estimators=300,random_state=0)"
   ]
  },
  {
   "cell_type": "markdown",
   "id": "d8218174-4c6d-42c8-9aec-f77350db8e68",
   "metadata": {},
   "source": [
    "Partimos nuestro set en *train* y *validation*:"
   ]
  },
  {
   "cell_type": "code",
   "execution_count": 12,
   "id": "9f47453e-764d-46c1-ab75-cea0e8444dfb",
   "metadata": {},
   "outputs": [],
   "source": [
    "X_train, X_validation, y_train, y_validation = train_test_split(X_ohe,y, test_size=0.2, stratify=y, random_state=0)"
   ]
  },
  {
   "cell_type": "markdown",
   "id": "6a2a720d-5a2d-46bf-8011-54fe4f4c75eb",
   "metadata": {},
   "source": [
    "## Hard Voting"
   ]
  },
  {
   "cell_type": "markdown",
   "id": "52de4906-8754-417b-968e-dd458cd02f62",
   "metadata": {},
   "source": [
    "Primero veremos como funciona el ensamble Voting Hard"
   ]
  },
  {
   "cell_type": "code",
   "execution_count": 13,
   "id": "53726e75-a4ab-4f95-8366-6ffe11442bf5",
   "metadata": {},
   "outputs": [],
   "source": [
    "model_votinghard = VotingClassifier(estimators=[('tree', model_tree), ('boosting', model_boosting)], voting='hard')"
   ]
  },
  {
   "cell_type": "markdown",
   "id": "194917ee-cbf9-4e9e-8397-76fab90e1bfb",
   "metadata": {},
   "source": [
    "Entrenamos con el training set:"
   ]
  },
  {
   "cell_type": "code",
   "execution_count": 16,
   "id": "c02edc66-6453-4a20-a923-8b1c4d293556",
   "metadata": {},
   "outputs": [
    {
     "data": {
      "text/plain": [
       "VotingClassifier(estimators=[('tree',\n",
       "                              DecisionTreeClassifier(max_depth=11,\n",
       "                                                     min_samples_leaf=41)),\n",
       "                             ('boosting',\n",
       "                              GradientBoostingClassifier(max_depth=10,\n",
       "                                                         max_features='sqrt',\n",
       "                                                         min_samples_leaf=100,\n",
       "                                                         n_estimators=300,\n",
       "                                                         random_state=0))])"
      ]
     },
     "execution_count": 16,
     "metadata": {},
     "output_type": "execute_result"
    }
   ],
   "source": [
    "model_votinghard.fit(X_train,y_train)"
   ]
  },
  {
   "cell_type": "markdown",
   "id": "7dbf4e5b-ba47-4fcb-a9b2-67e850e6c0c2",
   "metadata": {},
   "source": [
    "Predigo con el validation set:"
   ]
  },
  {
   "cell_type": "code",
   "execution_count": 17,
   "id": "93ae7d10-4721-49f3-9500-9d6005c53a2c",
   "metadata": {},
   "outputs": [],
   "source": [
    "votinghard_predict = model_votinghard.predict(X_validation)"
   ]
  },
  {
   "cell_type": "markdown",
   "id": "63a177c0-1a8d-42ec-ac11-98cfa956d195",
   "metadata": {},
   "source": [
    "**Metricas**"
   ]
  },
  {
   "cell_type": "code",
   "execution_count": 19,
   "id": "8033ff44-9b0f-44e3-ae64-d3e4fcfae71d",
   "metadata": {},
   "outputs": [
    {
     "name": "stdout",
     "output_type": "stream",
     "text": [
      "              precision    recall  f1-score   support\n",
      "\n",
      "           0       0.88      0.95      0.91      4945\n",
      "           1       0.80      0.58      0.67      1568\n",
      "\n",
      "    accuracy                           0.86      6513\n",
      "   macro avg       0.84      0.77      0.79      6513\n",
      "weighted avg       0.86      0.86      0.86      6513\n",
      "\n"
     ]
    }
   ],
   "source": [
    "print(classification_report(y_validation, votinghard_predict))"
   ]
  },
  {
   "cell_type": "code",
   "execution_count": 20,
   "id": "92633a03-2593-4103-b927-d921dd43ecbd",
   "metadata": {},
   "outputs": [
    {
     "data": {
      "image/png": "[encoded data removed]",
      "text/plain": [
       "<Figure size 1080x504 with 2 Axes>"
      ]
     },
     "metadata": {
      "needs_background": "light"
     },
     "output_type": "display_data"
    }
   ],
   "source": [
    "plot_cm(model_votinghard, X_validation, y_validation)"
   ]
  },
  {
   "cell_type": "markdown",
   "id": "33379db8-122e-42d4-a3dd-4fc7b90bd197",
   "metadata": {},
   "source": [
    "## Soft Voting"
   ]
  },
  {
   "cell_type": "markdown",
   "id": "9f4338ac-412e-4ce7-8e02-3d207a2bf8e2",
   "metadata": {},
   "source": [
    "Ahora veremos como funciona el ensamble Voting Soft"
   ]
  },
  {
   "cell_type": "code",
   "execution_count": 22,
   "id": "78a22303-0cee-4f2b-a0a2-e8f57e301d06",
   "metadata": {},
   "outputs": [],
   "source": [
    "model_votingsoft = VotingClassifier(estimators=[('tree', model_tree), ('boosting', model_boosting)], voting='soft')"
   ]
  },
  {
   "cell_type": "markdown",
   "id": "d1b6d53b-3581-4d79-bc61-311018af8543",
   "metadata": {},
   "source": [
    "Entrenamos con el training set:"
   ]
  },
  {
   "cell_type": "code",
   "execution_count": 23,
   "id": "3119924b-9d56-48e5-8564-fd6869f8e5d3",
   "metadata": {},
   "outputs": [
    {
     "data": {
      "text/plain": [
       "VotingClassifier(estimators=[('tree',\n",
       "                              DecisionTreeClassifier(max_depth=11,\n",
       "                                                     min_samples_leaf=41)),\n",
       "                             ('boosting',\n",
       "                              GradientBoostingClassifier(max_depth=10,\n",
       "                                                         max_features='sqrt',\n",
       "                                                         min_samples_leaf=100,\n",
       "                                                         n_estimators=300,\n",
       "                                                         random_state=0))],\n",
       "                 voting='soft')"
      ]
     },
     "execution_count": 23,
     "metadata": {},
     "output_type": "execute_result"
    }
   ],
   "source": [
    "model_votingsoft.fit(X_train,y_train)"
   ]
  },
  {
   "cell_type": "markdown",
   "id": "9833019f-fe26-48dc-8cf3-0d9122ac4db4",
   "metadata": {},
   "source": [
    "Predigo con el validation set:"
   ]
  },
  {
   "cell_type": "code",
   "execution_count": 25,
   "id": "993302f3-cac7-4748-8f53-7c3fcc2dd9dc",
   "metadata": {},
   "outputs": [],
   "source": [
    "votingsoft_predict = model_votingsoft.predict(X_validation)"
   ]
  },
  {
   "cell_type": "markdown",
   "id": "3beabc7a-1bfc-4094-9f79-efe9b334283c",
   "metadata": {},
   "source": [
    "**Metricas**"
   ]
  },
  {
   "cell_type": "code",
   "execution_count": 26,
   "id": "69850290-2202-484c-b22d-627d6506583b",
   "metadata": {},
   "outputs": [
    {
     "name": "stdout",
     "output_type": "stream",
     "text": [
      "              precision    recall  f1-score   support\n",
      "\n",
      "           0       0.89      0.94      0.91      4945\n",
      "           1       0.78      0.62      0.69      1568\n",
      "\n",
      "    accuracy                           0.87      6513\n",
      "   macro avg       0.83      0.78      0.80      6513\n",
      "weighted avg       0.86      0.87      0.86      6513\n",
      "\n"
     ]
    }
   ],
   "source": [
    "print(classification_report(y_validation, votingsoft_predict))"
   ]
  },
  {
   "cell_type": "code",
   "execution_count": 27,
   "id": "1798892e-d8cc-46df-8a07-b3fa1a72f8d5",
   "metadata": {},
   "outputs": [
    {
     "data": {
      "image/png": "[encoded data removed]",
      "text/plain": [
       "<Figure size 1080x504 with 2 Axes>"
      ]
     },
     "metadata": {
      "needs_background": "light"
     },
     "output_type": "display_data"
    }
   ],
   "source": [
    "plot_cm(model_votingsoft, X_validation, y_validation)"
   ]
  },
  {
   "cell_type": "code",
   "execution_count": 30,
   "id": "1cb2b336-54be-4bd9-bc5c-52937497c92d",
   "metadata": {},
   "outputs": [
    {
     "data": {
      "image/png": "[encoded data removed]",
      "text/plain": [
       "<Figure size 432x288 with 1 Axes>"
      ]
     },
     "metadata": {
      "needs_background": "light"
     },
     "output_type": "display_data"
    }
   ],
   "source": [
    "plot_roc_curve(model_votingsoft, X_validation, y_validation, response_method=\"predict_proba\")\n",
    "plt.show()"
   ]
  }
 ],
 "metadata": {
  "kernelspec": {
   "display_name": "Python 3",
   "language": "python",
   "name": "python3"
  },
  "language_info": {
   "codemirror_mode": {
    "name": "ipython",
    "version": 3
   },
   "file_extension": ".py",
   "mimetype": "text/x-python",
   "name": "python",
   "nbconvert_exporter": "python",
   "pygments_lexer": "ipython3",
   "version": "3.8.8"
  }
 },
 "nbformat": 4,
 "nbformat_minor": 5
}
