{
 "cells": [
  {
   "cell_type": "code",
   "execution_count": 2,
   "id": "63dbe5f8-36d9-46b4-a341-fbf5cdafea47",
   "metadata": {},
   "outputs": [],
   "source": [
    "#Includes necesarios\n",
    "from sklearn.neighbors import KNeighborsClassifier\n",
    "\n",
    "import pandas as pd\n",
    "import numpy as np\n",
    "from sklearn.model_selection import RandomizedSearchCV\n",
    "\n",
    "from preprocessing import get_train_validation\n",
    "from preprocessing import apply_OHE,standarize,normalize\n",
    "\n",
    "from sklearn.metrics import classification_report\n",
    "from plot_metrics import plot_cm, plot_roc_curve"
   ]
  },
  {
   "cell_type": "markdown",
   "id": "3910f5e6-2df4-478d-b574-98da0e0f4664",
   "metadata": {},
   "source": [
    "# KNN"
   ]
  },
  {
   "cell_type": "markdown",
   "id": "09e12297-4223-40ff-a593-0c84d801e800",
   "metadata": {},
   "source": [
    "## Preprocesamiento: OHE"
   ]
  },
  {
   "cell_type": "markdown",
   "id": "88e61630-6a35-464e-a70b-7fb7b478d692",
   "metadata": {},
   "source": [
    "Obtenemos los datos de entrenamiento y de validacion"
   ]
  },
  {
   "cell_type": "code",
   "execution_count": 3,
   "id": "3de6df0d-fbfc-4e8b-9bba-69d0b2cb0375",
   "metadata": {},
   "outputs": [],
   "source": [
    "X_train, X_validation, y_train, y_validation = get_train_validation()"
   ]
  },
  {
   "cell_type": "markdown",
   "id": "3bc54930-ec7b-463a-9e8f-35dfb34c0853",
   "metadata": {},
   "source": [
    "Para entrenar KNN necesitamos aplicar OHE en las columnas categoricas, para esto llamamos a la funcion de preprocesamiento **aplicar_OHE**:"
   ]
  },
  {
   "cell_type": "code",
   "execution_count": 4,
   "id": "b8b46980-6957-47c3-9462-6e60665eccc3",
   "metadata": {},
   "outputs": [],
   "source": [
    "X_train = apply_OHE(X_train)\n",
    "X_validation = apply_OHE(X_validation)"
   ]
  },
  {
   "cell_type": "markdown",
   "id": "4a46d527-cdd4-4f21-b217-65f7c19a00f8",
   "metadata": {},
   "source": [
    "Busco los mejores hiperparametros para el arbol de decision con randomsearch:"
   ]
  },
  {
   "cell_type": "code",
   "execution_count": 5,
   "id": "94dcde2f-cc56-45ed-b023-8644e3309e47",
   "metadata": {},
   "outputs": [
    {
     "data": {
      "text/plain": [
       "'params = {\\n    \\'n_neighbors\\': np.arange(200, 300),\\n    \\'weights\\': [\"uniform\",\"distance\"],\\n}\\n\\nclf = KNeighborsClassifier()\\n\\nrgscv = RandomizedSearchCV(\\n    clf, params, n_iter=60, scoring=\\'accuracy\\', n_jobs=-1, cv=5, return_train_score=True\\n).fit(X_train, y_train)\\n\\nprint(f\"Best score: {rgscv.best_score_}\")\\nprint(f\"Best params {rgscv.best_params_}\")\\nn_neighbors = rgscv.best_params_.get(\"n_neighbors\")\\nweights = rgscv.best_params_.get(\"weights\")'"
      ]
     },
     "execution_count": 5,
     "metadata": {},
     "output_type": "execute_result"
    }
   ],
   "source": [
    "'''params = {\n",
    "    'n_neighbors': np.arange(200, 300),\n",
    "    'weights': [\"uniform\",\"distance\"],\n",
    "}\n",
    "\n",
    "clf = KNeighborsClassifier()\n",
    "\n",
    "rgscv = RandomizedSearchCV(\n",
    "    clf, params, n_iter=60, scoring='accuracy', n_jobs=-1, cv=5, return_train_score=True\n",
    ").fit(X_train, y_train)\n",
    "\n",
    "print(f\"Best score: {rgscv.best_score_}\")\n",
    "print(f\"Best params {rgscv.best_params_}\")\n",
    "n_neighbors = rgscv.best_params_.get(\"n_neighbors\")\n",
    "weights = rgscv.best_params_.get(\"weights\")'''"
   ]
  },
  {
   "cell_type": "markdown",
   "id": "40e840aa-2d70-4d35-9a14-4b112189ec97",
   "metadata": {},
   "source": [
    "Armo el modelo de KNN con los hiperparametros calculados:"
   ]
  },
  {
   "cell_type": "code",
   "execution_count": 6,
   "id": "a2934479-b663-40c1-b869-e6c1e6348e23",
   "metadata": {},
   "outputs": [],
   "source": [
    "model_knn = KNeighborsClassifier(n_neighbors=21,weights='distance')"
   ]
  },
  {
   "cell_type": "markdown",
   "id": "ad0e7757-119b-4c61-87b4-46907a32c4a2",
   "metadata": {},
   "source": [
    "Entreno el modelo con el train set:"
   ]
  },
  {
   "cell_type": "code",
   "execution_count": 7,
   "id": "1980d0f6-e611-4ea2-9af9-71900fc20fa4",
   "metadata": {},
   "outputs": [
    {
     "name": "stderr",
     "output_type": "stream",
     "text": [
      "C:\\Users\\lbca-pc\\anaconda3\\lib\\site-packages\\sklearn\\neighbors\\_classification.py:179: DataConversionWarning: A column-vector y was passed when a 1d array was expected. Please change the shape of y to (n_samples,), for example using ravel().\n",
      "  return self._fit(X, y)\n"
     ]
    },
    {
     "data": {
      "text/plain": [
       "KNeighborsClassifier(n_neighbors=21, weights='distance')"
      ]
     },
     "execution_count": 7,
     "metadata": {},
     "output_type": "execute_result"
    }
   ],
   "source": [
    "model_knn.fit(X_train, y_train)"
   ]
  },
  {
   "cell_type": "markdown",
   "id": "8b60eba1-9878-4753-95e7-094fe569acdb",
   "metadata": {},
   "source": [
    "Predigo con el validation set:"
   ]
  },
  {
   "cell_type": "code",
   "execution_count": 8,
   "id": "fa5d8f51-f0f1-4d99-95ae-ef74862ec56f",
   "metadata": {},
   "outputs": [],
   "source": [
    "knn_predict = model_knn.predict(X_validation)"
   ]
  },
  {
   "cell_type": "markdown",
   "id": "cb3de6be-df32-435c-ac60-34b2feca7dfa",
   "metadata": {},
   "source": [
    "## Metricas"
   ]
  },
  {
   "cell_type": "code",
   "execution_count": 9,
   "id": "a53b38e5-51f9-4ae1-87eb-b73e805010ae",
   "metadata": {},
   "outputs": [
    {
     "name": "stdout",
     "output_type": "stream",
     "text": [
      "              precision    recall  f1-score   support\n",
      "\n",
      "           0       0.88      0.91      0.90      4944\n",
      "           1       0.70      0.62      0.66      1568\n",
      "\n",
      "    accuracy                           0.84      6512\n",
      "   macro avg       0.79      0.77      0.78      6512\n",
      "weighted avg       0.84      0.84      0.84      6512\n",
      "\n"
     ]
    }
   ],
   "source": [
    "print(classification_report(y_validation, knn_predict))"
   ]
  },
  {
   "cell_type": "code",
   "execution_count": 10,
   "id": "ba70a820-a0f6-41c5-b197-af5c719d7759",
   "metadata": {},
   "outputs": [
    {
     "data": {
      "image/png": "[encoded data removed]",
      "text/plain": [
       "<Figure size 1080x504 with 2 Axes>"
      ]
     },
     "metadata": {
      "needs_background": "light"
     },
     "output_type": "display_data"
    }
   ],
   "source": [
    "plot_cm(model_knn, X_validation, y_validation)"
   ]
  },
  {
   "cell_type": "code",
   "execution_count": 11,
   "id": "1135a2b1-2369-46ad-9189-9809404a661b",
   "metadata": {},
   "outputs": [
    {
     "data": {
      "image/png": "[encoded data removed]",
      "text/plain": [
       "<Figure size 1080x720 with 1 Axes>"
      ]
     },
     "metadata": {
      "needs_background": "light"
     },
     "output_type": "display_data"
    }
   ],
   "source": [
    "plot_roc_curve(y_validation,knn_predict)"
   ]
  },
  {
   "cell_type": "markdown",
   "id": "d7188418-4ada-4197-82a2-b2c73efc5b3b",
   "metadata": {},
   "source": [
    "## Preprocesamiento: OHE + ESTANDARIZACION"
   ]
  },
  {
   "cell_type": "markdown",
   "id": "ea987c8e-f358-43ed-8f99-d9442655b694",
   "metadata": {},
   "source": [
    "Obtenemos los datos de entrenamiento y de validacion"
   ]
  },
  {
   "cell_type": "code",
   "execution_count": 12,
   "id": "83e2f2fb-e28c-4ff5-9de5-c9c498a56ffc",
   "metadata": {},
   "outputs": [],
   "source": [
    "X_train, X_validation, y_train, y_validation = get_train_validation()"
   ]
  },
  {
   "cell_type": "markdown",
   "id": "a5b7fc3c-392d-487e-ae62-40cb58f86ac9",
   "metadata": {},
   "source": [
    "Para entrenar KNN necesitamos aplicar OHE en las columnas categoricas, para esto llamamos a la funcion de preprocesamiento **apply_OHE** y **estandarized**:"
   ]
  },
  {
   "cell_type": "code",
   "execution_count": 13,
   "id": "f82c55c3-8e62-40c9-a7fc-ac3e5df6990e",
   "metadata": {},
   "outputs": [],
   "source": [
    "X_train = apply_OHE(X_train)\n",
    "X_train = standarize(X_train)\n",
    "X_validation = apply_OHE(X_validation)\n",
    "X_validation = standarize(X_validation)"
   ]
  },
  {
   "cell_type": "code",
   "execution_count": 31,
   "id": "729a1dfb-e96c-4f7a-9d8f-f86cb8ee2e8e",
   "metadata": {},
   "outputs": [
    {
     "data": {
      "text/html": [
       "<div>\n",
       "<style scoped>\n",
       "    .dataframe tbody tr th:only-of-type {\n",
       "        vertical-align: middle;\n",
       "    }\n",
       "\n",
       "    .dataframe tbody tr th {\n",
       "        vertical-align: top;\n",
       "    }\n",
       "\n",
       "    .dataframe thead th {\n",
       "        text-align: right;\n",
       "    }\n",
       "</style>\n",
       "<table border=\"1\" class=\"dataframe\">\n",
       "  <thead>\n",
       "    <tr style=\"text-align: right;\">\n",
       "      <th></th>\n",
       "      <th>0</th>\n",
       "      <th>1</th>\n",
       "      <th>2</th>\n",
       "      <th>3</th>\n",
       "      <th>4</th>\n",
       "      <th>5</th>\n",
       "      <th>6</th>\n",
       "      <th>7</th>\n",
       "      <th>8</th>\n",
       "      <th>9</th>\n",
       "      <th>...</th>\n",
       "      <th>71</th>\n",
       "      <th>72</th>\n",
       "      <th>73</th>\n",
       "      <th>74</th>\n",
       "      <th>75</th>\n",
       "      <th>76</th>\n",
       "      <th>77</th>\n",
       "      <th>78</th>\n",
       "      <th>79</th>\n",
       "      <th>80</th>\n",
       "    </tr>\n",
       "  </thead>\n",
       "  <tbody>\n",
       "    <tr>\n",
       "      <th>0</th>\n",
       "      <td>0.311046</td>\n",
       "      <td>0.544331</td>\n",
       "      <td>0.0</td>\n",
       "      <td>0.777616</td>\n",
       "      <td>0.0</td>\n",
       "      <td>0.0</td>\n",
       "      <td>0.0</td>\n",
       "      <td>0.0</td>\n",
       "      <td>0.0</td>\n",
       "      <td>0.0</td>\n",
       "      <td>...</td>\n",
       "      <td>0.000000</td>\n",
       "      <td>0.00000</td>\n",
       "      <td>0.000000</td>\n",
       "      <td>0.000000</td>\n",
       "      <td>0.0</td>\n",
       "      <td>0.0</td>\n",
       "      <td>0.0</td>\n",
       "      <td>0.000000</td>\n",
       "      <td>0.0</td>\n",
       "      <td>0.0</td>\n",
       "    </tr>\n",
       "    <tr>\n",
       "      <th>1</th>\n",
       "      <td>0.214320</td>\n",
       "      <td>0.392920</td>\n",
       "      <td>0.0</td>\n",
       "      <td>0.893000</td>\n",
       "      <td>0.0</td>\n",
       "      <td>0.0</td>\n",
       "      <td>0.0</td>\n",
       "      <td>0.0</td>\n",
       "      <td>0.0</td>\n",
       "      <td>0.0</td>\n",
       "      <td>...</td>\n",
       "      <td>0.000000</td>\n",
       "      <td>0.01786</td>\n",
       "      <td>0.000000</td>\n",
       "      <td>0.000000</td>\n",
       "      <td>0.0</td>\n",
       "      <td>0.0</td>\n",
       "      <td>0.0</td>\n",
       "      <td>0.000000</td>\n",
       "      <td>0.0</td>\n",
       "      <td>0.0</td>\n",
       "    </tr>\n",
       "    <tr>\n",
       "      <th>2</th>\n",
       "      <td>0.211588</td>\n",
       "      <td>0.906804</td>\n",
       "      <td>0.0</td>\n",
       "      <td>0.362722</td>\n",
       "      <td>0.0</td>\n",
       "      <td>0.0</td>\n",
       "      <td>0.0</td>\n",
       "      <td>0.0</td>\n",
       "      <td>0.0</td>\n",
       "      <td>0.0</td>\n",
       "      <td>...</td>\n",
       "      <td>0.000000</td>\n",
       "      <td>0.00000</td>\n",
       "      <td>0.000000</td>\n",
       "      <td>0.015113</td>\n",
       "      <td>0.0</td>\n",
       "      <td>0.0</td>\n",
       "      <td>0.0</td>\n",
       "      <td>0.000000</td>\n",
       "      <td>0.0</td>\n",
       "      <td>0.0</td>\n",
       "    </tr>\n",
       "    <tr>\n",
       "      <th>3</th>\n",
       "      <td>0.271779</td>\n",
       "      <td>0.689900</td>\n",
       "      <td>0.0</td>\n",
       "      <td>0.668994</td>\n",
       "      <td>0.0</td>\n",
       "      <td>0.0</td>\n",
       "      <td>0.0</td>\n",
       "      <td>0.0</td>\n",
       "      <td>0.0</td>\n",
       "      <td>0.0</td>\n",
       "      <td>...</td>\n",
       "      <td>0.020906</td>\n",
       "      <td>0.00000</td>\n",
       "      <td>0.000000</td>\n",
       "      <td>0.000000</td>\n",
       "      <td>0.0</td>\n",
       "      <td>0.0</td>\n",
       "      <td>0.0</td>\n",
       "      <td>0.000000</td>\n",
       "      <td>0.0</td>\n",
       "      <td>0.0</td>\n",
       "    </tr>\n",
       "    <tr>\n",
       "      <th>4</th>\n",
       "      <td>0.274372</td>\n",
       "      <td>0.468046</td>\n",
       "      <td>0.0</td>\n",
       "      <td>0.839256</td>\n",
       "      <td>0.0</td>\n",
       "      <td>0.0</td>\n",
       "      <td>0.0</td>\n",
       "      <td>0.0</td>\n",
       "      <td>0.0</td>\n",
       "      <td>0.0</td>\n",
       "      <td>...</td>\n",
       "      <td>0.000000</td>\n",
       "      <td>0.00000</td>\n",
       "      <td>0.000000</td>\n",
       "      <td>0.000000</td>\n",
       "      <td>0.0</td>\n",
       "      <td>0.0</td>\n",
       "      <td>0.0</td>\n",
       "      <td>0.000000</td>\n",
       "      <td>0.0</td>\n",
       "      <td>0.0</td>\n",
       "    </tr>\n",
       "    <tr>\n",
       "      <th>...</th>\n",
       "      <td>...</td>\n",
       "      <td>...</td>\n",
       "      <td>...</td>\n",
       "      <td>...</td>\n",
       "      <td>...</td>\n",
       "      <td>...</td>\n",
       "      <td>...</td>\n",
       "      <td>...</td>\n",
       "      <td>...</td>\n",
       "      <td>...</td>\n",
       "      <td>...</td>\n",
       "      <td>...</td>\n",
       "      <td>...</td>\n",
       "      <td>...</td>\n",
       "      <td>...</td>\n",
       "      <td>...</td>\n",
       "      <td>...</td>\n",
       "      <td>...</td>\n",
       "      <td>...</td>\n",
       "      <td>...</td>\n",
       "      <td>...</td>\n",
       "    </tr>\n",
       "    <tr>\n",
       "      <th>26043</th>\n",
       "      <td>0.291932</td>\n",
       "      <td>0.718602</td>\n",
       "      <td>0.0</td>\n",
       "      <td>0.628777</td>\n",
       "      <td>0.0</td>\n",
       "      <td>0.0</td>\n",
       "      <td>0.0</td>\n",
       "      <td>0.0</td>\n",
       "      <td>0.0</td>\n",
       "      <td>0.0</td>\n",
       "      <td>...</td>\n",
       "      <td>0.022456</td>\n",
       "      <td>0.00000</td>\n",
       "      <td>0.000000</td>\n",
       "      <td>0.000000</td>\n",
       "      <td>0.0</td>\n",
       "      <td>0.0</td>\n",
       "      <td>0.0</td>\n",
       "      <td>0.000000</td>\n",
       "      <td>0.0</td>\n",
       "      <td>0.0</td>\n",
       "    </tr>\n",
       "    <tr>\n",
       "      <th>26044</th>\n",
       "      <td>0.221056</td>\n",
       "      <td>0.742116</td>\n",
       "      <td>0.0</td>\n",
       "      <td>0.631588</td>\n",
       "      <td>0.0</td>\n",
       "      <td>0.0</td>\n",
       "      <td>0.0</td>\n",
       "      <td>0.0</td>\n",
       "      <td>0.0</td>\n",
       "      <td>0.0</td>\n",
       "      <td>...</td>\n",
       "      <td>0.000000</td>\n",
       "      <td>0.00000</td>\n",
       "      <td>0.000000</td>\n",
       "      <td>0.000000</td>\n",
       "      <td>0.0</td>\n",
       "      <td>0.0</td>\n",
       "      <td>0.0</td>\n",
       "      <td>0.000000</td>\n",
       "      <td>0.0</td>\n",
       "      <td>0.0</td>\n",
       "    </tr>\n",
       "    <tr>\n",
       "      <th>26045</th>\n",
       "      <td>0.268242</td>\n",
       "      <td>0.715313</td>\n",
       "      <td>0.0</td>\n",
       "      <td>0.643782</td>\n",
       "      <td>0.0</td>\n",
       "      <td>0.0</td>\n",
       "      <td>0.0</td>\n",
       "      <td>0.0</td>\n",
       "      <td>0.0</td>\n",
       "      <td>0.0</td>\n",
       "      <td>...</td>\n",
       "      <td>0.000000</td>\n",
       "      <td>0.00000</td>\n",
       "      <td>0.017883</td>\n",
       "      <td>0.000000</td>\n",
       "      <td>0.0</td>\n",
       "      <td>0.0</td>\n",
       "      <td>0.0</td>\n",
       "      <td>0.000000</td>\n",
       "      <td>0.0</td>\n",
       "      <td>0.0</td>\n",
       "    </tr>\n",
       "    <tr>\n",
       "      <th>26046</th>\n",
       "      <td>0.345218</td>\n",
       "      <td>0.467059</td>\n",
       "      <td>0.0</td>\n",
       "      <td>0.812277</td>\n",
       "      <td>0.0</td>\n",
       "      <td>0.0</td>\n",
       "      <td>0.0</td>\n",
       "      <td>0.0</td>\n",
       "      <td>0.0</td>\n",
       "      <td>0.0</td>\n",
       "      <td>...</td>\n",
       "      <td>0.000000</td>\n",
       "      <td>0.00000</td>\n",
       "      <td>0.020307</td>\n",
       "      <td>0.000000</td>\n",
       "      <td>0.0</td>\n",
       "      <td>0.0</td>\n",
       "      <td>0.0</td>\n",
       "      <td>0.000000</td>\n",
       "      <td>0.0</td>\n",
       "      <td>0.0</td>\n",
       "    </tr>\n",
       "    <tr>\n",
       "      <th>26047</th>\n",
       "      <td>0.260378</td>\n",
       "      <td>0.613748</td>\n",
       "      <td>0.0</td>\n",
       "      <td>0.743937</td>\n",
       "      <td>0.0</td>\n",
       "      <td>0.0</td>\n",
       "      <td>0.0</td>\n",
       "      <td>0.0</td>\n",
       "      <td>0.0</td>\n",
       "      <td>0.0</td>\n",
       "      <td>...</td>\n",
       "      <td>0.000000</td>\n",
       "      <td>0.00000</td>\n",
       "      <td>0.000000</td>\n",
       "      <td>0.000000</td>\n",
       "      <td>0.0</td>\n",
       "      <td>0.0</td>\n",
       "      <td>0.0</td>\n",
       "      <td>0.018598</td>\n",
       "      <td>0.0</td>\n",
       "      <td>0.0</td>\n",
       "    </tr>\n",
       "  </tbody>\n",
       "</table>\n",
       "<p>26048 rows × 81 columns</p>\n",
       "</div>"
      ],
      "text/plain": [
       "             0         1    2         3    4    5    6    7    8    9   ...  \\\n",
       "0      0.311046  0.544331  0.0  0.777616  0.0  0.0  0.0  0.0  0.0  0.0  ...   \n",
       "1      0.214320  0.392920  0.0  0.893000  0.0  0.0  0.0  0.0  0.0  0.0  ...   \n",
       "2      0.211588  0.906804  0.0  0.362722  0.0  0.0  0.0  0.0  0.0  0.0  ...   \n",
       "3      0.271779  0.689900  0.0  0.668994  0.0  0.0  0.0  0.0  0.0  0.0  ...   \n",
       "4      0.274372  0.468046  0.0  0.839256  0.0  0.0  0.0  0.0  0.0  0.0  ...   \n",
       "...         ...       ...  ...       ...  ...  ...  ...  ...  ...  ...  ...   \n",
       "26043  0.291932  0.718602  0.0  0.628777  0.0  0.0  0.0  0.0  0.0  0.0  ...   \n",
       "26044  0.221056  0.742116  0.0  0.631588  0.0  0.0  0.0  0.0  0.0  0.0  ...   \n",
       "26045  0.268242  0.715313  0.0  0.643782  0.0  0.0  0.0  0.0  0.0  0.0  ...   \n",
       "26046  0.345218  0.467059  0.0  0.812277  0.0  0.0  0.0  0.0  0.0  0.0  ...   \n",
       "26047  0.260378  0.613748  0.0  0.743937  0.0  0.0  0.0  0.0  0.0  0.0  ...   \n",
       "\n",
       "             71       72        73        74   75   76   77        78   79  \\\n",
       "0      0.000000  0.00000  0.000000  0.000000  0.0  0.0  0.0  0.000000  0.0   \n",
       "1      0.000000  0.01786  0.000000  0.000000  0.0  0.0  0.0  0.000000  0.0   \n",
       "2      0.000000  0.00000  0.000000  0.015113  0.0  0.0  0.0  0.000000  0.0   \n",
       "3      0.020906  0.00000  0.000000  0.000000  0.0  0.0  0.0  0.000000  0.0   \n",
       "4      0.000000  0.00000  0.000000  0.000000  0.0  0.0  0.0  0.000000  0.0   \n",
       "...         ...      ...       ...       ...  ...  ...  ...       ...  ...   \n",
       "26043  0.022456  0.00000  0.000000  0.000000  0.0  0.0  0.0  0.000000  0.0   \n",
       "26044  0.000000  0.00000  0.000000  0.000000  0.0  0.0  0.0  0.000000  0.0   \n",
       "26045  0.000000  0.00000  0.017883  0.000000  0.0  0.0  0.0  0.000000  0.0   \n",
       "26046  0.000000  0.00000  0.020307  0.000000  0.0  0.0  0.0  0.000000  0.0   \n",
       "26047  0.000000  0.00000  0.000000  0.000000  0.0  0.0  0.0  0.018598  0.0   \n",
       "\n",
       "        80  \n",
       "0      0.0  \n",
       "1      0.0  \n",
       "2      0.0  \n",
       "3      0.0  \n",
       "4      0.0  \n",
       "...    ...  \n",
       "26043  0.0  \n",
       "26044  0.0  \n",
       "26045  0.0  \n",
       "26046  0.0  \n",
       "26047  0.0  \n",
       "\n",
       "[26048 rows x 81 columns]"
      ]
     },
     "execution_count": 31,
     "metadata": {},
     "output_type": "execute_result"
    }
   ],
   "source": [
    "X_train_aux = pd.DataFrame(X_train)\n",
    "X_train_aux"
   ]
  },
  {
   "cell_type": "markdown",
   "id": "dce21056-bee3-48cd-8b14-a05bbf7f6fed",
   "metadata": {},
   "source": [
    "Busco los mejores hiperparametros para el arbol de decision con randomsearch:"
   ]
  },
  {
   "cell_type": "code",
   "execution_count": 15,
   "id": "b3eb6e60-2aae-4f2b-9b43-f16c4f718219",
   "metadata": {},
   "outputs": [
    {
     "data": {
      "text/plain": [
       "'params = {\\n    \\'n_neighbors\\': np.arange(200, 300),\\n    \\'weights\\': [\"uniform\",\"distance\"],\\n}\\n\\nclf = KNeighborsClassifier()\\n\\nrgscv = RandomizedSearchCV(\\n    clf, params, n_iter=60, scoring=\\'accuracy\\', n_jobs=-1, cv=5, return_train_score=True\\n).fit(X_train, y_train)\\n\\nprint(f\"Best score: {rgscv.best_score_}\")\\nprint(f\"Best params {rgscv.best_params_}\")\\nn_neighbors = rgscv.best_params_.get(\"n_neighbors\")\\nweights = rgscv.best_params_.get(\"weights\")'"
      ]
     },
     "execution_count": 15,
     "metadata": {},
     "output_type": "execute_result"
    }
   ],
   "source": [
    "'''params = {\n",
    "    'n_neighbors': np.arange(200, 300),\n",
    "    'weights': [\"uniform\",\"distance\"],\n",
    "}\n",
    "\n",
    "clf = KNeighborsClassifier()\n",
    "\n",
    "rgscv = RandomizedSearchCV(\n",
    "    clf, params, n_iter=60, scoring='accuracy', n_jobs=-1, cv=5, return_train_score=True\n",
    ").fit(X_train, y_train)\n",
    "\n",
    "print(f\"Best score: {rgscv.best_score_}\")\n",
    "print(f\"Best params {rgscv.best_params_}\")\n",
    "n_neighbors = rgscv.best_params_.get(\"n_neighbors\")\n",
    "weights = rgscv.best_params_.get(\"weights\")'''"
   ]
  },
  {
   "cell_type": "markdown",
   "id": "c61bd71c-fe6e-4b4a-b5fe-1015bae13fa1",
   "metadata": {},
   "source": [
    "Armo el modelo de KNN con los hiperparametros calculados:"
   ]
  },
  {
   "cell_type": "code",
   "execution_count": 16,
   "id": "d436735a-e0f9-417e-be12-36784db731c4",
   "metadata": {},
   "outputs": [],
   "source": [
    "model_knn = KNeighborsClassifier(n_neighbors=21,weights='distance')"
   ]
  },
  {
   "cell_type": "markdown",
   "id": "11b420f3-b539-4d94-a500-09d59604de11",
   "metadata": {},
   "source": [
    "Entreno el modelo con el train set:"
   ]
  },
  {
   "cell_type": "code",
   "execution_count": 17,
   "id": "43f00b47-033f-4e37-b18e-72e533faa087",
   "metadata": {},
   "outputs": [
    {
     "name": "stderr",
     "output_type": "stream",
     "text": [
      "C:\\Users\\lbca-pc\\anaconda3\\lib\\site-packages\\sklearn\\neighbors\\_classification.py:179: DataConversionWarning: A column-vector y was passed when a 1d array was expected. Please change the shape of y to (n_samples,), for example using ravel().\n",
      "  return self._fit(X, y)\n"
     ]
    },
    {
     "data": {
      "text/plain": [
       "KNeighborsClassifier(n_neighbors=21, weights='distance')"
      ]
     },
     "execution_count": 17,
     "metadata": {},
     "output_type": "execute_result"
    }
   ],
   "source": [
    "model_knn.fit(X_train, y_train)"
   ]
  },
  {
   "cell_type": "markdown",
   "id": "800a405d-024f-436a-b778-b80b116a5b99",
   "metadata": {},
   "source": [
    "Predigo con el validation set:"
   ]
  },
  {
   "cell_type": "code",
   "execution_count": 18,
   "id": "53a9013e-0c37-48b6-9999-0f71fa6b89d5",
   "metadata": {},
   "outputs": [],
   "source": [
    "knn_predict = model_knn.predict(X_validation)"
   ]
  },
  {
   "cell_type": "markdown",
   "id": "4069d2b9-5ad1-4558-841c-e8b18fd9ff2c",
   "metadata": {},
   "source": [
    "## Metricas"
   ]
  },
  {
   "cell_type": "code",
   "execution_count": 19,
   "id": "f8cda646-9fb3-44b7-aa75-9474d87624a1",
   "metadata": {},
   "outputs": [
    {
     "name": "stdout",
     "output_type": "stream",
     "text": [
      "              precision    recall  f1-score   support\n",
      "\n",
      "           0       0.87      0.92      0.89      4944\n",
      "           1       0.68      0.57      0.62      1568\n",
      "\n",
      "    accuracy                           0.83      6512\n",
      "   macro avg       0.78      0.74      0.76      6512\n",
      "weighted avg       0.83      0.83      0.83      6512\n",
      "\n"
     ]
    }
   ],
   "source": [
    "print(classification_report(y_validation, knn_predict))"
   ]
  },
  {
   "cell_type": "code",
   "execution_count": 20,
   "id": "9ecc8376-a0a1-4c38-857d-f034bfe8ef22",
   "metadata": {},
   "outputs": [
    {
     "data": {
      "image/png": "[encoded data removed]",
      "text/plain": [
       "<Figure size 1080x504 with 2 Axes>"
      ]
     },
     "metadata": {
      "needs_background": "light"
     },
     "output_type": "display_data"
    }
   ],
   "source": [
    "plot_cm(model_knn, X_validation, y_validation)"
   ]
  },
  {
   "cell_type": "code",
   "execution_count": 21,
   "id": "d9c75e83-4251-4084-8dfb-5af7732df92e",
   "metadata": {},
   "outputs": [
    {
     "data": {
      "image/png": "[encoded data removed]",
      "text/plain": [
       "<Figure size 1080x720 with 1 Axes>"
      ]
     },
     "metadata": {
      "needs_background": "light"
     },
     "output_type": "display_data"
    }
   ],
   "source": [
    "plot_roc_curve(y_validation,knn_predict)"
   ]
  },
  {
   "cell_type": "markdown",
   "id": "28bb2b19-291e-496f-8665-767de4292271",
   "metadata": {},
   "source": [
    "## Preprocesamiento: OHE + NORMALIZACION"
   ]
  },
  {
   "cell_type": "markdown",
   "id": "ffed9a44-7b5a-456d-a93d-3de9a5587202",
   "metadata": {},
   "source": [
    "Obtenemos los datos de entrenamiento y de validacion"
   ]
  },
  {
   "cell_type": "code",
   "execution_count": 22,
   "id": "4878dc3a-b06c-4b97-9d85-65b2283bfdd7",
   "metadata": {},
   "outputs": [],
   "source": [
    "X_train, X_validation, y_train, y_validation = get_train_validation()"
   ]
  },
  {
   "cell_type": "markdown",
   "id": "1374a469-18cc-4eeb-99c8-fa3e3bb979df",
   "metadata": {},
   "source": [
    "Para entrenar KNN necesitamos aplicar OHE en las columnas categoricas, para esto llamamos a la funcion de preprocesamiento **apply_OHE** y **estandarized**:"
   ]
  },
  {
   "cell_type": "code",
   "execution_count": 23,
   "id": "61702f38-91b4-4036-a9ea-60470e701ac6",
   "metadata": {},
   "outputs": [],
   "source": [
    "X_train = apply_OHE(X_train)\n",
    "X_train = normalize(X_train)\n",
    "X_validation = apply_OHE(X_validation)\n",
    "X_validation = normalize(X_validation)"
   ]
  },
  {
   "cell_type": "markdown",
   "id": "5684cce7-f5ed-4570-978b-edf2d5982b8e",
   "metadata": {},
   "source": [
    "Busco los mejores hiperparametros para el arbol de decision con randomsearch:"
   ]
  },
  {
   "cell_type": "code",
   "execution_count": 24,
   "id": "90d4b63b-b88d-4b58-a792-bb3d312e884d",
   "metadata": {},
   "outputs": [
    {
     "data": {
      "text/plain": [
       "'params = {\\n    \\'n_neighbors\\': np.arange(200, 300),\\n    \\'weights\\': [\"uniform\",\"distance\"],\\n}\\n\\nclf = KNeighborsClassifier()\\n\\nrgscv = RandomizedSearchCV(\\n    clf, params, n_iter=60, scoring=\\'accuracy\\', n_jobs=-1, cv=5, return_train_score=True\\n).fit(X_train, y_train)\\n\\nprint(f\"Best score: {rgscv.best_score_}\")\\nprint(f\"Best params {rgscv.best_params_}\")\\nn_neighbors = rgscv.best_params_.get(\"n_neighbors\")\\nweights = rgscv.best_params_.get(\"weights\")'"
      ]
     },
     "execution_count": 24,
     "metadata": {},
     "output_type": "execute_result"
    }
   ],
   "source": [
    "'''params = {\n",
    "    'n_neighbors': np.arange(200, 300),\n",
    "    'weights': [\"uniform\",\"distance\"],\n",
    "}\n",
    "\n",
    "clf = KNeighborsClassifier()\n",
    "\n",
    "rgscv = RandomizedSearchCV(\n",
    "    clf, params, n_iter=60, scoring='accuracy', n_jobs=-1, cv=5, return_train_score=True\n",
    ").fit(X_train, y_train)\n",
    "\n",
    "print(f\"Best score: {rgscv.best_score_}\")\n",
    "print(f\"Best params {rgscv.best_params_}\")\n",
    "n_neighbors = rgscv.best_params_.get(\"n_neighbors\")\n",
    "weights = rgscv.best_params_.get(\"weights\")'''"
   ]
  },
  {
   "cell_type": "markdown",
   "id": "5c95b0fc-e3eb-41c2-ad6f-c966ea949897",
   "metadata": {},
   "source": [
    "Armo el modelo de KNN con los hiperparametros calculados:"
   ]
  },
  {
   "cell_type": "code",
   "execution_count": 25,
   "id": "8506e68b-c9d1-461f-972a-4a424295ca5b",
   "metadata": {},
   "outputs": [],
   "source": [
    "model_knn = KNeighborsClassifier(n_neighbors=21,weights='distance')"
   ]
  },
  {
   "cell_type": "markdown",
   "id": "bc5f5011-e860-4d88-aee6-c0d81f466870",
   "metadata": {},
   "source": [
    "Entreno el modelo con el train set:"
   ]
  },
  {
   "cell_type": "code",
   "execution_count": 26,
   "id": "3cc571cc-f121-4cfe-b2f2-fb5cd1d6dde6",
   "metadata": {},
   "outputs": [
    {
     "name": "stderr",
     "output_type": "stream",
     "text": [
      "C:\\Users\\lbca-pc\\anaconda3\\lib\\site-packages\\sklearn\\neighbors\\_classification.py:179: DataConversionWarning: A column-vector y was passed when a 1d array was expected. Please change the shape of y to (n_samples,), for example using ravel().\n",
      "  return self._fit(X, y)\n"
     ]
    },
    {
     "data": {
      "text/plain": [
       "KNeighborsClassifier(n_neighbors=21, weights='distance')"
      ]
     },
     "execution_count": 26,
     "metadata": {},
     "output_type": "execute_result"
    }
   ],
   "source": [
    "model_knn.fit(X_train, y_train)"
   ]
  },
  {
   "cell_type": "markdown",
   "id": "37abc522-0b39-47c3-aeed-c81ec1a25604",
   "metadata": {},
   "source": [
    "Predigo con el validation set:"
   ]
  },
  {
   "cell_type": "code",
   "execution_count": 27,
   "id": "9af60408-a4aa-4c0b-a3a6-20a1ec05c24e",
   "metadata": {},
   "outputs": [],
   "source": [
    "knn_predict = model_knn.predict(X_validation)"
   ]
  },
  {
   "cell_type": "markdown",
   "id": "5a90c893-7440-48fb-adef-57e511bc71b2",
   "metadata": {},
   "source": [
    "## Metricas"
   ]
  },
  {
   "cell_type": "code",
   "execution_count": 28,
   "id": "d1aa822c-8220-4632-ac88-a7dbdc59e0d8",
   "metadata": {},
   "outputs": [
    {
     "name": "stdout",
     "output_type": "stream",
     "text": [
      "              precision    recall  f1-score   support\n",
      "\n",
      "           0       0.88      0.89      0.88      4944\n",
      "           1       0.64      0.62      0.63      1568\n",
      "\n",
      "    accuracy                           0.82      6512\n",
      "   macro avg       0.76      0.75      0.76      6512\n",
      "weighted avg       0.82      0.82      0.82      6512\n",
      "\n"
     ]
    }
   ],
   "source": [
    "print(classification_report(y_validation, knn_predict))"
   ]
  },
  {
   "cell_type": "code",
   "execution_count": 29,
   "id": "8df1717b-ec68-4566-a873-72d8941d1369",
   "metadata": {},
   "outputs": [
    {
     "data": {
      "image/png": "[encoded data removed]",
      "text/plain": [
       "<Figure size 1080x504 with 2 Axes>"
      ]
     },
     "metadata": {
      "needs_background": "light"
     },
     "output_type": "display_data"
    }
   ],
   "source": [
    "plot_cm(model_knn, X_validation, y_validation)"
   ]
  },
  {
   "cell_type": "code",
   "execution_count": 30,
   "id": "b3fa5e65-93c0-4dd8-bcae-c2e8c966393d",
   "metadata": {},
   "outputs": [
    {
     "data": {
      "image/png": "[encoded data removed]",
      "text/plain": [
       "<Figure size 1080x720 with 1 Axes>"
      ]
     },
     "metadata": {
      "needs_background": "light"
     },
     "output_type": "display_data"
    }
   ],
   "source": [
    "plot_roc_curve(y_validation,knn_predict)"
   ]
  },
  {
   "cell_type": "code",
   "execution_count": null,
   "id": "f8657b56-a678-4e0d-8d38-66e4a5bf20b9",
   "metadata": {},
   "outputs": [],
   "source": []
  }
 ],
 "metadata": {
  "kernelspec": {
   "display_name": "Python 3",
   "language": "python",
   "name": "python3"
  },
  "language_info": {
   "codemirror_mode": {
    "name": "ipython",
    "version": 3
   },
   "file_extension": ".py",
   "mimetype": "text/x-python",
   "name": "python",
   "nbconvert_exporter": "python",
   "pygments_lexer": "ipython3",
   "version": "3.8.8"
  }
 },
 "nbformat": 4,
 "nbformat_minor": 5
}
