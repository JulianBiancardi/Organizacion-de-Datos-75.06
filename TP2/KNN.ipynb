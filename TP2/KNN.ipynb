{
 "cells": [
  {
   "cell_type": "code",
   "execution_count": 1,
   "id": "11f4bd1a-4aa6-4649-ba4b-4fcb2c8462af",
   "metadata": {},
   "outputs": [],
   "source": [
    "#Includes necesarios\n",
    "from sklearn.neighbors import KNeighborsClassifier\n",
    "from sklearn.model_selection import GridSearchCV, train_test_split\n",
    "from sklearn.metrics import classification_report,plot_roc_curve\n",
    "\n",
    "import pandas as pd\n",
    "import numpy as np\n",
    "import matplotlib.pyplot as plt \n",
    "\n",
    "import auxiliar as aux\n",
    "from preprocessing import apply_OHE, init_OHE, init_dataset, standarize, normalize, scale, eliminar_features, reduce_by_frequency"
   ]
  },
  {
   "cell_type": "markdown",
   "id": "921aaa1b-8831-447b-adfa-2d0141dc0b13",
   "metadata": {},
   "source": [
    "# KNN"
   ]
  },
  {
   "cell_type": "markdown",
   "id": "7d55bb6b-8e3e-4ed3-ab7c-152736d78580",
   "metadata": {},
   "source": [
    "Los hiperparametros que consideramos relevantes para un modelo como el de KNN (k-nearest neighbors) son:\n",
    "   - n_neighbors (K): cantidad de vecinos, se aconseja que sea impar para evitar que la prediccion sea aleatoria cuando haya la misma cantidad de vecinos\n",
    "   - weights: El peso que se le da a la distancia entre los puntos.\n",
    "   - metric: La funcion para calcular la distancia entre los puntos."
   ]
  },
  {
   "cell_type": "markdown",
   "id": "d67bcc8f-5059-45d5-8b3f-d12a2d38c068",
   "metadata": {
    "tags": []
   },
   "source": [
    "Obtenemos el dataset con el cual entrenaremos nuestro modelo. Para este modelo se opto unicamente tratar los missings como categoricos:"
   ]
  },
  {
   "cell_type": "code",
   "execution_count": 2,
   "id": "3ba8f994-f4dd-421a-8abe-737fcb055bb7",
   "metadata": {
    "tags": []
   },
   "outputs": [],
   "source": [
    "X,y = aux.get_train_set()\n",
    "X = init_dataset(X)"
   ]
  },
  {
   "cell_type": "markdown",
   "id": "2c5329c6-56d7-452e-b57e-f4f9b3dacc19",
   "metadata": {},
   "source": [
    "## Preprocesamiento 1: Eliminación de Features + Reducción por Frecuencia + OHE + Estandarización "
   ]
  },
  {
   "cell_type": "markdown",
   "id": "9837e2ad-d592-49ce-a7e9-acf3520910d1",
   "metadata": {},
   "source": [
    "Primero eliminamos los features que consideramos que no aportan información y agrupamos las categorias con menos del 5% de los datos en una sola. Luego aplicamos OHE a las columnas categóricas y estandarización:"
   ]
  },
  {
   "cell_type": "code",
   "execution_count": 3,
   "id": "a5222adf-e746-457a-af61-46fb69e3c0c4",
   "metadata": {},
   "outputs": [],
   "source": [
    "X_p1 = eliminar_features(X, ['religion', 'barrio', 'categoria_de_trabajo'])\n",
    "X_p1 = reduce_by_frequency(X_p1, ['estado_marital', 'trabajo'], 0.05)"
   ]
  },
  {
   "cell_type": "code",
   "execution_count": 4,
   "id": "e6145981-cc22-440f-84da-800611037800",
   "metadata": {},
   "outputs": [],
   "source": [
    "init_OHE(X_p1)\n",
    "X_p1 = apply_OHE(X_p1)"
   ]
  },
  {
   "cell_type": "markdown",
   "id": "d5559750-95a5-43f3-97c9-c9419476ddb1",
   "metadata": {},
   "source": [
    "Partimos nuestro set en *train* y *validation*, dejaremos un 20% de los datos para validación de nuestro entrenamiento. Realizamos este primer paso ya que queremos evitar un dataleaking a causa que estamos calculando media y desviacion estandar con los datos de validacion:"
   ]
  },
  {
   "cell_type": "code",
   "execution_count": 5,
   "id": "827d1909-74d7-4be2-a17d-b52450ea6222",
   "metadata": {},
   "outputs": [],
   "source": [
    "X_train, X_validation, y_train, y_validation = train_test_split(X_p1, y, test_size=0.2, stratify=y, random_state=0)"
   ]
  },
  {
   "cell_type": "code",
   "execution_count": 6,
   "id": "9ab4e2fc-1945-4ec2-9853-17fb8622376b",
   "metadata": {},
   "outputs": [],
   "source": [
    "X_train = standarize(X_train)\n",
    "X_validation = standarize(X_validation)"
   ]
  },
  {
   "cell_type": "markdown",
   "id": "dcf7f3dc-069a-4b7b-858e-44b3dc6007bb",
   "metadata": {},
   "source": [
    "Buscamos los mejores hiperparametros para knn con GridSearchCV. \n",
    "\n",
    "    - La métrica que se utiliza para comparar los modelos obtenidos en cada iteracion es roc_auc_score.\n",
    "    - El numero de vecinos es impar para evitar que la prediccion sea aleatoria cuando haya la misma cantidad de vecinos\n",
    "    - Para el numero de vecinos se analizo el intervalo de (5, 500) y se concluyó que el mejor resultado se obtiene en el rango mostrado en el GridSearch"
   ]
  },
  {
   "cell_type": "code",
   "execution_count": 7,
   "id": "f628a693-467c-4b68-9c1e-5296a04d1efc",
   "metadata": {},
   "outputs": [
    {
     "name": "stdout",
     "output_type": "stream",
     "text": [
      "Fitting 5 folds for each of 8 candidates, totalling 40 fits\n"
     ]
    }
   ],
   "source": [
    "parameters = {\n",
    "    'n_neighbors': [31, 43, 53, 61],\n",
    "    'weights': ['uniform', 'distance'],\n",
    "    'algorithm': ['kd_tree']\n",
    "}\n",
    "\n",
    "clf = KNeighborsClassifier()\n",
    "\n",
    "gscv = GridSearchCV(\n",
    "    clf, parameters, scoring='roc_auc', cv=5, return_train_score=True, verbose=True\n",
    ").fit(X_train, y_train)"
   ]
  },
  {
   "cell_type": "code",
   "execution_count": 8,
   "id": "568061a9-2ca5-4da7-9d90-64156b187972",
   "metadata": {},
   "outputs": [
    {
     "name": "stdout",
     "output_type": "stream",
     "text": [
      "Mejor score ROC-AUC en Entrenamiento: 0.8863114415032463\n",
      "Mejores Parametros {'algorithm': 'kd_tree', 'n_neighbors': 43, 'weights': 'uniform'}\n",
      "\n",
      "Mejor score ROC-AUC en Validación: 0.8861848961020202\n"
     ]
    }
   ],
   "source": [
    "print(f\"Mejor score ROC-AUC en Entrenamiento: {gscv.best_score_}\")\n",
    "print(f\"Mejores Parametros {gscv.best_params_}\")\n",
    "\n",
    "print(f\"\\nMejor score ROC-AUC en Validación: {gscv.score(X_validation, y_validation)}\")"
   ]
  },
  {
   "cell_type": "markdown",
   "id": "a02af777-0e4f-4c14-84ae-60aa5f2c2f95",
   "metadata": {},
   "source": [
    "Armamos el modelo de KNN con los hiperparametros calculados:"
   ]
  },
  {
   "cell_type": "code",
   "execution_count": 9,
   "id": "a1099494-89ec-4a98-a267-5bb6bb4c358f",
   "metadata": {},
   "outputs": [
    {
     "data": {
      "text/plain": [
       "KNeighborsClassifier(algorithm='kd_tree', n_neighbors=43)"
      ]
     },
     "execution_count": 9,
     "metadata": {},
     "output_type": "execute_result"
    }
   ],
   "source": [
    "model_knn_standarize = gscv.best_estimator_\n",
    "model_knn_standarize"
   ]
  },
  {
   "cell_type": "markdown",
   "id": "dbf1e85c-30d0-4a1f-bebc-ee6a812bab94",
   "metadata": {},
   "source": [
    "Predecimos con el validation set:"
   ]
  },
  {
   "cell_type": "code",
   "execution_count": 10,
   "id": "8cc2f106-2319-4159-9628-1999887128a1",
   "metadata": {},
   "outputs": [],
   "source": [
    "knn_predict = model_knn_standarize.predict(X_validation)"
   ]
  },
  {
   "cell_type": "markdown",
   "id": "f7634eeb-da0c-4c10-8fc6-c60f29f91fb4",
   "metadata": {},
   "source": [
    "**Metricas**"
   ]
  },
  {
   "cell_type": "code",
   "execution_count": 11,
   "id": "6ae80e41-4d4e-4315-92cc-dbde69e5e6f9",
   "metadata": {},
   "outputs": [
    {
     "name": "stdout",
     "output_type": "stream",
     "text": [
      "              precision    recall  f1-score   support\n",
      "\n",
      "           0       0.86      0.93      0.89      4945\n",
      "           1       0.70      0.51      0.59      1568\n",
      "\n",
      "    accuracy                           0.83      6513\n",
      "   macro avg       0.78      0.72      0.74      6513\n",
      "weighted avg       0.82      0.83      0.82      6513\n",
      "\n"
     ]
    }
   ],
   "source": [
    "print(classification_report(y_validation, knn_predict))"
   ]
  },
  {
   "cell_type": "code",
   "execution_count": 12,
   "id": "b310b5c8-e58c-4d92-b649-97158f873e4b",
   "metadata": {},
   "outputs": [
    {
     "data": {
      "image/png": "[encoded data removed]",
      "text/plain": [
       "<Figure size 1080x504 with 2 Axes>"
      ]
     },
     "metadata": {
      "needs_background": "light"
     },
     "output_type": "display_data"
    }
   ],
   "source": [
    "aux.plot_cm(model_knn_standarize, X_validation, y_validation)"
   ]
  },
  {
   "cell_type": "code",
   "execution_count": 13,
   "id": "d1b76af9-954e-4934-96bb-0f793c4182af",
   "metadata": {},
   "outputs": [
    {
     "data": {
      "image/png": "[encoded data removed]",
      "text/plain": [
       "<Figure size 432x288 with 1 Axes>"
      ]
     },
     "metadata": {
      "needs_background": "light"
     },
     "output_type": "display_data"
    }
   ],
   "source": [
    "plot_roc_curve(model_knn_standarize, X_validation, y_validation, response_method=\"predict_proba\")\n",
    "plt.show()"
   ]
  },
  {
   "cell_type": "markdown",
   "id": "2c5e1603-9648-4eed-8703-2295e12f61a9",
   "metadata": {},
   "source": [
    "## Preprocesamiento 2: Eliminación de Features + Reducción por Frecuencia + OHE + Escalado "
   ]
  },
  {
   "cell_type": "markdown",
   "id": "ff55fa2a-e561-49ce-a615-7aab6be3e1c6",
   "metadata": {},
   "source": [
    "Probaremos ahora como es el rendimiento del modelo KNN utilizando el mismo preprocesamiento pero aplicando un escalado de nuestras columnas en lugar de la estandarización. El rango de escalado es entre (0,1)."
   ]
  },
  {
   "cell_type": "markdown",
   "id": "b9dfc8db-c3e9-432b-83c0-154f384039dd",
   "metadata": {},
   "source": [
    "Partimos nuestro set en *train* y *validation*, dejaremos un 20% de los datos para validación de nuestro entrenamiento. Realizamos este primer paso ya que queremos evitar un dataleaking a causa que estamos calculando media y desviacion estandar con los datos de validacion:"
   ]
  },
  {
   "cell_type": "code",
   "execution_count": 14,
   "id": "6d204015-8855-4436-884f-8d39bc054fc9",
   "metadata": {},
   "outputs": [],
   "source": [
    "X_train, X_validation, y_train, y_validation = train_test_split(X_p1, y, test_size=0.2, stratify=y, random_state=0)"
   ]
  },
  {
   "cell_type": "code",
   "execution_count": 15,
   "id": "de332809-a18a-458b-a01a-4f233731b1cb",
   "metadata": {},
   "outputs": [],
   "source": [
    "X_train = scale(X_train)\n",
    "X_validation = scale(X_validation)"
   ]
  },
  {
   "cell_type": "markdown",
   "id": "a50f554c-12aa-4380-a32c-953e1773ac3d",
   "metadata": {},
   "source": [
    "Buscamos los mejores hiperparametros para knn con GridSearchCV. \n",
    "\n",
    "    - La métrica que se utiliza para comparar los modelos obtenidos en cada iteracion es roc_auc_score.\n",
    "    - El numero de vecinos es impar para evitar que la prediccion sea aleatoria cuando haya la misma cantidad de vecinos\n",
    "    - Para el numero de vecinos se analizo el intervalo de (5, 500) y se concluyó que el mejor resultado se obtiene en el rango mostrado en el GridSearch"
   ]
  },
  {
   "cell_type": "code",
   "execution_count": 16,
   "id": "891eeafa-48f0-442b-a8f8-f946760fbbbc",
   "metadata": {},
   "outputs": [
    {
     "name": "stdout",
     "output_type": "stream",
     "text": [
      "Fitting 5 folds for each of 8 candidates, totalling 40 fits\n"
     ]
    }
   ],
   "source": [
    "parameters = {\n",
    "    'n_neighbors': [31, 43, 53, 61],\n",
    "    'weights': ['uniform','distance'],\n",
    "    'algorithm': ['kd_tree']\n",
    "}\n",
    "\n",
    "clf = KNeighborsClassifier()\n",
    "\n",
    "gscv = GridSearchCV(\n",
    "    clf, parameters, scoring='roc_auc', cv=5, return_train_score=True,verbose=True\n",
    ").fit(X_train, y_train)"
   ]
  },
  {
   "cell_type": "code",
   "execution_count": 17,
   "id": "3b05397f-53c2-44ae-8aff-091b28011a3b",
   "metadata": {},
   "outputs": [
    {
     "name": "stdout",
     "output_type": "stream",
     "text": [
      "Mejor score ROC-AUC en Entrenamiento: 0.8810315152225277\n",
      "Mejores Parametros {'algorithm': 'kd_tree', 'n_neighbors': 43, 'weights': 'uniform'}\n",
      "\n",
      "Mejor score ROC-AUC en Validación: 0.8784915318503539\n"
     ]
    }
   ],
   "source": [
    "print(f\"Mejor score ROC-AUC en Entrenamiento: {gscv.best_score_}\")\n",
    "print(f\"Mejores Parametros {gscv.best_params_}\")\n",
    "\n",
    "print(f\"\\nMejor score ROC-AUC en Validación: {gscv.score(X_validation, y_validation)}\")"
   ]
  },
  {
   "cell_type": "markdown",
   "id": "f190cd97-154e-4161-b65d-c47b54dc231b",
   "metadata": {},
   "source": [
    "Armamos el modelo de KNN con los hiperparametros calculados:"
   ]
  },
  {
   "cell_type": "code",
   "execution_count": 18,
   "id": "59a2ce1a-69d6-456a-b301-dcf957686e59",
   "metadata": {},
   "outputs": [
    {
     "data": {
      "text/plain": [
       "KNeighborsClassifier(algorithm='kd_tree', n_neighbors=43)"
      ]
     },
     "execution_count": 18,
     "metadata": {},
     "output_type": "execute_result"
    }
   ],
   "source": [
    "model_knn_scale = gscv.best_estimator_\n",
    "model_knn_scale"
   ]
  },
  {
   "cell_type": "markdown",
   "id": "1afc4ce9-a75d-44c9-b2c8-13ba832b13e4",
   "metadata": {},
   "source": [
    "Predecimos con el validation set:"
   ]
  },
  {
   "cell_type": "code",
   "execution_count": 19,
   "id": "3cc6dbd5-c45e-4368-a0dd-fc104c3ab1f2",
   "metadata": {},
   "outputs": [],
   "source": [
    "knn_predict = model_knn_scale.predict(X_validation)"
   ]
  },
  {
   "cell_type": "markdown",
   "id": "6189db0a-c803-4b5e-b38b-086cdb9c6620",
   "metadata": {},
   "source": [
    "**Metricas**"
   ]
  },
  {
   "cell_type": "code",
   "execution_count": 20,
   "id": "5025cd15-3b3b-4d30-8fb1-7a11d59704ec",
   "metadata": {},
   "outputs": [
    {
     "name": "stdout",
     "output_type": "stream",
     "text": [
      "              precision    recall  f1-score   support\n",
      "\n",
      "           0       0.86      0.93      0.89      4945\n",
      "           1       0.69      0.51      0.59      1568\n",
      "\n",
      "    accuracy                           0.83      6513\n",
      "   macro avg       0.77      0.72      0.74      6513\n",
      "weighted avg       0.82      0.83      0.82      6513\n",
      "\n"
     ]
    }
   ],
   "source": [
    "print(classification_report(y_validation, knn_predict))"
   ]
  },
  {
   "cell_type": "code",
   "execution_count": 21,
   "id": "b8f4ef88-1673-48fa-8e37-24d0a6d6be84",
   "metadata": {},
   "outputs": [
    {
     "data": {
      "image/png": "[encoded data removed]",
      "text/plain": [
       "<Figure size 1080x504 with 2 Axes>"
      ]
     },
     "metadata": {
      "needs_background": "light"
     },
     "output_type": "display_data"
    }
   ],
   "source": [
    "aux.plot_cm(model_knn_scale, X_validation, y_validation)"
   ]
  },
  {
   "cell_type": "code",
   "execution_count": 22,
   "id": "73047c92-541c-4bd9-9e3f-7c212a99b2f6",
   "metadata": {},
   "outputs": [
    {
     "data": {
      "image/png": "[encoded data removed]",
      "text/plain": [
       "<Figure size 432x288 with 1 Axes>"
      ]
     },
     "metadata": {
      "needs_background": "light"
     },
     "output_type": "display_data"
    }
   ],
   "source": [
    "plot_roc_curve(model_knn_scale, X_validation, y_validation, response_method=\"predict_proba\")\n",
    "plt.show()"
   ]
  },
  {
   "cell_type": "markdown",
   "id": "7b026089-9f6c-4d62-bca9-45d7c15cc9c7",
   "metadata": {},
   "source": [
    "## Preprocesamiento 3: Eliminación de Features + Reducción por Frecuencia + OHE + Normalización"
   ]
  },
  {
   "cell_type": "markdown",
   "id": "9a857e66-160c-4c5d-9a62-273379c44d5e",
   "metadata": {},
   "source": [
    "Probaremos ahora como es el rendimiento del modelo KNN aplicando el mismo preprocesamiento y una normalizacion."
   ]
  },
  {
   "cell_type": "code",
   "execution_count": 23,
   "id": "4d383fd0-60b4-4a89-9669-aeb88fb3c321",
   "metadata": {},
   "outputs": [],
   "source": [
    "X_normalized = normalize(X_p1)"
   ]
  },
  {
   "cell_type": "markdown",
   "id": "54501180-5747-49ba-a630-fd2ce11edfe5",
   "metadata": {},
   "source": [
    "Partimos nuestro set en *train* y *validation*, dejaremos un 20% de los datos para validación de nuestro entrenamiento. En el caso de la normalizacion, no hace falta realizar la particion antes debido a que se hace el calulo por filas y asi no se tiene dataleaking:"
   ]
  },
  {
   "cell_type": "code",
   "execution_count": 24,
   "id": "41cbecc5-d319-401e-b076-a36ad5a0c546",
   "metadata": {},
   "outputs": [],
   "source": [
    "X_train, X_validation, y_train, y_validation = train_test_split(X_normalized,y, test_size=0.2, stratify=y, random_state=0)"
   ]
  },
  {
   "cell_type": "markdown",
   "id": "2bb96ce9-b444-4f69-a987-b9d1b8a60d96",
   "metadata": {},
   "source": [
    "Buscamos los mejores hiperparametros para knn con GridSearchCV. \n",
    "\n",
    "    - La métrica que se utiliza para comparar los modelos obtenidos en cada iteracion es roc_auc_score.\n",
    "    - El numero de vecinos es impar para evitar que la prediccion sea aleatoria cuando haya la misma cantidad de vecinos\n",
    "    - Para el numero de vecinos se analizo el intervalo de (5, 500) y se concluyó que el mejor resultado se obtiene en el rango mostrado en el GridSearch"
   ]
  },
  {
   "cell_type": "code",
   "execution_count": 25,
   "id": "d650fc5a-b41b-4e7d-93dc-f29cde440333",
   "metadata": {},
   "outputs": [
    {
     "name": "stdout",
     "output_type": "stream",
     "text": [
      "Fitting 5 folds for each of 8 candidates, totalling 40 fits\n"
     ]
    }
   ],
   "source": [
    "parameters = {\n",
    "    'n_neighbors': [31, 43, 53, 61],\n",
    "    'weights': ['uniform','distance'],\n",
    "    'algorithm': ['kd_tree'],\n",
    "}\n",
    "\n",
    "clf = KNeighborsClassifier()\n",
    "\n",
    "gscv = GridSearchCV(\n",
    "    clf, parameters, scoring='roc_auc', cv=5, return_train_score=True,verbose=True\n",
    ").fit(X_train, y_train)"
   ]
  },
  {
   "cell_type": "code",
   "execution_count": 26,
   "id": "ca770e66-794c-4284-bbb6-916f3d8ae76f",
   "metadata": {},
   "outputs": [
    {
     "name": "stdout",
     "output_type": "stream",
     "text": [
      "Mejor score ROC-AUC en Entrenamiento: 0.8710563327898069\n",
      "Mejores Parametros {'algorithm': 'kd_tree', 'n_neighbors': 31, 'weights': 'uniform'}\n",
      "\n",
      "Mejor score ROC-AUC en Validación: 0.8633878918099089\n"
     ]
    }
   ],
   "source": [
    "print(f\"Mejor score ROC-AUC en Entrenamiento: {gscv.best_score_}\")\n",
    "print(f\"Mejores Parametros {gscv.best_params_}\")\n",
    "\n",
    "print(f\"\\nMejor score ROC-AUC en Validación: {gscv.score(X_validation, y_validation)}\")"
   ]
  },
  {
   "cell_type": "markdown",
   "id": "bdbb23a3-3381-4b1a-b477-303d971e21eb",
   "metadata": {},
   "source": [
    "Armamos el modelo de KNN con los hiperparametros calculados:"
   ]
  },
  {
   "cell_type": "code",
   "execution_count": 27,
   "id": "bda28b98-ca6a-4024-ac52-84472b084c0e",
   "metadata": {},
   "outputs": [
    {
     "data": {
      "text/plain": [
       "KNeighborsClassifier(algorithm='kd_tree', n_neighbors=31)"
      ]
     },
     "execution_count": 27,
     "metadata": {},
     "output_type": "execute_result"
    }
   ],
   "source": [
    "model_knn_normalized = gscv.best_estimator_\n",
    "model_knn_normalized"
   ]
  },
  {
   "cell_type": "markdown",
   "id": "322a25de-e4a9-4104-b89d-6bfa4fd0b31a",
   "metadata": {},
   "source": [
    "Predecimos con el validation set:"
   ]
  },
  {
   "cell_type": "code",
   "execution_count": 28,
   "id": "bc1d275f-178d-4cff-a925-5bc1e88ee335",
   "metadata": {},
   "outputs": [],
   "source": [
    "knn_predict = model_knn_normalized.predict(X_validation)"
   ]
  },
  {
   "cell_type": "markdown",
   "id": "ec64eb03-1c73-4b3a-aae4-5e2274607cd2",
   "metadata": {},
   "source": [
    "**Metricas**"
   ]
  },
  {
   "cell_type": "code",
   "execution_count": 29,
   "id": "7c6e63fb-232e-44f1-abdc-bff8fc5b3bc3",
   "metadata": {},
   "outputs": [
    {
     "name": "stdout",
     "output_type": "stream",
     "text": [
      "              precision    recall  f1-score   support\n",
      "\n",
      "           0       0.86      0.91      0.89      4945\n",
      "           1       0.66      0.55      0.60      1568\n",
      "\n",
      "    accuracy                           0.82      6513\n",
      "   macro avg       0.76      0.73      0.74      6513\n",
      "weighted avg       0.81      0.82      0.82      6513\n",
      "\n"
     ]
    }
   ],
   "source": [
    "print(classification_report(y_validation, knn_predict))"
   ]
  },
  {
   "cell_type": "code",
   "execution_count": 30,
   "id": "e680f5a0-d6be-43b1-a5e4-f0008ff9cf36",
   "metadata": {},
   "outputs": [
    {
     "data": {
      "image/png": "[encoded data removed]",
      "text/plain": [
       "<Figure size 1080x504 with 2 Axes>"
      ]
     },
     "metadata": {
      "needs_background": "light"
     },
     "output_type": "display_data"
    }
   ],
   "source": [
    "aux.plot_cm(model_knn_normalized, X_validation, y_validation)"
   ]
  },
  {
   "cell_type": "code",
   "execution_count": 31,
   "id": "60abb3dd-f5a5-409d-bd4a-32f689dd92a7",
   "metadata": {},
   "outputs": [
    {
     "data": {
      "image/png": "[encoded data removed]",
      "text/plain": [
       "<Figure size 432x288 with 1 Axes>"
      ]
     },
     "metadata": {
      "needs_background": "light"
     },
     "output_type": "display_data"
    }
   ],
   "source": [
    "plot_roc_curve(model_knn_normalized, X_validation, y_validation, response_method=\"predict_proba\")\n",
    "plt.show()"
   ]
  },
  {
   "cell_type": "markdown",
   "id": "de03ad69-52f9-471f-8d54-5a703f01e3b3",
   "metadata": {},
   "source": [
    "<h1>Predicción</h1>"
   ]
  },
  {
   "cell_type": "code",
   "execution_count": 32,
   "id": "23a1cf07-2580-4188-b18b-63cfb3290f1b",
   "metadata": {},
   "outputs": [],
   "source": [
    "ids, X_holdout = aux.get_holdout_set()"
   ]
  },
  {
   "cell_type": "code",
   "execution_count": 33,
   "id": "36df436c-536a-482b-b0fe-3ebb18f0f3d4",
   "metadata": {},
   "outputs": [],
   "source": [
    "X_holdout = init_dataset(X_holdout)"
   ]
  },
  {
   "cell_type": "code",
   "execution_count": 34,
   "id": "2b34e4a2-cd2c-4e53-b74b-d859a6967783",
   "metadata": {},
   "outputs": [],
   "source": [
    "X_holdout = eliminar_features(X_holdout, ['religion', 'barrio', 'categoria_de_trabajo'])\n",
    "X_holdout = reduce_by_frequency(X_holdout, ['estado_marital', 'trabajo'], 0.05)\n",
    "X_holdout = apply_OHE(X_holdout)\n",
    "X_holdout = standarize(X_holdout)"
   ]
  },
  {
   "cell_type": "code",
   "execution_count": 35,
   "id": "e7950eac-867f-471b-af92-e34217dc366a",
   "metadata": {},
   "outputs": [],
   "source": [
    "model_knn_pred = model_knn_standarize.predict(X_holdout)"
   ]
  },
  {
   "cell_type": "code",
   "execution_count": 36,
   "id": "132579bc-7555-4178-ade9-e7c9d44aa663",
   "metadata": {},
   "outputs": [],
   "source": [
    "aux.create_prediction(ids, model_knn_pred, file_name='knn')"
   ]
  }
 ],
 "metadata": {
  "kernelspec": {
   "display_name": "Python 3",
   "language": "python",
   "name": "python3"
  },
  "language_info": {
   "codemirror_mode": {
    "name": "ipython",
    "version": 3
   },
   "file_extension": ".py",
   "mimetype": "text/x-python",
   "name": "python",
   "nbconvert_exporter": "python",
   "pygments_lexer": "ipython3",
   "version": "3.9.1"
  }
 },
 "nbformat": 4,
 "nbformat_minor": 5
}
