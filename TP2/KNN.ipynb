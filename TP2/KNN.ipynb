{
 "cells": [
  {
   "cell_type": "code",
   "execution_count": 91,
   "id": "c57378b5-717d-45de-9133-33f2ff3f60a5",
   "metadata": {},
   "outputs": [],
   "source": [
    "#Includes necesarios\n",
    "from sklearn.neighbors import KNeighborsClassifier\n",
    "\n",
    "import pandas as pd\n",
    "import numpy as np\n",
    "import matplotlib.pyplot as plt \n",
    "from sklearn.model_selection import RandomizedSearchCV,GridSearchCV\n",
    "from sklearn.model_selection import train_test_split\n",
    "\n",
    "from auxiliar import get_train_set,get_holdout_set,create_prediction\n",
    "import preprocessing as pr\n",
    "\n",
    "from auxiliar import plot_cm,plot_tree\n",
    "from sklearn.metrics import classification_report,plot_roc_curve"
   ]
  },
  {
   "cell_type": "markdown",
   "id": "3910f5e6-2df4-478d-b574-98da0e0f4664",
   "metadata": {},
   "source": [
    "# KNN"
   ]
  },
  {
   "cell_type": "markdown",
   "id": "4d865290-fd1e-47be-9007-bf5e5d67a017",
   "metadata": {},
   "source": [
    "Important thing to note in k-NN algorithm is the that the number of features and the number of classes both don't play a part in determining the value of k in k-NN algorithm. k-NN algorithm is an ad-hoc classifier used to classify test data based on distance metric, i.e a test sample is classified as Class-1 if there are more number of Class-1 training samples closer to the test sample compared to other Classes training samples. \n",
    "\n",
    "Coming to your question, the value of k is non-parametric and a general rule of thumb in choosing the value of k is k = sqrt(N)/2, where N stands for the number of samples in your training dataset. Another tip that I suggest is to try and keep the value of k odd, so that there is no tie between choosing a class but that points to the fact that training data is highly correlated between classes and using a simple classification algorithm such as k-NN would result in poor classification performance."
   ]
  },
  {
   "cell_type": "markdown",
   "id": "d65767ad-472a-41e2-a8f0-5c165128d2fe",
   "metadata": {},
   "source": [
    "Los hiperparametros que consideramos relevantes para un modelo como el de KNN (k-nearest neighbors) son:\n",
    "   - n_neighbors (K): cantidad de vecinos, se aconseja que sea impar para evitar que la prediccion sea aleatoria cuando haya la misma cantidad de vecinos\n",
    "   - weights: El peso que se le da a la distancia entre los puntos.\n",
    "   - metric: La funcion para calcular la distancia entre los puntos."
   ]
  },
  {
   "cell_type": "markdown",
   "id": "0e5e63f3-0f14-4f50-beb1-9e9ae3d0c5c9",
   "metadata": {
    "tags": []
   },
   "source": [
    "Obtenemos el dataset con el cual entrenaremos nuestro modelo:"
   ]
  },
  {
   "cell_type": "code",
   "execution_count": 92,
   "id": "0ff6a110-9495-4a1a-a029-b323d9a4be51",
   "metadata": {
    "tags": []
   },
   "outputs": [],
   "source": [
    "X,y = get_train_set(missings='category')"
   ]
  },
  {
   "cell_type": "markdown",
   "id": "df8537e4-ed91-47da-a96d-901f41907b6f",
   "metadata": {},
   "source": [
    "## Preprocesamiento 1:"
   ]
  },
  {
   "cell_type": "code",
   "execution_count": 93,
   "id": "d9454d87-3d46-4e93-bbf4-e148e99fd5f8",
   "metadata": {},
   "outputs": [],
   "source": [
    "X_fe = pr.preprocesado1(X)"
   ]
  },
  {
   "cell_type": "markdown",
   "id": "fcba4736-8c1f-40d9-b54a-8b4e0bc97c5e",
   "metadata": {},
   "source": [
    "Para entrenar el arbol necesitamos aplicar OHE en las columnas categoricas, para esto llamamos a la funcion de preprocesamiento **aplicar_OHE**:"
   ]
  },
  {
   "cell_type": "code",
   "execution_count": 94,
   "id": "63f57164-9676-40ac-941c-9719e7085bfd",
   "metadata": {},
   "outputs": [],
   "source": [
    "pr.init_OHE(X_fe)"
   ]
  },
  {
   "cell_type": "code",
   "execution_count": 95,
   "id": "bbac59f7-1197-44a1-820d-9e8be4e93fd9",
   "metadata": {},
   "outputs": [],
   "source": [
    "X_ohe = pr.apply_OHE(X_fe)"
   ]
  },
  {
   "cell_type": "markdown",
   "id": "45122a02-7cd2-48a3-aa8b-5a5fc769b59b",
   "metadata": {},
   "source": [
    "Partimos nuestro set en *train* y *validation*:"
   ]
  },
  {
   "cell_type": "code",
   "execution_count": 96,
   "id": "bfac9afe-dd73-468f-82d0-264a9ac0a3fc",
   "metadata": {},
   "outputs": [],
   "source": [
    "X_train, X_validation, y_train, y_validation = train_test_split(X_ohe,y, test_size=0.2, random_state=19, stratify=y)"
   ]
  },
  {
   "cell_type": "markdown",
   "id": "2149335f-0a8c-4fec-9e4d-17efce5fc9ba",
   "metadata": {},
   "source": [
    "Busco los mejores hiperparametros para el arbol de decision con GridSearchCV. La metrica que se utiliza para comparar los modelos obtenidos en cada iteracion es *roc_auc_score*.\n",
    "Tardo 10 a 12 minutos sin n_jobs = -1"
   ]
  },
  {
   "cell_type": "code",
   "execution_count": 97,
   "id": "5580195c-533c-4d20-95e3-8592451ab683",
   "metadata": {},
   "outputs": [
    {
     "name": "stdout",
     "output_type": "stream",
     "text": [
      "Fitting 5 folds for each of 12 candidates, totalling 60 fits\n",
      "Best score: 0.890637271816562\n",
      "Best params {'n_neighbors': 43, 'weights': 'uniform'}\n"
     ]
    }
   ],
   "source": [
    "parameters = {\n",
    "    'n_neighbors': [43,101,151,199,251,307],\n",
    "    'weights': ['uniform','distance'],\n",
    "}\n",
    "\n",
    "clf = KNeighborsClassifier()\n",
    "\n",
    "gscv = GridSearchCV(\n",
    "    clf, parameters, scoring='roc_auc', cv=5, return_train_score=True,verbose=True\n",
    ").fit(X_train, y_train)\n",
    "\n",
    "print(f\"Best score: {gscv.best_score_}\")\n",
    "print(f\"Best params {gscv.best_params_}\")"
   ]
  },
  {
   "cell_type": "markdown",
   "id": "586d284a-1abe-4551-a0b9-3df97f099ba6",
   "metadata": {},
   "source": [
    "Armo el modelo de arbol de decision con los hiperparametros calculados:"
   ]
  },
  {
   "cell_type": "code",
   "execution_count": 98,
   "id": "fc0a9c73-fbab-4bce-bf8d-4cf9f916e133",
   "metadata": {},
   "outputs": [],
   "source": [
    "model_knn = gscv.best_estimator_"
   ]
  },
  {
   "cell_type": "markdown",
   "id": "9cb92693-4394-400c-a290-3d07e448eb2b",
   "metadata": {},
   "source": [
    "Entreno el modelo con el train set:"
   ]
  },
  {
   "cell_type": "code",
   "execution_count": 99,
   "id": "4077c97a-4aea-43b4-974f-10da78b8ef5b",
   "metadata": {},
   "outputs": [
    {
     "data": {
      "text/plain": [
       "KNeighborsClassifier(n_neighbors=43)"
      ]
     },
     "execution_count": 99,
     "metadata": {},
     "output_type": "execute_result"
    }
   ],
   "source": [
    "model_knn.fit(X_train, y_train)"
   ]
  },
  {
   "cell_type": "markdown",
   "id": "5b4148cf-011e-4ed3-ac84-4a9590964295",
   "metadata": {},
   "source": [
    "Predigo con el validation set:"
   ]
  },
  {
   "cell_type": "code",
   "execution_count": 100,
   "id": "2c5645e1-055c-4a79-ac24-06ede7137c66",
   "metadata": {},
   "outputs": [],
   "source": [
    "knn_predict = model_knn.predict(X_validation)"
   ]
  },
  {
   "cell_type": "markdown",
   "id": "97937e79-b57b-4282-b62d-c96ad6360401",
   "metadata": {},
   "source": [
    "**Metricas**"
   ]
  },
  {
   "cell_type": "code",
   "execution_count": 101,
   "id": "cc39bf93-46c1-41f2-a68b-0fa943b0634a",
   "metadata": {},
   "outputs": [
    {
     "name": "stdout",
     "output_type": "stream",
     "text": [
      "              precision    recall  f1-score   support\n",
      "\n",
      "           0       0.87      0.93      0.90      4945\n",
      "           1       0.73      0.57      0.64      1568\n",
      "\n",
      "    accuracy                           0.85      6513\n",
      "   macro avg       0.80      0.75      0.77      6513\n",
      "weighted avg       0.84      0.85      0.84      6513\n",
      "\n"
     ]
    }
   ],
   "source": [
    "print(classification_report(y_validation, knn_predict))"
   ]
  },
  {
   "cell_type": "code",
   "execution_count": 102,
   "id": "7d45d677-cefa-470b-a7c9-363d20d23c2a",
   "metadata": {},
   "outputs": [
    {
     "data": {
      "image/png": "[encoded data removed]",
      "text/plain": [
       "<Figure size 1080x504 with 2 Axes>"
      ]
     },
     "metadata": {
      "needs_background": "light"
     },
     "output_type": "display_data"
    }
   ],
   "source": [
    "plot_cm(model_knn, X_validation, y_validation)"
   ]
  },
  {
   "cell_type": "code",
   "execution_count": 103,
   "id": "47e4090a-8305-4aa0-ab3b-11fbb35de871",
   "metadata": {},
   "outputs": [
    {
     "data": {
      "image/png": "[encoded data removed]",
      "text/plain": [
       "<Figure size 432x288 with 1 Axes>"
      ]
     },
     "metadata": {
      "needs_background": "light"
     },
     "output_type": "display_data"
    }
   ],
   "source": [
    "plot_roc_curve(model_knn, X_validation, y_validation, response_method=\"predict_proba\")\n",
    "plt.show()"
   ]
  },
  {
   "cell_type": "markdown",
   "id": "09e12297-4223-40ff-a593-0c84d801e800",
   "metadata": {},
   "source": [
    "## Preprocesamiento 1 + Estandarizacion: "
   ]
  },
  {
   "cell_type": "markdown",
   "id": "06cc2234-040a-4ed9-b880-64b56cb6b17c",
   "metadata": {},
   "source": [
    "Probaremos ahora como es el rendimiento del modelo KNN aplicando el mismo preprocesamiento y una estandarizacion.Para esto reutilizaremos **X_ohe** que es el resultado de haber preprocesado y aplicar OHE."
   ]
  },
  {
   "cell_type": "code",
   "execution_count": 104,
   "id": "02b274b1-d3e6-4f4d-8f6b-96d27f5d062e",
   "metadata": {},
   "outputs": [],
   "source": [
    "X_standar = pr.standarize(X_ohe)"
   ]
  },
  {
   "cell_type": "markdown",
   "id": "c7582332-b8b0-4fbf-87fc-2c5d6f0145e3",
   "metadata": {},
   "source": [
    "Partimos nuestro set en *train* y *validation*:"
   ]
  },
  {
   "cell_type": "code",
   "execution_count": 105,
   "id": "d922f353-35bf-45a2-9806-68f051801038",
   "metadata": {},
   "outputs": [],
   "source": [
    "X_standar_train, X_standar_validation, y_train, y_validation = train_test_split(X_standar,y, test_size=0.2, random_state=19, stratify=y)"
   ]
  },
  {
   "cell_type": "markdown",
   "id": "5185ea7b-6e64-41a9-8bb1-914ef773d9e0",
   "metadata": {},
   "source": [
    "Busco los mejores hiperparametros para el arbol de decision con GridSearchCV. La metrica que se utiliza para comparar los modelos obtenidos en cada iteracion es *roc_auc_score*.\n",
    "Tarda entre 10 a 12 minutos sin n_jobs = -1"
   ]
  },
  {
   "cell_type": "code",
   "execution_count": 106,
   "id": "f65fa241-1a57-45b5-9b20-c9bf2c5c97bd",
   "metadata": {},
   "outputs": [
    {
     "name": "stdout",
     "output_type": "stream",
     "text": [
      "Fitting 5 folds for each of 12 candidates, totalling 60 fits\n",
      "Best score: 0.8819156825919083\n",
      "Best params {'n_neighbors': 43, 'weights': 'uniform'}\n"
     ]
    }
   ],
   "source": [
    "parameters = {\n",
    "    'n_neighbors': [43,101,151,199,251,307],\n",
    "    'weights': ['uniform','distance'],\n",
    "}\n",
    "\n",
    "clf = KNeighborsClassifier()\n",
    "\n",
    "gscv = GridSearchCV(\n",
    "    clf, parameters, scoring='roc_auc', cv=5, return_train_score=True,verbose=True\n",
    ").fit(X_standar_train, y_train)\n",
    "\n",
    "print(f\"Best score: {gscv.best_score_}\")\n",
    "print(f\"Best params {gscv.best_params_}\")"
   ]
  },
  {
   "cell_type": "markdown",
   "id": "a7ff269b-e3da-4a9b-84a4-04bc00662c73",
   "metadata": {},
   "source": [
    "Armo el modelo de arbol de decision con los hiperparametros calculados:"
   ]
  },
  {
   "cell_type": "code",
   "execution_count": 107,
   "id": "380faca4-9ff4-4b54-8060-5bd27ef1f99f",
   "metadata": {},
   "outputs": [],
   "source": [
    "model_knn_standar = gscv.best_estimator_"
   ]
  },
  {
   "cell_type": "markdown",
   "id": "857a9477-8060-4ce3-bd1b-9ceb16a68a7c",
   "metadata": {},
   "source": [
    "Entreno el modelo con el train set:"
   ]
  },
  {
   "cell_type": "code",
   "execution_count": 108,
   "id": "472e35e5-3046-49bc-8a70-cc2df5d76174",
   "metadata": {},
   "outputs": [
    {
     "data": {
      "text/plain": [
       "KNeighborsClassifier(n_neighbors=43)"
      ]
     },
     "execution_count": 108,
     "metadata": {},
     "output_type": "execute_result"
    }
   ],
   "source": [
    "model_knn_standar.fit(X_standar_train, y_train)"
   ]
  },
  {
   "cell_type": "markdown",
   "id": "6c1d97c5-4b90-4e2b-99df-9d0ef1fe9764",
   "metadata": {},
   "source": [
    "Predigo con el validation set:"
   ]
  },
  {
   "cell_type": "code",
   "execution_count": 109,
   "id": "8f1e0871-7502-415c-9791-bb11ce1c7376",
   "metadata": {},
   "outputs": [],
   "source": [
    "knn_predict = model_knn_standar.predict(X_standar_validation)"
   ]
  },
  {
   "cell_type": "markdown",
   "id": "e6a49fc7-2e4d-45b9-8868-bfac5cdf65b4",
   "metadata": {},
   "source": [
    "**Metricas**"
   ]
  },
  {
   "cell_type": "code",
   "execution_count": 110,
   "id": "9d523726-d441-46c9-b214-0c6cb059eaf3",
   "metadata": {},
   "outputs": [
    {
     "name": "stdout",
     "output_type": "stream",
     "text": [
      "              precision    recall  f1-score   support\n",
      "\n",
      "           0       0.87      0.92      0.89      4945\n",
      "           1       0.70      0.56      0.62      1568\n",
      "\n",
      "    accuracy                           0.83      6513\n",
      "   macro avg       0.78      0.74      0.76      6513\n",
      "weighted avg       0.83      0.83      0.83      6513\n",
      "\n"
     ]
    }
   ],
   "source": [
    "print(classification_report(y_validation, knn_predict))"
   ]
  },
  {
   "cell_type": "code",
   "execution_count": 111,
   "id": "fde59e26-7084-419d-8ff2-d98b1ef7148d",
   "metadata": {},
   "outputs": [
    {
     "data": {
      "image/png": "[encoded data removed]",
      "text/plain": [
       "<Figure size 1080x504 with 2 Axes>"
      ]
     },
     "metadata": {
      "needs_background": "light"
     },
     "output_type": "display_data"
    }
   ],
   "source": [
    "plot_cm(model_knn_standar, X_standar_validation, y_validation)"
   ]
  },
  {
   "cell_type": "code",
   "execution_count": 112,
   "id": "9c20f272-e38d-4feb-89c9-071c166af954",
   "metadata": {},
   "outputs": [
    {
     "data": {
      "image/png": "[encoded data removed]",
      "text/plain": [
       "<Figure size 432x288 with 1 Axes>"
      ]
     },
     "metadata": {
      "needs_background": "light"
     },
     "output_type": "display_data"
    }
   ],
   "source": [
    "plot_roc_curve(model_knn_standar, X_standar_validation, y_validation, response_method=\"predict_proba\")\n",
    "plt.show()"
   ]
  },
  {
   "cell_type": "markdown",
   "id": "d7188418-4ada-4197-82a2-b2c73efc5b3b",
   "metadata": {},
   "source": [
    "## Preprocesamiento 1 + Normalizacion:"
   ]
  },
  {
   "cell_type": "markdown",
   "id": "e705c679-5fb2-43d5-bbc5-721bb9c42bbb",
   "metadata": {},
   "source": [
    "Probaremos ahora como es el rendimiento del modelo KNN aplicando el mismo preprocesamiento y una normalizacion.Para esto reutilizaremos **X_ohe** que es el resultado de haber preprocesado y aplicar OHE."
   ]
  },
  {
   "cell_type": "code",
   "execution_count": 113,
   "id": "56579581-2af6-4332-984f-85b1019b796d",
   "metadata": {},
   "outputs": [],
   "source": [
    "X_normalized = pr.normalize(X_ohe)"
   ]
  },
  {
   "cell_type": "markdown",
   "id": "4bfa8d66-c166-448a-8d63-90b0ebf17992",
   "metadata": {},
   "source": [
    "Partimos nuestro set en *train* y *validation*:"
   ]
  },
  {
   "cell_type": "code",
   "execution_count": 114,
   "id": "442dfb10-211c-4278-aa8d-68a034c51689",
   "metadata": {},
   "outputs": [],
   "source": [
    "X_normalized_train, X_normalized_validation, y_train, y_validation = train_test_split(X_normalized,y, test_size=0.2, random_state=19, stratify=y)"
   ]
  },
  {
   "cell_type": "markdown",
   "id": "6458bae2-4df6-45d7-a5e7-6361738bf3b9",
   "metadata": {},
   "source": [
    "Busco los mejores hiperparametros para el arbol de decision con GridSearchCV. La metrica que se utiliza para comparar los modelos obtenidos en cada iteracion es *roc_auc_score*.\n",
    "Tarda entre 10 a 12 minutos sin n_jobs = -1"
   ]
  },
  {
   "cell_type": "code",
   "execution_count": 115,
   "id": "781483bd-cea1-44c0-965a-fe1cf01cca23",
   "metadata": {},
   "outputs": [
    {
     "name": "stdout",
     "output_type": "stream",
     "text": [
      "Fitting 5 folds for each of 12 candidates, totalling 60 fits\n",
      "Best score: 0.8645029679389937\n",
      "Best params {'metric': 'cosine', 'n_neighbors': 43, 'weights': 'uniform'}\n"
     ]
    }
   ],
   "source": [
    "parameters = {\n",
    "    'n_neighbors': [43,101,151,199,251,307],\n",
    "    'weights': ['uniform','distance'],\n",
    "    'metric': ['cosine']\n",
    "}\n",
    "\n",
    "clf = KNeighborsClassifier()\n",
    "\n",
    "gscv = GridSearchCV(\n",
    "    clf, parameters, scoring='roc_auc', cv=5, return_train_score=True,verbose=True\n",
    ").fit(X_normalized_train, y_train)\n",
    "\n",
    "print(f\"Best score: {gscv.best_score_}\")\n",
    "print(f\"Best params {gscv.best_params_}\")"
   ]
  },
  {
   "cell_type": "markdown",
   "id": "44bbb1d8-3408-4d4b-8785-1ce56a938fcc",
   "metadata": {},
   "source": [
    "Armo el modelo de arbol de decision con los hiperparametros calculados:"
   ]
  },
  {
   "cell_type": "code",
   "execution_count": 116,
   "id": "6a87c454-d08d-4292-b56d-4d248d34650f",
   "metadata": {},
   "outputs": [],
   "source": [
    "model_knn_normalized = gscv.best_estimator_"
   ]
  },
  {
   "cell_type": "markdown",
   "id": "a2c48625-fc78-4ca8-b3c2-c2b61d98d07c",
   "metadata": {},
   "source": [
    "Entreno el modelo con el train set:"
   ]
  },
  {
   "cell_type": "code",
   "execution_count": 117,
   "id": "ddf4e7f0-1b2a-4b11-a450-908ef8c20d2a",
   "metadata": {},
   "outputs": [
    {
     "data": {
      "text/plain": [
       "KNeighborsClassifier(metric='cosine', n_neighbors=43)"
      ]
     },
     "execution_count": 117,
     "metadata": {},
     "output_type": "execute_result"
    }
   ],
   "source": [
    "model_knn_normalized.fit(X_normalized_train, y_train)"
   ]
  },
  {
   "cell_type": "markdown",
   "id": "27e2b1e3-ec43-4653-b336-a16c8b68b7d2",
   "metadata": {},
   "source": [
    "Predigo con el validation set:"
   ]
  },
  {
   "cell_type": "code",
   "execution_count": 118,
   "id": "8e8a583d-d140-4116-a07c-0ce325155b61",
   "metadata": {},
   "outputs": [],
   "source": [
    "knn_predict = model_knn_normalized.predict(X_normalized_validation)"
   ]
  },
  {
   "cell_type": "markdown",
   "id": "9ba6f7b5-4237-4929-9700-31cb6c808ccc",
   "metadata": {},
   "source": [
    "**Metricas**"
   ]
  },
  {
   "cell_type": "code",
   "execution_count": 119,
   "id": "2effd167-2899-4721-be8f-3bdf2b776539",
   "metadata": {},
   "outputs": [
    {
     "name": "stdout",
     "output_type": "stream",
     "text": [
      "              precision    recall  f1-score   support\n",
      "\n",
      "           0       0.87      0.90      0.89      4945\n",
      "           1       0.66      0.59      0.62      1568\n",
      "\n",
      "    accuracy                           0.83      6513\n",
      "   macro avg       0.76      0.75      0.75      6513\n",
      "weighted avg       0.82      0.83      0.82      6513\n",
      "\n"
     ]
    }
   ],
   "source": [
    "print(classification_report(y_validation, knn_predict))"
   ]
  },
  {
   "cell_type": "code",
   "execution_count": 120,
   "id": "21d86b24-bbbd-4c76-be13-8cb3ccdf9fbb",
   "metadata": {},
   "outputs": [
    {
     "data": {
      "image/png": "[encoded data removed]",
      "text/plain": [
       "<Figure size 1080x504 with 2 Axes>"
      ]
     },
     "metadata": {
      "needs_background": "light"
     },
     "output_type": "display_data"
    }
   ],
   "source": [
    "plot_cm(model_knn_normalized, X_normalized_validation, y_validation)"
   ]
  },
  {
   "cell_type": "code",
   "execution_count": 121,
   "id": "5c8d5386-74e2-4abc-9246-9d8b6c711603",
   "metadata": {},
   "outputs": [
    {
     "data": {
      "image/png": "[encoded data removed]",
      "text/plain": [
       "<Figure size 432x288 with 1 Axes>"
      ]
     },
     "metadata": {
      "needs_background": "light"
     },
     "output_type": "display_data"
    }
   ],
   "source": [
    "plot_roc_curve(model_knn_normalized, X_normalized_validation, y_validation, response_method=\"predict_proba\")\n",
    "plt.show()"
   ]
  },
  {
   "cell_type": "markdown",
   "id": "3ed850d8-ca2b-4c50-aa53-437f51fb234f",
   "metadata": {},
   "source": [
    "# Conclusión"
   ]
  },
  {
   "cell_type": "markdown",
   "id": "0a1f9faf-5372-47b5-b861-c3b976058e45",
   "metadata": {},
   "source": [
    "# Predicción"
   ]
  },
  {
   "cell_type": "code",
   "execution_count": 122,
   "id": "e04dcec0-65dc-4b9b-83f9-4d3633b894a9",
   "metadata": {},
   "outputs": [],
   "source": [
    "ids, X_holdout = get_holdout_set(missings='category')"
   ]
  },
  {
   "cell_type": "code",
   "execution_count": 123,
   "id": "b919ae97-b36e-47d9-9467-2dc490e93e20",
   "metadata": {},
   "outputs": [],
   "source": [
    "pr.init_OHE(X_fe)"
   ]
  },
  {
   "cell_type": "code",
   "execution_count": 124,
   "id": "2969f3f7-627f-430b-bfd0-ae1a3c50a1be",
   "metadata": {},
   "outputs": [],
   "source": [
    "X_holdout_fe = pr.preprocesado1(X_holdout)"
   ]
  },
  {
   "cell_type": "code",
   "execution_count": 125,
   "id": "c3281dcc-d285-4bdc-9917-8726788f3078",
   "metadata": {},
   "outputs": [],
   "source": [
    "X_holdout_ohe = pr.apply_OHE(X_holdout_fe)"
   ]
  },
  {
   "cell_type": "code",
   "execution_count": 126,
   "id": "fa8db865-baeb-4387-a719-a7c1806015d6",
   "metadata": {},
   "outputs": [],
   "source": [
    "knn_predict = model_knn.predict(X_holdout_ohe)"
   ]
  },
  {
   "cell_type": "code",
   "execution_count": 127,
   "id": "fb71d5c3-b6ac-4d9d-9c00-5985385deeca",
   "metadata": {},
   "outputs": [],
   "source": [
    "create_prediction(ids,knn_predict,file_name='knn')"
   ]
  }
 ],
 "metadata": {
  "kernelspec": {
   "display_name": "Python 3",
   "language": "python",
   "name": "python3"
  },
  "language_info": {
   "codemirror_mode": {
    "name": "ipython",
    "version": 3
   },
   "file_extension": ".py",
   "mimetype": "text/x-python",
   "name": "python",
   "nbconvert_exporter": "python",
   "pygments_lexer": "ipython3",
   "version": "3.8.8"
  }
 },
 "nbformat": 4,
 "nbformat_minor": 5
}
