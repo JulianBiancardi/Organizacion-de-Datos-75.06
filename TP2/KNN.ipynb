{
 "cells": [
  {
   "cell_type": "code",
   "execution_count": 43,
   "id": "c57378b5-717d-45de-9133-33f2ff3f60a5",
   "metadata": {},
   "outputs": [],
   "source": [
    "#Includes necesarios\n",
    "from sklearn.neighbors import KNeighborsClassifier\n",
    "\n",
    "import pandas as pd\n",
    "import numpy as np\n",
    "import matplotlib.pyplot as plt \n",
    "from sklearn.model_selection import RandomizedSearchCV,GridSearchCV\n",
    "from sklearn.model_selection import train_test_split\n",
    "\n",
    "from auxiliar import get_train_set,get_holdout_set,create_prediction\n",
    "import preprocessing as pr\n",
    "\n",
    "from auxiliar import plot_cm,plot_tree\n",
    "from sklearn.metrics import classification_report,plot_roc_curve"
   ]
  },
  {
   "cell_type": "markdown",
   "id": "3910f5e6-2df4-478d-b574-98da0e0f4664",
   "metadata": {},
   "source": [
    "# KNN"
   ]
  },
  {
   "cell_type": "markdown",
   "id": "d65767ad-472a-41e2-a8f0-5c165128d2fe",
   "metadata": {},
   "source": [
    "Los hiperparametros que consideramos relevantes para un modelo como el de KNN (k-nearest neighbors) son:\n",
    "   - n_neighbors (K): cantidad de vecinos, se aconseja que sea impar para evitar que la prediccion sea aleatoria cuando haya la misma cantidad de vecinos\n",
    "   - weights: El peso que se le da a la distancia entre los puntos.\n",
    "   - metric: La funcion para calcular la distancia entre los puntos."
   ]
  },
  {
   "cell_type": "markdown",
   "id": "0e5e63f3-0f14-4f50-beb1-9e9ae3d0c5c9",
   "metadata": {
    "tags": []
   },
   "source": [
    "Obtenemos el dataset con el cual entrenaremos nuestro modelo. Para este modelo se opto unicamente tratar los missings como categoricos:"
   ]
  },
  {
   "cell_type": "code",
   "execution_count": 44,
   "id": "0ff6a110-9495-4a1a-a029-b323d9a4be51",
   "metadata": {
    "tags": []
   },
   "outputs": [],
   "source": [
    "X,y = get_train_set()\n",
    "X = pr.init_dataset(X)"
   ]
  },
  {
   "cell_type": "markdown",
   "id": "df8537e4-ed91-47da-a96d-901f41907b6f",
   "metadata": {},
   "source": [
    "## Preprocesamiento 1: OHE"
   ]
  },
  {
   "cell_type": "markdown",
   "id": "fcba4736-8c1f-40d9-b54a-8b4e0bc97c5e",
   "metadata": {},
   "source": [
    "Primero vamos a entrenar nuestro modelo KNN aplicando unicamente OHE a las columnas categoricas:"
   ]
  },
  {
   "cell_type": "code",
   "execution_count": 45,
   "id": "63f57164-9676-40ac-941c-9719e7085bfd",
   "metadata": {},
   "outputs": [],
   "source": [
    "pr.init_OHE(X)\n",
    "X_ohe = pr.apply_OHE(X)"
   ]
  },
  {
   "cell_type": "markdown",
   "id": "cb09ec34-2fe6-4395-9637-0698beaee88d",
   "metadata": {},
   "source": [
    "Partimos nuestro set en *train* y *validation*, dejaremos un 20% de los datos para validación de nuestro entrenamiento:"
   ]
  },
  {
   "cell_type": "code",
   "execution_count": 46,
   "id": "bfac9afe-dd73-468f-82d0-264a9ac0a3fc",
   "metadata": {},
   "outputs": [],
   "source": [
    "X_train, X_validation, y_train, y_validation = train_test_split(X_ohe, y, test_size=0.2, stratify=y, random_state=0)"
   ]
  },
  {
   "cell_type": "markdown",
   "id": "2149335f-0a8c-4fec-9e4d-17efce5fc9ba",
   "metadata": {},
   "source": [
    "Buscamos los mejores hiperparametros para knn con GridSearchCV. \n",
    "\n",
    "    - La métrica que se utiliza para comparar los modelos obtenidos en cada iteracion es roc_auc_score.\n",
    "    - El numero de vecinos es impar para evitar que la prediccion sea aleatoria cuando haya la misma cantidad de vecinos"
   ]
  },
  {
   "cell_type": "code",
   "execution_count": 47,
   "id": "75c4cdab-adb8-4ea5-8a3e-421509248777",
   "metadata": {},
   "outputs": [
    {
     "name": "stdout",
     "output_type": "stream",
     "text": [
      "Best score: 0.8930676256014902\n",
      "Best params {'n_neighbors': 43, 'weights': 'uniform'}\n",
      "------------------\n",
      "Score in Validation: 0.9001246492024515\n"
     ]
    }
   ],
   "source": [
    "parameters = {\n",
    "    'n_neighbors': [43,101,151,199,251,307],\n",
    "    'weights': ['uniform','distance'],\n",
    "}\n",
    "\n",
    "clf = KNeighborsClassifier()\n",
    "\n",
    "gscv = GridSearchCV(\n",
    "    clf, parameters, scoring='roc_auc', cv=5, return_train_score=True\n",
    ").fit(X_train, y_train)\n",
    "\n",
    "print(f\"Best score: {gscv.best_score_}\")\n",
    "print(f\"Best params {gscv.best_params_}\")\n",
    "print(\"------------------\")\n",
    "print(f\"Score in Validation: {gscv.score(X_validation, y_validation)}\")"
   ]
  },
  {
   "cell_type": "markdown",
   "id": "586d284a-1abe-4551-a0b9-3df97f099ba6",
   "metadata": {},
   "source": [
    "Armamos el modelo de KNN con los hiperparametros calculados:"
   ]
  },
  {
   "cell_type": "code",
   "execution_count": 48,
   "id": "fc0a9c73-fbab-4bce-bf8d-4cf9f916e133",
   "metadata": {},
   "outputs": [
    {
     "data": {
      "text/plain": [
       "KNeighborsClassifier(n_neighbors=43)"
      ]
     },
     "execution_count": 48,
     "metadata": {},
     "output_type": "execute_result"
    }
   ],
   "source": [
    "model_knn = gscv.best_estimator_\n",
    "model_knn"
   ]
  },
  {
   "cell_type": "markdown",
   "id": "5b4148cf-011e-4ed3-ac84-4a9590964295",
   "metadata": {},
   "source": [
    "Predecimos con el validation set:"
   ]
  },
  {
   "cell_type": "code",
   "execution_count": 49,
   "id": "2c5645e1-055c-4a79-ac24-06ede7137c66",
   "metadata": {},
   "outputs": [],
   "source": [
    "knn_predict = model_knn.predict(X_validation)"
   ]
  },
  {
   "cell_type": "markdown",
   "id": "97937e79-b57b-4282-b62d-c96ad6360401",
   "metadata": {},
   "source": [
    "**Metricas**"
   ]
  },
  {
   "cell_type": "code",
   "execution_count": 50,
   "id": "cc39bf93-46c1-41f2-a68b-0fa943b0634a",
   "metadata": {},
   "outputs": [
    {
     "name": "stdout",
     "output_type": "stream",
     "text": [
      "              precision    recall  f1-score   support\n",
      "\n",
      "           0       0.88      0.94      0.90      4945\n",
      "           1       0.74      0.58      0.65      1568\n",
      "\n",
      "    accuracy                           0.85      6513\n",
      "   macro avg       0.81      0.76      0.78      6513\n",
      "weighted avg       0.84      0.85      0.84      6513\n",
      "\n"
     ]
    }
   ],
   "source": [
    "print(classification_report(y_validation, knn_predict))"
   ]
  },
  {
   "cell_type": "code",
   "execution_count": 51,
   "id": "7d45d677-cefa-470b-a7c9-363d20d23c2a",
   "metadata": {},
   "outputs": [
    {
     "data": {
      "image/png": "[encoded data removed]",
      "text/plain": [
       "<Figure size 1080x504 with 2 Axes>"
      ]
     },
     "metadata": {
      "needs_background": "light"
     },
     "output_type": "display_data"
    }
   ],
   "source": [
    "plot_cm(model_knn, X_validation, y_validation)"
   ]
  },
  {
   "cell_type": "code",
   "execution_count": 52,
   "id": "47e4090a-8305-4aa0-ab3b-11fbb35de871",
   "metadata": {},
   "outputs": [
    {
     "data": {
      "image/png": "[encoded data removed]",
      "text/plain": [
       "<Figure size 432x288 with 1 Axes>"
      ]
     },
     "metadata": {
      "needs_background": "light"
     },
     "output_type": "display_data"
    }
   ],
   "source": [
    "plot_roc_curve(model_knn, X_validation, y_validation, response_method=\"predict_proba\")\n",
    "plt.show()"
   ]
  },
  {
   "cell_type": "markdown",
   "id": "09e12297-4223-40ff-a593-0c84d801e800",
   "metadata": {},
   "source": [
    "## Preprocesamiento 2: OHE + Estandarizacion "
   ]
  },
  {
   "cell_type": "markdown",
   "id": "06cc2234-040a-4ed9-b880-64b56cb6b17c",
   "metadata": {},
   "source": [
    "Probaremos ahora como es el rendimiento del modelo KNN aplicando el mismo preprocesamiento y una estandarizacion. Para esto reutilizaremos **X_ohe** que es el resultado de haber aplicado OHE."
   ]
  },
  {
   "cell_type": "markdown",
   "id": "c94df598-be22-4138-a674-7d507d75b509",
   "metadata": {},
   "source": [
    "Partimos nuestro set en *train* y *validation*, dejaremos un 20% de los datos para validación de nuestro entrenamiento. Realizamos este primer paso ya que queremos evitar un dataleaking a causa que estamos calculando media y desviacion estandar con los datos de validacion:"
   ]
  },
  {
   "cell_type": "code",
   "execution_count": 53,
   "id": "d922f353-35bf-45a2-9806-68f051801038",
   "metadata": {},
   "outputs": [],
   "source": [
    "X_train, X_validation, y_train, y_validation = train_test_split(X_ohe,y, test_size=0.2, stratify=y, random_state=0)"
   ]
  },
  {
   "cell_type": "code",
   "execution_count": 54,
   "id": "02b274b1-d3e6-4f4d-8f6b-96d27f5d062e",
   "metadata": {},
   "outputs": [],
   "source": [
    "X_train = pr.standarize(X_train)\n",
    "X_validation = pr.standarize(X_validation)"
   ]
  },
  {
   "cell_type": "markdown",
   "id": "58cc792e-1d0d-4797-a1c5-213cad2635a9",
   "metadata": {},
   "source": [
    "Buscamos los mejores hiperparametros para knn con GridSearchCV. \n",
    "\n",
    "    - La métrica que se utiliza para comparar los modelos obtenidos en cada iteracion es roc_auc_score.\n",
    "    - El numero de vecinos es impar para evitar que la prediccion sea aleatoria cuando haya la misma cantidad de vecinos"
   ]
  },
  {
   "cell_type": "code",
   "execution_count": 55,
   "id": "f65fa241-1a57-45b5-9b20-c9bf2c5c97bd",
   "metadata": {},
   "outputs": [
    {
     "name": "stdout",
     "output_type": "stream",
     "text": [
      "Fitting 5 folds for each of 12 candidates, totalling 60 fits\n",
      "Best score: 0.8762733676620709\n",
      "Best params {'n_neighbors': 43, 'weights': 'uniform'}\n",
      "------------------\n",
      "Score in Validation: 0.8704366010812818\n"
     ]
    }
   ],
   "source": [
    "parameters = {\n",
    "    'n_neighbors': [43,101,151,199,251,307],\n",
    "    'weights': ['uniform','distance'],\n",
    "}\n",
    "\n",
    "clf = KNeighborsClassifier()\n",
    "\n",
    "gscv = GridSearchCV(\n",
    "    clf, parameters, scoring='roc_auc', cv=5, return_train_score=True,verbose=True\n",
    ").fit(X_train, y_train)\n",
    "\n",
    "print(f\"Best score: {gscv.best_score_}\")\n",
    "print(f\"Best params {gscv.best_params_}\")\n",
    "print(\"------------------\")\n",
    "print(f\"Score in Validation: {gscv.score(X_validation, y_validation)}\")"
   ]
  },
  {
   "cell_type": "markdown",
   "id": "a7ff269b-e3da-4a9b-84a4-04bc00662c73",
   "metadata": {},
   "source": [
    "Armamos el modelo de KNN con los hiperparametros calculados:"
   ]
  },
  {
   "cell_type": "code",
   "execution_count": 56,
   "id": "380faca4-9ff4-4b54-8060-5bd27ef1f99f",
   "metadata": {},
   "outputs": [
    {
     "data": {
      "text/plain": [
       "KNeighborsClassifier(n_neighbors=43)"
      ]
     },
     "execution_count": 56,
     "metadata": {},
     "output_type": "execute_result"
    }
   ],
   "source": [
    "model_knn_standar = gscv.best_estimator_\n",
    "model_knn_standar"
   ]
  },
  {
   "cell_type": "markdown",
   "id": "6c1d97c5-4b90-4e2b-99df-9d0ef1fe9764",
   "metadata": {},
   "source": [
    "Predecimos con el validation set:"
   ]
  },
  {
   "cell_type": "code",
   "execution_count": 57,
   "id": "8f1e0871-7502-415c-9791-bb11ce1c7376",
   "metadata": {},
   "outputs": [],
   "source": [
    "knn_predict = model_knn_standar.predict(X_validation)"
   ]
  },
  {
   "cell_type": "markdown",
   "id": "e6a49fc7-2e4d-45b9-8868-bfac5cdf65b4",
   "metadata": {},
   "source": [
    "**Metricas**"
   ]
  },
  {
   "cell_type": "code",
   "execution_count": 58,
   "id": "9d523726-d441-46c9-b214-0c6cb059eaf3",
   "metadata": {},
   "outputs": [
    {
     "name": "stdout",
     "output_type": "stream",
     "text": [
      "              precision    recall  f1-score   support\n",
      "\n",
      "           0       0.86      0.92      0.89      4945\n",
      "           1       0.68      0.53      0.60      1568\n",
      "\n",
      "    accuracy                           0.83      6513\n",
      "   macro avg       0.77      0.73      0.74      6513\n",
      "weighted avg       0.82      0.83      0.82      6513\n",
      "\n"
     ]
    }
   ],
   "source": [
    "print(classification_report(y_validation, knn_predict))"
   ]
  },
  {
   "cell_type": "code",
   "execution_count": 59,
   "id": "fde59e26-7084-419d-8ff2-d98b1ef7148d",
   "metadata": {},
   "outputs": [
    {
     "data": {
      "image/png": "[encoded data removed]",
      "text/plain": [
       "<Figure size 1080x504 with 2 Axes>"
      ]
     },
     "metadata": {
      "needs_background": "light"
     },
     "output_type": "display_data"
    }
   ],
   "source": [
    "plot_cm(model_knn_standar, X_validation, y_validation)"
   ]
  },
  {
   "cell_type": "code",
   "execution_count": 60,
   "id": "9c20f272-e38d-4feb-89c9-071c166af954",
   "metadata": {},
   "outputs": [
    {
     "data": {
      "image/png": "[encoded data removed]",
      "text/plain": [
       "<Figure size 432x288 with 1 Axes>"
      ]
     },
     "metadata": {
      "needs_background": "light"
     },
     "output_type": "display_data"
    }
   ],
   "source": [
    "plot_roc_curve(model_knn_standar, X_validation, y_validation, response_method=\"predict_proba\")\n",
    "plt.show()"
   ]
  },
  {
   "cell_type": "markdown",
   "id": "7b1f0631-ace0-4fae-b2c7-748fe853f371",
   "metadata": {},
   "source": [
    "## Preprocesamiento 3: OHE + Escalado "
   ]
  },
  {
   "cell_type": "markdown",
   "id": "04ad5b73-c4ff-4f71-b4ab-19e7c6953f17",
   "metadata": {},
   "source": [
    "Probaremos ahora como es el rendimiento del modelo KNN aplicando el mismo preprocesamiento y un escalado de nuestras columnas. El rango de escalado es entre (0,1). Para esto reutilizaremos **X_ohe** que es el resultado de haber aplicado OHE."
   ]
  },
  {
   "cell_type": "markdown",
   "id": "5a0ba291-d63b-454b-9f5b-1af68fe7649f",
   "metadata": {},
   "source": [
    "Partimos nuestro set en *train* y *validation*, dejaremos un 20% de los datos para validación de nuestro entrenamiento. Realizamos este primer paso ya que queremos evitar un dataleaking a causa que estamos calculando media y desviacion estandar con los datos de validacion:"
   ]
  },
  {
   "cell_type": "code",
   "execution_count": 61,
   "id": "122ccc08-6a70-4ddf-b7c2-629c7a424039",
   "metadata": {},
   "outputs": [],
   "source": [
    "X_train, X_validation, y_train, y_validation = train_test_split(X_ohe,y, test_size=0.2, stratify=y, random_state=0)"
   ]
  },
  {
   "cell_type": "code",
   "execution_count": 62,
   "id": "f3cdd392-1198-4b32-8fc7-334b19450b11",
   "metadata": {},
   "outputs": [],
   "source": [
    "X_train = pr.scale(X_train)\n",
    "X_validation = pr.scale(X_validation)"
   ]
  },
  {
   "cell_type": "markdown",
   "id": "5426863d-fcfe-4ca7-bb27-f09cdde53525",
   "metadata": {},
   "source": [
    "Buscamos los mejores hiperparametros para knn con GridSearchCV. \n",
    "\n",
    "    - La métrica que se utiliza para comparar los modelos obtenidos en cada iteracion es roc_auc_score.\n",
    "    - El numero de vecinos es impar para evitar que la prediccion sea aleatoria cuando haya la misma cantidad de vecinos"
   ]
  },
  {
   "cell_type": "code",
   "execution_count": 63,
   "id": "e31d67f3-be63-42e1-892e-78ffab00bb39",
   "metadata": {},
   "outputs": [
    {
     "name": "stdout",
     "output_type": "stream",
     "text": [
      "Fitting 5 folds for each of 12 candidates, totalling 60 fits\n",
      "Best score: 0.8795697459377643\n",
      "Best params {'n_neighbors': 43, 'weights': 'uniform'}\n",
      "------------------\n",
      "Score in Validation: 0.8744367893770248\n"
     ]
    }
   ],
   "source": [
    "parameters = {\n",
    "    'n_neighbors': [43,101,151,199,251,307],\n",
    "    'weights': ['uniform','distance'],\n",
    "}\n",
    "\n",
    "clf = KNeighborsClassifier()\n",
    "\n",
    "gscv = GridSearchCV(\n",
    "    clf, parameters, scoring='roc_auc', cv=5, return_train_score=True,verbose=True\n",
    ").fit(X_train, y_train)\n",
    "\n",
    "print(f\"Best score: {gscv.best_score_}\")\n",
    "print(f\"Best params {gscv.best_params_}\")\n",
    "print(\"------------------\")\n",
    "print(f\"Score in Validation: {gscv.score(X_validation, y_validation)}\")"
   ]
  },
  {
   "cell_type": "markdown",
   "id": "fccfd41b-3967-40e9-ab9c-d26f347f393f",
   "metadata": {},
   "source": [
    "Armamos el modelo de KNN con los hiperparametros calculados:"
   ]
  },
  {
   "cell_type": "code",
   "execution_count": 64,
   "id": "43c3ee4e-6f15-4398-859c-38ab7d72517e",
   "metadata": {},
   "outputs": [
    {
     "data": {
      "text/plain": [
       "KNeighborsClassifier(n_neighbors=43)"
      ]
     },
     "execution_count": 64,
     "metadata": {},
     "output_type": "execute_result"
    }
   ],
   "source": [
    "model_knn_scale = gscv.best_estimator_\n",
    "model_knn_scale"
   ]
  },
  {
   "cell_type": "markdown",
   "id": "22bd52e1-c07c-4298-bbc9-1d4a9b9b3a79",
   "metadata": {},
   "source": [
    "Predecimos con el validation set:"
   ]
  },
  {
   "cell_type": "code",
   "execution_count": 65,
   "id": "d3f77e5e-9351-4efd-a270-5734af57516d",
   "metadata": {},
   "outputs": [],
   "source": [
    "knn_predict = model_knn_scale.predict(X_validation)"
   ]
  },
  {
   "cell_type": "markdown",
   "id": "3ccec274-715f-444d-9521-43ba3e1824d5",
   "metadata": {},
   "source": [
    "**Metricas**"
   ]
  },
  {
   "cell_type": "code",
   "execution_count": 66,
   "id": "8bd506ba-b48f-4fd2-8a5d-8025f78fdd7e",
   "metadata": {},
   "outputs": [
    {
     "name": "stdout",
     "output_type": "stream",
     "text": [
      "              precision    recall  f1-score   support\n",
      "\n",
      "           0       0.87      0.91      0.89      4945\n",
      "           1       0.66      0.57      0.61      1568\n",
      "\n",
      "    accuracy                           0.83      6513\n",
      "   macro avg       0.77      0.74      0.75      6513\n",
      "weighted avg       0.82      0.83      0.82      6513\n",
      "\n"
     ]
    }
   ],
   "source": [
    "print(classification_report(y_validation, knn_predict))"
   ]
  },
  {
   "cell_type": "code",
   "execution_count": 67,
   "id": "71f39eb1-7442-4cc5-9a1d-190110ab1edf",
   "metadata": {},
   "outputs": [
    {
     "data": {
      "image/png": "[encoded data removed]",
      "text/plain": [
       "<Figure size 1080x504 with 2 Axes>"
      ]
     },
     "metadata": {
      "needs_background": "light"
     },
     "output_type": "display_data"
    }
   ],
   "source": [
    "plot_cm(model_knn_scale, X_validation, y_validation)"
   ]
  },
  {
   "cell_type": "code",
   "execution_count": 68,
   "id": "4068a1a9-4628-41ee-bf29-6b75aae627fc",
   "metadata": {},
   "outputs": [
    {
     "data": {
      "image/png": "[encoded data removed]",
      "text/plain": [
       "<Figure size 432x288 with 1 Axes>"
      ]
     },
     "metadata": {
      "needs_background": "light"
     },
     "output_type": "display_data"
    }
   ],
   "source": [
    "plot_roc_curve(model_knn_scale, X_validation, y_validation, response_method=\"predict_proba\")\n",
    "plt.show()"
   ]
  },
  {
   "cell_type": "markdown",
   "id": "d7188418-4ada-4197-82a2-b2c73efc5b3b",
   "metadata": {},
   "source": [
    "## Preprocesamiento 4: OHE + Normalizacion"
   ]
  },
  {
   "cell_type": "markdown",
   "id": "e705c679-5fb2-43d5-bbc5-721bb9c42bbb",
   "metadata": {},
   "source": [
    "Probaremos ahora como es el rendimiento del modelo KNN aplicando el mismo preprocesamiento y una normalizacion.Para esto reutilizaremos **X_ohe** que es el resultado de haber aplicado OHE."
   ]
  },
  {
   "cell_type": "code",
   "execution_count": 69,
   "id": "56579581-2af6-4332-984f-85b1019b796d",
   "metadata": {},
   "outputs": [],
   "source": [
    "X_normalized = pr.normalize(X_ohe)"
   ]
  },
  {
   "cell_type": "markdown",
   "id": "642c3ed0-4874-4ce0-b9bd-99205263eadc",
   "metadata": {},
   "source": [
    "Partimos nuestro set en *train* y *validation*, dejaremos un 20% de los datos para validación de nuestro entrenamiento. En el caso de la normalizacion, no hace falta realizar la particion antes debido a que se hace el calulo por filas y asi no se tiene dataleaking:"
   ]
  },
  {
   "cell_type": "code",
   "execution_count": 70,
   "id": "442dfb10-211c-4278-aa8d-68a034c51689",
   "metadata": {},
   "outputs": [],
   "source": [
    "X_train, X_validation, y_train, y_validation = train_test_split(X_normalized,y, test_size=0.2, stratify=y, random_state=0)"
   ]
  },
  {
   "cell_type": "markdown",
   "id": "f7cda27b-c328-4fca-a42d-c8c953b828ca",
   "metadata": {},
   "source": [
    "Buscamos los mejores hiperparametros para knn con GridSearchCV. \n",
    "\n",
    "    - La métrica que se utiliza para comparar los modelos obtenidos en cada iteracion es roc_auc_score.\n",
    "    - El numero de vecinos es impar para evitar que la prediccion sea aleatoria cuando haya la misma cantidad de vecinos"
   ]
  },
  {
   "cell_type": "code",
   "execution_count": 71,
   "id": "781483bd-cea1-44c0-965a-fe1cf01cca23",
   "metadata": {},
   "outputs": [
    {
     "name": "stdout",
     "output_type": "stream",
     "text": [
      "Fitting 5 folds for each of 12 candidates, totalling 60 fits\n",
      "Best score: 0.8678822469885921\n",
      "Best params {'n_neighbors': 43, 'weights': 'uniform'}\n",
      "------------------\n",
      "Score in Validation: 0.8644236473659231\n"
     ]
    }
   ],
   "source": [
    "parameters = {\n",
    "    'n_neighbors': [43,101,151,199,251,307],\n",
    "    'weights': ['uniform','distance']\n",
    "}\n",
    "\n",
    "clf = KNeighborsClassifier()\n",
    "\n",
    "gscv = GridSearchCV(\n",
    "    clf, parameters, scoring='roc_auc', cv=5, return_train_score=True,verbose=True\n",
    ").fit(X_train, y_train)\n",
    "\n",
    "print(f\"Best score: {gscv.best_score_}\")\n",
    "print(f\"Best params {gscv.best_params_}\")\n",
    "print(\"------------------\")\n",
    "print(f\"Score in Validation: {gscv.score(X_validation, y_validation)}\")"
   ]
  },
  {
   "cell_type": "markdown",
   "id": "44bbb1d8-3408-4d4b-8785-1ce56a938fcc",
   "metadata": {},
   "source": [
    "Armamos el modelo de KNN con los hiperparametros calculados:"
   ]
  },
  {
   "cell_type": "code",
   "execution_count": 72,
   "id": "6a87c454-d08d-4292-b56d-4d248d34650f",
   "metadata": {},
   "outputs": [
    {
     "data": {
      "text/plain": [
       "KNeighborsClassifier(n_neighbors=43)"
      ]
     },
     "execution_count": 72,
     "metadata": {},
     "output_type": "execute_result"
    }
   ],
   "source": [
    "model_knn_normalized = gscv.best_estimator_\n",
    "model_knn_normalized"
   ]
  },
  {
   "cell_type": "markdown",
   "id": "27e2b1e3-ec43-4653-b336-a16c8b68b7d2",
   "metadata": {},
   "source": [
    "Predecimos con el validation set:"
   ]
  },
  {
   "cell_type": "code",
   "execution_count": 73,
   "id": "8e8a583d-d140-4116-a07c-0ce325155b61",
   "metadata": {},
   "outputs": [],
   "source": [
    "knn_predict = model_knn_normalized.predict(X_validation)"
   ]
  },
  {
   "cell_type": "markdown",
   "id": "9ba6f7b5-4237-4929-9700-31cb6c808ccc",
   "metadata": {},
   "source": [
    "**Metricas**"
   ]
  },
  {
   "cell_type": "code",
   "execution_count": 74,
   "id": "2effd167-2899-4721-be8f-3bdf2b776539",
   "metadata": {},
   "outputs": [
    {
     "name": "stdout",
     "output_type": "stream",
     "text": [
      "              precision    recall  f1-score   support\n",
      "\n",
      "           0       0.87      0.90      0.88      4945\n",
      "           1       0.64      0.58      0.61      1568\n",
      "\n",
      "    accuracy                           0.82      6513\n",
      "   macro avg       0.75      0.74      0.74      6513\n",
      "weighted avg       0.81      0.82      0.82      6513\n",
      "\n"
     ]
    }
   ],
   "source": [
    "print(classification_report(y_validation, knn_predict))"
   ]
  },
  {
   "cell_type": "code",
   "execution_count": 75,
   "id": "21d86b24-bbbd-4c76-be13-8cb3ccdf9fbb",
   "metadata": {},
   "outputs": [
    {
     "data": {
      "image/png": "[encoded data removed]",
      "text/plain": [
       "<Figure size 1080x504 with 2 Axes>"
      ]
     },
     "metadata": {
      "needs_background": "light"
     },
     "output_type": "display_data"
    }
   ],
   "source": [
    "plot_cm(model_knn_normalized, X_validation, y_validation)"
   ]
  },
  {
   "cell_type": "code",
   "execution_count": 76,
   "id": "5c8d5386-74e2-4abc-9246-9d8b6c711603",
   "metadata": {},
   "outputs": [
    {
     "data": {
      "image/png": "[encoded data removed]",
      "text/plain": [
       "<Figure size 432x288 with 1 Axes>"
      ]
     },
     "metadata": {
      "needs_background": "light"
     },
     "output_type": "display_data"
    }
   ],
   "source": [
    "plot_roc_curve(model_knn_normalized, X_validation, y_validation, response_method=\"predict_proba\")\n",
    "plt.show()"
   ]
  },
  {
   "cell_type": "markdown",
   "id": "3ed850d8-ca2b-4c50-aa53-437f51fb234f",
   "metadata": {},
   "source": [
    "# Conclusión"
   ]
  },
  {
   "cell_type": "markdown",
   "id": "adda5740-9c4c-4c08-bf7e-54b8eb68ead7",
   "metadata": {},
   "source": [
    "Vimos que aplicando unicamente OHE a nuestras columnas categoricas obtenemos el mejor resultado de la metrica *auc_roc* para este modelo. Aplicando estandarizacion, escalado o normalizacion producen una perdida de performance para la metrica *auc_roc*. Por ultimo, no es aconsejable este modelo para el dataset que se nos provee debido a que el entrenamiento del mismo crece significativamente con la cantidad de muestras del dataset."
   ]
  },
  {
   "cell_type": "markdown",
   "id": "0a1f9faf-5372-47b5-b861-c3b976058e45",
   "metadata": {},
   "source": [
    "# Predicción"
   ]
  },
  {
   "cell_type": "code",
   "execution_count": 77,
   "id": "e04dcec0-65dc-4b9b-83f9-4d3633b894a9",
   "metadata": {},
   "outputs": [],
   "source": [
    "ids, X_holdout = get_holdout_set()\n",
    "X_holdout = pr.init_dataset(X_holdout)"
   ]
  },
  {
   "cell_type": "code",
   "execution_count": 78,
   "id": "b919ae97-b36e-47d9-9467-2dc490e93e20",
   "metadata": {},
   "outputs": [],
   "source": [
    "pr.init_OHE(X)\n",
    "X_holdout_ohe = pr.apply_OHE(X_holdout)"
   ]
  },
  {
   "cell_type": "code",
   "execution_count": 79,
   "id": "fa8db865-baeb-4387-a719-a7c1806015d6",
   "metadata": {},
   "outputs": [],
   "source": [
    "knn_predict = model_knn.predict(X_holdout_ohe)"
   ]
  },
  {
   "cell_type": "code",
   "execution_count": 80,
   "id": "fb71d5c3-b6ac-4d9d-9c00-5985385deeca",
   "metadata": {},
   "outputs": [],
   "source": [
    "create_prediction(ids,knn_predict,file_name='knn')"
   ]
  }
 ],
 "metadata": {
  "kernelspec": {
   "display_name": "Python 3",
   "language": "python",
   "name": "python3"
  },
  "language_info": {
   "codemirror_mode": {
    "name": "ipython",
    "version": 3
   },
   "file_extension": ".py",
   "mimetype": "text/x-python",
   "name": "python",
   "nbconvert_exporter": "python",
   "pygments_lexer": "ipython3",
   "version": "3.8.8"
  }
 },
 "nbformat": 4,
 "nbformat_minor": 5
}
