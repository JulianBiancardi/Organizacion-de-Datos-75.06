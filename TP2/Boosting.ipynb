{
 "cells": [
  {
   "cell_type": "code",
   "execution_count": 1,
   "id": "f8682fc8-7ac1-49fe-a8cd-779dcf70f6d1",
   "metadata": {},
   "outputs": [],
   "source": [
    "from preprocessing import apply_OHE, preprocesado1, init_OHE\n",
    "\n",
    "from sklearn.metrics import accuracy_score\n",
    "from sklearn.model_selection import GridSearchCV, train_test_split, RandomizedSearchCV\n",
    "from sklearn.preprocessing import OneHotEncoder\n",
    "\n",
    "import matplotlib.pyplot as plt\n",
    "from sklearn.tree import plot_tree\n",
    "\n",
    "import numpy as np\n",
    "import pandas as pd\n",
    "import auxiliar as aux\n",
    "\n",
    "from sklearn.ensemble import GradientBoostingClassifier\n",
    "from sklearn.calibration import CalibratedClassifierCV\n",
    "\n",
    "from sklearn.metrics import classification_report\n",
    "from sklearn.metrics import plot_confusion_matrix, confusion_matrix, ConfusionMatrixDisplay\n",
    "from sklearn.metrics import roc_curve, auc, plot_roc_curve\n",
    "from sklearn.metrics import roc_auc_score"
   ]
  },
  {
   "cell_type": "markdown",
   "id": "8bd00e91-0ddc-470d-afa1-0372a8df8037",
   "metadata": {},
   "source": [
    "<h1>Boosting</h1>"
   ]
  },
  {
   "cell_type": "markdown",
   "id": "cb6f7354-5e10-4b3b-8da6-1a4549eff938",
   "metadata": {},
   "source": [
    "<h3> Preprocesamiento 1: OHE y Reducción de las columnas: Barrio, Religion, Categoria de Trabajo, Estado Marital </h3>"
   ]
  },
  {
   "cell_type": "code",
   "execution_count": 2,
   "id": "a04fbf68-02c5-47f6-b08c-d3bec72b3b7f",
   "metadata": {},
   "outputs": [],
   "source": [
    "X, y = aux.get_train_set(missings='category')"
   ]
  },
  {
   "cell_type": "code",
   "execution_count": 3,
   "id": "3f824209-857e-4034-994a-e88dc6959f3b",
   "metadata": {},
   "outputs": [],
   "source": [
    "X = preprocesado1(X)\n",
    "init_OHE(X)"
   ]
  },
  {
   "cell_type": "code",
   "execution_count": 4,
   "id": "5a927326-0625-4075-b0dc-1591d95afc97",
   "metadata": {},
   "outputs": [
    {
     "data": {
      "text/html": [
       "<div>\n",
       "<style scoped>\n",
       "    .dataframe tbody tr th:only-of-type {\n",
       "        vertical-align: middle;\n",
       "    }\n",
       "\n",
       "    .dataframe tbody tr th {\n",
       "        vertical-align: top;\n",
       "    }\n",
       "\n",
       "    .dataframe thead th {\n",
       "        text-align: right;\n",
       "    }\n",
       "</style>\n",
       "<table border=\"1\" class=\"dataframe\">\n",
       "  <thead>\n",
       "    <tr style=\"text-align: right;\">\n",
       "      <th></th>\n",
       "      <th>anios_estudiados</th>\n",
       "      <th>edad</th>\n",
       "      <th>ganancia_perdida_declarada_bolsa_argentina</th>\n",
       "      <th>horas_trabajo_registradas</th>\n",
       "      <th>barrio_palermo</th>\n",
       "      <th>categoria_de_trabajo_relacion_de_dependencia</th>\n",
       "      <th>estado_marital_otro</th>\n",
       "      <th>estado_marital_sin_matrimonio</th>\n",
       "      <th>genero_mujer</th>\n",
       "      <th>religion_judaismo</th>\n",
       "      <th>...</th>\n",
       "      <th>trabajo_no_especificado</th>\n",
       "      <th>trabajo_otros</th>\n",
       "      <th>trabajo_profesional_especializado</th>\n",
       "      <th>trabajo_reparador</th>\n",
       "      <th>trabajo_sector_primario</th>\n",
       "      <th>trabajo_seguridad</th>\n",
       "      <th>trabajo_servicio_domestico</th>\n",
       "      <th>trabajo_soporte_tecnico</th>\n",
       "      <th>trabajo_transporte</th>\n",
       "      <th>trabajo_ventas</th>\n",
       "    </tr>\n",
       "  </thead>\n",
       "  <tbody>\n",
       "    <tr>\n",
       "      <th>0</th>\n",
       "      <td>17</td>\n",
       "      <td>39</td>\n",
       "      <td>2174</td>\n",
       "      <td>40</td>\n",
       "      <td>1.0</td>\n",
       "      <td>0.0</td>\n",
       "      <td>0.0</td>\n",
       "      <td>1.0</td>\n",
       "      <td>0.0</td>\n",
       "      <td>0.0</td>\n",
       "      <td>...</td>\n",
       "      <td>0.0</td>\n",
       "      <td>0.0</td>\n",
       "      <td>0.0</td>\n",
       "      <td>0.0</td>\n",
       "      <td>0.0</td>\n",
       "      <td>0.0</td>\n",
       "      <td>0.0</td>\n",
       "      <td>0.0</td>\n",
       "      <td>0.0</td>\n",
       "      <td>0.0</td>\n",
       "    </tr>\n",
       "    <tr>\n",
       "      <th>1</th>\n",
       "      <td>17</td>\n",
       "      <td>50</td>\n",
       "      <td>0</td>\n",
       "      <td>13</td>\n",
       "      <td>1.0</td>\n",
       "      <td>0.0</td>\n",
       "      <td>0.0</td>\n",
       "      <td>0.0</td>\n",
       "      <td>0.0</td>\n",
       "      <td>0.0</td>\n",
       "      <td>...</td>\n",
       "      <td>0.0</td>\n",
       "      <td>0.0</td>\n",
       "      <td>0.0</td>\n",
       "      <td>0.0</td>\n",
       "      <td>0.0</td>\n",
       "      <td>0.0</td>\n",
       "      <td>0.0</td>\n",
       "      <td>0.0</td>\n",
       "      <td>0.0</td>\n",
       "      <td>0.0</td>\n",
       "    </tr>\n",
       "    <tr>\n",
       "      <th>2</th>\n",
       "      <td>13</td>\n",
       "      <td>38</td>\n",
       "      <td>0</td>\n",
       "      <td>40</td>\n",
       "      <td>1.0</td>\n",
       "      <td>1.0</td>\n",
       "      <td>1.0</td>\n",
       "      <td>0.0</td>\n",
       "      <td>0.0</td>\n",
       "      <td>0.0</td>\n",
       "      <td>...</td>\n",
       "      <td>0.0</td>\n",
       "      <td>0.0</td>\n",
       "      <td>0.0</td>\n",
       "      <td>0.0</td>\n",
       "      <td>0.0</td>\n",
       "      <td>0.0</td>\n",
       "      <td>0.0</td>\n",
       "      <td>0.0</td>\n",
       "      <td>0.0</td>\n",
       "      <td>0.0</td>\n",
       "    </tr>\n",
       "    <tr>\n",
       "      <th>3</th>\n",
       "      <td>11</td>\n",
       "      <td>53</td>\n",
       "      <td>0</td>\n",
       "      <td>40</td>\n",
       "      <td>1.0</td>\n",
       "      <td>1.0</td>\n",
       "      <td>0.0</td>\n",
       "      <td>0.0</td>\n",
       "      <td>0.0</td>\n",
       "      <td>1.0</td>\n",
       "      <td>...</td>\n",
       "      <td>0.0</td>\n",
       "      <td>0.0</td>\n",
       "      <td>0.0</td>\n",
       "      <td>0.0</td>\n",
       "      <td>0.0</td>\n",
       "      <td>0.0</td>\n",
       "      <td>0.0</td>\n",
       "      <td>0.0</td>\n",
       "      <td>0.0</td>\n",
       "      <td>0.0</td>\n",
       "    </tr>\n",
       "    <tr>\n",
       "      <th>4</th>\n",
       "      <td>17</td>\n",
       "      <td>28</td>\n",
       "      <td>0</td>\n",
       "      <td>40</td>\n",
       "      <td>0.0</td>\n",
       "      <td>1.0</td>\n",
       "      <td>0.0</td>\n",
       "      <td>0.0</td>\n",
       "      <td>1.0</td>\n",
       "      <td>1.0</td>\n",
       "      <td>...</td>\n",
       "      <td>0.0</td>\n",
       "      <td>0.0</td>\n",
       "      <td>1.0</td>\n",
       "      <td>0.0</td>\n",
       "      <td>0.0</td>\n",
       "      <td>0.0</td>\n",
       "      <td>0.0</td>\n",
       "      <td>0.0</td>\n",
       "      <td>0.0</td>\n",
       "      <td>0.0</td>\n",
       "    </tr>\n",
       "    <tr>\n",
       "      <th>...</th>\n",
       "      <td>...</td>\n",
       "      <td>...</td>\n",
       "      <td>...</td>\n",
       "      <td>...</td>\n",
       "      <td>...</td>\n",
       "      <td>...</td>\n",
       "      <td>...</td>\n",
       "      <td>...</td>\n",
       "      <td>...</td>\n",
       "      <td>...</td>\n",
       "      <td>...</td>\n",
       "      <td>...</td>\n",
       "      <td>...</td>\n",
       "      <td>...</td>\n",
       "      <td>...</td>\n",
       "      <td>...</td>\n",
       "      <td>...</td>\n",
       "      <td>...</td>\n",
       "      <td>...</td>\n",
       "      <td>...</td>\n",
       "      <td>...</td>\n",
       "    </tr>\n",
       "    <tr>\n",
       "      <th>32556</th>\n",
       "      <td>16</td>\n",
       "      <td>27</td>\n",
       "      <td>0</td>\n",
       "      <td>38</td>\n",
       "      <td>1.0</td>\n",
       "      <td>1.0</td>\n",
       "      <td>0.0</td>\n",
       "      <td>0.0</td>\n",
       "      <td>1.0</td>\n",
       "      <td>0.0</td>\n",
       "      <td>...</td>\n",
       "      <td>0.0</td>\n",
       "      <td>0.0</td>\n",
       "      <td>0.0</td>\n",
       "      <td>0.0</td>\n",
       "      <td>0.0</td>\n",
       "      <td>0.0</td>\n",
       "      <td>0.0</td>\n",
       "      <td>1.0</td>\n",
       "      <td>0.0</td>\n",
       "      <td>0.0</td>\n",
       "    </tr>\n",
       "    <tr>\n",
       "      <th>32557</th>\n",
       "      <td>13</td>\n",
       "      <td>40</td>\n",
       "      <td>0</td>\n",
       "      <td>40</td>\n",
       "      <td>1.0</td>\n",
       "      <td>1.0</td>\n",
       "      <td>0.0</td>\n",
       "      <td>0.0</td>\n",
       "      <td>0.0</td>\n",
       "      <td>0.0</td>\n",
       "      <td>...</td>\n",
       "      <td>0.0</td>\n",
       "      <td>0.0</td>\n",
       "      <td>0.0</td>\n",
       "      <td>0.0</td>\n",
       "      <td>0.0</td>\n",
       "      <td>0.0</td>\n",
       "      <td>0.0</td>\n",
       "      <td>0.0</td>\n",
       "      <td>0.0</td>\n",
       "      <td>0.0</td>\n",
       "    </tr>\n",
       "    <tr>\n",
       "      <th>32558</th>\n",
       "      <td>13</td>\n",
       "      <td>58</td>\n",
       "      <td>0</td>\n",
       "      <td>40</td>\n",
       "      <td>1.0</td>\n",
       "      <td>1.0</td>\n",
       "      <td>1.0</td>\n",
       "      <td>0.0</td>\n",
       "      <td>1.0</td>\n",
       "      <td>0.0</td>\n",
       "      <td>...</td>\n",
       "      <td>0.0</td>\n",
       "      <td>0.0</td>\n",
       "      <td>0.0</td>\n",
       "      <td>0.0</td>\n",
       "      <td>0.0</td>\n",
       "      <td>0.0</td>\n",
       "      <td>0.0</td>\n",
       "      <td>0.0</td>\n",
       "      <td>0.0</td>\n",
       "      <td>0.0</td>\n",
       "    </tr>\n",
       "    <tr>\n",
       "      <th>32559</th>\n",
       "      <td>13</td>\n",
       "      <td>22</td>\n",
       "      <td>0</td>\n",
       "      <td>20</td>\n",
       "      <td>1.0</td>\n",
       "      <td>1.0</td>\n",
       "      <td>0.0</td>\n",
       "      <td>1.0</td>\n",
       "      <td>0.0</td>\n",
       "      <td>0.0</td>\n",
       "      <td>...</td>\n",
       "      <td>0.0</td>\n",
       "      <td>0.0</td>\n",
       "      <td>0.0</td>\n",
       "      <td>0.0</td>\n",
       "      <td>0.0</td>\n",
       "      <td>0.0</td>\n",
       "      <td>0.0</td>\n",
       "      <td>0.0</td>\n",
       "      <td>0.0</td>\n",
       "      <td>0.0</td>\n",
       "    </tr>\n",
       "    <tr>\n",
       "      <th>32560</th>\n",
       "      <td>13</td>\n",
       "      <td>52</td>\n",
       "      <td>15024</td>\n",
       "      <td>40</td>\n",
       "      <td>1.0</td>\n",
       "      <td>0.0</td>\n",
       "      <td>0.0</td>\n",
       "      <td>0.0</td>\n",
       "      <td>1.0</td>\n",
       "      <td>0.0</td>\n",
       "      <td>...</td>\n",
       "      <td>0.0</td>\n",
       "      <td>0.0</td>\n",
       "      <td>0.0</td>\n",
       "      <td>0.0</td>\n",
       "      <td>0.0</td>\n",
       "      <td>0.0</td>\n",
       "      <td>0.0</td>\n",
       "      <td>0.0</td>\n",
       "      <td>0.0</td>\n",
       "      <td>0.0</td>\n",
       "    </tr>\n",
       "  </tbody>\n",
       "</table>\n",
       "<p>32561 rows × 30 columns</p>\n",
       "</div>"
      ],
      "text/plain": [
       "       anios_estudiados  edad  ganancia_perdida_declarada_bolsa_argentina  \\\n",
       "0                    17    39                                        2174   \n",
       "1                    17    50                                           0   \n",
       "2                    13    38                                           0   \n",
       "3                    11    53                                           0   \n",
       "4                    17    28                                           0   \n",
       "...                 ...   ...                                         ...   \n",
       "32556                16    27                                           0   \n",
       "32557                13    40                                           0   \n",
       "32558                13    58                                           0   \n",
       "32559                13    22                                           0   \n",
       "32560                13    52                                       15024   \n",
       "\n",
       "       horas_trabajo_registradas  barrio_palermo  \\\n",
       "0                             40             1.0   \n",
       "1                             13             1.0   \n",
       "2                             40             1.0   \n",
       "3                             40             1.0   \n",
       "4                             40             0.0   \n",
       "...                          ...             ...   \n",
       "32556                         38             1.0   \n",
       "32557                         40             1.0   \n",
       "32558                         40             1.0   \n",
       "32559                         20             1.0   \n",
       "32560                         40             1.0   \n",
       "\n",
       "       categoria_de_trabajo_relacion_de_dependencia  estado_marital_otro  \\\n",
       "0                                               0.0                  0.0   \n",
       "1                                               0.0                  0.0   \n",
       "2                                               1.0                  1.0   \n",
       "3                                               1.0                  0.0   \n",
       "4                                               1.0                  0.0   \n",
       "...                                             ...                  ...   \n",
       "32556                                           1.0                  0.0   \n",
       "32557                                           1.0                  0.0   \n",
       "32558                                           1.0                  1.0   \n",
       "32559                                           1.0                  0.0   \n",
       "32560                                           0.0                  0.0   \n",
       "\n",
       "       estado_marital_sin_matrimonio  genero_mujer  religion_judaismo  ...  \\\n",
       "0                                1.0           0.0                0.0  ...   \n",
       "1                                0.0           0.0                0.0  ...   \n",
       "2                                0.0           0.0                0.0  ...   \n",
       "3                                0.0           0.0                1.0  ...   \n",
       "4                                0.0           1.0                1.0  ...   \n",
       "...                              ...           ...                ...  ...   \n",
       "32556                            0.0           1.0                0.0  ...   \n",
       "32557                            0.0           0.0                0.0  ...   \n",
       "32558                            0.0           1.0                0.0  ...   \n",
       "32559                            1.0           0.0                0.0  ...   \n",
       "32560                            0.0           1.0                0.0  ...   \n",
       "\n",
       "       trabajo_no_especificado  trabajo_otros  \\\n",
       "0                          0.0            0.0   \n",
       "1                          0.0            0.0   \n",
       "2                          0.0            0.0   \n",
       "3                          0.0            0.0   \n",
       "4                          0.0            0.0   \n",
       "...                        ...            ...   \n",
       "32556                      0.0            0.0   \n",
       "32557                      0.0            0.0   \n",
       "32558                      0.0            0.0   \n",
       "32559                      0.0            0.0   \n",
       "32560                      0.0            0.0   \n",
       "\n",
       "       trabajo_profesional_especializado  trabajo_reparador  \\\n",
       "0                                    0.0                0.0   \n",
       "1                                    0.0                0.0   \n",
       "2                                    0.0                0.0   \n",
       "3                                    0.0                0.0   \n",
       "4                                    1.0                0.0   \n",
       "...                                  ...                ...   \n",
       "32556                                0.0                0.0   \n",
       "32557                                0.0                0.0   \n",
       "32558                                0.0                0.0   \n",
       "32559                                0.0                0.0   \n",
       "32560                                0.0                0.0   \n",
       "\n",
       "       trabajo_sector_primario  trabajo_seguridad  trabajo_servicio_domestico  \\\n",
       "0                          0.0                0.0                         0.0   \n",
       "1                          0.0                0.0                         0.0   \n",
       "2                          0.0                0.0                         0.0   \n",
       "3                          0.0                0.0                         0.0   \n",
       "4                          0.0                0.0                         0.0   \n",
       "...                        ...                ...                         ...   \n",
       "32556                      0.0                0.0                         0.0   \n",
       "32557                      0.0                0.0                         0.0   \n",
       "32558                      0.0                0.0                         0.0   \n",
       "32559                      0.0                0.0                         0.0   \n",
       "32560                      0.0                0.0                         0.0   \n",
       "\n",
       "       trabajo_soporte_tecnico  trabajo_transporte  trabajo_ventas  \n",
       "0                          0.0                 0.0             0.0  \n",
       "1                          0.0                 0.0             0.0  \n",
       "2                          0.0                 0.0             0.0  \n",
       "3                          0.0                 0.0             0.0  \n",
       "4                          0.0                 0.0             0.0  \n",
       "...                        ...                 ...             ...  \n",
       "32556                      1.0                 0.0             0.0  \n",
       "32557                      0.0                 0.0             0.0  \n",
       "32558                      0.0                 0.0             0.0  \n",
       "32559                      0.0                 0.0             0.0  \n",
       "32560                      0.0                 0.0             0.0  \n",
       "\n",
       "[32561 rows x 30 columns]"
      ]
     },
     "execution_count": 4,
     "metadata": {},
     "output_type": "execute_result"
    }
   ],
   "source": [
    "X = apply_OHE(X)\n",
    "X"
   ]
  },
  {
   "cell_type": "code",
   "execution_count": 5,
   "id": "c7c2d7d5-f060-4b3d-8bfd-8f19b7e6e127",
   "metadata": {},
   "outputs": [],
   "source": [
    "X_train, X_test, y_train, y_test = train_test_split(\n",
    "    X, y, random_state=0, test_size=0.2, stratify=y\n",
    ")"
   ]
  },
  {
   "cell_type": "markdown",
   "id": "c4ed061a-4656-48ff-bead-963ca4b82f0d",
   "metadata": {},
   "source": [
    "Cosas probadas con la ramdom search:\n",
    "\n",
    "    MXD (5, 16, 5), MSL (50, 151, 50), MXF ('log2', 'sqrt'), N_EST (101, 201, 100), LR (0.1, 0.01) LOSS ('deviance', 'exponential')\n",
    "    \n",
    "    Resultados:\n",
    "       * MXD=10, MSL=50, N_EST=100, MXF='log2', LR=0.1, LOSS= 'dev' -> Score: 0.9183\n",
    "       * MXD=5, MSL=50, N_EST=200, MXF='sqrt', LR=0.1, LOSS= 'dev' -> Score: 0.9191\n",
    "       * MXD=5, MSL=50, N_EST=200, MXF='log2', LR=0.1, LOSS= 'dev' -> Score: 0.9191\n",
    "       * MXD"
   ]
  },
  {
   "cell_type": "code",
   "execution_count": 46,
   "id": "4b0be0d0-d452-46c3-9d7a-f68ebf5a8f4a",
   "metadata": {},
   "outputs": [],
   "source": [
    "#'criterion': ['gini', 'entropy'], 'max_depth': np.arange(5, 6), 'min_samples_leaf': np.arange(35, 46), 'n_estimators': np.arange(1, 1001, 10), 'max_features': ['sqrt']\n",
    "\n",
    "parameters = {'max_depth': np.arange(5, 16, 5), 'min_samples_leaf': np.arange(50, 151, 50),'n_estimators': np.arange(100,301,100),\n",
    "              'max_features': ['sqrt', 'log2'], 'loss':['deviance', 'exponential'], 'learning_rate': np.array([0.1, 0.01])}\n",
    "\n",
    "clf = GradientBoostingClassifier(random_state = 0)\n",
    "\n",
    "rscv = RandomizedSearchCV(\n",
    "    clf,  parameters, n_iter=60, scoring='roc_auc', cv=5, return_train_score=True,\n",
    ").fit(X_train, y_train)"
   ]
  },
  {
   "cell_type": "code",
   "execution_count": 47,
   "id": "e8bf837c-3652-44c6-af9c-11ab280ed5c4",
   "metadata": {},
   "outputs": [
    {
     "name": "stdout",
     "output_type": "stream",
     "text": [
      "Best score: 0.9221916506754091\n",
      "Best params {'n_estimators': 200, 'min_samples_leaf': 50, 'max_features': 'sqrt', 'max_depth': 5, 'loss': 'deviance', 'learning_rate': 0.1}\n"
     ]
    }
   ],
   "source": [
    "print(f\"Best score: {rscv.best_score_}\")\n",
    "print(f\"Best params {rscv.best_params_}\")"
   ]
  },
  {
   "cell_type": "code",
   "execution_count": 48,
   "id": "0a003f23-f999-49c6-879f-8188ef9fc1a2",
   "metadata": {},
   "outputs": [
    {
     "data": {
      "text/plain": [
       "GradientBoostingClassifier(max_depth=5, max_features='sqrt',\n",
       "                           min_samples_leaf=50, n_estimators=200,\n",
       "                           random_state=0)"
      ]
     },
     "execution_count": 48,
     "metadata": {},
     "output_type": "execute_result"
    }
   ],
   "source": [
    "model_boosting = rscv.best_estimator_\n",
    "model_boosting"
   ]
  },
  {
   "cell_type": "code",
   "execution_count": 45,
   "id": "b798d818-6dd9-4869-93f7-51aa6809ec63",
   "metadata": {},
   "outputs": [
    {
     "data": {
      "text/plain": [
       "0.9191356193640248"
      ]
     },
     "execution_count": 45,
     "metadata": {},
     "output_type": "execute_result"
    }
   ],
   "source": [
    "rscv.score(X_test, y_test)"
   ]
  },
  {
   "cell_type": "code",
   "execution_count": 15,
   "id": "49125840-f64b-4f58-81e8-9fc6971479c1",
   "metadata": {},
   "outputs": [
    {
     "data": {
      "text/plain": [
       "0.8638108398587441"
      ]
     },
     "execution_count": 15,
     "metadata": {},
     "output_type": "execute_result"
    }
   ],
   "source": [
    "y_pred = model_boosting.predict(X_test)\n",
    "accuracy_score(y_test, y_pred)"
   ]
  },
  {
   "cell_type": "code",
   "execution_count": 16,
   "id": "43480950-6b27-4d74-a1b3-1a7394c77818",
   "metadata": {},
   "outputs": [
    {
     "data": {
      "image/png": "[encoded data removed]",
      "text/plain": [
       "<Figure size 1080x720 with 1 Axes>"
      ]
     },
     "metadata": {
      "needs_background": "light"
     },
     "output_type": "display_data"
    }
   ],
   "source": [
    "aux.plot_roc_curve(y_test, y_pred)"
   ]
  },
  {
   "cell_type": "code",
   "execution_count": 18,
   "id": "2b33655d-919f-4157-8b4b-c14c2ecb0bd3",
   "metadata": {},
   "outputs": [
    {
     "data": {
      "image/png": "[encoded data removed]",
      "text/plain": [
       "<Figure size 432x288 with 1 Axes>"
      ]
     },
     "metadata": {
      "needs_background": "light"
     },
     "output_type": "display_data"
    }
   ],
   "source": [
    "plot_roc_curve(model_boosting, X_test, y_test, response_method=\"predict_proba\")\n",
    "plt.show()"
   ]
  },
  {
   "cell_type": "code",
   "execution_count": 19,
   "id": "bac03b90-3f22-494f-bf1d-36146dadaaed",
   "metadata": {},
   "outputs": [
    {
     "data": {
      "image/png": "[encoded data removed]",
      "text/plain": [
       "<Figure size 1080x504 with 2 Axes>"
      ]
     },
     "metadata": {
      "needs_background": "light"
     },
     "output_type": "display_data"
    }
   ],
   "source": [
    "fig, ax = plt.subplots(figsize=(15, 7))\n",
    "plt.grid(False)\n",
    "plot_confusion_matrix(\n",
    "    model_boosting, X_test, y_test, cmap=plt.cm.Blues, display_labels=['0', '1'], ax=ax\n",
    ")\n",
    "plt.show()"
   ]
  },
  {
   "cell_type": "code",
   "execution_count": 20,
   "id": "90cd44d2-5421-47a9-b8a6-4ffae8d5d6af",
   "metadata": {},
   "outputs": [
    {
     "name": "stdout",
     "output_type": "stream",
     "text": [
      "              precision    recall  f1-score   support\n",
      "\n",
      "           0       0.89      0.94      0.91      4945\n",
      "           1       0.77      0.62      0.69      1568\n",
      "\n",
      "    accuracy                           0.86      6513\n",
      "   macro avg       0.83      0.78      0.80      6513\n",
      "weighted avg       0.86      0.86      0.86      6513\n",
      "\n"
     ]
    }
   ],
   "source": [
    "print(classification_report(y_test, y_pred))"
   ]
  },
  {
   "cell_type": "code",
   "execution_count": 21,
   "id": "810c4a03-68a8-4133-8807-127d92acb4b2",
   "metadata": {},
   "outputs": [
    {
     "data": {
      "text/plain": [
       "CalibratedClassifierCV(base_estimator=GradientBoostingClassifier(max_depth=10,\n",
       "                                                                 max_features='log2',\n",
       "                                                                 min_samples_leaf=50,\n",
       "                                                                 random_state=0),\n",
       "                       cv='prefit')"
      ]
     },
     "execution_count": 21,
     "metadata": {},
     "output_type": "execute_result"
    }
   ],
   "source": [
    "calibrated_clf = CalibratedClassifierCV(base_estimator=model_boosting, cv=\"prefit\")\n",
    "calibrated_clf.fit(X_test, y_test)"
   ]
  },
  {
   "cell_type": "code",
   "execution_count": 22,
   "id": "55c8aef9-2500-446e-8d68-7f37e4bb93ed",
   "metadata": {},
   "outputs": [
    {
     "data": {
      "image/png": "[encoded data removed]",
      "text/plain": [
       "<Figure size 432x288 with 1 Axes>"
      ]
     },
     "metadata": {
      "needs_background": "light"
     },
     "output_type": "display_data"
    }
   ],
   "source": [
    "plot_roc_curve(calibrated_clf, X_test, y_test, response_method=\"predict_proba\")\n",
    "plt.show()"
   ]
  },
  {
   "cell_type": "code",
   "execution_count": 23,
   "id": "eb52f7a0-fbed-4cb0-abbb-50fbed7da37c",
   "metadata": {},
   "outputs": [
    {
     "name": "stdout",
     "output_type": "stream",
     "text": [
      "test score: 0.8639643789344388\n"
     ]
    }
   ],
   "source": [
    "print(f\"test score: {calibrated_clf.score(X_test, y_test)}\")"
   ]
  },
  {
   "cell_type": "code",
   "execution_count": 24,
   "id": "9a14c22b-a71c-4d96-b1cd-00ce550bd1d6",
   "metadata": {},
   "outputs": [
    {
     "data": {
      "image/png": "[encoded data removed]",
      "text/plain": [
       "<Figure size 1080x504 with 2 Axes>"
      ]
     },
     "metadata": {
      "needs_background": "light"
     },
     "output_type": "display_data"
    }
   ],
   "source": [
    "fig, ax = plt.subplots(figsize=(15, 7))\n",
    "plt.grid(False)\n",
    "plot_confusion_matrix(\n",
    "    calibrated_clf, X_test, y_test, cmap=plt.cm.Blues, display_labels=['0', '1'], ax=ax\n",
    ")\n",
    "plt.show()"
   ]
  },
  {
   "cell_type": "code",
   "execution_count": 25,
   "id": "39ce0b47-c7e4-4784-901b-b17fa7c22dc0",
   "metadata": {},
   "outputs": [
    {
     "name": "stdout",
     "output_type": "stream",
     "text": [
      "              precision    recall  f1-score   support\n",
      "\n",
      "           0       0.89      0.94      0.91      4945\n",
      "           1       0.77      0.62      0.69      1568\n",
      "\n",
      "    accuracy                           0.86      6513\n",
      "   macro avg       0.83      0.78      0.80      6513\n",
      "weighted avg       0.86      0.86      0.86      6513\n",
      "\n"
     ]
    }
   ],
   "source": [
    "print(classification_report(y_test, y_pred))"
   ]
  },
  {
   "cell_type": "code",
   "execution_count": 30,
   "id": "8907898a-d4b2-4fbc-aac1-fb1733243147",
   "metadata": {},
   "outputs": [
    {
     "data": {
      "text/plain": [
       "array([1, 2, 3, 4])"
      ]
     },
     "execution_count": 30,
     "metadata": {},
     "output_type": "execute_result"
    }
   ],
   "source": [
    "np.arange(1,5,1)"
   ]
  },
  {
   "cell_type": "code",
   "execution_count": null,
   "id": "582dc14c-7a48-4fa2-99d2-22eca628e363",
   "metadata": {},
   "outputs": [],
   "source": []
  }
 ],
 "metadata": {
  "kernelspec": {
   "display_name": "Python 3",
   "language": "python",
   "name": "python3"
  },
  "language_info": {
   "codemirror_mode": {
    "name": "ipython",
    "version": 3
   },
   "file_extension": ".py",
   "mimetype": "text/x-python",
   "name": "python",
   "nbconvert_exporter": "python",
   "pygments_lexer": "ipython3",
   "version": "3.9.1"
  }
 },
 "nbformat": 4,
 "nbformat_minor": 5
}
