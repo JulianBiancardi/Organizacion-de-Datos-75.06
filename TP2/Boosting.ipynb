{
 "cells": [
  {
   "cell_type": "code",
   "execution_count": 1,
   "id": "f8682fc8-7ac1-49fe-a8cd-779dcf70f6d1",
   "metadata": {},
   "outputs": [],
   "source": [
    "from preprocessing import apply_OHE, init_OHE, init_dataset, reduce_by_frequency_occurrence\n",
    "\n",
    "import matplotlib.pyplot as plt\n",
    "\n",
    "import numpy as np\n",
    "import pandas as pd\n",
    "import auxiliar as aux\n",
    "\n",
    "from sklearn.ensemble import GradientBoostingClassifier\n",
    "from sklearn.model_selection import GridSearchCV, train_test_split\n",
    "from sklearn.metrics import classification_report, plot_roc_curve"
   ]
  },
  {
   "cell_type": "markdown",
   "id": "8bd00e91-0ddc-470d-afa1-0372a8df8037",
   "metadata": {},
   "source": [
    "<h1>Boosting</h1>"
   ]
  },
  {
   "cell_type": "markdown",
   "id": "cc8439ed-60bf-4c49-bf05-1967bab606b2",
   "metadata": {},
   "source": [
    "Los hiperparámetros que consideramos relevantes para un modelo como el de Boosting son:\n",
    "   - max_depth: Profundidad máxima de los arboles.\n",
    "   - min_samples_leaf: El numero mínimo de muestras requerido para que un nodo sea considerado como nodo hoja. \n",
    "   - n_estimadores: La cantidad de arboles que utiliza el modelo.\n",
    "   - max_features: La cantidad de features al azar que recibe cada arbol en cada nodo\n",
    "   - learning_rate: vinculado con la contribución de cada arbol.\n",
    "   "
   ]
  },
  {
   "cell_type": "markdown",
   "id": "cb6f7354-5e10-4b3b-8da6-1a4549eff938",
   "metadata": {},
   "source": [
    "<h3> Preprocesamiento 1: OHE</h3>"
   ]
  },
  {
   "cell_type": "markdown",
   "id": "3ec47cce-9b95-4fd2-8646-34474f7a7bae",
   "metadata": {},
   "source": [
    "Primero vamos a entrenar el random forest aplicando unicamente OHE a las columnas categoricas:"
   ]
  },
  {
   "cell_type": "code",
   "execution_count": 2,
   "id": "a04fbf68-02c5-47f6-b08c-d3bec72b3b7f",
   "metadata": {},
   "outputs": [],
   "source": [
    "X, y = aux.get_train_set()\n",
    "X = init_dataset(X)"
   ]
  },
  {
   "cell_type": "code",
   "execution_count": 3,
   "id": "3f824209-857e-4034-994a-e88dc6959f3b",
   "metadata": {},
   "outputs": [],
   "source": [
    "init_OHE(X)\n",
    "X_p1 = apply_OHE(X)"
   ]
  },
  {
   "cell_type": "markdown",
   "id": "c16a994a-5dcc-42b2-9b7d-9500d2e28a8a",
   "metadata": {},
   "source": [
    "Partimos nuestro set en train y validation, dejaremos un 20% de los datos para validación de nuestro entrenamiento:"
   ]
  },
  {
   "cell_type": "code",
   "execution_count": 4,
   "id": "c7c2d7d5-f060-4b3d-8bfd-8f19b7e6e127",
   "metadata": {},
   "outputs": [],
   "source": [
    "X_train, X_validation, y_train, y_validation = train_test_split(\n",
    "    X_p1, y, random_state=0, test_size=0.2, stratify=y\n",
    ")"
   ]
  },
  {
   "cell_type": "markdown",
   "id": "3eb6edbb-5b42-4a61-b6f5-f6f09218086f",
   "metadata": {},
   "source": [
    "Buscamos los mejores hiperparametros para Boosting con GridSearchCV:\n",
    "\n",
    "    - La métrica que se utiliza para comparar los modelos obtenidos en cada iteracion es roc_auc_score.\n",
    "    - El intervalo de min_samples_leaf tiene un paso de 50 valores ya que consideramos que una diferencia menor a este valor resulta ser irrelevante para las métricas que se calculan.\n",
    "    - El intervalo de max_depth tiene un paso de 5 valores ya que consideramos que una diferencia menor a este valor resulta ser irrelevante para las métricas que se calculan.\n",
    "    - El criterio se definió como entropia ya que siempres se obtenia este resultado mientras se hacian variar los demas hiperparametros.\n",
    "    - El número de estimadores óptimo para la métrica que se calcula siempre estuvo entre 200 y 300, por lo se limitan las opciones a esos valores."
   ]
  },
  {
   "cell_type": "code",
   "execution_count": 5,
   "id": "7e53b50d-a913-4225-b3d5-7dafc74a2638",
   "metadata": {},
   "outputs": [],
   "source": [
    "parameters = {'max_depth': np.arange(5, 11, 5), 'min_samples_leaf': np.arange(50, 151, 50),'n_estimators': np.arange(200, 301, 100), 'learning_rate': np.array([0.1, 0.01])}\n",
    "\n",
    "clf = GradientBoostingClassifier(random_state = 0)\n",
    "\n",
    "gscv = GridSearchCV(\n",
    "    clf,  parameters, scoring='roc_auc', n_jobs=-1, cv=5, return_train_score=True,\n",
    ").fit(X_train, y_train)"
   ]
  },
  {
   "cell_type": "code",
   "execution_count": 6,
   "id": "e8bf837c-3652-44c6-af9c-11ab280ed5c4",
   "metadata": {},
   "outputs": [
    {
     "name": "stdout",
     "output_type": "stream",
     "text": [
      "Best score: 0.9270037521647051\n",
      "Best params {'learning_rate': 0.1, 'max_depth': 5, 'min_samples_leaf': 50, 'n_estimators': 300}\n",
      "------------------\n",
      "Score in Validation: 0.9258969196879966\n"
     ]
    }
   ],
   "source": [
    "print(f\"Best score: {gscv.best_score_}\")\n",
    "print(f\"Best params {gscv.best_params_}\")\n",
    "print(\"------------------\")\n",
    "print(f\"Score in Validation: {gscv.score(X_validation, y_validation)}\")"
   ]
  },
  {
   "cell_type": "code",
   "execution_count": 7,
   "id": "0a003f23-f999-49c6-879f-8188ef9fc1a2",
   "metadata": {},
   "outputs": [
    {
     "data": {
      "text/plain": [
       "GradientBoostingClassifier(max_depth=5, min_samples_leaf=50, n_estimators=300,\n",
       "                           random_state=0)"
      ]
     },
     "execution_count": 7,
     "metadata": {},
     "output_type": "execute_result"
    }
   ],
   "source": [
    "model_boosting_p1 = gscv.best_estimator_\n",
    "model_boosting_p1"
   ]
  },
  {
   "cell_type": "markdown",
   "id": "b6a6c06b-dad0-4c89-a110-16c9bf05e8cf",
   "metadata": {},
   "source": [
    "Predecimos con el set de validación:"
   ]
  },
  {
   "cell_type": "code",
   "execution_count": 8,
   "id": "5a21ddc4-d8ca-4243-b287-16e35dd47d81",
   "metadata": {},
   "outputs": [],
   "source": [
    "y_pred_p1 = model_boosting_p1.predict(X_validation)"
   ]
  },
  {
   "cell_type": "markdown",
   "id": "1e5c915a-8ac5-4785-a68c-8c1243e268e4",
   "metadata": {},
   "source": [
    "### Métricas"
   ]
  },
  {
   "cell_type": "code",
   "execution_count": 9,
   "id": "90cd44d2-5421-47a9-b8a6-4ffae8d5d6af",
   "metadata": {},
   "outputs": [
    {
     "name": "stdout",
     "output_type": "stream",
     "text": [
      "              precision    recall  f1-score   support\n",
      "\n",
      "           0       0.90      0.94      0.92      4945\n",
      "           1       0.78      0.65      0.71      1568\n",
      "\n",
      "    accuracy                           0.87      6513\n",
      "   macro avg       0.84      0.80      0.82      6513\n",
      "weighted avg       0.87      0.87      0.87      6513\n",
      "\n"
     ]
    }
   ],
   "source": [
    "print(classification_report(y_validation, y_pred_p1))"
   ]
  },
  {
   "cell_type": "markdown",
   "id": "2300a093-b70b-45d6-83d3-df19cd870a59",
   "metadata": {},
   "source": [
    "Mostramos la matriz de confusión:"
   ]
  },
  {
   "cell_type": "code",
   "execution_count": 10,
   "id": "c82d542b-d063-4ba9-8ff5-183fd5c4b32a",
   "metadata": {},
   "outputs": [
    {
     "data": {
      "image/png": "[encoded data removed]",
      "text/plain": [
       "<Figure size 1080x504 with 2 Axes>"
      ]
     },
     "metadata": {
      "needs_background": "light"
     },
     "output_type": "display_data"
    }
   ],
   "source": [
    "aux.plot_cm(model_boosting_p1, X_validation, y_validation)"
   ]
  },
  {
   "cell_type": "markdown",
   "id": "25f68b34-ac95-4e56-97e4-ad330daec3dd",
   "metadata": {},
   "source": [
    "Mostramos el gráfico de la curva roc:"
   ]
  },
  {
   "cell_type": "code",
   "execution_count": 11,
   "id": "2b33655d-919f-4157-8b4b-c14c2ecb0bd3",
   "metadata": {},
   "outputs": [
    {
     "data": {
      "image/png": "[encoded data removed]",
      "text/plain": [
       "<Figure size 432x288 with 1 Axes>"
      ]
     },
     "metadata": {
      "needs_background": "light"
     },
     "output_type": "display_data"
    }
   ],
   "source": [
    "plot_roc_curve(model_boosting_p1, X_validation, y_validation, response_method=\"predict_proba\")\n",
    "plt.show()"
   ]
  },
  {
   "cell_type": "markdown",
   "id": "efd387d9-9326-4050-95b7-370c6f2bfd90",
   "metadata": {},
   "source": [
    "<h3> Preprocesamiento 2: OHE y Reducción de las columnas: Barrio, Religion, Categoria de Trabajo, Estado Marital </h3>"
   ]
  },
  {
   "cell_type": "markdown",
   "id": "1d156bb0-bb62-4b89-b65a-8944e726a1d2",
   "metadata": {},
   "source": [
    "A diferencia del preprocesado anterior, ahora reduciremos por frecuencia de aparición algunas columnas y luego aplicaremos OHE a las columnas categoricas. Al realizar este primer preproceso obtenemos una reduccion dimensional cuando apliquemos OHE. Utilizaremos la funcion reduce_by_frequency_occurrence cuyas columnas predeterminadas a reducir son: Barrio, Religion, Categoria de Trabajo, Estado Marital."
   ]
  },
  {
   "cell_type": "code",
   "execution_count": 12,
   "id": "4676807a-b524-4c07-b8e0-89f61ab4fcc9",
   "metadata": {},
   "outputs": [],
   "source": [
    "X_p2 = reduce_by_frequency_occurrence(X)"
   ]
  },
  {
   "cell_type": "code",
   "execution_count": 13,
   "id": "98e9487c-8387-4a99-b321-2bcb65f63033",
   "metadata": {},
   "outputs": [],
   "source": [
    "init_OHE(X_p2)\n",
    "X_p2 = apply_OHE(X_p2)"
   ]
  },
  {
   "cell_type": "code",
   "execution_count": 14,
   "id": "7b5c2083-40ad-4af2-a6bf-2bf81177a0dc",
   "metadata": {},
   "outputs": [],
   "source": [
    "X_train, X_validation, y_train, y_validation = train_test_split(\n",
    "    X_p2, y, random_state=0, test_size=0.2, stratify=y\n",
    ")"
   ]
  },
  {
   "cell_type": "markdown",
   "id": "93f40ad1-60e9-4ce3-b905-a9245ed8e516",
   "metadata": {},
   "source": [
    "Buscamos los mejores hiperparametros para Boosting con GridSearchCV:\n",
    "\n",
    "    - La métrica que se utiliza para comparar los modelos obtenidos en cada iteracion es roc_auc_score.\n",
    "    - El intervalo de min_samples_leaf tiene un paso de 50 valores ya que consideramos que una diferencia menor a este valor resulta ser irrelevante para las metricas que se calculan.\n",
    "    - El intervalo de max_depth tiene un paso de 5 valores ya que consideramos que una diferencia menor a este valor resulta ser irrelevante para las metricas que se calculan.\n",
    "    - la funcion de perdida quedó definida como 'deviance' ya que se obtuvo el mismo resultado en multiples corridas con hiperparametros diferentes\n",
    "    - El número de estimadores óptimo para las metricas que se calculan siempre estuvo en el intervalo [200, 400], por lo se limitan las opciones a esos valores.\n",
    "    - El learning rate se mantiene en esos valores ya que se probo incrementandolo y se obtuvo el mismo resultado"
   ]
  },
  {
   "cell_type": "code",
   "execution_count": 15,
   "id": "6cdb0982-2277-47b0-b2a2-aa7564c2632e",
   "metadata": {},
   "outputs": [],
   "source": [
    "parameters = {'max_depth': np.arange(5, 11, 5), 'min_samples_leaf': np.arange(50, 151, 50),'n_estimators': np.arange(200, 301, 100), 'learning_rate': np.array([0.1, 0.01])}\n",
    "\n",
    "clf = GradientBoostingClassifier(random_state = 0)\n",
    "\n",
    "gscv = GridSearchCV(\n",
    "    clf,  parameters, scoring='roc_auc', n_jobs=-1, cv=5, return_train_score=True,\n",
    ").fit(X_train, y_train)"
   ]
  },
  {
   "cell_type": "code",
   "execution_count": 16,
   "id": "46ab151e-3955-4690-b89a-f5bca780c240",
   "metadata": {},
   "outputs": [
    {
     "name": "stdout",
     "output_type": "stream",
     "text": [
      "Best score: 0.9259985801204476\n",
      "Best params {'learning_rate': 0.1, 'max_depth': 5, 'min_samples_leaf': 50, 'n_estimators': 300}\n",
      "------------------\n",
      "Score in Validation: 0.9246606807535955\n"
     ]
    }
   ],
   "source": [
    "print(f\"Best score: {gscv.best_score_}\")\n",
    "print(f\"Best params {gscv.best_params_}\")\n",
    "print(\"------------------\")\n",
    "print(f\"Score in Validation: {gscv.score(X_validation, y_validation)}\")"
   ]
  },
  {
   "cell_type": "code",
   "execution_count": 17,
   "id": "7d8c964d-97a3-47cb-ac83-1393a44334fa",
   "metadata": {},
   "outputs": [
    {
     "data": {
      "text/plain": [
       "GradientBoostingClassifier(max_depth=5, min_samples_leaf=50, n_estimators=300,\n",
       "                           random_state=0)"
      ]
     },
     "execution_count": 17,
     "metadata": {},
     "output_type": "execute_result"
    }
   ],
   "source": [
    "model_boosting_p2 = gscv.best_estimator_\n",
    "model_boosting_p2"
   ]
  },
  {
   "cell_type": "markdown",
   "id": "40e2be65-cef9-4b76-ba36-d19da17e548f",
   "metadata": {},
   "source": [
    "Predecimos con el set de validación:"
   ]
  },
  {
   "cell_type": "code",
   "execution_count": 18,
   "id": "8540f629-6377-40ba-8f26-346412335a1a",
   "metadata": {},
   "outputs": [],
   "source": [
    "y_pred_p2 = model_boosting_p2.predict(X_validation)"
   ]
  },
  {
   "cell_type": "markdown",
   "id": "063bda7e-8acd-4820-893b-0d25f6d9a4f1",
   "metadata": {},
   "source": [
    "### Métricas"
   ]
  },
  {
   "cell_type": "code",
   "execution_count": 19,
   "id": "f6660818-aabd-48ce-834b-e798e20b09d3",
   "metadata": {},
   "outputs": [
    {
     "name": "stdout",
     "output_type": "stream",
     "text": [
      "              precision    recall  f1-score   support\n",
      "\n",
      "           0       0.89      0.94      0.92      4945\n",
      "           1       0.78      0.64      0.70      1568\n",
      "\n",
      "    accuracy                           0.87      6513\n",
      "   macro avg       0.84      0.79      0.81      6513\n",
      "weighted avg       0.86      0.87      0.86      6513\n",
      "\n"
     ]
    }
   ],
   "source": [
    "print(classification_report(y_validation, y_pred_p2))"
   ]
  },
  {
   "cell_type": "markdown",
   "id": "2168abf3-1182-4963-9575-5a1e05c68623",
   "metadata": {},
   "source": [
    "Mostramos la matriz de confusión:"
   ]
  },
  {
   "cell_type": "code",
   "execution_count": 20,
   "id": "05af9f99-5d50-4d14-a5b8-5270e698ced7",
   "metadata": {},
   "outputs": [
    {
     "data": {
      "image/png": "[encoded data removed]",
      "text/plain": [
       "<Figure size 1080x504 with 2 Axes>"
      ]
     },
     "metadata": {
      "needs_background": "light"
     },
     "output_type": "display_data"
    }
   ],
   "source": [
    "aux.plot_cm(model_boosting_p2, X_validation, y_validation)"
   ]
  },
  {
   "cell_type": "markdown",
   "id": "34da8566-56a6-4e82-87b6-efe7079e41e0",
   "metadata": {},
   "source": [
    "Mostramos el gráfico de la curva roc:"
   ]
  },
  {
   "cell_type": "code",
   "execution_count": 21,
   "id": "64b0e077-2a43-4032-8c2a-cd54f5ed5516",
   "metadata": {},
   "outputs": [
    {
     "data": {
      "image/png": "[encoded data removed]",
      "text/plain": [
       "<Figure size 432x288 with 1 Axes>"
      ]
     },
     "metadata": {
      "needs_background": "light"
     },
     "output_type": "display_data"
    }
   ],
   "source": [
    "plot_roc_curve(model_boosting_p2, X_validation, y_validation, response_method=\"predict_proba\")\n",
    "plt.show()"
   ]
  },
  {
   "cell_type": "markdown",
   "id": "d4f4020a-7f78-4fe5-b82b-ec5fad256c51",
   "metadata": {},
   "source": [
    "<h1>Conclusión</h1>"
   ]
  },
  {
   "cell_type": "markdown",
   "id": "dc388edf-3326-4a1b-8373-5212cc1dd9a8",
   "metadata": {},
   "source": [
    "Vemos que hay muy poca diferencia entre ambos preprocesados, siendo el primer preprocesado sutilmente mejor. Entonces nos quedaremos con el primer modelo."
   ]
  },
  {
   "cell_type": "markdown",
   "id": "2d056144-028c-446e-8aec-295a7f7bdb02",
   "metadata": {},
   "source": [
    "<h1>Predicción</h1>"
   ]
  },
  {
   "cell_type": "code",
   "execution_count": 22,
   "id": "68f00af3-68da-4b4d-9cee-401614b64987",
   "metadata": {},
   "outputs": [],
   "source": [
    "ids, X_holdout = aux.get_holdout_set()"
   ]
  },
  {
   "cell_type": "code",
   "execution_count": 23,
   "id": "bc62ba5a-49ad-4f60-a4af-acc31a154c2b",
   "metadata": {},
   "outputs": [],
   "source": [
    "X_holdout = init_dataset(X_holdout)"
   ]
  },
  {
   "cell_type": "code",
   "execution_count": 24,
   "id": "9bde4a67-a46f-48bf-98b9-54be720d041b",
   "metadata": {},
   "outputs": [],
   "source": [
    "init_OHE(X)\n",
    "X_holdout_p1 = apply_OHE(X_holdout)"
   ]
  },
  {
   "cell_type": "code",
   "execution_count": 25,
   "id": "601e4f98-08c2-416e-b328-38d713dcf820",
   "metadata": {},
   "outputs": [],
   "source": [
    "model_boosting_pred = model_boosting_p1.predict(X_holdout_p1)"
   ]
  },
  {
   "cell_type": "code",
   "execution_count": 26,
   "id": "ae13cef5-7104-4746-a709-2812ca3dbc03",
   "metadata": {},
   "outputs": [],
   "source": [
    "aux.create_prediction(ids, model_boosting_pred, file_name='boosting')"
   ]
  }
 ],
 "metadata": {
  "kernelspec": {
   "display_name": "Python 3",
   "language": "python",
   "name": "python3"
  },
  "language_info": {
   "codemirror_mode": {
    "name": "ipython",
    "version": 3
   },
   "file_extension": ".py",
   "mimetype": "text/x-python",
   "name": "python",
   "nbconvert_exporter": "python",
   "pygments_lexer": "ipython3",
   "version": "3.9.1"
  }
 },
 "nbformat": 4,
 "nbformat_minor": 5
}
