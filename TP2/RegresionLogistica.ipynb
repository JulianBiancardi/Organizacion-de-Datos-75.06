{
 "cells": [
  {
   "cell_type": "code",
   "execution_count": 20,
   "id": "fac7d36a-65b5-4a94-954f-329a0ea42484",
   "metadata": {},
   "outputs": [],
   "source": [
    "#Includes necesarios\n",
    "from sklearn.linear_model import LogisticRegression\n",
    "\n",
    "import pandas as pd\n",
    "import numpy as np\n",
    "import matplotlib.pyplot as plt \n",
    "from sklearn.model_selection import RandomizedSearchCV,GridSearchCV\n",
    "from sklearn.model_selection import train_test_split\n",
    "\n",
    "from auxiliar import get_train_set,get_holdout_set,create_prediction\n",
    "import preprocessing as pr\n",
    "\n",
    "from auxiliar import plot_cm,plot_tree\n",
    "from sklearn.metrics import classification_report,plot_roc_curve"
   ]
  },
  {
   "cell_type": "markdown",
   "id": "1620b30f-9f1e-435e-8a0a-3e82d061c677",
   "metadata": {},
   "source": [
    "# **Regresión Logistica**"
   ]
  },
  {
   "cell_type": "markdown",
   "id": "01f74a07-b2d2-4b1e-81d8-c47e19ac1c53",
   "metadata": {
    "tags": []
   },
   "source": [
    "Obtenemos el dataset con el cual entrenaremos nuestro modelo. Para este modelo se opto unicamente tratar los missings como categoricos:"
   ]
  },
  {
   "cell_type": "code",
   "execution_count": 21,
   "id": "efdfc4e0-36e3-43b1-a580-7534388a1b9a",
   "metadata": {
    "tags": []
   },
   "outputs": [],
   "source": [
    "X,y = get_train_set()\n",
    "X = pr.init_dataset(X)"
   ]
  },
  {
   "cell_type": "markdown",
   "id": "74893be7-e390-49e4-8364-ea8a03e8032a",
   "metadata": {},
   "source": [
    "## Preprocesamiento 1: OHE"
   ]
  },
  {
   "cell_type": "markdown",
   "id": "ad2cbb5b-a704-49db-84ba-194d52881559",
   "metadata": {},
   "source": [
    "Primero vamos a entrenar nuestra regresion logisitca aplicando unicamente OHE a las columnas categoricas. Vamos a aplicar distintos tipos de *solver* apropiados para dataset que no tienen algun tipo de escalado en sus features:"
   ]
  },
  {
   "cell_type": "code",
   "execution_count": 22,
   "id": "cd172dfa-10f9-4b4c-9f47-f44db1a05590",
   "metadata": {},
   "outputs": [],
   "source": [
    "pr.init_OHE(X)\n",
    "X_ohe = pr.apply_OHE(X)"
   ]
  },
  {
   "cell_type": "markdown",
   "id": "608aa824-182a-442c-a5d6-80634943d24b",
   "metadata": {},
   "source": [
    "Partimos nuestro set en *train* y *validation*:"
   ]
  },
  {
   "cell_type": "code",
   "execution_count": 23,
   "id": "26ad9028-3bcd-48bd-8cb5-5927f8603eac",
   "metadata": {},
   "outputs": [],
   "source": [
    "X_train, X_validation, y_train, y_validation = train_test_split(X_ohe,y, test_size=0.2, stratify=y)"
   ]
  },
  {
   "cell_type": "markdown",
   "id": "a4fadfa0-0136-4a19-b037-2393e68f05df",
   "metadata": {},
   "source": [
    "Busco los mejores hiperparametros para el arbol de decision con GridSearchCV. La metrica que se utiliza para comparar los modelos obtenidos en cada iteracion es *roc_auc_score*. Ahora bien, como nuestro dataset tiene una larga cantidad de muestras, es de esperar que la busqueda de hiperparametros sea extensa en tiempo. Tarda aproximadamente 10 minutos."
   ]
  },
  {
   "cell_type": "code",
   "execution_count": 24,
   "id": "93930bca-1566-474f-ad13-53baa07dc793",
   "metadata": {},
   "outputs": [
    {
     "name": "stdout",
     "output_type": "stream",
     "text": [
      "Best score: 0.8999480599650689\n",
      "Best params {'C': 0.5455594781168515, 'solver': 'newton-cg'}\n",
      "------------------\n",
      "Score in Validation: 0.901338382926477\n"
     ]
    }
   ],
   "source": [
    "parameters = {\n",
    "    'C': np.geomspace(1e-5,1e5, num=20),\n",
    "    'solver': ['newton-cg', 'lbfgs', 'liblinear']\n",
    "    \n",
    "}\n",
    "\n",
    "clf = LogisticRegression()\n",
    "\n",
    "gscv = GridSearchCV(\n",
    "    clf, parameters, scoring='roc_auc',n_jobs=-1, cv=5, return_train_score=True\n",
    ").fit(X_train, y_train)\n",
    "\n",
    "print(f\"Best score: {gscv.best_score_}\")\n",
    "print(f\"Best params {gscv.best_params_}\")\n",
    "print(\"------------------\")\n",
    "print(f\"Score in Validation: {gscv.score(X_validation, y_validation)}\")"
   ]
  },
  {
   "cell_type": "markdown",
   "id": "ae8511bc-a196-4a95-a7c2-27197a67f000",
   "metadata": {},
   "source": [
    "Armo el modelo de regresion logistica con los hiperparametros calculados:"
   ]
  },
  {
   "cell_type": "code",
   "execution_count": 25,
   "id": "a3dd0f66-0e89-41e2-925b-7b841fc5ad27",
   "metadata": {},
   "outputs": [
    {
     "data": {
      "text/plain": [
       "LogisticRegression(C=0.5455594781168515, solver='newton-cg')"
      ]
     },
     "execution_count": 25,
     "metadata": {},
     "output_type": "execute_result"
    }
   ],
   "source": [
    "model_logreg = gscv.best_estimator_\n",
    "model_logreg"
   ]
  },
  {
   "cell_type": "markdown",
   "id": "2258e042-a33b-452b-955f-e4637a766aad",
   "metadata": {},
   "source": [
    "Predigo con el validation set:"
   ]
  },
  {
   "cell_type": "code",
   "execution_count": 26,
   "id": "af16a45a-df6d-4fff-8514-cff8ab58fcc7",
   "metadata": {},
   "outputs": [],
   "source": [
    "logreg_predict = model_logreg.predict(X_validation)"
   ]
  },
  {
   "cell_type": "markdown",
   "id": "7c2f24c0-3258-4eff-90ab-9be72a12b56e",
   "metadata": {},
   "source": [
    "**Metricas**"
   ]
  },
  {
   "cell_type": "code",
   "execution_count": 27,
   "id": "366b646d-d5d7-409e-9936-64785e5a622b",
   "metadata": {},
   "outputs": [
    {
     "name": "stdout",
     "output_type": "stream",
     "text": [
      "              precision    recall  f1-score   support\n",
      "\n",
      "           0       0.88      0.92      0.90      4945\n",
      "           1       0.71      0.59      0.65      1568\n",
      "\n",
      "    accuracy                           0.84      6513\n",
      "   macro avg       0.79      0.76      0.77      6513\n",
      "weighted avg       0.84      0.84      0.84      6513\n",
      "\n"
     ]
    }
   ],
   "source": [
    "print(classification_report(y_validation, logreg_predict))"
   ]
  },
  {
   "cell_type": "code",
   "execution_count": 28,
   "id": "1974ef6d-23b4-49a9-b972-c1a421f3b587",
   "metadata": {},
   "outputs": [
    {
     "data": {
      "image/png": "[encoded data removed]",
      "text/plain": [
       "<Figure size 1080x504 with 2 Axes>"
      ]
     },
     "metadata": {
      "needs_background": "light"
     },
     "output_type": "display_data"
    }
   ],
   "source": [
    "plot_cm(model_logreg, X_validation, y_validation)"
   ]
  },
  {
   "cell_type": "code",
   "execution_count": 29,
   "id": "3514b699-9e84-4115-939c-b9b170f18a2a",
   "metadata": {},
   "outputs": [
    {
     "data": {
      "image/png": "[encoded data removed]",
      "text/plain": [
       "<Figure size 432x288 with 1 Axes>"
      ]
     },
     "metadata": {
      "needs_background": "light"
     },
     "output_type": "display_data"
    }
   ],
   "source": [
    "plot_roc_curve(model_logreg, X_validation, y_validation, response_method=\"predict_proba\")\n",
    "plt.show()"
   ]
  },
  {
   "cell_type": "markdown",
   "id": "dc82fd62-5d99-4be2-9955-1b8696b4b776",
   "metadata": {},
   "source": [
    "## Preprocesamiento 1: OHE + Escalado"
   ]
  },
  {
   "cell_type": "markdown",
   "id": "03d24d8d-8c81-4241-ba68-ccd9f31618fa",
   "metadata": {},
   "source": [
    "Ahora luego de haber aplicado OHE, realizaremos un escalado de nuestras columnas con MinMaxScaler.Este ultimo paso sera util ya que utilizaremos distintos tipos de *solver* apropiados para largos dataset. El rango del escalado sera (0,1) que viene predeterminado:"
   ]
  },
  {
   "cell_type": "code",
   "execution_count": 30,
   "id": "95a7ac17-2f33-417d-9bfd-d5ae2df305e6",
   "metadata": {},
   "outputs": [],
   "source": [
    "X_scale = pr.scale(X_ohe)"
   ]
  },
  {
   "cell_type": "markdown",
   "id": "69885701-a340-43fb-afaa-a0aeca155b61",
   "metadata": {},
   "source": [
    "Partimos nuestro set en *train* y *validation*:"
   ]
  },
  {
   "cell_type": "code",
   "execution_count": 31,
   "id": "c599eb9d-f6e0-4b8e-9dc3-04bca8c452c7",
   "metadata": {},
   "outputs": [],
   "source": [
    "X_train, X_validation, y_train, y_validation = train_test_split(X_scale,y, test_size=0.2, stratify=y)"
   ]
  },
  {
   "cell_type": "markdown",
   "id": "33791eac-0265-498c-a470-18802c7f2702",
   "metadata": {},
   "source": [
    "Busco los mejores hiperparametros para el arbol de decision con GridSearchCV. La metrica que se utiliza para comparar los modelos obtenidos en cada iteracion es *roc_auc_score*."
   ]
  },
  {
   "cell_type": "code",
   "execution_count": 32,
   "id": "332f7803-05ba-4029-9ce9-0f1834158f89",
   "metadata": {},
   "outputs": [
    {
     "name": "stdout",
     "output_type": "stream",
     "text": [
      "Best score: 0.8996388786018568\n",
      "Best params {'C': 6.1584821106602545, 'solver': 'sag'}\n",
      "------------------\n",
      "Score in Validation: 0.9029458611048058\n"
     ]
    }
   ],
   "source": [
    "parameters = {\n",
    "    'C': np.geomspace(1e-5,1e5, num=20),\n",
    "    'solver': ['sag', 'saga']\n",
    "    \n",
    "}\n",
    "\n",
    "clf = LogisticRegression()\n",
    "\n",
    "gscv = GridSearchCV(\n",
    "    clf, parameters, scoring='roc_auc',n_jobs=-1, cv=5, return_train_score=True\n",
    ").fit(X_train, y_train)\n",
    "\n",
    "print(f\"Best score: {gscv.best_score_}\")\n",
    "print(f\"Best params {gscv.best_params_}\")\n",
    "print(\"------------------\")\n",
    "print(f\"Score in Validation: {gscv.score(X_validation, y_validation)}\")"
   ]
  },
  {
   "cell_type": "markdown",
   "id": "43b29ccb-c6c9-4faa-a461-24b58c230636",
   "metadata": {},
   "source": [
    "Armo el modelo de regresion logistica con los hiperparametros calculados:"
   ]
  },
  {
   "cell_type": "code",
   "execution_count": 33,
   "id": "1f2e6192-15c0-4c11-824b-ed12c47ea41e",
   "metadata": {},
   "outputs": [
    {
     "data": {
      "text/plain": [
       "LogisticRegression(C=6.1584821106602545, solver='sag')"
      ]
     },
     "execution_count": 33,
     "metadata": {},
     "output_type": "execute_result"
    }
   ],
   "source": [
    "model_logreg_p1 = gscv.best_estimator_\n",
    "model_logreg_p1"
   ]
  },
  {
   "cell_type": "markdown",
   "id": "aee4eb9e-37aa-40ce-9fa1-ad2decd2eed4",
   "metadata": {},
   "source": [
    "Predigo con el validation set:"
   ]
  },
  {
   "cell_type": "code",
   "execution_count": 34,
   "id": "54ff6ca1-dbd0-4e46-a4d0-a316cfb669cc",
   "metadata": {},
   "outputs": [],
   "source": [
    "logreg_predict = model_logreg_p1.predict(X_validation)"
   ]
  },
  {
   "cell_type": "markdown",
   "id": "ced1bbbc-7f79-49b1-81ed-6ecbb18c58c0",
   "metadata": {},
   "source": [
    "**Metricas**"
   ]
  },
  {
   "cell_type": "code",
   "execution_count": 35,
   "id": "e1586289-b584-49e9-b276-f52630b4aab1",
   "metadata": {},
   "outputs": [
    {
     "name": "stdout",
     "output_type": "stream",
     "text": [
      "              precision    recall  f1-score   support\n",
      "\n",
      "           0       0.88      0.93      0.90      4945\n",
      "           1       0.73      0.58      0.65      1568\n",
      "\n",
      "    accuracy                           0.85      6513\n",
      "   macro avg       0.80      0.76      0.78      6513\n",
      "weighted avg       0.84      0.85      0.84      6513\n",
      "\n"
     ]
    }
   ],
   "source": [
    "print(classification_report(y_validation, logreg_predict))"
   ]
  },
  {
   "cell_type": "code",
   "execution_count": 36,
   "id": "133f9e34-a6e2-41b2-aa0a-f568252092d7",
   "metadata": {},
   "outputs": [
    {
     "data": {
      "image/png": "[encoded data removed]",
      "text/plain": [
       "<Figure size 1080x504 with 2 Axes>"
      ]
     },
     "metadata": {
      "needs_background": "light"
     },
     "output_type": "display_data"
    }
   ],
   "source": [
    "plot_cm(model_logreg_p1, X_validation, y_validation)"
   ]
  },
  {
   "cell_type": "code",
   "execution_count": 37,
   "id": "daefe909-a0f4-49a9-8590-84cb2a66d76f",
   "metadata": {},
   "outputs": [
    {
     "data": {
      "image/png": "[encoded data removed]",
      "text/plain": [
       "<Figure size 432x288 with 1 Axes>"
      ]
     },
     "metadata": {
      "needs_background": "light"
     },
     "output_type": "display_data"
    }
   ],
   "source": [
    "plot_roc_curve(model_logreg_p1, X_validation, y_validation, response_method=\"predict_proba\")\n",
    "plt.show()"
   ]
  },
  {
   "cell_type": "markdown",
   "id": "a0004139-82f7-44c9-a0c7-c42a71b41bf1",
   "metadata": {},
   "source": [
    "# Conclusión"
   ]
  },
  {
   "cell_type": "markdown",
   "id": "56319557-ea35-4ca7-a3b3-b0b6a9ecb5a3",
   "metadata": {},
   "source": [
    "# Predicción"
   ]
  },
  {
   "cell_type": "code",
   "execution_count": 42,
   "id": "b97f3398-7a8c-4209-9ddc-0af846e44199",
   "metadata": {},
   "outputs": [],
   "source": [
    "ids, X_holdout = get_holdout_set()\n",
    "X_holdout = pr.init_dataset(X_holdout)"
   ]
  },
  {
   "cell_type": "code",
   "execution_count": 43,
   "id": "8eac0cea-c0e3-4153-a349-3eb9615a8740",
   "metadata": {},
   "outputs": [],
   "source": [
    "pr.init_OHE(X)\n",
    "X_holdout_ohe = pr.apply_OHE(X_holdout)\n",
    "X_holdout_scale = pr.scale(X_holdout_ohe)"
   ]
  },
  {
   "cell_type": "code",
   "execution_count": 44,
   "id": "4b2a7f3e-7bba-495c-87d4-927b285d0a2c",
   "metadata": {},
   "outputs": [],
   "source": [
    "logreg_predict = model_logreg_p1.predict(X_holdout_scale)"
   ]
  },
  {
   "cell_type": "code",
   "execution_count": 45,
   "id": "1681b725-4039-4e37-acf8-377e310b53e5",
   "metadata": {},
   "outputs": [],
   "source": [
    "create_prediction(ids,logreg_predict,file_name='regresion_logistica')"
   ]
  },
  {
   "cell_type": "markdown",
   "id": "87d953a8-4212-42bf-bdf6-f7d143b82c81",
   "metadata": {},
   "source": [
    "# Referencias"
   ]
  },
  {
   "cell_type": "markdown",
   "id": "24a23790-e9dd-48b9-b046-a5d929cc7cf7",
   "metadata": {},
   "source": [
    "The “lbfgs” solver is used by default for its robustness. For large datasets the “saga” solver is usually faster. For large dataset, you may also consider using SGDClassifier with ‘log’ loss, which might be even faster but requires more tuning."
   ]
  },
  {
   "cell_type": "markdown",
   "id": "e5844c0e-10b6-4d25-8efb-be889e9cf3bd",
   "metadata": {},
   "source": [
    "https://scikit-learn.org/stable/modules/linear_model.html#logistic-regression\n",
    "\n",
    "https://scikit-learn.org/stable/modules/preprocessing.html\n",
    "\n",
    "https://youtu.be/0HDy6n3UD5M"
   ]
  }
 ],
 "metadata": {
  "kernelspec": {
   "display_name": "Python 3",
   "language": "python",
   "name": "python3"
  },
  "language_info": {
   "codemirror_mode": {
    "name": "ipython",
    "version": 3
   },
   "file_extension": ".py",
   "mimetype": "text/x-python",
   "name": "python",
   "nbconvert_exporter": "python",
   "pygments_lexer": "ipython3",
   "version": "3.8.8"
  }
 },
 "nbformat": 4,
 "nbformat_minor": 5
}
