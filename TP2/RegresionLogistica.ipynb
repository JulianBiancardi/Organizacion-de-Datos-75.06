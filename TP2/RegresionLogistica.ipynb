{
 "cells": [
  {
   "cell_type": "code",
   "execution_count": 70,
   "id": "fac7d36a-65b5-4a94-954f-329a0ea42484",
   "metadata": {},
   "outputs": [],
   "source": [
    "#Includes necesarios\n",
    "from sklearn.linear_model import LogisticRegression\n",
    "\n",
    "import pandas as pd\n",
    "import numpy as np\n",
    "import matplotlib.pyplot as plt \n",
    "from sklearn.model_selection import RandomizedSearchCV,GridSearchCV\n",
    "from sklearn.model_selection import train_test_split\n",
    "\n",
    "from auxiliar import get_train_set,get_holdout_set,create_prediction\n",
    "import preprocessing as pr\n",
    "\n",
    "from auxiliar import plot_cm,plot_tree\n",
    "from sklearn.metrics import classification_report,plot_roc_curve"
   ]
  },
  {
   "cell_type": "markdown",
   "id": "1620b30f-9f1e-435e-8a0a-3e82d061c677",
   "metadata": {},
   "source": [
    "# **Regresión Logistica**"
   ]
  },
  {
   "cell_type": "markdown",
   "id": "2fc50aca-7f2d-4c20-be10-80fc2687e7ce",
   "metadata": {},
   "source": [
    "Los hiperparametros que consideramos relevantes para el modelo Regresion Logistica son:\n",
    "   - penalty: El metodo de regularizacion que se aplica. Puede ser l1,l2,elasticnet o ninguna, dependiendo el solver.\n",
    "   - C: Inversa de la fuerza de regularización, debe ser numero positivo. Valores más pequeños especifican una regularización más fuerte.\n",
    "   - solver: Algoritmo para utilizar en la optimizacion\n",
    "   - l1_ratio: parametro para el metodo Elasticnet que resulta combinar L1 y L2."
   ]
  },
  {
   "cell_type": "markdown",
   "id": "01f74a07-b2d2-4b1e-81d8-c47e19ac1c53",
   "metadata": {
    "tags": []
   },
   "source": [
    "Obtenemos el dataset con el cual entrenaremos nuestro modelo. Para este modelo se opto unicamente tratar los missings como categoricos:"
   ]
  },
  {
   "cell_type": "code",
   "execution_count": 71,
   "id": "efdfc4e0-36e3-43b1-a580-7534388a1b9a",
   "metadata": {
    "tags": []
   },
   "outputs": [],
   "source": [
    "X,y = get_train_set()\n",
    "X = pr.init_dataset(X)"
   ]
  },
  {
   "cell_type": "markdown",
   "id": "74893be7-e390-49e4-8364-ea8a03e8032a",
   "metadata": {},
   "source": [
    "## Preprocesamiento 1: OHE"
   ]
  },
  {
   "cell_type": "markdown",
   "id": "ad2cbb5b-a704-49db-84ba-194d52881559",
   "metadata": {},
   "source": [
    "Primero vamos a entrenar nuestra regresion logisitca aplicando unicamente OHE a las columnas categoricas. Vamos a aplicar distintos tipos de *solver* apropiados para dataset que no tienen algun tipo de escalado en sus features:"
   ]
  },
  {
   "cell_type": "code",
   "execution_count": 72,
   "id": "cd172dfa-10f9-4b4c-9f47-f44db1a05590",
   "metadata": {},
   "outputs": [],
   "source": [
    "pr.init_OHE(X)\n",
    "X_ohe = pr.apply_OHE(X)"
   ]
  },
  {
   "cell_type": "markdown",
   "id": "fa84e95c-de09-451d-b81e-63135db7bfbc",
   "metadata": {},
   "source": [
    "Partimos nuestro set en *train* y *validation*, dejaremos un 20% de los datos para validación de nuestro entrenamiento:"
   ]
  },
  {
   "cell_type": "code",
   "execution_count": 73,
   "id": "26ad9028-3bcd-48bd-8cb5-5927f8603eac",
   "metadata": {},
   "outputs": [],
   "source": [
    "X_train, X_validation, y_train, y_validation = train_test_split(X_ohe,y, test_size=0.2, stratify=y, random_state=0)"
   ]
  },
  {
   "cell_type": "markdown",
   "id": "a4fadfa0-0136-4a19-b037-2393e68f05df",
   "metadata": {},
   "source": [
    "Buscamos los mejores hiperparametros para la regresion logistica con GridSearchCV.\n",
    "\n",
    "    - La métrica que se utiliza para comparar los modelos obtenidos en cada iteracion es roc_auc_score.\n",
    "    - Los metodos de regularizacion son aquellos compatibles con los solvers\n",
    "    - Los distintos tipos de solver son apropiado para dataset que no tienen algun tipo de escalado en sus features\n",
    "    \n",
    " Ahora bien, como nuestro dataset tiene una larga cantidad de muestras, es de esperar que la busqueda de hiperparametros sea extensa en tiempo. La busqueda tarda aproximadamente 10 minutos con el parametro *n_jobs = -1*."
   ]
  },
  {
   "cell_type": "code",
   "execution_count": 74,
   "id": "93930bca-1566-474f-ad13-53baa07dc793",
   "metadata": {},
   "outputs": [
    {
     "name": "stdout",
     "output_type": "stream",
     "text": [
      "Best score: 0.9022991234131137\n",
      "Best params {'C': 1.0, 'penalty': 'l2', 'solver': 'newton-cg'}\n",
      "------------------\n",
      "Score in Validation: 0.8926194517240668\n"
     ]
    }
   ],
   "source": [
    "parameters = {\n",
    "    'penalty': ['l2','none'],\n",
    "    'C': np.arange(0.1, 1.1, 0.1),\n",
    "    'solver': ['newton-cg', 'lbfgs']\n",
    "    \n",
    "}\n",
    "\n",
    "clf = LogisticRegression(random_state=0)\n",
    "\n",
    "gscv = GridSearchCV(\n",
    "    clf, parameters, scoring='roc_auc',n_jobs=-1, cv=5, return_train_score=True\n",
    ").fit(X_train, y_train)\n",
    "\n",
    "print(f\"Best score: {gscv.best_score_}\")\n",
    "print(f\"Best params {gscv.best_params_}\")\n",
    "print(\"------------------\")\n",
    "print(f\"Score in Validation: {gscv.score(X_validation, y_validation)}\")"
   ]
  },
  {
   "cell_type": "markdown",
   "id": "ae8511bc-a196-4a95-a7c2-27197a67f000",
   "metadata": {},
   "source": [
    "Aramamos el modelo de regresion logistica con los hiperparametros calculados:"
   ]
  },
  {
   "cell_type": "code",
   "execution_count": 75,
   "id": "a3dd0f66-0e89-41e2-925b-7b841fc5ad27",
   "metadata": {},
   "outputs": [
    {
     "data": {
      "text/plain": [
       "LogisticRegression(random_state=0, solver='newton-cg')"
      ]
     },
     "execution_count": 75,
     "metadata": {},
     "output_type": "execute_result"
    }
   ],
   "source": [
    "model_logreg = gscv.best_estimator_\n",
    "model_logreg"
   ]
  },
  {
   "cell_type": "markdown",
   "id": "2258e042-a33b-452b-955f-e4637a766aad",
   "metadata": {},
   "source": [
    "Predecimos con el validation set:"
   ]
  },
  {
   "cell_type": "code",
   "execution_count": 76,
   "id": "af16a45a-df6d-4fff-8514-cff8ab58fcc7",
   "metadata": {},
   "outputs": [],
   "source": [
    "logreg_predict = model_logreg.predict(X_validation)"
   ]
  },
  {
   "cell_type": "markdown",
   "id": "7c2f24c0-3258-4eff-90ab-9be72a12b56e",
   "metadata": {},
   "source": [
    "**Metricas**"
   ]
  },
  {
   "cell_type": "code",
   "execution_count": 77,
   "id": "366b646d-d5d7-409e-9936-64785e5a622b",
   "metadata": {},
   "outputs": [
    {
     "name": "stdout",
     "output_type": "stream",
     "text": [
      "              precision    recall  f1-score   support\n",
      "\n",
      "           0       0.87      0.92      0.90      4945\n",
      "           1       0.71      0.57      0.63      1568\n",
      "\n",
      "    accuracy                           0.84      6513\n",
      "   macro avg       0.79      0.75      0.77      6513\n",
      "weighted avg       0.83      0.84      0.83      6513\n",
      "\n"
     ]
    }
   ],
   "source": [
    "print(classification_report(y_validation, logreg_predict))"
   ]
  },
  {
   "cell_type": "code",
   "execution_count": 78,
   "id": "1974ef6d-23b4-49a9-b972-c1a421f3b587",
   "metadata": {},
   "outputs": [
    {
     "data": {
      "image/png": "[encoded data removed]",
      "text/plain": [
       "<Figure size 1080x504 with 2 Axes>"
      ]
     },
     "metadata": {
      "needs_background": "light"
     },
     "output_type": "display_data"
    }
   ],
   "source": [
    "plot_cm(model_logreg, X_validation, y_validation)"
   ]
  },
  {
   "cell_type": "code",
   "execution_count": 79,
   "id": "3514b699-9e84-4115-939c-b9b170f18a2a",
   "metadata": {},
   "outputs": [
    {
     "data": {
      "image/png": "[encoded data removed]",
      "text/plain": [
       "<Figure size 432x288 with 1 Axes>"
      ]
     },
     "metadata": {
      "needs_background": "light"
     },
     "output_type": "display_data"
    }
   ],
   "source": [
    "plot_roc_curve(model_logreg, X_validation, y_validation, response_method=\"predict_proba\")\n",
    "plt.show()"
   ]
  },
  {
   "cell_type": "markdown",
   "id": "dc82fd62-5d99-4be2-9955-1b8696b4b776",
   "metadata": {},
   "source": [
    "## Preprocesamiento 1: OHE + Escalado"
   ]
  },
  {
   "cell_type": "markdown",
   "id": "03d24d8d-8c81-4241-ba68-ccd9f31618fa",
   "metadata": {},
   "source": [
    "Ahora luego de haber aplicado OHE, realizaremos un escalado de nuestras columnas con MinMaxScaler.Este ultimo paso sera util ya que utilizaremos distintos tipos de *solver* apropiados para largos dataset. El rango del escalado sera (0,1) que viene predeterminado:"
   ]
  },
  {
   "cell_type": "code",
   "execution_count": 80,
   "id": "95a7ac17-2f33-417d-9bfd-d5ae2df305e6",
   "metadata": {},
   "outputs": [],
   "source": [
    "X_scale = pr.scale(X_ohe)"
   ]
  },
  {
   "cell_type": "markdown",
   "id": "e734b61d-9a0c-4c71-817e-68b940b44f67",
   "metadata": {},
   "source": [
    "Partimos nuestro set en *train* y *validation*, dejaremos un 20% de los datos para validación de nuestro entrenamiento:"
   ]
  },
  {
   "cell_type": "code",
   "execution_count": 81,
   "id": "c599eb9d-f6e0-4b8e-9dc3-04bca8c452c7",
   "metadata": {},
   "outputs": [],
   "source": [
    "X_train, X_validation, y_train, y_validation = train_test_split(X_scale,y, test_size=0.2, stratify=y, random_state=0)"
   ]
  },
  {
   "cell_type": "markdown",
   "id": "33791eac-0265-498c-a470-18802c7f2702",
   "metadata": {},
   "source": [
    "Buscamos los mejores hiperparametros para la regresion logistica con GridSearchCV.\n",
    "\n",
    "    - La métrica que se utiliza para comparar los modelos obtenidos en cada iteracion es roc_auc_score.\n",
    "    - Los distintos tipos de solver son apropiado para dataset largos "
   ]
  },
  {
   "cell_type": "markdown",
   "id": "b5b694ce-cfb6-4fd7-afc2-33bb7a0d4b31",
   "metadata": {},
   "source": [
    "Empezamos con el solver *sag* el cual soporta el metodo de regularizacion L2"
   ]
  },
  {
   "cell_type": "code",
   "execution_count": 82,
   "id": "332f7803-05ba-4029-9ce9-0f1834158f89",
   "metadata": {},
   "outputs": [
    {
     "name": "stdout",
     "output_type": "stream",
     "text": [
      "Best score: 0.9003493295552781\n",
      "Best params {'C': 1.0, 'penalty': 'l2', 'solver': 'sag'}\n",
      "------------------\n",
      "Score in Validation: 0.8922116495738843\n"
     ]
    }
   ],
   "source": [
    "parameters = {\n",
    "    'penalty': ['l2'],\n",
    "    'C': np.arange(0.1, 1.1, 0.1),\n",
    "    'solver': ['sag'] \n",
    "}\n",
    "\n",
    "clf = LogisticRegression(random_state=0)\n",
    "\n",
    "gscv1 = GridSearchCV(\n",
    "    clf, parameters, scoring='roc_auc',n_jobs=-1, cv=5, return_train_score=True\n",
    ").fit(X_train, y_train)\n",
    "\n",
    "print(f\"Best score: {gscv1.best_score_}\")\n",
    "print(f\"Best params {gscv1.best_params_}\")\n",
    "print(\"------------------\")\n",
    "print(f\"Score in Validation: {gscv1.score(X_validation, y_validation)}\")"
   ]
  },
  {
   "cell_type": "markdown",
   "id": "7876ecf0-6068-4e57-b1f3-4ac5c8c4292f",
   "metadata": {},
   "source": [
    "El solver *saga* (una mejora del *sag*) soporta el metodo de regularizacion Elasticnet. Usaremos este metodo en combinacion con el hiperparametro *l1_ratio* para utilizar L1, L2 o bien la combinacion de ambos."
   ]
  },
  {
   "cell_type": "code",
   "execution_count": 83,
   "id": "077d85a3-e231-40af-800a-7ecf07adb89d",
   "metadata": {},
   "outputs": [
    {
     "name": "stdout",
     "output_type": "stream",
     "text": [
      "Best score: 0.9021914474866077\n",
      "Best params {'C': 1.0, 'l1_ratio': 1.0, 'penalty': 'elasticnet', 'solver': 'saga'}\n",
      "------------------\n",
      "Score in Validation: 0.8929257547306081\n"
     ]
    }
   ],
   "source": [
    "parameters = {\n",
    "    'penalty': ['elasticnet'],\n",
    "    'l1_ratio': np.arange(0, 1.1, 0.1),\n",
    "    'C': np.arange(0.1, 1.1, 0.1),\n",
    "    'solver': ['saga']\n",
    "}\n",
    "\n",
    "clf = LogisticRegression(random_state=0)\n",
    "\n",
    "gscv2 = GridSearchCV(\n",
    "    clf, parameters, scoring='roc_auc',n_jobs=-1, cv=5, return_train_score=True\n",
    ").fit(X_train, y_train)\n",
    "\n",
    "print(f\"Best score: {gscv2.best_score_}\")\n",
    "print(f\"Best params {gscv2.best_params_}\")\n",
    "print(\"------------------\")\n",
    "print(f\"Score in Validation: {gscv2.score(X_validation, y_validation)}\")"
   ]
  },
  {
   "cell_type": "markdown",
   "id": "0958ded7-bf60-416d-b310-2a07b6d8fc42",
   "metadata": {},
   "source": [
    "Vemos que el solver *saga* obtiene un mejor resultado de la metrica *auc_roc* pero esta diferencia no es muy relevante. Aramamos el modelo de regresion logistica con los hiperparametros calculados:"
   ]
  },
  {
   "cell_type": "code",
   "execution_count": 84,
   "id": "1f2e6192-15c0-4c11-824b-ed12c47ea41e",
   "metadata": {},
   "outputs": [
    {
     "data": {
      "text/plain": [
       "LogisticRegression(l1_ratio=1.0, penalty='elasticnet', random_state=0,\n",
       "                   solver='saga')"
      ]
     },
     "execution_count": 84,
     "metadata": {},
     "output_type": "execute_result"
    }
   ],
   "source": [
    "model_logreg_p1 = gscv2.best_estimator_\n",
    "model_logreg_p1"
   ]
  },
  {
   "cell_type": "markdown",
   "id": "aee4eb9e-37aa-40ce-9fa1-ad2decd2eed4",
   "metadata": {},
   "source": [
    "Predecimos con el validation set:"
   ]
  },
  {
   "cell_type": "code",
   "execution_count": 85,
   "id": "54ff6ca1-dbd0-4e46-a4d0-a316cfb669cc",
   "metadata": {},
   "outputs": [],
   "source": [
    "logreg_predict = model_logreg_p1.predict(X_validation)"
   ]
  },
  {
   "cell_type": "markdown",
   "id": "ced1bbbc-7f79-49b1-81ed-6ecbb18c58c0",
   "metadata": {},
   "source": [
    "**Metricas**"
   ]
  },
  {
   "cell_type": "code",
   "execution_count": 86,
   "id": "e1586289-b584-49e9-b276-f52630b4aab1",
   "metadata": {},
   "outputs": [
    {
     "name": "stdout",
     "output_type": "stream",
     "text": [
      "              precision    recall  f1-score   support\n",
      "\n",
      "           0       0.87      0.92      0.90      4945\n",
      "           1       0.71      0.57      0.63      1568\n",
      "\n",
      "    accuracy                           0.84      6513\n",
      "   macro avg       0.79      0.75      0.76      6513\n",
      "weighted avg       0.83      0.84      0.83      6513\n",
      "\n"
     ]
    }
   ],
   "source": [
    "print(classification_report(y_validation, logreg_predict))"
   ]
  },
  {
   "cell_type": "code",
   "execution_count": 87,
   "id": "133f9e34-a6e2-41b2-aa0a-f568252092d7",
   "metadata": {},
   "outputs": [
    {
     "data": {
      "image/png": "[encoded data removed]",
      "text/plain": [
       "<Figure size 1080x504 with 2 Axes>"
      ]
     },
     "metadata": {
      "needs_background": "light"
     },
     "output_type": "display_data"
    }
   ],
   "source": [
    "plot_cm(model_logreg_p1, X_validation, y_validation)"
   ]
  },
  {
   "cell_type": "code",
   "execution_count": 88,
   "id": "daefe909-a0f4-49a9-8590-84cb2a66d76f",
   "metadata": {},
   "outputs": [
    {
     "data": {
      "image/png": "[encoded data removed]",
      "text/plain": [
       "<Figure size 432x288 with 1 Axes>"
      ]
     },
     "metadata": {
      "needs_background": "light"
     },
     "output_type": "display_data"
    }
   ],
   "source": [
    "plot_roc_curve(model_logreg_p1, X_validation, y_validation, response_method=\"predict_proba\")\n",
    "plt.show()"
   ]
  },
  {
   "cell_type": "markdown",
   "id": "a0004139-82f7-44c9-a0c7-c42a71b41bf1",
   "metadata": {},
   "source": [
    "# Conclusión"
   ]
  },
  {
   "cell_type": "markdown",
   "id": "572542dc-35ad-4ea2-b1c0-4f367c819577",
   "metadata": {},
   "source": [
    "Vimos que no hay diferencia en los resultados de la metrica *auc_roc* utilizando distintos tipos de solver. El mejor resultado de *auc_roc* se obtiene realizando un escalado a las columnas y utilizando *saga*. De todas maneras, sklearn nos recomienda utilizar los solver *sag* o *saga* puesto que son optimizados para dataset largos como el nuestro."
   ]
  },
  {
   "cell_type": "markdown",
   "id": "56319557-ea35-4ca7-a3b3-b0b6a9ecb5a3",
   "metadata": {},
   "source": [
    "# Predicción"
   ]
  },
  {
   "cell_type": "markdown",
   "id": "31f07e7d-ff78-4f7d-8ae9-a73df6fc06f2",
   "metadata": {},
   "source": [
    "Por ultimo, con nuestro mejor modelo obtenido realizaremos una prediccion para datos que nunca vio en el entrenamiento ni en validación."
   ]
  },
  {
   "cell_type": "code",
   "execution_count": 89,
   "id": "b97f3398-7a8c-4209-9ddc-0af846e44199",
   "metadata": {},
   "outputs": [],
   "source": [
    "ids, X_holdout = get_holdout_set()\n",
    "X_holdout = pr.init_dataset(X_holdout)"
   ]
  },
  {
   "cell_type": "code",
   "execution_count": 90,
   "id": "8eac0cea-c0e3-4153-a349-3eb9615a8740",
   "metadata": {},
   "outputs": [],
   "source": [
    "pr.init_OHE(X)\n",
    "X_holdout_ohe = pr.apply_OHE(X_holdout)\n",
    "X_holdout_scale = pr.scale(X_holdout_ohe)"
   ]
  },
  {
   "cell_type": "code",
   "execution_count": 91,
   "id": "4b2a7f3e-7bba-495c-87d4-927b285d0a2c",
   "metadata": {},
   "outputs": [],
   "source": [
    "logreg_predict = model_logreg_p1.predict(X_holdout_scale)"
   ]
  },
  {
   "cell_type": "code",
   "execution_count": 92,
   "id": "54d5a459-bfcf-4a71-bc2e-2bd8d0fc4eec",
   "metadata": {},
   "outputs": [],
   "source": [
    "create_prediction(ids,logreg_predict,file_name='regresion_logistica')"
   ]
  }
 ],
 "metadata": {
  "kernelspec": {
   "display_name": "Python 3",
   "language": "python",
   "name": "python3"
  },
  "language_info": {
   "codemirror_mode": {
    "name": "ipython",
    "version": 3
   },
   "file_extension": ".py",
   "mimetype": "text/x-python",
   "name": "python",
   "nbconvert_exporter": "python",
   "pygments_lexer": "ipython3",
   "version": "3.8.8"
  }
 },
 "nbformat": 4,
 "nbformat_minor": 5
}
