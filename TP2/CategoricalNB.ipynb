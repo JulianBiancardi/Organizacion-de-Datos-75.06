{
 "cells": [
  {
   "cell_type": "code",
   "execution_count": 1,
   "id": "2fc2e0ae-3fc7-447a-b673-7d19fe5eda5e",
   "metadata": {},
   "outputs": [],
   "source": [
    "from sklearn.naive_bayes import CategoricalNB\n",
    "from sklearn.model_selection import GridSearchCV, train_test_split\n",
    "from sklearn.metrics import classification_report, plot_roc_curve\n",
    "\n",
    "import pandas as pd\n",
    "import numpy as np\n",
    "import matplotlib.pyplot as plt \n",
    "\n",
    "import auxiliar as aux\n",
    "from preprocessing import apply_ODE, init_dataset, discretize_columns, reduce_by_frequency"
   ]
  },
  {
   "cell_type": "markdown",
   "id": "a818c259-1605-45e5-a497-8b64bc63540b",
   "metadata": {},
   "source": [
    "# **Categorical Naive Bayes**"
   ]
  },
  {
   "cell_type": "markdown",
   "id": "2850bbb9-cead-4e3a-9e02-e35afb2d0fe0",
   "metadata": {},
   "source": [
    "Los hiperparámetros que consideramos relevantes para el modelo CategoricalNB son:\n",
    "   - alpha: Parámetro de suavisado (Laplace/Lidstone) para evitar probabilidad 0 en aquellas categorias que nunca aparecen"
   ]
  },
  {
   "cell_type": "markdown",
   "id": "c3697b28-7634-49d4-80fd-f002e9a05ec6",
   "metadata": {
    "tags": []
   },
   "source": [
    "Obtenemos el dataset con el cual entrenaremos nuestro modelo. Para este modelo se optó unicamente tratar los missings como categóricos:"
   ]
  },
  {
   "cell_type": "code",
   "execution_count": 2,
   "id": "2eaca3f7-e227-4eb8-a92d-180d08aef2ca",
   "metadata": {
    "tags": []
   },
   "outputs": [],
   "source": [
    "X,y = aux.get_train_set()\n",
    "X = init_dataset(X)"
   ]
  },
  {
   "cell_type": "markdown",
   "id": "285886c4-ea9c-43df-84ee-60da4e2f4947",
   "metadata": {},
   "source": [
    "### Preprocesamiento 1: ODE"
   ]
  },
  {
   "cell_type": "markdown",
   "id": "891c99e9-5449-44c0-bfb5-8be11e5ca52d",
   "metadata": {},
   "source": [
    "Para aplicar este tipo de modelo debemos quedarnos solo con columnas categóricas para luego aplicar Ordinal Encoder (ODE). Primero vamos a ver como funciona el modelo eliminando las columnas numéricas del dataset original."
   ]
  },
  {
   "cell_type": "code",
   "execution_count": 3,
   "id": "48c3eb0b-e6a4-4fb0-81be-a36f78f7e539",
   "metadata": {},
   "outputs": [
    {
     "data": {
      "text/html": [
       "<div>\n",
       "<style scoped>\n",
       "    .dataframe tbody tr th:only-of-type {\n",
       "        vertical-align: middle;\n",
       "    }\n",
       "\n",
       "    .dataframe tbody tr th {\n",
       "        vertical-align: top;\n",
       "    }\n",
       "\n",
       "    .dataframe thead th {\n",
       "        text-align: right;\n",
       "    }\n",
       "</style>\n",
       "<table border=\"1\" class=\"dataframe\">\n",
       "  <thead>\n",
       "    <tr style=\"text-align: right;\">\n",
       "      <th></th>\n",
       "      <th>barrio</th>\n",
       "      <th>categoria_de_trabajo</th>\n",
       "      <th>estado_marital</th>\n",
       "      <th>genero</th>\n",
       "      <th>religion</th>\n",
       "      <th>rol_familiar_registrado</th>\n",
       "      <th>trabajo</th>\n",
       "    </tr>\n",
       "  </thead>\n",
       "  <tbody>\n",
       "    <tr>\n",
       "      <th>0</th>\n",
       "      <td>palermo</td>\n",
       "      <td>empleado_provincial</td>\n",
       "      <td>sin_matrimonio</td>\n",
       "      <td>hombre</td>\n",
       "      <td>cristianismo</td>\n",
       "      <td>sin_familia</td>\n",
       "      <td>entretenimiento</td>\n",
       "    </tr>\n",
       "    <tr>\n",
       "      <th>1</th>\n",
       "      <td>palermo</td>\n",
       "      <td>monotributista</td>\n",
       "      <td>matrimonio_civil</td>\n",
       "      <td>hombre</td>\n",
       "      <td>cristianismo</td>\n",
       "      <td>casado</td>\n",
       "      <td>directivo_gerente</td>\n",
       "    </tr>\n",
       "    <tr>\n",
       "      <th>2</th>\n",
       "      <td>palermo</td>\n",
       "      <td>relacion_de_dependencia</td>\n",
       "      <td>divorciado</td>\n",
       "      <td>hombre</td>\n",
       "      <td>cristianismo</td>\n",
       "      <td>sin_familia</td>\n",
       "      <td>limpiador</td>\n",
       "    </tr>\n",
       "    <tr>\n",
       "      <th>3</th>\n",
       "      <td>palermo</td>\n",
       "      <td>relacion_de_dependencia</td>\n",
       "      <td>matrimonio_civil</td>\n",
       "      <td>hombre</td>\n",
       "      <td>judaismo</td>\n",
       "      <td>casado</td>\n",
       "      <td>limpiador</td>\n",
       "    </tr>\n",
       "    <tr>\n",
       "      <th>4</th>\n",
       "      <td>balvanera</td>\n",
       "      <td>relacion_de_dependencia</td>\n",
       "      <td>matrimonio_civil</td>\n",
       "      <td>mujer</td>\n",
       "      <td>judaismo</td>\n",
       "      <td>casada</td>\n",
       "      <td>profesional_especializado</td>\n",
       "    </tr>\n",
       "  </tbody>\n",
       "</table>\n",
       "</div>"
      ],
      "text/plain": [
       "      barrio     categoria_de_trabajo    estado_marital  genero      religion  \\\n",
       "0    palermo      empleado_provincial    sin_matrimonio  hombre  cristianismo   \n",
       "1    palermo           monotributista  matrimonio_civil  hombre  cristianismo   \n",
       "2    palermo  relacion_de_dependencia        divorciado  hombre  cristianismo   \n",
       "3    palermo  relacion_de_dependencia  matrimonio_civil  hombre      judaismo   \n",
       "4  balvanera  relacion_de_dependencia  matrimonio_civil   mujer      judaismo   \n",
       "\n",
       "  rol_familiar_registrado                    trabajo  \n",
       "0             sin_familia            entretenimiento  \n",
       "1                  casado          directivo_gerente  \n",
       "2             sin_familia                  limpiador  \n",
       "3                  casado                  limpiador  \n",
       "4                  casada  profesional_especializado  "
      ]
     },
     "execution_count": 3,
     "metadata": {},
     "output_type": "execute_result"
    }
   ],
   "source": [
    "X_category = X.select_dtypes(include=['category'])\n",
    "X_category.head()"
   ]
  },
  {
   "cell_type": "markdown",
   "id": "fa80c356-2968-469b-98c8-88b849fc0374",
   "metadata": {},
   "source": [
    "Luego aplicamos ODE a las columnas como se mencionó anteriormente debido a que CategoricalNB funciona unicamente con valores categoricos:"
   ]
  },
  {
   "cell_type": "code",
   "execution_count": 4,
   "id": "b055d9b9-1a62-4d97-82c3-abe9b296b54a",
   "metadata": {},
   "outputs": [],
   "source": [
    "X_ode = apply_ODE(X_category)"
   ]
  },
  {
   "cell_type": "markdown",
   "id": "877e5d5f-185c-411e-9d16-58eaacc20b0b",
   "metadata": {},
   "source": [
    "Partimos nuestro set en *train* y *validation*, dejaremos un 20% de los datos para validación de nuestro entrenamiento:"
   ]
  },
  {
   "cell_type": "code",
   "execution_count": 5,
   "id": "890fe1ff-4c75-426e-84bd-54b1efa415a8",
   "metadata": {},
   "outputs": [],
   "source": [
    "X_train, X_validation, y_train, y_validation = train_test_split(X_ode, y, test_size=0.2, stratify=y, random_state=0)"
   ]
  },
  {
   "cell_type": "markdown",
   "id": "8351bb56-eff7-41f7-9251-5f4a6351172d",
   "metadata": {},
   "source": [
    "Buscamos los mejores hiperparámetros para el modelo categoricalNB con GridSearchCV. La métrica que se utiliza para comparar los modelos obtenidos en cada iteracion es *roc_auc_score*."
   ]
  },
  {
   "cell_type": "code",
   "execution_count": 6,
   "id": "4be65f8c-6b9a-4cd5-9706-89df88becff6",
   "metadata": {},
   "outputs": [
    {
     "name": "stdout",
     "output_type": "stream",
     "text": [
      "Mejor score ROC-AUC en Entrenamiento: 0.8497994658915576\n",
      "Mejores Parametros {'alpha': 0.74}\n",
      "\n",
      "Mejor score ROC-AUC en Validación: 0.8408609500423021\n"
     ]
    }
   ],
   "source": [
    "parameters = {\n",
    "    'alpha': np.arange(0, 1, 0.01),\n",
    "}\n",
    "\n",
    "clf = CategoricalNB()\n",
    "\n",
    "gscv = GridSearchCV(\n",
    "    clf, parameters, scoring='roc_auc',n_jobs=-1, cv=5, return_train_score=True\n",
    ").fit(X_train, y_train)\n",
    "\n",
    "print(f\"Mejor score ROC-AUC en Entrenamiento: {gscv.best_score_}\")\n",
    "print(f\"Mejores Parametros {gscv.best_params_}\")\n",
    "\n",
    "print(f\"\\nMejor score ROC-AUC en Validación: {gscv.score(X_validation, y_validation)}\")"
   ]
  },
  {
   "cell_type": "markdown",
   "id": "ed991e63-a5d3-4075-a196-149b2c343bf7",
   "metadata": {},
   "source": [
    "Armamos el modelo de CategoricalNB con los hiperparámetros calculados:"
   ]
  },
  {
   "cell_type": "code",
   "execution_count": 7,
   "id": "cba31eaa-b33d-4969-9bcf-e3d3aed323ab",
   "metadata": {},
   "outputs": [
    {
     "data": {
      "text/plain": [
       "CategoricalNB(alpha=0.74)"
      ]
     },
     "execution_count": 7,
     "metadata": {},
     "output_type": "execute_result"
    }
   ],
   "source": [
    "model_categoricalNB = gscv.best_estimator_\n",
    "model_categoricalNB"
   ]
  },
  {
   "cell_type": "markdown",
   "id": "64e6fc73-b3f7-4c90-b0a8-19e57704f9af",
   "metadata": {},
   "source": [
    "Predecimos con el validation set:"
   ]
  },
  {
   "cell_type": "code",
   "execution_count": 8,
   "id": "ee12b284-0da1-4def-98ec-4b89fd5d76b0",
   "metadata": {},
   "outputs": [],
   "source": [
    "categoricalNB_predict = model_categoricalNB.predict(X_validation)"
   ]
  },
  {
   "cell_type": "markdown",
   "id": "e48747d1-30b8-46d5-8927-05d1abd1569e",
   "metadata": {},
   "source": [
    "**Metricas**"
   ]
  },
  {
   "cell_type": "code",
   "execution_count": 9,
   "id": "4e1b296b-38b0-4bb9-a73f-ad38db588723",
   "metadata": {},
   "outputs": [
    {
     "name": "stdout",
     "output_type": "stream",
     "text": [
      "              precision    recall  f1-score   support\n",
      "\n",
      "           0       0.91      0.75      0.82      4945\n",
      "           1       0.49      0.76      0.60      1568\n",
      "\n",
      "    accuracy                           0.75      6513\n",
      "   macro avg       0.70      0.75      0.71      6513\n",
      "weighted avg       0.81      0.75      0.77      6513\n",
      "\n"
     ]
    }
   ],
   "source": [
    "print(classification_report(y_validation, categoricalNB_predict))"
   ]
  },
  {
   "cell_type": "code",
   "execution_count": 10,
   "id": "40914348-7679-42d5-b967-917722fd19db",
   "metadata": {},
   "outputs": [
    {
     "data": {
      "image/png": "[encoded data removed]",
      "text/plain": [
       "<Figure size 1080x504 with 2 Axes>"
      ]
     },
     "metadata": {
      "needs_background": "light"
     },
     "output_type": "display_data"
    }
   ],
   "source": [
    "aux.plot_cm(model_categoricalNB, X_validation, y_validation)"
   ]
  },
  {
   "cell_type": "code",
   "execution_count": 11,
   "id": "0f13718d-0316-4700-8f6d-2f60b3ea0b25",
   "metadata": {},
   "outputs": [
    {
     "data": {
      "image/png": "[encoded data removed]",
      "text/plain": [
       "<Figure size 432x288 with 1 Axes>"
      ]
     },
     "metadata": {
      "needs_background": "light"
     },
     "output_type": "display_data"
    }
   ],
   "source": [
    "plot_roc_curve(model_categoricalNB, X_validation, y_validation, response_method=\"predict_proba\")\n",
    "plt.show()"
   ]
  },
  {
   "cell_type": "markdown",
   "id": "9a13f3e6-4dfb-4582-915e-c93754946b94",
   "metadata": {},
   "source": [
    "Vemos que este modelo es uno de los que mejor *recall* tiene sobre la clase 1 de nuestra variable objetivo. "
   ]
  },
  {
   "cell_type": "markdown",
   "id": "02389216-a542-4ee3-a8fc-e823e83e8652",
   "metadata": {},
   "source": [
    "### Preprocesamiento 2: Reduccion por frecuencia + ODE"
   ]
  },
  {
   "cell_type": "markdown",
   "id": "0e7dbd18-0797-4c3b-b5f4-24520b4f2464",
   "metadata": {},
   "source": [
    "Ahora vemos que sucede si reduciremos por frecuencia de aparicion algunas columnas y luego aplicaremos ODE a las columnas categoricas. Reduciremos mediante la funcion **reduce_by_frequency_occurrence** que por predeterminado tiene las columnas *Barrio, Religion, Categoria de Trabajo, Estado Marital*:"
   ]
  },
  {
   "cell_type": "code",
   "execution_count": 12,
   "id": "b6baa438-4f7f-4c26-9704-21dda9af3339",
   "metadata": {},
   "outputs": [
    {
     "data": {
      "text/html": [
       "<div>\n",
       "<style scoped>\n",
       "    .dataframe tbody tr th:only-of-type {\n",
       "        vertical-align: middle;\n",
       "    }\n",
       "\n",
       "    .dataframe tbody tr th {\n",
       "        vertical-align: top;\n",
       "    }\n",
       "\n",
       "    .dataframe thead th {\n",
       "        text-align: right;\n",
       "    }\n",
       "</style>\n",
       "<table border=\"1\" class=\"dataframe\">\n",
       "  <thead>\n",
       "    <tr style=\"text-align: right;\">\n",
       "      <th></th>\n",
       "      <th>barrio</th>\n",
       "      <th>categoria_de_trabajo</th>\n",
       "      <th>estado_marital</th>\n",
       "      <th>genero</th>\n",
       "      <th>religion</th>\n",
       "      <th>rol_familiar_registrado</th>\n",
       "      <th>trabajo</th>\n",
       "    </tr>\n",
       "  </thead>\n",
       "  <tbody>\n",
       "    <tr>\n",
       "      <th>0</th>\n",
       "      <td>palermo</td>\n",
       "      <td>otros</td>\n",
       "      <td>sin_matrimonio</td>\n",
       "      <td>hombre</td>\n",
       "      <td>cristianismo</td>\n",
       "      <td>sin_familia</td>\n",
       "      <td>entretenimiento</td>\n",
       "    </tr>\n",
       "    <tr>\n",
       "      <th>1</th>\n",
       "      <td>palermo</td>\n",
       "      <td>otros</td>\n",
       "      <td>matrimonio_civil</td>\n",
       "      <td>hombre</td>\n",
       "      <td>cristianismo</td>\n",
       "      <td>casado</td>\n",
       "      <td>directivo_gerente</td>\n",
       "    </tr>\n",
       "    <tr>\n",
       "      <th>2</th>\n",
       "      <td>palermo</td>\n",
       "      <td>relacion_de_dependencia</td>\n",
       "      <td>otros</td>\n",
       "      <td>hombre</td>\n",
       "      <td>cristianismo</td>\n",
       "      <td>sin_familia</td>\n",
       "      <td>limpiador</td>\n",
       "    </tr>\n",
       "    <tr>\n",
       "      <th>3</th>\n",
       "      <td>palermo</td>\n",
       "      <td>relacion_de_dependencia</td>\n",
       "      <td>matrimonio_civil</td>\n",
       "      <td>hombre</td>\n",
       "      <td>otros</td>\n",
       "      <td>casado</td>\n",
       "      <td>limpiador</td>\n",
       "    </tr>\n",
       "    <tr>\n",
       "      <th>4</th>\n",
       "      <td>otros</td>\n",
       "      <td>relacion_de_dependencia</td>\n",
       "      <td>matrimonio_civil</td>\n",
       "      <td>mujer</td>\n",
       "      <td>otros</td>\n",
       "      <td>casada</td>\n",
       "      <td>profesional_especializado</td>\n",
       "    </tr>\n",
       "  </tbody>\n",
       "</table>\n",
       "</div>"
      ],
      "text/plain": [
       "    barrio     categoria_de_trabajo    estado_marital  genero      religion  \\\n",
       "0  palermo                    otros    sin_matrimonio  hombre  cristianismo   \n",
       "1  palermo                    otros  matrimonio_civil  hombre  cristianismo   \n",
       "2  palermo  relacion_de_dependencia             otros  hombre  cristianismo   \n",
       "3  palermo  relacion_de_dependencia  matrimonio_civil  hombre         otros   \n",
       "4    otros  relacion_de_dependencia  matrimonio_civil   mujer         otros   \n",
       "\n",
       "  rol_familiar_registrado                    trabajo  \n",
       "0             sin_familia            entretenimiento  \n",
       "1                  casado          directivo_gerente  \n",
       "2             sin_familia                  limpiador  \n",
       "3                  casado                  limpiador  \n",
       "4                  casada  profesional_especializado  "
      ]
     },
     "execution_count": 12,
     "metadata": {},
     "output_type": "execute_result"
    }
   ],
   "source": [
    "columns = ['barrio', 'religion', 'categoria_de_trabajo', 'estado_marital']\n",
    "X_p2 = reduce_by_frequency(X_category, columns, 0.15)\n",
    "X_p2.head()"
   ]
  },
  {
   "cell_type": "markdown",
   "id": "0d7bb688-7e22-431b-9b16-f10daae20eaa",
   "metadata": {},
   "source": [
    "Luego debemos aplicar ODE como hizimos en el preprocesado anterior:"
   ]
  },
  {
   "cell_type": "code",
   "execution_count": 13,
   "id": "accfbb62-725f-4933-b368-2a59dbf77c9e",
   "metadata": {},
   "outputs": [],
   "source": [
    "X_ode_p2 = apply_ODE(X_p2)"
   ]
  },
  {
   "cell_type": "markdown",
   "id": "9025f217-3d3e-4c3b-bc49-c07115d0aa48",
   "metadata": {},
   "source": [
    "Partimos nuestro set en *train* y *validation*, dejaremos un 20% de los datos para validación de nuestro entrenamiento:"
   ]
  },
  {
   "cell_type": "code",
   "execution_count": 14,
   "id": "8530bd3b-6dd8-46e9-a283-b07c12d83f0a",
   "metadata": {},
   "outputs": [],
   "source": [
    "X_train, X_validation, y_train, y_validation = train_test_split(X_ode_p2,y, test_size=0.2, stratify=y, random_state=0)"
   ]
  },
  {
   "cell_type": "markdown",
   "id": "3d32954a-632e-4cea-930f-195d066e9959",
   "metadata": {},
   "source": [
    "Buscamos los mejores hiperparámetros para el modelo categoricalNB con GridSearchCV. La métrica que se utiliza para comparar los modelos obtenidos en cada iteracion es *roc_auc_score*."
   ]
  },
  {
   "cell_type": "code",
   "execution_count": 15,
   "id": "49584345-6e8a-4f25-8507-156dbbfa4014",
   "metadata": {},
   "outputs": [
    {
     "name": "stdout",
     "output_type": "stream",
     "text": [
      "Mejor score ROC-AUC en Entrenamiento: 0.8471068940906367\n",
      "Mejores Parametros {'alpha': 0.2}\n",
      "\n",
      "Mejor score ROC-AUC en Validación: 0.8388703674088442\n"
     ]
    }
   ],
   "source": [
    "parameters = {\n",
    "    'alpha': np.arange(0, 1, 0.01),\n",
    "}\n",
    "\n",
    "clf = CategoricalNB()\n",
    "\n",
    "gscv = GridSearchCV(\n",
    "    clf, parameters, scoring='roc_auc',n_jobs=-1, cv=5, return_train_score=True\n",
    ").fit(X_train, y_train)\n",
    "\n",
    "print(f\"Mejor score ROC-AUC en Entrenamiento: {gscv.best_score_}\")\n",
    "print(f\"Mejores Parametros {gscv.best_params_}\")\n",
    "\n",
    "print(f\"\\nMejor score ROC-AUC en Validación: {gscv.score(X_validation, y_validation)}\")"
   ]
  },
  {
   "cell_type": "markdown",
   "id": "eb24b6e9-11db-40f5-8b6f-dfb3cf3fc66a",
   "metadata": {},
   "source": [
    "Armamos el modelo de CategoricalNB con los hiperparametros calculados:"
   ]
  },
  {
   "cell_type": "code",
   "execution_count": 16,
   "id": "9dd03551-caef-412a-ace9-7c0eab63899e",
   "metadata": {},
   "outputs": [
    {
     "data": {
      "text/plain": [
       "CategoricalNB(alpha=0.2)"
      ]
     },
     "execution_count": 16,
     "metadata": {},
     "output_type": "execute_result"
    }
   ],
   "source": [
    "model_categoricalNB_p2 = gscv.best_estimator_\n",
    "model_categoricalNB_p2"
   ]
  },
  {
   "cell_type": "markdown",
   "id": "30d48a26-28d2-49ab-aaba-a8150ee68eec",
   "metadata": {},
   "source": [
    "Predecimos con el validation set:"
   ]
  },
  {
   "cell_type": "code",
   "execution_count": 17,
   "id": "775ba38d-1878-473d-aaee-3af11923dc4d",
   "metadata": {},
   "outputs": [],
   "source": [
    "categoricalNB_predict = model_categoricalNB_p2.predict(X_validation)"
   ]
  },
  {
   "cell_type": "markdown",
   "id": "3e66412b-fbb5-4fb5-b0a3-14376acbb64c",
   "metadata": {},
   "source": [
    "**Metricas**"
   ]
  },
  {
   "cell_type": "code",
   "execution_count": 18,
   "id": "03e5d0ef-9b32-4ca6-a193-b4a181c130b6",
   "metadata": {},
   "outputs": [
    {
     "name": "stdout",
     "output_type": "stream",
     "text": [
      "              precision    recall  f1-score   support\n",
      "\n",
      "           0       0.91      0.74      0.81      4945\n",
      "           1       0.48      0.77      0.59      1568\n",
      "\n",
      "    accuracy                           0.74      6513\n",
      "   macro avg       0.69      0.75      0.70      6513\n",
      "weighted avg       0.81      0.74      0.76      6513\n",
      "\n"
     ]
    }
   ],
   "source": [
    "print(classification_report(y_validation, categoricalNB_predict))"
   ]
  },
  {
   "cell_type": "code",
   "execution_count": 19,
   "id": "b55a3f95-284b-4350-99d7-6cc5e478b94b",
   "metadata": {},
   "outputs": [
    {
     "data": {
      "image/png": "[encoded data removed]",
      "text/plain": [
       "<Figure size 1080x504 with 2 Axes>"
      ]
     },
     "metadata": {
      "needs_background": "light"
     },
     "output_type": "display_data"
    }
   ],
   "source": [
    "aux.plot_cm(model_categoricalNB, X_validation, y_validation)"
   ]
  },
  {
   "cell_type": "code",
   "execution_count": 20,
   "id": "1f1940a3-d93e-4fe1-95f8-f2b69624f055",
   "metadata": {},
   "outputs": [
    {
     "data": {
      "image/png": "[encoded data removed]",
      "text/plain": [
       "<Figure size 432x288 with 1 Axes>"
      ]
     },
     "metadata": {
      "needs_background": "light"
     },
     "output_type": "display_data"
    }
   ],
   "source": [
    "plot_roc_curve(model_categoricalNB_p2, X_validation, y_validation, response_method=\"predict_proba\")\n",
    "plt.show()"
   ]
  },
  {
   "cell_type": "markdown",
   "id": "9d1cbe6d-7c62-44c1-b262-fe54c2de0689",
   "metadata": {},
   "source": [
    "### Preprocesamiento 3: Discretizacion de columnas + ODE"
   ]
  },
  {
   "cell_type": "markdown",
   "id": "91942f4c-6758-4180-a59d-735002b67a6e",
   "metadata": {},
   "source": [
    "Ahora veremos que sucede si en vez de quedarnos solo con las columnas categoricas, discretizamos las columnas numéricas y luego aplicaremos ODE. Al realizar esta primera discretizacion de columnas tendremos todo el dataset con columnas cateogricas. Discretizaremos mediante la funcion **discretize_columns** que por predeterminado tiene las columnas *Años Estudiados, Edad, Horas de Trabajo, Ganancia/Perdida Bolsa Argentina*:"
   ]
  },
  {
   "cell_type": "code",
   "execution_count": 21,
   "id": "7397b821-c811-41b0-816c-411b3e12748e",
   "metadata": {},
   "outputs": [
    {
     "data": {
      "text/html": [
       "<div>\n",
       "<style scoped>\n",
       "    .dataframe tbody tr th:only-of-type {\n",
       "        vertical-align: middle;\n",
       "    }\n",
       "\n",
       "    .dataframe tbody tr th {\n",
       "        vertical-align: top;\n",
       "    }\n",
       "\n",
       "    .dataframe thead th {\n",
       "        text-align: right;\n",
       "    }\n",
       "</style>\n",
       "<table border=\"1\" class=\"dataframe\">\n",
       "  <thead>\n",
       "    <tr style=\"text-align: right;\">\n",
       "      <th></th>\n",
       "      <th>barrio</th>\n",
       "      <th>categoria_de_trabajo</th>\n",
       "      <th>estado_marital</th>\n",
       "      <th>genero</th>\n",
       "      <th>religion</th>\n",
       "      <th>rol_familiar_registrado</th>\n",
       "      <th>trabajo</th>\n",
       "      <th>anios_estudiados_bins</th>\n",
       "      <th>edad_bins</th>\n",
       "      <th>horas_trabajo_registradas_bins</th>\n",
       "      <th>ganancia_perdida_declarada_bolsa_argentina_bins</th>\n",
       "    </tr>\n",
       "  </thead>\n",
       "  <tbody>\n",
       "    <tr>\n",
       "      <th>0</th>\n",
       "      <td>palermo</td>\n",
       "      <td>empleado_provincial</td>\n",
       "      <td>sin_matrimonio</td>\n",
       "      <td>hombre</td>\n",
       "      <td>cristianismo</td>\n",
       "      <td>sin_familia</td>\n",
       "      <td>entretenimiento</td>\n",
       "      <td>4</td>\n",
       "      <td>1</td>\n",
       "      <td>1</td>\n",
       "      <td>0</td>\n",
       "    </tr>\n",
       "    <tr>\n",
       "      <th>1</th>\n",
       "      <td>palermo</td>\n",
       "      <td>monotributista</td>\n",
       "      <td>matrimonio_civil</td>\n",
       "      <td>hombre</td>\n",
       "      <td>cristianismo</td>\n",
       "      <td>casado</td>\n",
       "      <td>directivo_gerente</td>\n",
       "      <td>4</td>\n",
       "      <td>2</td>\n",
       "      <td>0</td>\n",
       "      <td>0</td>\n",
       "    </tr>\n",
       "    <tr>\n",
       "      <th>2</th>\n",
       "      <td>palermo</td>\n",
       "      <td>relacion_de_dependencia</td>\n",
       "      <td>divorciado</td>\n",
       "      <td>hombre</td>\n",
       "      <td>cristianismo</td>\n",
       "      <td>sin_familia</td>\n",
       "      <td>limpiador</td>\n",
       "      <td>3</td>\n",
       "      <td>1</td>\n",
       "      <td>1</td>\n",
       "      <td>0</td>\n",
       "    </tr>\n",
       "    <tr>\n",
       "      <th>3</th>\n",
       "      <td>palermo</td>\n",
       "      <td>relacion_de_dependencia</td>\n",
       "      <td>matrimonio_civil</td>\n",
       "      <td>hombre</td>\n",
       "      <td>judaismo</td>\n",
       "      <td>casado</td>\n",
       "      <td>limpiador</td>\n",
       "      <td>2</td>\n",
       "      <td>3</td>\n",
       "      <td>1</td>\n",
       "      <td>0</td>\n",
       "    </tr>\n",
       "    <tr>\n",
       "      <th>4</th>\n",
       "      <td>balvanera</td>\n",
       "      <td>relacion_de_dependencia</td>\n",
       "      <td>matrimonio_civil</td>\n",
       "      <td>mujer</td>\n",
       "      <td>judaismo</td>\n",
       "      <td>casada</td>\n",
       "      <td>profesional_especializado</td>\n",
       "      <td>4</td>\n",
       "      <td>0</td>\n",
       "      <td>1</td>\n",
       "      <td>0</td>\n",
       "    </tr>\n",
       "  </tbody>\n",
       "</table>\n",
       "</div>"
      ],
      "text/plain": [
       "      barrio     categoria_de_trabajo    estado_marital  genero      religion  \\\n",
       "0    palermo      empleado_provincial    sin_matrimonio  hombre  cristianismo   \n",
       "1    palermo           monotributista  matrimonio_civil  hombre  cristianismo   \n",
       "2    palermo  relacion_de_dependencia        divorciado  hombre  cristianismo   \n",
       "3    palermo  relacion_de_dependencia  matrimonio_civil  hombre      judaismo   \n",
       "4  balvanera  relacion_de_dependencia  matrimonio_civil   mujer      judaismo   \n",
       "\n",
       "  rol_familiar_registrado                    trabajo  anios_estudiados_bins  \\\n",
       "0             sin_familia            entretenimiento                      4   \n",
       "1                  casado          directivo_gerente                      4   \n",
       "2             sin_familia                  limpiador                      3   \n",
       "3                  casado                  limpiador                      2   \n",
       "4                  casada  profesional_especializado                      4   \n",
       "\n",
       "   edad_bins  horas_trabajo_registradas_bins  \\\n",
       "0          1                               1   \n",
       "1          2                               0   \n",
       "2          1                               1   \n",
       "3          3                               1   \n",
       "4          0                               1   \n",
       "\n",
       "   ganancia_perdida_declarada_bolsa_argentina_bins  \n",
       "0                                                0  \n",
       "1                                                0  \n",
       "2                                                0  \n",
       "3                                                0  \n",
       "4                                                0  "
      ]
     },
     "execution_count": 21,
     "metadata": {},
     "output_type": "execute_result"
    }
   ],
   "source": [
    "X_p3 = discretize_columns(X)\n",
    "X_p3.head()"
   ]
  },
  {
   "cell_type": "markdown",
   "id": "fa548115-ef76-4d32-895e-42f629a3401c",
   "metadata": {},
   "source": [
    "Luego debemos aplicar ODE como en los anteriores casos:"
   ]
  },
  {
   "cell_type": "code",
   "execution_count": 22,
   "id": "8fc5616c-2b78-4fc2-8350-820a6f6ab710",
   "metadata": {},
   "outputs": [],
   "source": [
    "X_ode_p3 = apply_ODE(X_p3)"
   ]
  },
  {
   "cell_type": "markdown",
   "id": "5bc3bbc5-621f-49bf-946d-0af05bc9ea76",
   "metadata": {},
   "source": [
    "Partimos nuestro set en *train* y *validation*, dejaremos un 20% de los datos para validación de nuestro entrenamiento:"
   ]
  },
  {
   "cell_type": "code",
   "execution_count": 23,
   "id": "d01f11dc-2626-4f36-a0ec-b4234b65ab10",
   "metadata": {},
   "outputs": [],
   "source": [
    "X_train, X_validation, y_train, y_validation = train_test_split(X_ode_p3,y, test_size=0.2, stratify=y, random_state=0)"
   ]
  },
  {
   "cell_type": "markdown",
   "id": "99f2b15a-f19a-42f9-a959-9e5de8c02e3e",
   "metadata": {},
   "source": [
    "Buscamos los mejores hiperparámetros para el modelo categoricalNB con GridSearchCV. La métrica que se utiliza para comparar los modelos obtenidos en cada iteracion es *roc_auc_score*."
   ]
  },
  {
   "cell_type": "code",
   "execution_count": 24,
   "id": "82745edf-9b47-4dff-b38d-d4f6b5b6fb50",
   "metadata": {},
   "outputs": [
    {
     "name": "stdout",
     "output_type": "stream",
     "text": [
      "Mejor score ROC-AUC en Entrenamiento: 0.8934156599185314\n",
      "Mejores Parametros {'alpha': 0.1}\n",
      "\n",
      "Mejor score ROC-AUC en Validación: 0.8849950862549266\n"
     ]
    }
   ],
   "source": [
    "parameters = {\n",
    "    'alpha': np.arange(0, 1, 0.01),\n",
    "}\n",
    "\n",
    "clf = CategoricalNB()\n",
    "\n",
    "gscv = GridSearchCV(\n",
    "    clf, parameters, scoring='roc_auc',n_jobs=-1, cv=5, return_train_score=True\n",
    ").fit(X_train, y_train)\n",
    "\n",
    "print(f\"Mejor score ROC-AUC en Entrenamiento: {gscv.best_score_}\")\n",
    "print(f\"Mejores Parametros {gscv.best_params_}\")\n",
    "\n",
    "print(f\"\\nMejor score ROC-AUC en Validación: {gscv.score(X_validation, y_validation)}\")"
   ]
  },
  {
   "cell_type": "markdown",
   "id": "2e9feb5a-80dd-45b6-9fac-49a3651f2561",
   "metadata": {},
   "source": [
    "Armamos el modelo de CategoricalNB con los hiperparámetros calculados:"
   ]
  },
  {
   "cell_type": "code",
   "execution_count": 25,
   "id": "16006396-1535-4ec8-a5f9-10b12e5e4f86",
   "metadata": {},
   "outputs": [
    {
     "data": {
      "text/plain": [
       "CategoricalNB(alpha=0.1)"
      ]
     },
     "execution_count": 25,
     "metadata": {},
     "output_type": "execute_result"
    }
   ],
   "source": [
    "model_categoricalNB_p3 = gscv.best_estimator_\n",
    "model_categoricalNB_p3"
   ]
  },
  {
   "cell_type": "markdown",
   "id": "05c35449-1833-47e4-9712-b0fbf4fc54e4",
   "metadata": {},
   "source": [
    "Predecimos con el validation set:"
   ]
  },
  {
   "cell_type": "code",
   "execution_count": 26,
   "id": "34805556-0688-471d-b17d-dc8e064bb2c5",
   "metadata": {},
   "outputs": [],
   "source": [
    "categoricalNB_predict = model_categoricalNB_p3.predict(X_validation)"
   ]
  },
  {
   "cell_type": "markdown",
   "id": "ac4195fc-c99e-490b-a61a-394051ff39be",
   "metadata": {},
   "source": [
    "**Metricas**"
   ]
  },
  {
   "cell_type": "code",
   "execution_count": 27,
   "id": "1e2c11d6-d913-4659-99a9-9e14d6a5ab08",
   "metadata": {},
   "outputs": [
    {
     "name": "stdout",
     "output_type": "stream",
     "text": [
      "              precision    recall  f1-score   support\n",
      "\n",
      "           0       0.92      0.81      0.86      4945\n",
      "           1       0.56      0.77      0.65      1568\n",
      "\n",
      "    accuracy                           0.80      6513\n",
      "   macro avg       0.74      0.79      0.76      6513\n",
      "weighted avg       0.83      0.80      0.81      6513\n",
      "\n"
     ]
    }
   ],
   "source": [
    "print(classification_report(y_validation, categoricalNB_predict))"
   ]
  },
  {
   "cell_type": "code",
   "execution_count": 28,
   "id": "490cb3ff-5972-48cf-8ba4-1c8c18564f19",
   "metadata": {},
   "outputs": [
    {
     "data": {
      "image/png": "[encoded data removed]",
      "text/plain": [
       "<Figure size 1080x504 with 2 Axes>"
      ]
     },
     "metadata": {
      "needs_background": "light"
     },
     "output_type": "display_data"
    }
   ],
   "source": [
    "aux.plot_cm(model_categoricalNB_p3, X_validation, y_validation)"
   ]
  },
  {
   "cell_type": "code",
   "execution_count": 29,
   "id": "7b2d029b-b247-4620-ace3-ea10a6470cb3",
   "metadata": {},
   "outputs": [
    {
     "data": {
      "image/png": "[encoded data removed]",
      "text/plain": [
       "<Figure size 432x288 with 1 Axes>"
      ]
     },
     "metadata": {
      "needs_background": "light"
     },
     "output_type": "display_data"
    }
   ],
   "source": [
    "plot_roc_curve(model_categoricalNB_p3, X_validation, y_validation, response_method=\"predict_proba\")\n",
    "plt.show()"
   ]
  },
  {
   "cell_type": "markdown",
   "id": "ef6053ea-2817-447a-abd5-1ce9db0d4df8",
   "metadata": {},
   "source": [
    "# Conclusión"
   ]
  },
  {
   "cell_type": "markdown",
   "id": "d1d3c653-cbfe-4a6a-a476-b11f850df290",
   "metadata": {},
   "source": [
    "Vimos que utilizando CategoricalNB tenemos una mal performance de la metrica *auc_roc* en comparación con los demas modelos. Ademas observamos que es uno de los modelos con mejor metrica *recall* sobre la clase 1 de nuestra variable objetivo. Aplicando una reducción de las columnas cateogricas nos aporto una mejora pero no tan relevante. Luego vimos que discretizando las columnas numéricas, convirtiendolas en cateogricas, obtenemos una ganancia en la metrica *auc_roc* debido a que contamos con mas informacion que sin haber aplicado este preproceso."
   ]
  },
  {
   "cell_type": "markdown",
   "id": "447330eb-7eb9-413f-ab61-acbd65f51c3e",
   "metadata": {},
   "source": [
    "# Predicción"
   ]
  },
  {
   "cell_type": "markdown",
   "id": "645e2c3a-264b-4de6-9b94-9ffcd7d6e5ac",
   "metadata": {},
   "source": [
    "Por ultimo, con nuestro mejor modelo obtenido realizaremos una prediccion para datos que nunca vio en el entrenamiento ni en validación."
   ]
  },
  {
   "cell_type": "code",
   "execution_count": 30,
   "id": "83c59e50-326b-44ab-a94f-fbffdc0ae569",
   "metadata": {},
   "outputs": [],
   "source": [
    "ids, X_holdout = aux.get_holdout_set()\n",
    "X_holdout = init_dataset(X_holdout)"
   ]
  },
  {
   "cell_type": "code",
   "execution_count": 31,
   "id": "88d312ce-05ca-42d4-a830-e6c7cfb68d10",
   "metadata": {},
   "outputs": [],
   "source": [
    "X_holdout_p3 = discretize_columns(X_holdout)\n",
    "X_holdout_ode = apply_ODE(X_holdout_p3)"
   ]
  },
  {
   "cell_type": "code",
   "execution_count": 32,
   "id": "8a728a25-7580-471a-8b38-353e54195da9",
   "metadata": {},
   "outputs": [],
   "source": [
    "categoricalNB_predict = model_categoricalNB_p3.predict(X_holdout_ode)"
   ]
  },
  {
   "cell_type": "code",
   "execution_count": 33,
   "id": "1216fb3f-a502-4aa5-b478-be8f0b029484",
   "metadata": {},
   "outputs": [],
   "source": [
    "aux.create_prediction(ids, categoricalNB_predict, file_name='categoricalNB')"
   ]
  }
 ],
 "metadata": {
  "kernelspec": {
   "display_name": "Python 3",
   "language": "python",
   "name": "python3"
  },
  "language_info": {
   "codemirror_mode": {
    "name": "ipython",
    "version": 3
   },
   "file_extension": ".py",
   "mimetype": "text/x-python",
   "name": "python",
   "nbconvert_exporter": "python",
   "pygments_lexer": "ipython3",
   "version": "3.9.1"
  }
 },
 "nbformat": 4,
 "nbformat_minor": 5
}
