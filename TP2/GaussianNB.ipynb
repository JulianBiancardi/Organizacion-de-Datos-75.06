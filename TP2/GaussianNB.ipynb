{
 "cells": [
  {
   "cell_type": "code",
   "execution_count": 1,
   "id": "ee80910e-6e91-4e45-b3a9-c313d4aa7d05",
   "metadata": {},
   "outputs": [],
   "source": [
    "#Includes necesarios\n",
    "from sklearn.naive_bayes import GaussianNB\n",
    "\n",
    "import pandas as pd\n",
    "import numpy as np\n",
    "import matplotlib.pyplot as plt \n",
    "from sklearn.model_selection import RandomizedSearchCV,GridSearchCV\n",
    "from sklearn.model_selection import train_test_split\n",
    "\n",
    "from auxiliar import get_train_set,get_holdout_set,create_prediction\n",
    "import preprocessing as pr\n",
    "\n",
    "from auxiliar import plot_cm,plot_tree\n",
    "from sklearn.metrics import classification_report,plot_roc_curve"
   ]
  },
  {
   "cell_type": "markdown",
   "id": "086c52c8-f381-471e-bde1-9c46492e7cb2",
   "metadata": {},
   "source": [
    "# **Gaussian Naive Bayes**"
   ]
  },
  {
   "cell_type": "markdown",
   "id": "a92f2e0a-6338-436e-8eb0-fb463293e36c",
   "metadata": {},
   "source": [
    "Los hiperparametros que consideramos relevantes para el modelo GaussianNB son:\n",
    "   - var_smoothing: Porción de la varianza más grande de todos los features que se agrega a las varianzas para la estabilidad del cálculo."
   ]
  },
  {
   "cell_type": "markdown",
   "id": "24116bab-b465-488a-96a2-903d0ff3c748",
   "metadata": {
    "tags": []
   },
   "source": [
    "Obtenemos el dataset con el cual entrenaremos nuestro modelo. Para este modelo se opto unicamente tratar los missings como categoricos:"
   ]
  },
  {
   "cell_type": "code",
   "execution_count": 2,
   "id": "705b132e-f0bb-457f-a37c-3b641484f81f",
   "metadata": {
    "tags": []
   },
   "outputs": [],
   "source": [
    "X,y = get_train_set()\n",
    "X = pr.init_dataset(X)"
   ]
  },
  {
   "cell_type": "markdown",
   "id": "40300566-66ae-479a-8469-06e17aaeebdc",
   "metadata": {},
   "source": [
    "Para aplicar este tipo de modelo debemos quedarnos solo con las columnas continuas. En este caso no nos hace falta aplicar OHE, puesto que todas las columnas que nos quedan son numericas. Tampoco nos sirve los preprocesamientos de reduccion por frecuencia o discretizacion, puesto que esto eliminaria o generaria nuevas columnas categoricas."
   ]
  },
  {
   "cell_type": "code",
   "execution_count": 3,
   "id": "fa1ed5d5-5f8a-4ed9-be11-3b8fe388cc70",
   "metadata": {},
   "outputs": [
    {
     "data": {
      "text/html": [
       "<div>\n",
       "<style scoped>\n",
       "    .dataframe tbody tr th:only-of-type {\n",
       "        vertical-align: middle;\n",
       "    }\n",
       "\n",
       "    .dataframe tbody tr th {\n",
       "        vertical-align: top;\n",
       "    }\n",
       "\n",
       "    .dataframe thead th {\n",
       "        text-align: right;\n",
       "    }\n",
       "</style>\n",
       "<table border=\"1\" class=\"dataframe\">\n",
       "  <thead>\n",
       "    <tr style=\"text-align: right;\">\n",
       "      <th></th>\n",
       "      <th>anios_estudiados</th>\n",
       "      <th>edad</th>\n",
       "      <th>ganancia_perdida_declarada_bolsa_argentina</th>\n",
       "      <th>horas_trabajo_registradas</th>\n",
       "    </tr>\n",
       "  </thead>\n",
       "  <tbody>\n",
       "    <tr>\n",
       "      <th>0</th>\n",
       "      <td>17</td>\n",
       "      <td>39</td>\n",
       "      <td>2174</td>\n",
       "      <td>40</td>\n",
       "    </tr>\n",
       "    <tr>\n",
       "      <th>1</th>\n",
       "      <td>17</td>\n",
       "      <td>50</td>\n",
       "      <td>0</td>\n",
       "      <td>13</td>\n",
       "    </tr>\n",
       "    <tr>\n",
       "      <th>2</th>\n",
       "      <td>13</td>\n",
       "      <td>38</td>\n",
       "      <td>0</td>\n",
       "      <td>40</td>\n",
       "    </tr>\n",
       "    <tr>\n",
       "      <th>3</th>\n",
       "      <td>11</td>\n",
       "      <td>53</td>\n",
       "      <td>0</td>\n",
       "      <td>40</td>\n",
       "    </tr>\n",
       "    <tr>\n",
       "      <th>4</th>\n",
       "      <td>17</td>\n",
       "      <td>28</td>\n",
       "      <td>0</td>\n",
       "      <td>40</td>\n",
       "    </tr>\n",
       "  </tbody>\n",
       "</table>\n",
       "</div>"
      ],
      "text/plain": [
       "   anios_estudiados  edad  ganancia_perdida_declarada_bolsa_argentina  \\\n",
       "0                17    39                                        2174   \n",
       "1                17    50                                           0   \n",
       "2                13    38                                           0   \n",
       "3                11    53                                           0   \n",
       "4                17    28                                           0   \n",
       "\n",
       "   horas_trabajo_registradas  \n",
       "0                         40  \n",
       "1                         13  \n",
       "2                         40  \n",
       "3                         40  \n",
       "4                         40  "
      ]
     },
     "execution_count": 3,
     "metadata": {},
     "output_type": "execute_result"
    }
   ],
   "source": [
    "X_continuos = X.select_dtypes(include=['int64','int32'])\n",
    "X_continuos.head()"
   ]
  },
  {
   "cell_type": "markdown",
   "id": "59e17992-8e1e-4f70-9efb-c56f26d81957",
   "metadata": {},
   "source": [
    "Primero vamos a analizar como funciona nuestro modelo sin aplicar ningun tipo de preprocesamiento. Partimos nuestro set en *train* y *validation*, dejaremos un 20% de los datos para validación de nuestro entrenamiento:"
   ]
  },
  {
   "cell_type": "code",
   "execution_count": 4,
   "id": "79083015-c59d-4363-814c-83cc4eea1aa7",
   "metadata": {},
   "outputs": [],
   "source": [
    "X_train, X_validation, y_train, y_validation = train_test_split(X_continuos,y, test_size=0.2, stratify=y, random_state=0)"
   ]
  },
  {
   "cell_type": "markdown",
   "id": "feb9ec66-00a0-442a-b953-89a40407bdc9",
   "metadata": {},
   "source": [
    "Buscamos los mejores hiperparametros para el modelo gaussiano con GridSearchCV. La metrica que se utiliza para comparar los modelos obtenidos en cada iteracion es *roc_auc_score*."
   ]
  },
  {
   "cell_type": "code",
   "execution_count": 5,
   "id": "fe479ac5-8cc8-447b-888c-28be787eeee8",
   "metadata": {},
   "outputs": [
    {
     "name": "stdout",
     "output_type": "stream",
     "text": [
      "Mejor score ROC-AUC en Entrenamiento: 0.8363573041413668\n",
      "Mejores Parametros {'var_smoothing': 1e-08}\n",
      "\n",
      "Mejor score ROC-AUC en Validación: 0.8346435793731042\n"
     ]
    }
   ],
   "source": [
    "parameters = {\n",
    "    'var_smoothing': np.arange(0, 0.0000001,0.00000001)\n",
    "}\n",
    "\n",
    "clf = GaussianNB()\n",
    "\n",
    "gscv = GridSearchCV(\n",
    "    clf, parameters, scoring='roc_auc',n_jobs=-1, cv=5, return_train_score=True\n",
    ").fit(X_train, y_train)\n",
    "\n",
    "print(f\"Mejor score ROC-AUC en Entrenamiento: {gscv.best_score_}\")\n",
    "print(f\"Mejores Parametros {gscv.best_params_}\")\n",
    "\n",
    "print(f\"\\nMejor score ROC-AUC en Validación: {gscv.score(X_validation, y_validation)}\")"
   ]
  },
  {
   "cell_type": "markdown",
   "id": "facf7f95-07e9-4fda-8578-db9dc085b6a3",
   "metadata": {},
   "source": [
    "Aramamos el modelo de GaussianNB con los hiperparametros calculados:"
   ]
  },
  {
   "cell_type": "code",
   "execution_count": 6,
   "id": "dcc7e09d-bc51-42d0-89c6-0a597659fe02",
   "metadata": {},
   "outputs": [
    {
     "data": {
      "text/plain": [
       "GaussianNB(var_smoothing=1e-08)"
      ]
     },
     "execution_count": 6,
     "metadata": {},
     "output_type": "execute_result"
    }
   ],
   "source": [
    "model_gaussianNB = gscv.best_estimator_\n",
    "model_gaussianNB"
   ]
  },
  {
   "cell_type": "markdown",
   "id": "11d56092-da3a-470c-8daf-da5b14bc2d30",
   "metadata": {},
   "source": [
    "Predecimos con el validation set:"
   ]
  },
  {
   "cell_type": "code",
   "execution_count": 7,
   "id": "589b9903-c416-4461-b271-0a9ac630389a",
   "metadata": {},
   "outputs": [],
   "source": [
    "gaussianNB_predict = model_gaussianNB.predict(X_validation)"
   ]
  },
  {
   "cell_type": "markdown",
   "id": "ced50138-55bf-4889-a8c7-22dcc798f86a",
   "metadata": {},
   "source": [
    "**Metricas**"
   ]
  },
  {
   "cell_type": "code",
   "execution_count": 8,
   "id": "2c7c28b5-edae-4b0c-b475-82c701272495",
   "metadata": {},
   "outputs": [
    {
     "name": "stdout",
     "output_type": "stream",
     "text": [
      "              precision    recall  f1-score   support\n",
      "\n",
      "           0       0.80      0.98      0.88      4945\n",
      "           1       0.74      0.22      0.34      1568\n",
      "\n",
      "    accuracy                           0.79      6513\n",
      "   macro avg       0.77      0.60      0.61      6513\n",
      "weighted avg       0.78      0.79      0.75      6513\n",
      "\n"
     ]
    }
   ],
   "source": [
    "print(classification_report(y_validation, gaussianNB_predict))"
   ]
  },
  {
   "cell_type": "code",
   "execution_count": 9,
   "id": "3cb84700-b61d-4580-9673-fbc52e0eb591",
   "metadata": {},
   "outputs": [
    {
     "data": {
      "image/png": "[encoded data removed]",
      "text/plain": [
       "<Figure size 1080x504 with 2 Axes>"
      ]
     },
     "metadata": {
      "needs_background": "light"
     },
     "output_type": "display_data"
    }
   ],
   "source": [
    "plot_cm(model_gaussianNB, X_validation, y_validation)"
   ]
  },
  {
   "cell_type": "code",
   "execution_count": 10,
   "id": "6941abfa-11a1-41da-8cfd-5419c351990f",
   "metadata": {},
   "outputs": [
    {
     "data": {
      "image/png": "[encoded data removed]",
      "text/plain": [
       "<Figure size 432x288 with 1 Axes>"
      ]
     },
     "metadata": {
      "needs_background": "light"
     },
     "output_type": "display_data"
    }
   ],
   "source": [
    "plot_roc_curve(model_gaussianNB, X_validation, y_validation, response_method=\"predict_proba\")\n",
    "plt.show()"
   ]
  },
  {
   "cell_type": "markdown",
   "id": "c612885c-9acf-44b8-b731-4827b577c30e",
   "metadata": {},
   "source": [
    "Vemos que el modelo gaussiano predice muy mal la calse 1 de nuestra variable objetivo, pues el recall para esta clase resulta ser un valor demasiado bajo."
   ]
  },
  {
   "cell_type": "markdown",
   "id": "8713dd96-a799-4b32-80be-83cdef72218c",
   "metadata": {},
   "source": [
    "### Preprocesamiento 1: Normalizacion"
   ]
  },
  {
   "cell_type": "markdown",
   "id": "30682331-9b01-468f-a506-df2acd5c2185",
   "metadata": {},
   "source": [
    "Ahora veremos que al realizar una normalizacion a nuestras columnas continuas tenemos una perdida de performance en la metrica *auc_roc*:"
   ]
  },
  {
   "cell_type": "code",
   "execution_count": 11,
   "id": "4a2eefa7-076f-4351-acc8-46efd20cfdd4",
   "metadata": {},
   "outputs": [
    {
     "data": {
      "text/plain": [
       "array([[7.81686779e-03, 1.79328143e-02, 9.99639446e-01, 1.83926301e-02],\n",
       "       [3.12571831e-01, 9.19328914e-01, 0.00000000e+00, 2.39025518e-01],\n",
       "       [2.29344320e-01, 6.70391090e-01, 0.00000000e+00, 7.05674832e-01],\n",
       "       ...,\n",
       "       [1.81450312e-01, 8.09547547e-01, 0.00000000e+00, 5.58308653e-01],\n",
       "       [4.00616808e-01, 6.77966906e-01, 0.00000000e+00, 6.16333551e-01],\n",
       "       [8.65273642e-04, 3.46109457e-03, 9.99990092e-01, 2.66238044e-03]])"
      ]
     },
     "execution_count": 11,
     "metadata": {},
     "output_type": "execute_result"
    }
   ],
   "source": [
    "X_p1 = pr.normalize(X_continuos)\n",
    "X_p1"
   ]
  },
  {
   "cell_type": "markdown",
   "id": "ba403fcd-72f9-4361-bda0-1c0c290323cf",
   "metadata": {},
   "source": [
    "Partimos nuestro set en *train* y *validation*, dejaremos un 20% de los datos para validación de nuestro entrenamiento:"
   ]
  },
  {
   "cell_type": "code",
   "execution_count": 12,
   "id": "79780ebe-8e58-49c5-88fb-06add0bb18df",
   "metadata": {},
   "outputs": [],
   "source": [
    "X_train, X_validation, y_train, y_validation = train_test_split(X_p1,y, test_size=0.2, stratify=y, random_state=0)"
   ]
  },
  {
   "cell_type": "markdown",
   "id": "cba805b0-a4c1-4fa2-8f4c-9ca7fddf8ae4",
   "metadata": {},
   "source": [
    "Buscamos los mejores hiperparametros para el modelo gaussiano con GridSearchCV. La metrica que se utiliza para comparar los modelos obtenidos en cada iteracion es *roc_auc_score*."
   ]
  },
  {
   "cell_type": "code",
   "execution_count": 13,
   "id": "e44f5768-d183-4cd0-95c8-5b383f59c39f",
   "metadata": {},
   "outputs": [
    {
     "name": "stdout",
     "output_type": "stream",
     "text": [
      "Mejor score ROC-AUC en Entrenamiento: 0.615522737685611\n",
      "Mejores Parametros {'var_smoothing': 9e-08}\n",
      "\n",
      "Mejor score ROC-AUC en Validación: 0.6275141350776914\n"
     ]
    }
   ],
   "source": [
    "parameters = {\n",
    "    'var_smoothing': np.arange(0, 0.0000001,0.00000001)\n",
    "}\n",
    "\n",
    "clf = GaussianNB()\n",
    "\n",
    "gscv = GridSearchCV(\n",
    "    clf, parameters, scoring='roc_auc',n_jobs=-1, cv=5, return_train_score=True\n",
    ").fit(X_train, y_train)\n",
    "\n",
    "print(f\"Mejor score ROC-AUC en Entrenamiento: {gscv.best_score_}\")\n",
    "print(f\"Mejores Parametros {gscv.best_params_}\")\n",
    "\n",
    "print(f\"\\nMejor score ROC-AUC en Validación: {gscv.score(X_validation, y_validation)}\")"
   ]
  },
  {
   "cell_type": "markdown",
   "id": "a3acdf20-6c12-40fb-9d59-f148c78715a9",
   "metadata": {},
   "source": [
    "Aramamos el modelo de GaussianNB con los hiperparametros calculados:"
   ]
  },
  {
   "cell_type": "code",
   "execution_count": 14,
   "id": "601049f1-31f7-454a-b19e-0b5333fa8512",
   "metadata": {},
   "outputs": [
    {
     "data": {
      "text/plain": [
       "GaussianNB(var_smoothing=9e-08)"
      ]
     },
     "execution_count": 14,
     "metadata": {},
     "output_type": "execute_result"
    }
   ],
   "source": [
    "model_gaussianNB_p1 = gscv.best_estimator_\n",
    "model_gaussianNB_p1"
   ]
  },
  {
   "cell_type": "markdown",
   "id": "93b27247-1ca3-4d78-8ce9-ce826dbf257b",
   "metadata": {},
   "source": [
    "Predecimos con el validation set:"
   ]
  },
  {
   "cell_type": "code",
   "execution_count": 15,
   "id": "84e429da-6c2d-4655-a95e-d24dd87ebf5c",
   "metadata": {},
   "outputs": [],
   "source": [
    "gaussianNB_predict = model_gaussianNB_p1.predict(X_validation)"
   ]
  },
  {
   "cell_type": "markdown",
   "id": "866192eb-cbd0-421b-87e1-46e8099b7766",
   "metadata": {},
   "source": [
    "**Metricas**"
   ]
  },
  {
   "cell_type": "code",
   "execution_count": 16,
   "id": "b9189d91-3bef-4d53-8db8-23eba0e043d5",
   "metadata": {},
   "outputs": [
    {
     "name": "stdout",
     "output_type": "stream",
     "text": [
      "              precision    recall  f1-score   support\n",
      "\n",
      "           0       0.81      0.93      0.86      4945\n",
      "           1       0.58      0.32      0.41      1568\n",
      "\n",
      "    accuracy                           0.78      6513\n",
      "   macro avg       0.70      0.62      0.64      6513\n",
      "weighted avg       0.76      0.78      0.76      6513\n",
      "\n"
     ]
    }
   ],
   "source": [
    "print(classification_report(y_validation, gaussianNB_predict))"
   ]
  },
  {
   "cell_type": "code",
   "execution_count": 17,
   "id": "c5d72333-fb16-40e4-8363-3adb9d02e110",
   "metadata": {},
   "outputs": [
    {
     "data": {
      "image/png": "[encoded data removed]",
      "text/plain": [
       "<Figure size 1080x504 with 2 Axes>"
      ]
     },
     "metadata": {
      "needs_background": "light"
     },
     "output_type": "display_data"
    }
   ],
   "source": [
    "plot_cm(model_gaussianNB_p1, X_validation, y_validation)"
   ]
  },
  {
   "cell_type": "code",
   "execution_count": 18,
   "id": "198e270d-98d5-421f-a7dc-97ed6193d0c7",
   "metadata": {},
   "outputs": [
    {
     "data": {
      "image/png": "[encoded data removed]",
      "text/plain": [
       "<Figure size 432x288 with 1 Axes>"
      ]
     },
     "metadata": {
      "needs_background": "light"
     },
     "output_type": "display_data"
    }
   ],
   "source": [
    "plot_roc_curve(model_gaussianNB_p1, X_validation, y_validation, response_method=\"predict_proba\")\n",
    "plt.show()"
   ]
  },
  {
   "cell_type": "markdown",
   "id": "f839f809-71b9-47b5-98de-1375d2856e27",
   "metadata": {},
   "source": [
    "### Preprocesamiento 2: Escalado"
   ]
  },
  {
   "cell_type": "markdown",
   "id": "a75f478d-5ddd-4ca7-adb0-d7e7695660d2",
   "metadata": {},
   "source": [
    "Ahora veremos que ocurre con la metrica *auc_roc* si realizamos un escalado a nuestras columnas continuas. El rango de escalado es entre (0,1):"
   ]
  },
  {
   "cell_type": "code",
   "execution_count": 19,
   "id": "70af6807-defd-479a-90a2-76257b6129c7",
   "metadata": {},
   "outputs": [
    {
     "data": {
      "text/plain": [
       "array([[0.84210526, 0.30136986, 0.06257486, 0.39795918],\n",
       "       [0.84210526, 0.45205479, 0.04174213, 0.12244898],\n",
       "       [0.63157895, 0.28767123, 0.04174213, 0.39795918],\n",
       "       ...,\n",
       "       [0.63157895, 0.56164384, 0.04174213, 0.39795918],\n",
       "       [0.63157895, 0.06849315, 0.04174213, 0.19387755],\n",
       "       [0.63157895, 0.47945205, 0.18571223, 0.39795918]])"
      ]
     },
     "execution_count": 19,
     "metadata": {},
     "output_type": "execute_result"
    }
   ],
   "source": [
    "X_p2 = pr.scale(X_continuos)\n",
    "X_p2"
   ]
  },
  {
   "cell_type": "markdown",
   "id": "8b1069c0-d81c-4447-9a1c-0dc965d85f37",
   "metadata": {},
   "source": [
    "Partimos nuestro set en *train* y *validation*, dejaremos un 20% de los datos para validación de nuestro entrenamiento:"
   ]
  },
  {
   "cell_type": "code",
   "execution_count": 20,
   "id": "e7d14409-bb94-4e7e-ab3b-ff53865975e2",
   "metadata": {},
   "outputs": [],
   "source": [
    "X_train, X_validation, y_train, y_validation = train_test_split(X_p2,y, test_size=0.2, stratify=y, random_state=0)"
   ]
  },
  {
   "cell_type": "markdown",
   "id": "4e9d40e7-2df4-459e-8f0c-b80a719f3ad1",
   "metadata": {},
   "source": [
    "Buscamos los mejores hiperparametros para el modelo gaussiano con GridSearchCV. La metrica que se utiliza para comparar los modelos obtenidos en cada iteracion es *roc_auc_score*."
   ]
  },
  {
   "cell_type": "code",
   "execution_count": 21,
   "id": "03772ce5-5a6c-4cef-8015-4ed601d4859e",
   "metadata": {},
   "outputs": [
    {
     "name": "stdout",
     "output_type": "stream",
     "text": [
      "Mejor score ROC-AUC en Entrenamiento: 0.8362074494200744\n",
      "Mejores Parametros {'var_smoothing': 9e-08}\n",
      "\n",
      "Mejor score ROC-AUC en Validación: 0.8343854465446441\n"
     ]
    }
   ],
   "source": [
    "parameters = {\n",
    "    'var_smoothing': np.arange(0, 0.0000001,0.00000001)\n",
    "}\n",
    "\n",
    "clf = GaussianNB()\n",
    "\n",
    "gscv = GridSearchCV(\n",
    "    clf, parameters, scoring='roc_auc',n_jobs=-1, cv=5, return_train_score=True\n",
    ").fit(X_train, y_train)\n",
    "\n",
    "print(f\"Mejor score ROC-AUC en Entrenamiento: {gscv.best_score_}\")\n",
    "print(f\"Mejores Parametros {gscv.best_params_}\")\n",
    "\n",
    "print(f\"\\nMejor score ROC-AUC en Validación: {gscv.score(X_validation, y_validation)}\")"
   ]
  },
  {
   "cell_type": "markdown",
   "id": "262e4c66-d6a0-4ebf-a932-05edb8e1b1f1",
   "metadata": {},
   "source": [
    "Aramamos el modelo de GaussianNB con los hiperparametros calculados:"
   ]
  },
  {
   "cell_type": "code",
   "execution_count": 22,
   "id": "a4a49763-c1ff-4c8a-b46a-5cab5b2019ed",
   "metadata": {},
   "outputs": [
    {
     "data": {
      "text/plain": [
       "GaussianNB(var_smoothing=9e-08)"
      ]
     },
     "execution_count": 22,
     "metadata": {},
     "output_type": "execute_result"
    }
   ],
   "source": [
    "model_gaussianNB_p2 = gscv.best_estimator_\n",
    "model_gaussianNB_p2"
   ]
  },
  {
   "cell_type": "markdown",
   "id": "2c6b87af-c666-4e72-81d9-512abc34e301",
   "metadata": {},
   "source": [
    "Predecimos con el validation set:"
   ]
  },
  {
   "cell_type": "code",
   "execution_count": 23,
   "id": "ff21112a-cfd1-40a3-ac71-f8e901ca2305",
   "metadata": {},
   "outputs": [],
   "source": [
    "gaussianNB_predict = model_gaussianNB_p2.predict(X_validation)"
   ]
  },
  {
   "cell_type": "markdown",
   "id": "7a75c534-6c56-4ebe-b4f1-433007f02d23",
   "metadata": {},
   "source": [
    "**Metricas**"
   ]
  },
  {
   "cell_type": "code",
   "execution_count": 24,
   "id": "d96c01f3-e98d-48b8-a3bd-477b35940b45",
   "metadata": {},
   "outputs": [
    {
     "name": "stdout",
     "output_type": "stream",
     "text": [
      "              precision    recall  f1-score   support\n",
      "\n",
      "           0       0.80      0.98      0.88      4945\n",
      "           1       0.75      0.22      0.34      1568\n",
      "\n",
      "    accuracy                           0.79      6513\n",
      "   macro avg       0.77      0.60      0.61      6513\n",
      "weighted avg       0.79      0.79      0.75      6513\n",
      "\n"
     ]
    }
   ],
   "source": [
    "print(classification_report(y_validation, gaussianNB_predict))"
   ]
  },
  {
   "cell_type": "code",
   "execution_count": 25,
   "id": "4480a397-30cb-4472-ae67-c14b0e996b94",
   "metadata": {},
   "outputs": [
    {
     "data": {
      "image/png": "[encoded data removed]",
      "text/plain": [
       "<Figure size 1080x504 with 2 Axes>"
      ]
     },
     "metadata": {
      "needs_background": "light"
     },
     "output_type": "display_data"
    }
   ],
   "source": [
    "plot_cm(model_gaussianNB_p2, X_validation, y_validation)"
   ]
  },
  {
   "cell_type": "code",
   "execution_count": 26,
   "id": "24e7d1d0-8e5f-4017-a506-c7e6afca5c31",
   "metadata": {},
   "outputs": [
    {
     "data": {
      "image/png": "[encoded data removed]",
      "text/plain": [
       "<Figure size 432x288 with 1 Axes>"
      ]
     },
     "metadata": {
      "needs_background": "light"
     },
     "output_type": "display_data"
    }
   ],
   "source": [
    "plot_roc_curve(model_gaussianNB_p2, X_validation, y_validation, response_method=\"predict_proba\")\n",
    "plt.show()"
   ]
  },
  {
   "cell_type": "markdown",
   "id": "c62f6cea-1b71-4d2c-9002-3674a327e391",
   "metadata": {},
   "source": [
    "### Preprocesamiento 3: Estandarización"
   ]
  },
  {
   "cell_type": "markdown",
   "id": "72ddc449-baf3-4405-bc07-11203c455d4c",
   "metadata": {},
   "source": [
    "Ahora veremos que ocurre con la metrica *auc_roc* si realizamos una estandarización a nuestras columnas continuas:"
   ]
  },
  {
   "cell_type": "code",
   "execution_count": 27,
   "id": "86216441-73a1-424b-9e12-0cc56bde4ebc",
   "metadata": {},
   "outputs": [
    {
     "data": {
      "text/plain": [
       "array([[ 1.10571999,  0.03067056,  0.15976181, -0.03542945],\n",
       "       [ 1.10571999,  0.83710898, -0.13367013, -2.22215312],\n",
       "       [-0.39552984, -0.04264203, -0.13367013, -0.03542945],\n",
       "       ...,\n",
       "       [-0.39552984,  1.42360965, -0.13367013, -0.03542945],\n",
       "       [-0.39552984, -1.21564337, -0.13367013, -1.65522476],\n",
       "       [-0.39552984,  0.98373415,  1.89416861, -0.03542945]])"
      ]
     },
     "execution_count": 27,
     "metadata": {},
     "output_type": "execute_result"
    }
   ],
   "source": [
    "X_p3 = pr.standarize(X_continuos)\n",
    "X_p3"
   ]
  },
  {
   "cell_type": "markdown",
   "id": "c167759d-3943-44cb-b376-59c650644fd7",
   "metadata": {},
   "source": [
    "Partimos nuestro set en *train* y *validation*, dejaremos un 20% de los datos para validación de nuestro entrenamiento:"
   ]
  },
  {
   "cell_type": "code",
   "execution_count": 28,
   "id": "24450def-2473-4fbc-b0be-e78dc5819157",
   "metadata": {},
   "outputs": [],
   "source": [
    "X_train, X_validation, y_train, y_validation = train_test_split(X_p3,y, test_size=0.2, stratify=y, random_state=0)"
   ]
  },
  {
   "cell_type": "markdown",
   "id": "bbeedd4a-00d0-4f01-b4bd-09c9eaf0a036",
   "metadata": {},
   "source": [
    "Buscamos los mejores hiperparametros para el modelo gaussiano con GridSearchCV. La metrica que se utiliza para comparar los modelos obtenidos en cada iteracion es *roc_auc_score*."
   ]
  },
  {
   "cell_type": "code",
   "execution_count": 29,
   "id": "d7f3ac61-610b-45af-9370-abbe2ce1032e",
   "metadata": {},
   "outputs": [
    {
     "name": "stdout",
     "output_type": "stream",
     "text": [
      "Mejor score ROC-AUC en Entrenamiento: 0.8362076105637193\n",
      "Mejores Parametros {'var_smoothing': 4e-08}\n",
      "\n",
      "Mejor score ROC-AUC en Validación: 0.8343853820598006\n"
     ]
    }
   ],
   "source": [
    "parameters = {\n",
    "    'var_smoothing': np.arange(0, 0.0000001,0.00000001)\n",
    "}\n",
    "\n",
    "clf = GaussianNB()\n",
    "\n",
    "gscv = GridSearchCV(\n",
    "    clf, parameters, scoring='roc_auc',n_jobs=-1, cv=5, return_train_score=True\n",
    ").fit(X_train, y_train)\n",
    "\n",
    "print(f\"Mejor score ROC-AUC en Entrenamiento: {gscv.best_score_}\")\n",
    "print(f\"Mejores Parametros {gscv.best_params_}\")\n",
    "\n",
    "print(f\"\\nMejor score ROC-AUC en Validación: {gscv.score(X_validation, y_validation)}\")"
   ]
  },
  {
   "cell_type": "markdown",
   "id": "a6102bc9-f542-4c72-8ca3-d3525eedd3a6",
   "metadata": {},
   "source": [
    "Aramamos el modelo GaussianNB con los hiperparametros calculados:"
   ]
  },
  {
   "cell_type": "code",
   "execution_count": 30,
   "id": "8ec54b0f-fdd3-47af-93e9-948e3a04e136",
   "metadata": {},
   "outputs": [
    {
     "data": {
      "text/plain": [
       "GaussianNB(var_smoothing=4e-08)"
      ]
     },
     "execution_count": 30,
     "metadata": {},
     "output_type": "execute_result"
    }
   ],
   "source": [
    "model_gaussianNB_p3 = gscv.best_estimator_\n",
    "model_gaussianNB_p3"
   ]
  },
  {
   "cell_type": "markdown",
   "id": "04a439ae-20ec-4d7f-9143-0bce5379f0e4",
   "metadata": {},
   "source": [
    "Predecimos con el validation set:"
   ]
  },
  {
   "cell_type": "code",
   "execution_count": 31,
   "id": "38d44da8-c769-4521-be11-6d8eae6c7b85",
   "metadata": {},
   "outputs": [],
   "source": [
    "gaussianNB_predict = model_gaussianNB_p3.predict(X_validation)"
   ]
  },
  {
   "cell_type": "markdown",
   "id": "f0b81b8e-6d1f-43d0-a896-dfa363e18927",
   "metadata": {},
   "source": [
    "**Metricas**"
   ]
  },
  {
   "cell_type": "code",
   "execution_count": 32,
   "id": "8264a6f1-c908-43d3-9741-bffa7e814a9f",
   "metadata": {},
   "outputs": [
    {
     "name": "stdout",
     "output_type": "stream",
     "text": [
      "              precision    recall  f1-score   support\n",
      "\n",
      "           0       0.80      0.98      0.88      4945\n",
      "           1       0.75      0.22      0.34      1568\n",
      "\n",
      "    accuracy                           0.79      6513\n",
      "   macro avg       0.77      0.60      0.61      6513\n",
      "weighted avg       0.79      0.79      0.75      6513\n",
      "\n"
     ]
    }
   ],
   "source": [
    "print(classification_report(y_validation, gaussianNB_predict))"
   ]
  },
  {
   "cell_type": "code",
   "execution_count": 33,
   "id": "b5317de4-de1d-4308-a3c9-acfa3a6ef898",
   "metadata": {},
   "outputs": [
    {
     "data": {
      "image/png": "[encoded data removed]",
      "text/plain": [
       "<Figure size 1080x504 with 2 Axes>"
      ]
     },
     "metadata": {
      "needs_background": "light"
     },
     "output_type": "display_data"
    }
   ],
   "source": [
    "plot_cm(model_gaussianNB_p3, X_validation, y_validation)"
   ]
  },
  {
   "cell_type": "code",
   "execution_count": 34,
   "id": "e693e4a4-3819-431a-9b1d-848edaabbed0",
   "metadata": {},
   "outputs": [
    {
     "data": {
      "image/png": "[encoded data removed]",
      "text/plain": [
       "<Figure size 432x288 with 1 Axes>"
      ]
     },
     "metadata": {
      "needs_background": "light"
     },
     "output_type": "display_data"
    }
   ],
   "source": [
    "plot_roc_curve(model_gaussianNB_p3, X_validation, y_validation, response_method=\"predict_proba\")\n",
    "plt.show()"
   ]
  },
  {
   "cell_type": "markdown",
   "id": "17f3fe9f-dd52-4ce2-872b-c10e1b16702b",
   "metadata": {},
   "source": [
    "# Conclusión"
   ]
  },
  {
   "cell_type": "markdown",
   "id": "24bb2c86-1241-494e-bbe9-96e35a99ff17",
   "metadata": {},
   "source": [
    "Vimos que utilizando GaussianNB quedandonos solo con las columnas numericas obtenemos una mal performance de la metrica *auc_roc* en comparación con los demas modelos. Esto era de esperar puesto que inicialmente nos quedamos unicamente con las columnas continuas eliminando asi información que podria ser relevante para la predicción.\n",
    "Por ultimo vimos que aplicando tanto un escalado como una estandarización de las columnas numericas resulta ser irrelevante para la metrica *auc_roc*, en cambio que si aplicamos una normalizacion que nos genera una perdida de performance. Finalmente nos quedaremos con el preproceso de escalado."
   ]
  },
  {
   "cell_type": "markdown",
   "id": "5235b295-2d96-4574-8669-8aed6184db7b",
   "metadata": {},
   "source": [
    "# Predicción"
   ]
  },
  {
   "cell_type": "markdown",
   "id": "33b9e31b-da10-44a6-b269-f1521ef8151a",
   "metadata": {},
   "source": [
    "Por ultimo, con nuestro mejor modelo obtenido realizaremos una prediccion para datos que nunca vio en el entrenamiento ni en validación."
   ]
  },
  {
   "cell_type": "code",
   "execution_count": 35,
   "id": "53e424eb-a632-4b7f-87f0-b04866f4bbed",
   "metadata": {},
   "outputs": [],
   "source": [
    "ids, X_holdout = get_holdout_set()\n",
    "X_holdout = pr.init_dataset(X_holdout)"
   ]
  },
  {
   "cell_type": "code",
   "execution_count": 36,
   "id": "6c32299f-815b-452b-acee-538f813b2c11",
   "metadata": {},
   "outputs": [],
   "source": [
    "X_holdout_continuos = X_holdout.select_dtypes(include=['int64','int32'])"
   ]
  },
  {
   "cell_type": "code",
   "execution_count": 37,
   "id": "8cc8c22e-98d2-4602-addb-3f02dec0e4e6",
   "metadata": {},
   "outputs": [],
   "source": [
    "gaussianNB_predict = model_gaussianNB_p2.predict(X_holdout_continuos)"
   ]
  },
  {
   "cell_type": "code",
   "execution_count": 38,
   "id": "e571e4ec-24fb-491c-bcb1-fc169790ccfb",
   "metadata": {},
   "outputs": [],
   "source": [
    "create_prediction(ids,gaussianNB_predict,file_name='gaussianNB')"
   ]
  }
 ],
 "metadata": {
  "kernelspec": {
   "display_name": "Python 3",
   "language": "python",
   "name": "python3"
  },
  "language_info": {
   "codemirror_mode": {
    "name": "ipython",
    "version": 3
   },
   "file_extension": ".py",
   "mimetype": "text/x-python",
   "name": "python",
   "nbconvert_exporter": "python",
   "pygments_lexer": "ipython3",
   "version": "3.8.8"
  }
 },
 "nbformat": 4,
 "nbformat_minor": 5
}
