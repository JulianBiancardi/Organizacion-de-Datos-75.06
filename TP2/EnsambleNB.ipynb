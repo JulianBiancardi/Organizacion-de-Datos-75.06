{
 "cells": [
  {
   "cell_type": "code",
   "execution_count": 151,
   "id": "b81734d0-a484-4c21-8640-6d12e556325b",
   "metadata": {},
   "outputs": [],
   "source": [
    "#Includes necesarios\n",
    "from sklearn.naive_bayes import GaussianNB,CategoricalNB\n",
    "\n",
    "import pandas as pd\n",
    "import numpy as np\n",
    "import matplotlib.pyplot as plt \n",
    "from sklearn.model_selection import GridSearchCV,train_test_split\n",
    "\n",
    "from auxiliar import get_train_set,get_holdout_set,create_prediction,plot_cm,plot_tree\n",
    "from sklearn.metrics import classification_report,confusion_matrix,ConfusionMatrixDisplay,plot_roc_curve,roc_auc_score\n",
    "import preprocessing as pr"
   ]
  },
  {
   "cell_type": "markdown",
   "id": "946fa3f1-0054-4e60-b520-07a6740aa961",
   "metadata": {},
   "source": [
    "# **Ensamble Naive Bayes**"
   ]
  },
  {
   "cell_type": "markdown",
   "id": "65b0d00b-e0ff-40f2-bfc3-967d207febb3",
   "metadata": {},
   "source": [
    "Vamos a realizar un ensamble con los siguientes modelos: \n",
    "\n",
    "    - GuassianNB: para aquellas columnas numericas\n",
    "    - CategoricalNB: para aquellas columnas categoricas"
   ]
  },
  {
   "cell_type": "markdown",
   "id": "25975bda-1e0b-4189-b161-4c898d4b2c7f",
   "metadata": {
    "tags": []
   },
   "source": [
    "Obtenemos el dataset con el cual entrenaremos nuestro modelo. Para este modelo se opto unicamente tratar los missings como categoricos:"
   ]
  },
  {
   "cell_type": "code",
   "execution_count": 152,
   "id": "1cdb1329-822f-4751-b3b4-7a3ef2ea7353",
   "metadata": {
    "tags": []
   },
   "outputs": [],
   "source": [
    "X,y = get_train_set()\n",
    "X = pr.init_dataset(X)"
   ]
  },
  {
   "cell_type": "markdown",
   "id": "e7f5afeb-68e1-4859-8a05-89dc288d653f",
   "metadata": {},
   "source": [
    "## Gaussian Naive Bayes"
   ]
  },
  {
   "cell_type": "markdown",
   "id": "e67194f6-c80c-4c74-adc6-7ffbbfd9ab64",
   "metadata": {},
   "source": [
    "Para aplicar este tipo de modelo debemos quedarnos solo con las columnas continuas. En este caso no nos hace falta aplicar OHE, puesto que todas las columnas que nos quedan son numericas. Tampoco nos sirve los preprocesamientos de reduccion por frecuencia o discretizacion, puesto que esto eliminaria o generaria nuevas columnas categoricas."
   ]
  },
  {
   "cell_type": "code",
   "execution_count": 153,
   "id": "fb58c161-f0e1-494b-a777-91e93a80b814",
   "metadata": {},
   "outputs": [
    {
     "data": {
      "text/html": [
       "<div>\n",
       "<style scoped>\n",
       "    .dataframe tbody tr th:only-of-type {\n",
       "        vertical-align: middle;\n",
       "    }\n",
       "\n",
       "    .dataframe tbody tr th {\n",
       "        vertical-align: top;\n",
       "    }\n",
       "\n",
       "    .dataframe thead th {\n",
       "        text-align: right;\n",
       "    }\n",
       "</style>\n",
       "<table border=\"1\" class=\"dataframe\">\n",
       "  <thead>\n",
       "    <tr style=\"text-align: right;\">\n",
       "      <th></th>\n",
       "      <th>anios_estudiados</th>\n",
       "      <th>edad</th>\n",
       "      <th>ganancia_perdida_declarada_bolsa_argentina</th>\n",
       "      <th>horas_trabajo_registradas</th>\n",
       "    </tr>\n",
       "  </thead>\n",
       "  <tbody>\n",
       "    <tr>\n",
       "      <th>0</th>\n",
       "      <td>17</td>\n",
       "      <td>39</td>\n",
       "      <td>2174</td>\n",
       "      <td>40</td>\n",
       "    </tr>\n",
       "    <tr>\n",
       "      <th>1</th>\n",
       "      <td>17</td>\n",
       "      <td>50</td>\n",
       "      <td>0</td>\n",
       "      <td>13</td>\n",
       "    </tr>\n",
       "    <tr>\n",
       "      <th>2</th>\n",
       "      <td>13</td>\n",
       "      <td>38</td>\n",
       "      <td>0</td>\n",
       "      <td>40</td>\n",
       "    </tr>\n",
       "    <tr>\n",
       "      <th>3</th>\n",
       "      <td>11</td>\n",
       "      <td>53</td>\n",
       "      <td>0</td>\n",
       "      <td>40</td>\n",
       "    </tr>\n",
       "    <tr>\n",
       "      <th>4</th>\n",
       "      <td>17</td>\n",
       "      <td>28</td>\n",
       "      <td>0</td>\n",
       "      <td>40</td>\n",
       "    </tr>\n",
       "  </tbody>\n",
       "</table>\n",
       "</div>"
      ],
      "text/plain": [
       "   anios_estudiados  edad  ganancia_perdida_declarada_bolsa_argentina  \\\n",
       "0                17    39                                        2174   \n",
       "1                17    50                                           0   \n",
       "2                13    38                                           0   \n",
       "3                11    53                                           0   \n",
       "4                17    28                                           0   \n",
       "\n",
       "   horas_trabajo_registradas  \n",
       "0                         40  \n",
       "1                         13  \n",
       "2                         40  \n",
       "3                         40  \n",
       "4                         40  "
      ]
     },
     "execution_count": 153,
     "metadata": {},
     "output_type": "execute_result"
    }
   ],
   "source": [
    "X_continuos = X.select_dtypes(include=['int64','int32'])\n",
    "X_continuos.head()"
   ]
  },
  {
   "cell_type": "markdown",
   "id": "1ac68efa-cc98-4019-ae98-f11afdfe8d19",
   "metadata": {},
   "source": [
    "Ahora realizamos un escalado a nuestras columnas continuas. El rango de escalado es entre (0,1):"
   ]
  },
  {
   "cell_type": "code",
   "execution_count": 154,
   "id": "08d3eb99-106d-4d9d-9e36-2013e038e747",
   "metadata": {},
   "outputs": [
    {
     "data": {
      "text/plain": [
       "array([[0.84210526, 0.30136986, 0.06257486, 0.39795918],\n",
       "       [0.84210526, 0.45205479, 0.04174213, 0.12244898],\n",
       "       [0.63157895, 0.28767123, 0.04174213, 0.39795918],\n",
       "       ...,\n",
       "       [0.63157895, 0.56164384, 0.04174213, 0.39795918],\n",
       "       [0.63157895, 0.06849315, 0.04174213, 0.19387755],\n",
       "       [0.63157895, 0.47945205, 0.18571223, 0.39795918]])"
      ]
     },
     "execution_count": 154,
     "metadata": {},
     "output_type": "execute_result"
    }
   ],
   "source": [
    "X_p2 = pr.scale(X_continuos)\n",
    "X_p2"
   ]
  },
  {
   "cell_type": "markdown",
   "id": "db99d0b7-929e-4c1d-b33e-fe1b577e2d2d",
   "metadata": {},
   "source": [
    "Partimos nuestro set en *train* y *validation*, dejaremos un 20% de los datos para validación de nuestro entrenamiento:"
   ]
  },
  {
   "cell_type": "code",
   "execution_count": 155,
   "id": "0ee326d6-7030-415b-9464-1503df53ad8e",
   "metadata": {},
   "outputs": [],
   "source": [
    "X_train, X_validation, y_train, y_validation = train_test_split(X_p2,y, test_size=0.2, stratify=y, random_state=0)"
   ]
  },
  {
   "cell_type": "markdown",
   "id": "f4f34563-d345-4cd9-bf6a-b1c22c5803e3",
   "metadata": {},
   "source": [
    "Buscamos los mejores hiperparametros para el modelo gaussiano con GridSearchCV. La metrica que se utiliza para comparar los modelos obtenidos en cada iteracion es *roc_auc_score*."
   ]
  },
  {
   "cell_type": "code",
   "execution_count": 156,
   "id": "7984df6e-e27b-4aba-bd74-b674a65ba2d9",
   "metadata": {},
   "outputs": [
    {
     "name": "stdout",
     "output_type": "stream",
     "text": [
      "Mejor score ROC-AUC en Entrenamiento: 0.8362074494200744\n",
      "Mejores Parametros {'var_smoothing': 9e-08}\n",
      "\n",
      "Mejor score ROC-AUC en Validación: 0.8343854465446441\n"
     ]
    }
   ],
   "source": [
    "parameters = {\n",
    "    'var_smoothing': np.arange(0, 0.0000001,0.00000001)\n",
    "}\n",
    "\n",
    "clf = GaussianNB()\n",
    "\n",
    "gscv = GridSearchCV(\n",
    "    clf, parameters, scoring='roc_auc',n_jobs=-1, cv=5, return_train_score=True\n",
    ").fit(X_train, y_train)\n",
    "\n",
    "print(f\"Mejor score ROC-AUC en Entrenamiento: {gscv.best_score_}\")\n",
    "print(f\"Mejores Parametros {gscv.best_params_}\")\n",
    "\n",
    "print(f\"\\nMejor score ROC-AUC en Validación: {gscv.score(X_validation, y_validation)}\")"
   ]
  },
  {
   "cell_type": "markdown",
   "id": "f1375ddb-2227-43c4-9d0d-5c83550bcd0c",
   "metadata": {},
   "source": [
    "Aramamos el modelo de GaussianNB con los hiperparametros calculados:"
   ]
  },
  {
   "cell_type": "code",
   "execution_count": 157,
   "id": "e62a6b9b-f071-4b3d-87b3-a260338fe1b2",
   "metadata": {},
   "outputs": [
    {
     "data": {
      "text/plain": [
       "GaussianNB(var_smoothing=9e-08)"
      ]
     },
     "execution_count": 157,
     "metadata": {},
     "output_type": "execute_result"
    }
   ],
   "source": [
    "model_gaussianNB = gscv.best_estimator_\n",
    "model_gaussianNB"
   ]
  },
  {
   "cell_type": "markdown",
   "id": "ab621590-01c4-4530-9e80-9d2383dd4d78",
   "metadata": {},
   "source": [
    "Predecimos con el validation set:"
   ]
  },
  {
   "cell_type": "code",
   "execution_count": 158,
   "id": "6ce6fb7a-92de-462b-b456-ee3a25d56f64",
   "metadata": {},
   "outputs": [],
   "source": [
    "gaussianNB_predict = model_gaussianNB.predict_proba(X_validation)"
   ]
  },
  {
   "cell_type": "code",
   "execution_count": 159,
   "id": "0cec89a9-928e-4e60-b621-5d6eafdcd8f5",
   "metadata": {},
   "outputs": [
    {
     "data": {
      "text/plain": [
       "array([[0.97742787, 0.02257213],\n",
       "       [0.99490779, 0.00509221],\n",
       "       [0.95725864, 0.04274136],\n",
       "       ...,\n",
       "       [0.99489166, 0.00510834],\n",
       "       [0.00134999, 0.99865001],\n",
       "       [0.38609392, 0.61390608]])"
      ]
     },
     "execution_count": 159,
     "metadata": {},
     "output_type": "execute_result"
    }
   ],
   "source": [
    "gaussianNB_predict"
   ]
  },
  {
   "cell_type": "markdown",
   "id": "1be8aa13-e2c5-44ae-b25c-12096e3f388e",
   "metadata": {},
   "source": [
    "## Categorical Naive Bayes"
   ]
  },
  {
   "cell_type": "markdown",
   "id": "48abf989-5494-4279-a8ca-0e00c1f3c1e8",
   "metadata": {},
   "source": [
    "Para aplicar este tipo de modelo debemos quedarnos solo con columnas categoricas para luego aplicar Ordinal Encoder (ODE)."
   ]
  },
  {
   "cell_type": "code",
   "execution_count": 160,
   "id": "3f7a0d20-9509-47a3-bef7-bcc22a118a51",
   "metadata": {},
   "outputs": [
    {
     "data": {
      "text/html": [
       "<div>\n",
       "<style scoped>\n",
       "    .dataframe tbody tr th:only-of-type {\n",
       "        vertical-align: middle;\n",
       "    }\n",
       "\n",
       "    .dataframe tbody tr th {\n",
       "        vertical-align: top;\n",
       "    }\n",
       "\n",
       "    .dataframe thead th {\n",
       "        text-align: right;\n",
       "    }\n",
       "</style>\n",
       "<table border=\"1\" class=\"dataframe\">\n",
       "  <thead>\n",
       "    <tr style=\"text-align: right;\">\n",
       "      <th></th>\n",
       "      <th>barrio</th>\n",
       "      <th>categoria_de_trabajo</th>\n",
       "      <th>estado_marital</th>\n",
       "      <th>genero</th>\n",
       "      <th>religion</th>\n",
       "      <th>rol_familiar_registrado</th>\n",
       "      <th>trabajo</th>\n",
       "    </tr>\n",
       "  </thead>\n",
       "  <tbody>\n",
       "    <tr>\n",
       "      <th>0</th>\n",
       "      <td>palermo</td>\n",
       "      <td>empleado_provincial</td>\n",
       "      <td>sin_matrimonio</td>\n",
       "      <td>hombre</td>\n",
       "      <td>cristianismo</td>\n",
       "      <td>sin_familia</td>\n",
       "      <td>entretenimiento</td>\n",
       "    </tr>\n",
       "    <tr>\n",
       "      <th>1</th>\n",
       "      <td>palermo</td>\n",
       "      <td>monotributista</td>\n",
       "      <td>matrimonio_civil</td>\n",
       "      <td>hombre</td>\n",
       "      <td>cristianismo</td>\n",
       "      <td>casado</td>\n",
       "      <td>directivo_gerente</td>\n",
       "    </tr>\n",
       "    <tr>\n",
       "      <th>2</th>\n",
       "      <td>palermo</td>\n",
       "      <td>relacion_de_dependencia</td>\n",
       "      <td>divorciado</td>\n",
       "      <td>hombre</td>\n",
       "      <td>cristianismo</td>\n",
       "      <td>sin_familia</td>\n",
       "      <td>limpiador</td>\n",
       "    </tr>\n",
       "    <tr>\n",
       "      <th>3</th>\n",
       "      <td>palermo</td>\n",
       "      <td>relacion_de_dependencia</td>\n",
       "      <td>matrimonio_civil</td>\n",
       "      <td>hombre</td>\n",
       "      <td>judaismo</td>\n",
       "      <td>casado</td>\n",
       "      <td>limpiador</td>\n",
       "    </tr>\n",
       "    <tr>\n",
       "      <th>4</th>\n",
       "      <td>balvanera</td>\n",
       "      <td>relacion_de_dependencia</td>\n",
       "      <td>matrimonio_civil</td>\n",
       "      <td>mujer</td>\n",
       "      <td>judaismo</td>\n",
       "      <td>casada</td>\n",
       "      <td>profesional_especializado</td>\n",
       "    </tr>\n",
       "  </tbody>\n",
       "</table>\n",
       "</div>"
      ],
      "text/plain": [
       "      barrio     categoria_de_trabajo    estado_marital  genero      religion  \\\n",
       "0    palermo      empleado_provincial    sin_matrimonio  hombre  cristianismo   \n",
       "1    palermo           monotributista  matrimonio_civil  hombre  cristianismo   \n",
       "2    palermo  relacion_de_dependencia        divorciado  hombre  cristianismo   \n",
       "3    palermo  relacion_de_dependencia  matrimonio_civil  hombre      judaismo   \n",
       "4  balvanera  relacion_de_dependencia  matrimonio_civil   mujer      judaismo   \n",
       "\n",
       "  rol_familiar_registrado                    trabajo  \n",
       "0             sin_familia            entretenimiento  \n",
       "1                  casado          directivo_gerente  \n",
       "2             sin_familia                  limpiador  \n",
       "3                  casado                  limpiador  \n",
       "4                  casada  profesional_especializado  "
      ]
     },
     "execution_count": 160,
     "metadata": {},
     "output_type": "execute_result"
    }
   ],
   "source": [
    "X_category = X.select_dtypes(include=['category'])\n",
    "X_category.head()"
   ]
  },
  {
   "cell_type": "markdown",
   "id": "19b1537e-4dcf-496f-8616-fd1274721e19",
   "metadata": {},
   "source": [
    "Ahora reduciremos por frecuencia de aparicion algunas columnas y luego aplicaremos ODE a las columnas categoricas. Reduciremos mediante la funcion **reduce_by_frequency_occurrence** que por predeterminado tiene las columnas *Barrio, Religion, Categoria de Trabajo, Estado Marital*:"
   ]
  },
  {
   "cell_type": "code",
   "execution_count": 161,
   "id": "42ae0abf-e422-41eb-a04d-b1ae1b170403",
   "metadata": {},
   "outputs": [],
   "source": [
    "columns = ['barrio', 'religion', 'categoria_de_trabajo', 'estado_marital']\n",
    "X_p1 = pr.reduce_by_frequency(X_category,columns,0.15)\n",
    "X_ode = pr.apply_ODE(X_p1)"
   ]
  },
  {
   "cell_type": "markdown",
   "id": "9ac8ff9f-0b23-4be4-abf2-67228151fbbf",
   "metadata": {},
   "source": [
    "Partimos nuestro set en *train* y *validation*, dejaremos un 20% de los datos para validación de nuestro entrenamiento:"
   ]
  },
  {
   "cell_type": "code",
   "execution_count": 162,
   "id": "65523fc8-5d69-408a-8080-ea52603e2ad3",
   "metadata": {},
   "outputs": [],
   "source": [
    "X_train, X_validation, y_train, y_validation = train_test_split(X_ode,y, test_size=0.2, stratify=y, random_state=0)"
   ]
  },
  {
   "cell_type": "markdown",
   "id": "92aacc80-0728-4605-beeb-b802e31f85ea",
   "metadata": {},
   "source": [
    "Buscamos los mejores hiperparametros para el modelo categoricalNB con GridSearchCV. La metrica que se utiliza para comparar los modelos obtenidos en cada iteracion es *roc_auc_score*."
   ]
  },
  {
   "cell_type": "code",
   "execution_count": 163,
   "id": "bfe7d41b-4bfb-41fa-b9a8-9bb6fd963a0f",
   "metadata": {},
   "outputs": [
    {
     "name": "stdout",
     "output_type": "stream",
     "text": [
      "Mejor score ROC-AUC en Entrenamiento: 0.8471068940906367\n",
      "Mejores Parametros {'alpha': 0.2}\n",
      "\n",
      "Mejor score ROC-AUC en Validación: 0.8388703674088442\n"
     ]
    }
   ],
   "source": [
    "parameters = {\n",
    "    'alpha': np.arange(0, 1,0.01),\n",
    "}\n",
    "\n",
    "clf = CategoricalNB()\n",
    "\n",
    "gscv = GridSearchCV(\n",
    "    clf, parameters, scoring='roc_auc',n_jobs=-1, cv=5, return_train_score=True\n",
    ").fit(X_train, y_train)\n",
    "\n",
    "print(f\"Mejor score ROC-AUC en Entrenamiento: {gscv.best_score_}\")\n",
    "print(f\"Mejores Parametros {gscv.best_params_}\")\n",
    "\n",
    "print(f\"\\nMejor score ROC-AUC en Validación: {gscv.score(X_validation, y_validation)}\")"
   ]
  },
  {
   "cell_type": "markdown",
   "id": "17c002ad-7912-450c-80eb-6fd69228ada8",
   "metadata": {},
   "source": [
    "Aramamos el modelo de CategoricalNB con los hiperparametros calculados:"
   ]
  },
  {
   "cell_type": "code",
   "execution_count": 164,
   "id": "b913ab3c-44a4-4f15-abce-72a4bea597fa",
   "metadata": {},
   "outputs": [
    {
     "data": {
      "text/plain": [
       "CategoricalNB(alpha=0.2)"
      ]
     },
     "execution_count": 164,
     "metadata": {},
     "output_type": "execute_result"
    }
   ],
   "source": [
    "model_categoricalNB = gscv.best_estimator_\n",
    "model_categoricalNB"
   ]
  },
  {
   "cell_type": "markdown",
   "id": "5fc2b3b7-0fee-48ee-add1-ee77cbee5bcb",
   "metadata": {},
   "source": [
    "Predecimos con el validation set:"
   ]
  },
  {
   "cell_type": "code",
   "execution_count": 165,
   "id": "7ddb2116-3438-42a5-841e-c3f27e45d998",
   "metadata": {},
   "outputs": [],
   "source": [
    "categoricalNB_predict_train = model_categoricalNB.predict_proba(X_train)\n",
    "categoricalNB_predict = model_categoricalNB.predict_proba(X_validation)"
   ]
  },
  {
   "cell_type": "code",
   "execution_count": 166,
   "id": "cc27528b-93c0-4e15-86eb-50b3bb178984",
   "metadata": {},
   "outputs": [
    {
     "data": {
      "text/plain": [
       "array([[0.23592686, 0.76407314],\n",
       "       [0.99724066, 0.00275934],\n",
       "       [0.9609985 , 0.0390015 ],\n",
       "       ...,\n",
       "       [0.99704393, 0.00295607],\n",
       "       [0.87217659, 0.12782341],\n",
       "       [0.23205131, 0.76794869]])"
      ]
     },
     "execution_count": 166,
     "metadata": {},
     "output_type": "execute_result"
    }
   ],
   "source": [
    "categoricalNB_predict"
   ]
  },
  {
   "cell_type": "markdown",
   "id": "ce569531-1635-408b-a830-eec6d0adf602",
   "metadata": {},
   "source": [
    "## Realizando el Ensamble"
   ]
  },
  {
   "cell_type": "code",
   "execution_count": 167,
   "id": "625f8777-1126-4bac-9325-0f32ff26cbf1",
   "metadata": {},
   "outputs": [],
   "source": [
    "def ensamble_predict_proba(gaussianNB_predict, categoricalNB_predict):\n",
    "    predictions_proba = []\n",
    "    for idx,fila in enumerate(gaussianNB_predict):\n",
    "        maximum_value_gaussian = np.amax(fila, 0)\n",
    "        maximum_value_categorical = np.amax(categoricalNB_predict[idx], 0)\n",
    "        if(maximum_value_gaussian >= maximum_value_categorical):\n",
    "            predictions_proba.append(fila)\n",
    "        else:\n",
    "            predictions_proba.append(categoricalNB_predict[idx])\n",
    "    predictions_proba = [l.tolist() for l in predictions_proba]\n",
    "    return predictions_proba"
   ]
  },
  {
   "cell_type": "code",
   "execution_count": 168,
   "id": "18ed357b-e04e-4f3c-9d7c-d2797103b7d9",
   "metadata": {},
   "outputs": [],
   "source": [
    "def ensamble_predict(gaussianNB_predict, categoricalNB_predict):\n",
    "    predictions = []\n",
    "    predictions_proba = ensamble_predict_proba(gaussianNB_predict, categoricalNB_predict)\n",
    "    for prediction in np.array(predictions_proba)[:, 1]:\n",
    "        if(prediction > 0.5):\n",
    "            predictions.append(1)\n",
    "        else:\n",
    "            predictions.append(0)\n",
    "    return predictions"
   ]
  },
  {
   "cell_type": "code",
   "execution_count": 169,
   "id": "73af19b8-41ee-4eb1-851c-96f75ab637d6",
   "metadata": {},
   "outputs": [],
   "source": [
    "ensambleNB_predict = ensamble_predict(gaussianNB_predict, categoricalNB_predict)"
   ]
  },
  {
   "cell_type": "markdown",
   "id": "c3e41c7d-15b4-41c1-92d6-7767023e6d70",
   "metadata": {},
   "source": [
    "**Metricas**"
   ]
  },
  {
   "cell_type": "code",
   "execution_count": 170,
   "id": "ba0f9789-3dfc-4172-ab36-cca4497e3288",
   "metadata": {},
   "outputs": [
    {
     "name": "stdout",
     "output_type": "stream",
     "text": [
      "              precision    recall  f1-score   support\n",
      "\n",
      "           0       0.82      0.97      0.89      4945\n",
      "           1       0.77      0.32      0.45      1568\n",
      "\n",
      "    accuracy                           0.81      6513\n",
      "   macro avg       0.80      0.65      0.67      6513\n",
      "weighted avg       0.81      0.81      0.78      6513\n",
      "\n"
     ]
    }
   ],
   "source": [
    "print(classification_report(y_validation,ensambleNB_predict))"
   ]
  },
  {
   "cell_type": "code",
   "execution_count": 171,
   "id": "7811aa77-c3ba-42de-8964-ddd6d1ebb36f",
   "metadata": {},
   "outputs": [
    {
     "data": {
      "text/plain": [
       "<sklearn.metrics._plot.confusion_matrix.ConfusionMatrixDisplay at 0x2bb151cfc40>"
      ]
     },
     "execution_count": 171,
     "metadata": {},
     "output_type": "execute_result"
    },
    {
     "data": {
      "image/png": "[encoded data removed]",
      "text/plain": [
       "<Figure size 432x288 with 2 Axes>"
      ]
     },
     "metadata": {
      "needs_background": "light"
     },
     "output_type": "display_data"
    }
   ],
   "source": [
    "cm = ConfusionMatrixDisplay(confusion_matrix(y_validation,ensambleNB_predict))\n",
    "cm.plot()"
   ]
  },
  {
   "cell_type": "code",
   "execution_count": 172,
   "id": "8f4f5c0e-9bf9-4fc1-8ad9-cad864c3ac00",
   "metadata": {},
   "outputs": [
    {
     "name": "stdout",
     "output_type": "stream",
     "text": [
      "\n",
      "Mejor score ROC-AUC en Validación: 0.8744335006500072\n"
     ]
    }
   ],
   "source": [
    "roc_auc = roc_auc_score(y_validation, np.array(ensamble_predict_proba(gaussianNB_predict, categoricalNB_predict))[:, 1])\n",
    "print(f\"\\nMejor score ROC-AUC en Validación: {roc_auc}\")"
   ]
  },
  {
   "cell_type": "markdown",
   "id": "be553bce-1d2e-4850-a480-263afba13cbe",
   "metadata": {},
   "source": [
    "# Conclusión"
   ]
  },
  {
   "cell_type": "markdown",
   "id": "b2db9a04-a3e0-4d59-aaec-dc83a586b236",
   "metadata": {},
   "source": [
    "Vimos que usando unicamente el modelo gaussiano o el modelo categorical tenemos una mal performance en la metrica *roc_auc*. Ahora si juntamos las predicciones de ambos mediante un ensamble tenemos una mejora de dicha metrica aunque no llega a ser uno de los mejores modelos que tenemos."
   ]
  },
  {
   "cell_type": "markdown",
   "id": "c4cf02d5-903b-4516-9fde-59244527fb21",
   "metadata": {},
   "source": [
    "# Predicción"
   ]
  },
  {
   "cell_type": "markdown",
   "id": "b2cb9507-5358-490e-94c7-34bd34d66050",
   "metadata": {},
   "source": [
    "Por ultimo, con nuestro mejor modelo obtenido realizaremos una prediccion para datos que nunca vio en el entrenamiento ni en validación."
   ]
  },
  {
   "cell_type": "code",
   "execution_count": 173,
   "id": "c939ebf8-b366-4fad-95f6-243393ae57a0",
   "metadata": {},
   "outputs": [],
   "source": [
    "ids, X_holdout = get_holdout_set()\n",
    "X_holdout = pr.init_dataset(X_holdout)"
   ]
  },
  {
   "cell_type": "code",
   "execution_count": 174,
   "id": "cf1b7c3f-c433-4078-a7d4-47655bfa91df",
   "metadata": {},
   "outputs": [],
   "source": [
    "X_holdout_continuos = X_holdout.select_dtypes(include=['int64','int32'])\n",
    "X_holdout_categorical = X_holdout.select_dtypes(include=['category'])\n",
    "\n",
    "X_holdout_continuos = pr.scale(X_holdout_continuos)\n",
    "columns = ['barrio', 'religion', 'categoria_de_trabajo', 'estado_marital']\n",
    "X_holdout_categorical = pr.reduce_by_frequency(X_holdout_categorical,columns,0.15)\n",
    "X_holdout_categorical = pr.apply_ODE(X_holdout_categorical)\n",
    "\n",
    "gaussian_predict = model_gaussianNB.predict_proba(X_holdout_continuos)\n",
    "categorical_predict = model_categoricalNB.predict_proba(X_holdout_categorical)\n",
    "ensambleNB_predict = ensamble_predict(gaussian_predict,categorical_predict)"
   ]
  },
  {
   "cell_type": "code",
   "execution_count": 175,
   "id": "5fa11c02-1184-41e4-b30f-917e0b3b92b9",
   "metadata": {},
   "outputs": [],
   "source": [
    "create_prediction(ids,ensambleNB_predict,file_name='ensambleNB')"
   ]
  }
 ],
 "metadata": {
  "kernelspec": {
   "display_name": "Python 3",
   "language": "python",
   "name": "python3"
  },
  "language_info": {
   "codemirror_mode": {
    "name": "ipython",
    "version": 3
   },
   "file_extension": ".py",
   "mimetype": "text/x-python",
   "name": "python",
   "nbconvert_exporter": "python",
   "pygments_lexer": "ipython3",
   "version": "3.8.8"
  }
 },
 "nbformat": 4,
 "nbformat_minor": 5
}
